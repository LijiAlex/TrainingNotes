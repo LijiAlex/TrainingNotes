{
  "cells": [
    {
      "cell_type": "markdown",
      "id": "17cb8677",
      "metadata": {
        "id": "17cb8677"
      },
      "source": [
        "# Anonymous function/in line function/ lambda function/ nameless function"
      ]
    },
    {
      "cell_type": "markdown",
      "id": "a4d98d7e",
      "metadata": {
        "id": "a4d98d7e"
      },
      "source": [
        "* Function defined in a single line.\n",
        "* Function doesn't have name\n",
        "* Usually used within another function"
      ]
    },
    {
      "cell_type": "code",
      "execution_count": null,
      "id": "e9016c3c",
      "metadata": {
        "id": "e9016c3c"
      },
      "outputs": [],
      "source": [
        "lambda x: x*x   # x is input and x*x is output"
      ]
    },
    {
      "cell_type": "code",
      "source": [
        "def square(x):  # this function is implemented above as lambda function\n",
        "  return x*x"
      ],
      "metadata": {
        "id": "9yeUWdUVEcWY"
      },
      "id": "9yeUWdUVEcWY",
      "execution_count": null,
      "outputs": []
    },
    {
      "cell_type": "code",
      "execution_count": null,
      "id": "94c6e2ae",
      "metadata": {
        "id": "94c6e2ae"
      },
      "outputs": [],
      "source": [
        "square = lambda x: x*x"
      ]
    },
    {
      "cell_type": "code",
      "execution_count": null,
      "id": "1727d615",
      "metadata": {
        "id": "1727d615"
      },
      "outputs": [],
      "source": [
        "square(2)"
      ]
    },
    {
      "cell_type": "code",
      "source": [
        "square(6)"
      ],
      "metadata": {
        "id": "cZebM85-Epax"
      },
      "id": "cZebM85-Epax",
      "execution_count": null,
      "outputs": []
    },
    {
      "cell_type": "markdown",
      "id": "4b6da464",
      "metadata": {
        "id": "4b6da464"
      },
      "source": [
        "### Map "
      ]
    },
    {
      "cell_type": "code",
      "execution_count": null,
      "id": "ed0329b1",
      "metadata": {
        "id": "ed0329b1"
      },
      "outputs": [],
      "source": [
        "l = [1, 2, 3, 4]"
      ]
    },
    {
      "cell_type": "code",
      "execution_count": null,
      "id": "3adc67e2",
      "metadata": {
        "id": "3adc67e2"
      },
      "outputs": [],
      "source": [
        "squared = map(lambda x: x*x, l)\n",
        "list(squared)"
      ]
    },
    {
      "cell_type": "code",
      "execution_count": null,
      "id": "32cb3449",
      "metadata": {
        "id": "32cb3449"
      },
      "outputs": [],
      "source": [
        "squared"
      ]
    },
    {
      "cell_type": "markdown",
      "id": "0ed16e7b",
      "metadata": {
        "id": "0ed16e7b"
      },
      "source": [
        "### Filter"
      ]
    },
    {
      "cell_type": "code",
      "execution_count": null,
      "id": "ace8db9a",
      "metadata": {
        "id": "ace8db9a"
      },
      "outputs": [],
      "source": [
        "l1 = [11, 1, 21, 34, 43, 56, 78, 103, 457]"
      ]
    },
    {
      "cell_type": "code",
      "execution_count": null,
      "id": "03f9f834",
      "metadata": {
        "id": "03f9f834"
      },
      "outputs": [],
      "source": [
        "even_numbers = filter(lambda n: n%2==0, l1)\n",
        "list(even_numbers)"
      ]
    },
    {
      "cell_type": "code",
      "execution_count": null,
      "id": "51b81e01",
      "metadata": {
        "id": "51b81e01"
      },
      "outputs": [],
      "source": [
        "even_numbers"
      ]
    },
    {
      "cell_type": "markdown",
      "id": "07961961",
      "metadata": {
        "id": "07961961"
      },
      "source": [
        "* Filters elements from a given sequence based on a condition\n",
        "<br>filter(func, seq)\n",
        "* Function should return True or False\n",
        "* Only elements that retirn True will be filtered"
      ]
    },
    {
      "cell_type": "markdown",
      "id": "9ddde4ab",
      "metadata": {
        "id": "9ddde4ab"
      },
      "source": [
        "### Reduce"
      ]
    },
    {
      "cell_type": "markdown",
      "id": "29a4638d",
      "metadata": {
        "id": "29a4638d"
      },
      "source": [
        "Find sum of a list."
      ]
    },
    {
      "cell_type": "code",
      "execution_count": null,
      "id": "9c09127b",
      "metadata": {
        "id": "9c09127b"
      },
      "outputs": [],
      "source": [
        "from functools import reduce\n",
        "reduce(lambda a, b: a*b, range(1, 10))"
      ]
    },
    {
      "cell_type": "markdown",
      "id": "e5f6c124",
      "metadata": {
        "id": "e5f6c124"
      },
      "source": [
        "* Reduces a sequence to a single output\n",
        "* Initially takes 2 arguments from list\n",
        "* then result of the previous opeartion and a new argument"
      ]
    },
    {
      "cell_type": "markdown",
      "source": [
        "#Functions as objects\n",
        "\n",
        "Properties of functions:\n",
        "\n",
        "* A function is an instance of the Object type.\n",
        "* You can store the function in a variable.\n",
        "* You can pass the function as a parameter to another function.\n",
        "* You can return the function from a function.\n",
        "* You can store them in data structures such as lists, …"
      ],
      "metadata": {
        "id": "4W8aFwJUq47O"
      },
      "id": "4W8aFwJUq47O"
    },
    {
      "cell_type": "code",
      "source": [
        "l = []                              # list of square of all numbers uptill 10\n",
        "for i in range(10):\n",
        "  l.append(i*i)\n",
        "l "
      ],
      "metadata": {
        "id": "MLkXd1VIGLx7"
      },
      "id": "MLkXd1VIGLx7",
      "execution_count": null,
      "outputs": []
    },
    {
      "cell_type": "code",
      "source": [
        "[i*i for i in range(10)]           # list comprehension to find list of all numbers uptill 10"
      ],
      "metadata": {
        "id": "rDDpPfuBF8zP"
      },
      "id": "rDDpPfuBF8zP",
      "execution_count": null,
      "outputs": []
    },
    {
      "cell_type": "code",
      "source": [
        "# assigning functions as objects\n",
        "square_generator= lambda n: [i*i for i in range(n)]\n",
        "even_number_generator = lambda n: [i for i in range(n) if i %2==0]\n",
        "odd_number_generator = lambda n: [i for i in range(n) if i %2==1]\n",
        "cube_generator= lambda n: [i*i*i for i in range(n)]\n",
        "\n",
        "# returning functions as objects\n",
        "def for_fun():\n",
        "  print(\"1. Square\")\n",
        "  print(\"2. even \")\n",
        "  print(\"3. odd\")\n",
        "  print(\"4. cube \")\n",
        "  choice = input(\"What do you want to do?\")\n",
        "  if choice== \"1\":\n",
        "    return square_generator\n",
        "  elif choice== \"2\":\n",
        "    return even_number_generator\n",
        "  elif choice== \"3\":\n",
        "    return odd_number_generator\n",
        "  else:\n",
        "    return cube_generator\n",
        "\n",
        "# storing function in a variable\n",
        "my_function = for_fun()\n",
        "\n",
        "my_function(20)\n",
        "    "
      ],
      "metadata": {
        "id": "oK1_Xw8yrZHC"
      },
      "id": "oK1_Xw8yrZHC",
      "execution_count": null,
      "outputs": []
    },
    {
      "cell_type": "code",
      "source": [
        "# function as argument\n",
        "list(map(lambda x: \"*******\"+str(x)+\"**********\", my_function(5)))"
      ],
      "metadata": {
        "id": "xaepQkouzl6F"
      },
      "id": "xaepQkouzl6F",
      "execution_count": null,
      "outputs": []
    },
    {
      "cell_type": "code",
      "source": [
        "# function in list\n",
        "functions = [square_generator, cube_generator]\n",
        "for fn in functions:\n",
        "  print(fn(5))"
      ],
      "metadata": {
        "colab": {
          "base_uri": "https://localhost:8080/"
        },
        "id": "BSECkKrW09iP",
        "outputId": "27d1b619-5993-4ea5-feab-a70d3486f7eb"
      },
      "id": "BSECkKrW09iP",
      "execution_count": null,
      "outputs": [
        {
          "output_type": "stream",
          "name": "stdout",
          "text": [
            "[0, 1, 4, 9, 16]\n",
            "[0, 1, 8, 27, 64]\n"
          ]
        }
      ]
    }
  ],
  "metadata": {
    "kernelspec": {
      "display_name": "Python 3",
      "language": "python",
      "name": "python3"
    },
    "language_info": {
      "codemirror_mode": {
        "name": "ipython",
        "version": 3
      },
      "file_extension": ".py",
      "mimetype": "text/x-python",
      "name": "python",
      "nbconvert_exporter": "python",
      "pygments_lexer": "ipython3",
      "version": "3.8.8"
    },
    "colab": {
      "provenance": []
    }
  },
  "nbformat": 4,
  "nbformat_minor": 5
}