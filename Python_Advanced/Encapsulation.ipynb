{
  "nbformat": 4,
  "nbformat_minor": 0,
  "metadata": {
    "colab": {
      "provenance": []
    },
    "kernelspec": {
      "name": "python3",
      "display_name": "Python 3"
    },
    "language_info": {
      "name": "python"
    }
  },
  "cells": [
    {
      "cell_type": "markdown",
      "source": [
        "# Encapsulation\n",
        "\n",
        "Encapsulation is one of the key concepts of object-oriented languages. Encapsulation is used to restrict access to methods and variables. In encapsulation, code and data are wrapped together within a single unit from being modified by accident.\n",
        "\n",
        "In encapsulation, the variables of a class will be hidden , and can be accessed only through the methods/objects of the current class."
      ],
      "metadata": {
        "id": "lMt6hO5p8pV6"
      }
    },
    {
      "cell_type": "markdown",
      "source": [
        "##  Access Modifiers\n",
        "\n",
        "There are 3 types of access modifiers for a class in Python. These access modifiers define how the members of the class can be accessed. \n",
        "\n",
        "* Public\n",
        "* Protected\n",
        "* Private\n"
      ],
      "metadata": {
        "id": "xgKt-kRsBnZR"
      }
    },
    {
      "cell_type": "markdown",
      "source": [
        "### Public\n",
        "\n",
        "The public member is accessible from inside or outside the class(through an instance).\n",
        "\n",
        "After inheriting also public member will be accessible to subclass instance and methods.\n"
      ],
      "metadata": {
        "id": "DGRjtezYUJ1K"
      }
    },
    {
      "cell_type": "code",
      "execution_count": 155,
      "metadata": {
        "id": "1xEfjsY-8TMF"
      },
      "outputs": [],
      "source": [
        "class Employee:\n",
        "  def __init__(self, name, code, designation):\n",
        "    self.employee_name = name\n",
        "    self.employee_code = code\n",
        "    self.employee_designation = designation\n",
        "\n",
        "  def employee_details(self):\n",
        "    print(\"*****Employee Details****** \")\n",
        "    print(f\"Name = {self.employee_name}\")\n",
        "    print(f\"Code = {self.employee_code}\")\n",
        "    print(f\"Designation = {self.employee_designation}\")"
      ]
    },
    {
      "cell_type": "code",
      "source": [
        "emp1 = Employee(\"Karamdeep\", \"AK100\", \"Software engineer\")\n",
        "emp2 = Employee(\"Abel\", \"AK120\", \"Associate Software engineer\")\n",
        "emp3 = Employee(\"Vetri\", \"AK220\", \"Project manager\")"
      ],
      "metadata": {
        "id": "HBK8dbsY-HGa"
      },
      "execution_count": 156,
      "outputs": []
    },
    {
      "cell_type": "code",
      "source": [
        "emp1.employee_details()"
      ],
      "metadata": {
        "colab": {
          "base_uri": "https://localhost:8080/"
        },
        "id": "bEWyF1sW-rRo",
        "outputId": "480a22a7-4623-457b-cd32-089c1e176897"
      },
      "execution_count": 157,
      "outputs": [
        {
          "output_type": "stream",
          "name": "stdout",
          "text": [
            "*****Employee Details****** \n",
            "Name = Karamdeep\n",
            "Code = AK100\n",
            "Designation = Software engineer\n"
          ]
        }
      ]
    },
    {
      "cell_type": "code",
      "source": [
        "emp2.employee_details()"
      ],
      "metadata": {
        "colab": {
          "base_uri": "https://localhost:8080/"
        },
        "id": "ymdXEVvL-uy-",
        "outputId": "7acbc833-a439-49d0-dc16-96ecaf5577f8"
      },
      "execution_count": 158,
      "outputs": [
        {
          "output_type": "stream",
          "name": "stdout",
          "text": [
            "*****Employee Details****** \n",
            "Name = Abel\n",
            "Code = AK120\n",
            "Designation = Associate Software engineer\n"
          ]
        }
      ]
    },
    {
      "cell_type": "code",
      "source": [
        "emp3.employee_details()"
      ],
      "metadata": {
        "colab": {
          "base_uri": "https://localhost:8080/"
        },
        "id": "jDlj2iXu-zaJ",
        "outputId": "de92c52e-28a4-4529-8789-2c51cfada627"
      },
      "execution_count": 159,
      "outputs": [
        {
          "output_type": "stream",
          "name": "stdout",
          "text": [
            "*****Employee Details****** \n",
            "Name = Vetri\n",
            "Code = AK220\n",
            "Designation = Project manager\n"
          ]
        }
      ]
    },
    {
      "cell_type": "code",
      "source": [
        "employee_name = \"Eldo\"   # local variable created without affecting the value attached with an instance"
      ],
      "metadata": {
        "id": "N_NQ5O3l-hSb"
      },
      "execution_count": 160,
      "outputs": []
    },
    {
      "cell_type": "code",
      "source": [
        "emp1.employee_details()\n",
        "emp2.employee_details()\n",
        "emp3.employee_details()"
      ],
      "metadata": {
        "colab": {
          "base_uri": "https://localhost:8080/"
        },
        "id": "8JI95FHSf4Sc",
        "outputId": "d24808a7-ae95-4c11-9540-7a9132f6f793"
      },
      "execution_count": 161,
      "outputs": [
        {
          "output_type": "stream",
          "name": "stdout",
          "text": [
            "*****Employee Details****** \n",
            "Name = Karamdeep\n",
            "Code = AK100\n",
            "Designation = Software engineer\n",
            "*****Employee Details****** \n",
            "Name = Abel\n",
            "Code = AK120\n",
            "Designation = Associate Software engineer\n",
            "*****Employee Details****** \n",
            "Name = Vetri\n",
            "Code = AK220\n",
            "Designation = Project manager\n"
          ]
        }
      ]
    },
    {
      "cell_type": "code",
      "source": [
        "emp1.employee_name = \"Eldo\""
      ],
      "metadata": {
        "id": "pCvuQzwLgGE8"
      },
      "execution_count": 162,
      "outputs": []
    },
    {
      "cell_type": "code",
      "source": [
        "emp1.employee_details()"
      ],
      "metadata": {
        "colab": {
          "base_uri": "https://localhost:8080/"
        },
        "id": "hyU48ySGgK-a",
        "outputId": "cc366dd8-27dc-4f0d-eb1d-300f466bd31e"
      },
      "execution_count": 163,
      "outputs": [
        {
          "output_type": "stream",
          "name": "stdout",
          "text": [
            "*****Employee Details****** \n",
            "Name = Eldo\n",
            "Code = AK100\n",
            "Designation = Software engineer\n"
          ]
        }
      ]
    },
    {
      "cell_type": "code",
      "source": [
        "employee_details()  # method cannot be called without an instance"
      ],
      "metadata": {
        "colab": {
          "base_uri": "https://localhost:8080/",
          "height": 165
        },
        "id": "e3NiS8_L_MCX",
        "outputId": "df34c9a9-3665-4f0e-f3c7-ee381d916004"
      },
      "execution_count": 164,
      "outputs": [
        {
          "output_type": "error",
          "ename": "NameError",
          "evalue": "ignored",
          "traceback": [
            "\u001b[0;31m---------------------------------------------------------------------------\u001b[0m",
            "\u001b[0;31mNameError\u001b[0m                                 Traceback (most recent call last)",
            "\u001b[0;32m<ipython-input-164-8360ba5ad3e0>\u001b[0m in \u001b[0;36m<module>\u001b[0;34m\u001b[0m\n\u001b[0;32m----> 1\u001b[0;31m \u001b[0memployee_details\u001b[0m\u001b[0;34m(\u001b[0m\u001b[0;34m)\u001b[0m  \u001b[0;31m# method cannot be called without an instance\u001b[0m\u001b[0;34m\u001b[0m\u001b[0;34m\u001b[0m\u001b[0m\n\u001b[0m",
            "\u001b[0;31mNameError\u001b[0m: name 'employee_details' is not defined"
          ]
        }
      ]
    },
    {
      "cell_type": "code",
      "source": [
        "dir(emp1)"
      ],
      "metadata": {
        "colab": {
          "base_uri": "https://localhost:8080/"
        },
        "id": "kjufbbuDKlCP",
        "outputId": "4e8f460e-d7d4-432e-fe84-9bd35a57f233"
      },
      "execution_count": 165,
      "outputs": [
        {
          "output_type": "execute_result",
          "data": {
            "text/plain": [
              "['__class__',\n",
              " '__delattr__',\n",
              " '__dict__',\n",
              " '__dir__',\n",
              " '__doc__',\n",
              " '__eq__',\n",
              " '__format__',\n",
              " '__ge__',\n",
              " '__getattribute__',\n",
              " '__gt__',\n",
              " '__hash__',\n",
              " '__init__',\n",
              " '__init_subclass__',\n",
              " '__le__',\n",
              " '__lt__',\n",
              " '__module__',\n",
              " '__ne__',\n",
              " '__new__',\n",
              " '__reduce__',\n",
              " '__reduce_ex__',\n",
              " '__repr__',\n",
              " '__setattr__',\n",
              " '__sizeof__',\n",
              " '__str__',\n",
              " '__subclasshook__',\n",
              " '__weakref__',\n",
              " 'employee_code',\n",
              " 'employee_designation',\n",
              " 'employee_details',\n",
              " 'employee_name']"
            ]
          },
          "metadata": {},
          "execution_count": 165
        }
      ]
    },
    {
      "cell_type": "code",
      "source": [
        "emp1.employee_name= \"Ram\"   # only value of that instance is affected"
      ],
      "metadata": {
        "id": "KMBrpgrV-8pd"
      },
      "execution_count": 166,
      "outputs": []
    },
    {
      "cell_type": "code",
      "source": [
        "emp1.employee_details()\n",
        "emp2.employee_details()\n",
        "emp3.employee_details()"
      ],
      "metadata": {
        "colab": {
          "base_uri": "https://localhost:8080/"
        },
        "id": "uAM4N-1C_lkz",
        "outputId": "bdf8e5bd-d088-4fe6-8deb-9d358bfe54c5"
      },
      "execution_count": 167,
      "outputs": [
        {
          "output_type": "stream",
          "name": "stdout",
          "text": [
            "*****Employee Details****** \n",
            "Name = Ram\n",
            "Code = AK100\n",
            "Designation = Software engineer\n",
            "*****Employee Details****** \n",
            "Name = Abel\n",
            "Code = AK120\n",
            "Designation = Associate Software engineer\n",
            "*****Employee Details****** \n",
            "Name = Vetri\n",
            "Code = AK220\n",
            "Designation = Project manager\n"
          ]
        }
      ]
    },
    {
      "cell_type": "code",
      "source": [
        "class Intern(Employee):\n",
        "  def __init__(self,name, code, designation, duration):\n",
        "    super().__init__(name, code, designation)\n",
        "    self.duration = duration\n",
        "\n",
        "int1 = Intern(\"Logo\", \"AK12132\", \"Intern\", 6)"
      ],
      "metadata": {
        "id": "TZgriOMkhY6P"
      },
      "execution_count": 168,
      "outputs": []
    },
    {
      "cell_type": "code",
      "source": [
        "int1.employee_details()"
      ],
      "metadata": {
        "colab": {
          "base_uri": "https://localhost:8080/"
        },
        "id": "7gzUZRkqh5Wb",
        "outputId": "f1705e87-84b9-4afa-8119-049644135884"
      },
      "execution_count": 169,
      "outputs": [
        {
          "output_type": "stream",
          "name": "stdout",
          "text": [
            "*****Employee Details****** \n",
            "Name = Logo\n",
            "Code = AK12132\n",
            "Designation = Intern\n"
          ]
        }
      ]
    },
    {
      "cell_type": "markdown",
      "source": [
        "### Protected\n",
        "\n",
        "The protected member is accessible from inside the class and its sub-class. \n",
        "\n",
        "Protected mambers can be inherited and available to subclass.\n",
        "\n",
        "Define a protected member by prefixing the member name with an underscore, for example −"
      ],
      "metadata": {
        "id": "OpobXO5kCG2d"
      }
    },
    {
      "cell_type": "code",
      "source": [
        "class Employee:\n",
        "  def __init__(self, name, code, designation, sal):\n",
        "    self.employee_name = name\n",
        "    self.employee_code = code\n",
        "    self.employee_designation = designation\n",
        "    self._employee_salary = sal    \n",
        "\n",
        "  def employee_details(self):\n",
        "    print(\"*****Employee Details****** \")\n",
        "    print(f\"Name = {self.employee_name}\")\n",
        "    print(f\"Code = {self.employee_code}\")\n",
        "    print(f\"Designation = {self.employee_designation}\") \n",
        "    print(f\"Salary = {self._employee_salary}\")  \n",
        "\n",
        "emp1 = Employee(\"Karamdeep\", \"AK100\", \"Software engineer\", 800000)\n",
        "emp2 = Employee(\"Abel\", \"AK120\", \"Associate Software engineer\", 500000)\n",
        "emp3 = Employee(\"Vetri\", \"AK220\", \"Project manager\", 1500000)"
      ],
      "metadata": {
        "id": "8Iy_-NRNCGeB"
      },
      "execution_count": 170,
      "outputs": []
    },
    {
      "cell_type": "code",
      "source": [
        "emp1.employee_details()"
      ],
      "metadata": {
        "colab": {
          "base_uri": "https://localhost:8080/"
        },
        "id": "Szo6w439S785",
        "outputId": "801fcdf2-f2f6-4043-f142-ba400f91e98f"
      },
      "execution_count": 171,
      "outputs": [
        {
          "output_type": "stream",
          "name": "stdout",
          "text": [
            "*****Employee Details****** \n",
            "Name = Karamdeep\n",
            "Code = AK100\n",
            "Designation = Software engineer\n",
            "Salary = 800000\n"
          ]
        }
      ]
    },
    {
      "cell_type": "code",
      "source": [
        "dir(emp1)"
      ],
      "metadata": {
        "colab": {
          "base_uri": "https://localhost:8080/"
        },
        "id": "Xp-xcUIZTCfY",
        "outputId": "f43780be-3e79-4bc7-d799-9cd5b0febc26"
      },
      "execution_count": 172,
      "outputs": [
        {
          "output_type": "execute_result",
          "data": {
            "text/plain": [
              "['__class__',\n",
              " '__delattr__',\n",
              " '__dict__',\n",
              " '__dir__',\n",
              " '__doc__',\n",
              " '__eq__',\n",
              " '__format__',\n",
              " '__ge__',\n",
              " '__getattribute__',\n",
              " '__gt__',\n",
              " '__hash__',\n",
              " '__init__',\n",
              " '__init_subclass__',\n",
              " '__le__',\n",
              " '__lt__',\n",
              " '__module__',\n",
              " '__ne__',\n",
              " '__new__',\n",
              " '__reduce__',\n",
              " '__reduce_ex__',\n",
              " '__repr__',\n",
              " '__setattr__',\n",
              " '__sizeof__',\n",
              " '__str__',\n",
              " '__subclasshook__',\n",
              " '__weakref__',\n",
              " '_employee_salary',\n",
              " 'employee_code',\n",
              " 'employee_designation',\n",
              " 'employee_details',\n",
              " 'employee_name']"
            ]
          },
          "metadata": {},
          "execution_count": 172
        }
      ]
    },
    {
      "cell_type": "code",
      "source": [
        "emp1._employee_salary"
      ],
      "metadata": {
        "colab": {
          "base_uri": "https://localhost:8080/"
        },
        "id": "JXsWfPdUTG3v",
        "outputId": "61cc87a2-8796-49f1-fe03-45164fca0e68"
      },
      "execution_count": 173,
      "outputs": [
        {
          "output_type": "execute_result",
          "data": {
            "text/plain": [
              "800000"
            ]
          },
          "metadata": {},
          "execution_count": 173
        }
      ]
    },
    {
      "cell_type": "code",
      "source": [
        "emp1._employee_salary = 700000000"
      ],
      "metadata": {
        "id": "3QgEfTIlTKEu"
      },
      "execution_count": 174,
      "outputs": []
    },
    {
      "cell_type": "code",
      "source": [
        "emp1.employee_details()"
      ],
      "metadata": {
        "colab": {
          "base_uri": "https://localhost:8080/"
        },
        "id": "vHBUpzQOTNtJ",
        "outputId": "65663bfa-275b-42a9-f0bb-7aad6436da52"
      },
      "execution_count": 175,
      "outputs": [
        {
          "output_type": "stream",
          "name": "stdout",
          "text": [
            "*****Employee Details****** \n",
            "Name = Karamdeep\n",
            "Code = AK100\n",
            "Designation = Software engineer\n",
            "Salary = 700000000\n"
          ]
        }
      ]
    },
    {
      "cell_type": "code",
      "source": [
        "class Intern(Employee):\n",
        "  def __init__(self, name, code, designation, sal, duration):\n",
        "    self.duration = duration\n",
        "    super().__init__(name, code, designation, sal)\n",
        "\n",
        "  def intern_details(self):\n",
        "    self.employee_details()\n",
        "    print(f\"Duration = {self.duration}\")"
      ],
      "metadata": {
        "id": "QiqEPMDnUrff"
      },
      "execution_count": 176,
      "outputs": []
    },
    {
      "cell_type": "code",
      "source": [
        "int1 = Intern(\"Amit\", \"Ik100\", \"Intern\", 200000, 30)"
      ],
      "metadata": {
        "id": "doFn3SWdU6-C"
      },
      "execution_count": 177,
      "outputs": []
    },
    {
      "cell_type": "code",
      "source": [
        "int1.employee_details()"
      ],
      "metadata": {
        "colab": {
          "base_uri": "https://localhost:8080/"
        },
        "id": "NrBo-PkTWNpi",
        "outputId": "181e99f9-f621-4e60-fc16-70343a9cd062"
      },
      "execution_count": 178,
      "outputs": [
        {
          "output_type": "stream",
          "name": "stdout",
          "text": [
            "*****Employee Details****** \n",
            "Name = Amit\n",
            "Code = Ik100\n",
            "Designation = Intern\n",
            "Salary = 200000\n"
          ]
        }
      ]
    },
    {
      "cell_type": "code",
      "source": [
        "int1.intern_details()"
      ],
      "metadata": {
        "colab": {
          "base_uri": "https://localhost:8080/"
        },
        "id": "jrz_c6LKWTP_",
        "outputId": "2c500139-de24-4691-8ae6-4d832beb1324"
      },
      "execution_count": 179,
      "outputs": [
        {
          "output_type": "stream",
          "name": "stdout",
          "text": [
            "*****Employee Details****** \n",
            "Name = Amit\n",
            "Code = Ik100\n",
            "Designation = Intern\n",
            "Salary = 200000\n",
            "Duration = 30\n"
          ]
        }
      ]
    },
    {
      "cell_type": "code",
      "source": [
        "dir(int1)"
      ],
      "metadata": {
        "colab": {
          "base_uri": "https://localhost:8080/"
        },
        "id": "Sv1uOTsOWpkk",
        "outputId": "331a4e94-df4e-4d1b-b241-bf1bc3b53944"
      },
      "execution_count": 180,
      "outputs": [
        {
          "output_type": "execute_result",
          "data": {
            "text/plain": [
              "['__class__',\n",
              " '__delattr__',\n",
              " '__dict__',\n",
              " '__dir__',\n",
              " '__doc__',\n",
              " '__eq__',\n",
              " '__format__',\n",
              " '__ge__',\n",
              " '__getattribute__',\n",
              " '__gt__',\n",
              " '__hash__',\n",
              " '__init__',\n",
              " '__init_subclass__',\n",
              " '__le__',\n",
              " '__lt__',\n",
              " '__module__',\n",
              " '__ne__',\n",
              " '__new__',\n",
              " '__reduce__',\n",
              " '__reduce_ex__',\n",
              " '__repr__',\n",
              " '__setattr__',\n",
              " '__sizeof__',\n",
              " '__str__',\n",
              " '__subclasshook__',\n",
              " '__weakref__',\n",
              " '_employee_salary',\n",
              " 'duration',\n",
              " 'employee_code',\n",
              " 'employee_designation',\n",
              " 'employee_details',\n",
              " 'employee_name',\n",
              " 'intern_details']"
            ]
          },
          "metadata": {},
          "execution_count": 180
        }
      ]
    },
    {
      "cell_type": "code",
      "source": [
        "int1._employee_salary"
      ],
      "metadata": {
        "colab": {
          "base_uri": "https://localhost:8080/"
        },
        "id": "ZTYulbaRW0hn",
        "outputId": "c22f6221-f768-4864-bbaa-8b1a45db3228"
      },
      "execution_count": 181,
      "outputs": [
        {
          "output_type": "execute_result",
          "data": {
            "text/plain": [
              "200000"
            ]
          },
          "metadata": {},
          "execution_count": 181
        }
      ]
    },
    {
      "cell_type": "markdown",
      "source": [
        "### Private\n",
        "\n",
        "The private member is accessible only inside class and not through instance.\n",
        "\n",
        "It won't be available to subclass instance or methods but is accessable through parent class methods.\n",
        "\n",
        "Define a private member by prefixing the member name with two underscores, for example __"
      ],
      "metadata": {
        "id": "n0EcV-bfB_Dj"
      }
    },
    {
      "cell_type": "code",
      "source": [
        "class Employee:\n",
        "  def __init__(self, name, code, designation, sal):\n",
        "    self.employee_name = name\n",
        "    self.employee_code = code\n",
        "    self.employee_designation = designation\n",
        "    self.__employee_salary = sal\n",
        "\n",
        "  def __get_salary_details(self):\n",
        "    print(f\"Salary = {self.__employee_salary}\")\n",
        "\n",
        "  def employee_details(self):\n",
        "    print(\"*****Employee Details****** \")\n",
        "    print(f\"Name = {self.employee_name}\")\n",
        "    print(f\"Code = {self.employee_code}\")\n",
        "    print(f\"Designation = {self.employee_designation}\")    \n",
        "    self.__get_salary_details()\n",
        "\n",
        "emp1 = Employee(\"Karamdeep\", \"AK100\", \"Software engineer\", 800000)\n",
        "emp2 = Employee(\"Abel\", \"AK120\", \"Associate Software engineer\", 500000)\n",
        "emp3 = Employee(\"Vetri\", \"AK220\", \"Project manager\", 1500000)"
      ],
      "metadata": {
        "id": "Dtb-qlnXC46Q"
      },
      "execution_count": 182,
      "outputs": []
    },
    {
      "cell_type": "code",
      "source": [
        "emp1.employee_code"
      ],
      "metadata": {
        "colab": {
          "base_uri": "https://localhost:8080/",
          "height": 36
        },
        "id": "q6a2klkpDOA7",
        "outputId": "68396737-fcf0-46f2-e496-8cb1ce0afa96"
      },
      "execution_count": 183,
      "outputs": [
        {
          "output_type": "execute_result",
          "data": {
            "text/plain": [
              "'AK100'"
            ],
            "application/vnd.google.colaboratory.intrinsic+json": {
              "type": "string"
            }
          },
          "metadata": {},
          "execution_count": 183
        }
      ]
    },
    {
      "cell_type": "code",
      "source": [
        "emp1.employee_details()"
      ],
      "metadata": {
        "colab": {
          "base_uri": "https://localhost:8080/"
        },
        "id": "8Hh_2WO9PfyZ",
        "outputId": "61fe6eda-1604-4796-8464-6cdb948386cc"
      },
      "execution_count": 184,
      "outputs": [
        {
          "output_type": "stream",
          "name": "stdout",
          "text": [
            "*****Employee Details****** \n",
            "Name = Karamdeep\n",
            "Code = AK100\n",
            "Designation = Software engineer\n",
            "Salary = 800000\n"
          ]
        }
      ]
    },
    {
      "cell_type": "code",
      "source": [
        "emp1.__employee_salary"
      ],
      "metadata": {
        "colab": {
          "base_uri": "https://localhost:8080/",
          "height": 165
        },
        "id": "gHUaPB2sFozR",
        "outputId": "580d0614-7ab8-4006-fac8-04d3c1460606"
      },
      "execution_count": 185,
      "outputs": [
        {
          "output_type": "error",
          "ename": "AttributeError",
          "evalue": "ignored",
          "traceback": [
            "\u001b[0;31m---------------------------------------------------------------------------\u001b[0m",
            "\u001b[0;31mAttributeError\u001b[0m                            Traceback (most recent call last)",
            "\u001b[0;32m<ipython-input-185-9b2aeba07053>\u001b[0m in \u001b[0;36m<module>\u001b[0;34m\u001b[0m\n\u001b[0;32m----> 1\u001b[0;31m \u001b[0memp1\u001b[0m\u001b[0;34m.\u001b[0m\u001b[0m__employee_salary\u001b[0m\u001b[0;34m\u001b[0m\u001b[0;34m\u001b[0m\u001b[0m\n\u001b[0m",
            "\u001b[0;31mAttributeError\u001b[0m: 'Employee' object has no attribute '__employee_salary'"
          ]
        }
      ]
    },
    {
      "cell_type": "code",
      "source": [
        "dir(emp1)"
      ],
      "metadata": {
        "colab": {
          "base_uri": "https://localhost:8080/"
        },
        "id": "6zuAvLkmHrma",
        "outputId": "7dbb84bd-9d3c-4fb6-aa7c-900e9481be14"
      },
      "execution_count": 186,
      "outputs": [
        {
          "output_type": "execute_result",
          "data": {
            "text/plain": [
              "['_Employee__employee_salary',\n",
              " '_Employee__get_salary_details',\n",
              " '__class__',\n",
              " '__delattr__',\n",
              " '__dict__',\n",
              " '__dir__',\n",
              " '__doc__',\n",
              " '__eq__',\n",
              " '__format__',\n",
              " '__ge__',\n",
              " '__getattribute__',\n",
              " '__gt__',\n",
              " '__hash__',\n",
              " '__init__',\n",
              " '__init_subclass__',\n",
              " '__le__',\n",
              " '__lt__',\n",
              " '__module__',\n",
              " '__ne__',\n",
              " '__new__',\n",
              " '__reduce__',\n",
              " '__reduce_ex__',\n",
              " '__repr__',\n",
              " '__setattr__',\n",
              " '__sizeof__',\n",
              " '__str__',\n",
              " '__subclasshook__',\n",
              " '__weakref__',\n",
              " 'employee_code',\n",
              " 'employee_designation',\n",
              " 'employee_details',\n",
              " 'employee_name']"
            ]
          },
          "metadata": {},
          "execution_count": 186
        }
      ]
    },
    {
      "cell_type": "markdown",
      "source": [
        "In Python, there is a concept called name mangling. Python changes the names of the variables that start with a double underscore. So, any class variable whose name starts with a double underscore will change to the form _className__variableName."
      ],
      "metadata": {
        "id": "OnO8r5KALiLY"
      }
    },
    {
      "cell_type": "code",
      "source": [
        "emp1.__employee_salary = 3000000"
      ],
      "metadata": {
        "id": "xD7JdxitFFxo"
      },
      "execution_count": 188,
      "outputs": []
    },
    {
      "cell_type": "code",
      "source": [
        "emp1.employee_details()"
      ],
      "metadata": {
        "colab": {
          "base_uri": "https://localhost:8080/"
        },
        "id": "bkfEuLXhkkrQ",
        "outputId": "bbf01b44-a385-4d54-aad4-f1b60c67eb96"
      },
      "execution_count": 189,
      "outputs": [
        {
          "output_type": "stream",
          "name": "stdout",
          "text": [
            "*****Employee Details****** \n",
            "Name = Karamdeep\n",
            "Code = AK100\n",
            "Designation = Software engineer\n",
            "Salary = 800000\n"
          ]
        }
      ]
    },
    {
      "cell_type": "code",
      "source": [
        "dir(emp1)"
      ],
      "metadata": {
        "colab": {
          "base_uri": "https://localhost:8080/"
        },
        "id": "juttqAvRkrSQ",
        "outputId": "e7b8cf98-6659-4e0a-f42e-876fc66c2426"
      },
      "execution_count": 190,
      "outputs": [
        {
          "output_type": "execute_result",
          "data": {
            "text/plain": [
              "['_Employee__employee_salary',\n",
              " '_Employee__get_salary_details',\n",
              " '__class__',\n",
              " '__delattr__',\n",
              " '__dict__',\n",
              " '__dir__',\n",
              " '__doc__',\n",
              " '__employee_salary',\n",
              " '__eq__',\n",
              " '__format__',\n",
              " '__ge__',\n",
              " '__getattribute__',\n",
              " '__gt__',\n",
              " '__hash__',\n",
              " '__init__',\n",
              " '__init_subclass__',\n",
              " '__le__',\n",
              " '__lt__',\n",
              " '__module__',\n",
              " '__ne__',\n",
              " '__new__',\n",
              " '__reduce__',\n",
              " '__reduce_ex__',\n",
              " '__repr__',\n",
              " '__setattr__',\n",
              " '__sizeof__',\n",
              " '__str__',\n",
              " '__subclasshook__',\n",
              " '__weakref__',\n",
              " 'employee_code',\n",
              " 'employee_designation',\n",
              " 'employee_details',\n",
              " 'employee_name']"
            ]
          },
          "metadata": {},
          "execution_count": 190
        }
      ]
    },
    {
      "cell_type": "code",
      "source": [
        "emp1._Employee__employee_salary"
      ],
      "metadata": {
        "colab": {
          "base_uri": "https://localhost:8080/"
        },
        "id": "1UmUyXokPEyi",
        "outputId": "6b9a165a-17d7-474e-83e6-2d6d92884f1c"
      },
      "execution_count": 191,
      "outputs": [
        {
          "output_type": "execute_result",
          "data": {
            "text/plain": [
              "800000"
            ]
          },
          "metadata": {},
          "execution_count": 191
        }
      ]
    },
    {
      "cell_type": "code",
      "source": [
        "emp1._Employee__employee_salary = 5000000"
      ],
      "metadata": {
        "id": "P_DowsTmQDQq"
      },
      "execution_count": 193,
      "outputs": []
    },
    {
      "cell_type": "code",
      "source": [
        "emp1.employee_details()"
      ],
      "metadata": {
        "colab": {
          "base_uri": "https://localhost:8080/"
        },
        "id": "3ZJ2O_tZQF60",
        "outputId": "29c12366-a929-4cbb-9339-619b2d79f408"
      },
      "execution_count": 194,
      "outputs": [
        {
          "output_type": "stream",
          "name": "stdout",
          "text": [
            "*****Employee Details****** \n",
            "Name = Karamdeep\n",
            "Code = AK100\n",
            "Designation = Software engineer\n",
            "Salary = 5000000\n"
          ]
        }
      ]
    },
    {
      "cell_type": "code",
      "source": [
        "emp1.__get_salary_details()"
      ],
      "metadata": {
        "colab": {
          "base_uri": "https://localhost:8080/",
          "height": 165
        },
        "id": "C3QTJmeXQOw8",
        "outputId": "ec52cba1-c521-426c-fe9b-b5bbbbcb8f16"
      },
      "execution_count": 195,
      "outputs": [
        {
          "output_type": "error",
          "ename": "AttributeError",
          "evalue": "ignored",
          "traceback": [
            "\u001b[0;31m---------------------------------------------------------------------------\u001b[0m",
            "\u001b[0;31mAttributeError\u001b[0m                            Traceback (most recent call last)",
            "\u001b[0;32m<ipython-input-195-d8262ad67437>\u001b[0m in \u001b[0;36m<module>\u001b[0;34m\u001b[0m\n\u001b[0;32m----> 1\u001b[0;31m \u001b[0memp1\u001b[0m\u001b[0;34m.\u001b[0m\u001b[0m__get_salary_details\u001b[0m\u001b[0;34m(\u001b[0m\u001b[0;34m)\u001b[0m\u001b[0;34m\u001b[0m\u001b[0;34m\u001b[0m\u001b[0m\n\u001b[0m",
            "\u001b[0;31mAttributeError\u001b[0m: 'Employee' object has no attribute '__get_salary_details'"
          ]
        }
      ]
    },
    {
      "cell_type": "code",
      "source": [
        "emp1._Employee__get_salary_details()"
      ],
      "metadata": {
        "colab": {
          "base_uri": "https://localhost:8080/"
        },
        "id": "_ulCWFVcQW6x",
        "outputId": "30a56946-f7e1-44be-8a08-1bd1df349c98"
      },
      "execution_count": 196,
      "outputs": [
        {
          "output_type": "stream",
          "name": "stdout",
          "text": [
            "Salary = 5000000\n"
          ]
        }
      ]
    },
    {
      "cell_type": "markdown",
      "source": [
        "The purpose of using a double underscore is not to restrict from accessing the variable or method. It is to tell that the particular variable or method is meant to be bound inside the class only."
      ],
      "metadata": {
        "id": "DEbn1_wvQlPy"
      }
    },
    {
      "cell_type": "code",
      "source": [
        "class Intern(Employee):\n",
        "  def __init__(self, name, code, designation, sal, duration):\n",
        "    self.duration = duration\n",
        "    super().__init__(name, code, designation, sal)\n",
        "\n",
        "  def intern_details(self):\n",
        "    self.employee_details()\n",
        "    print(f\"Duration = {self.duration}\")\n"
      ],
      "metadata": {
        "id": "JZOqvE1KQoI7"
      },
      "execution_count": 197,
      "outputs": []
    },
    {
      "cell_type": "code",
      "source": [
        "int1 = Intern(\"Amit\", \"Ik100\", \"Intern\", 40000, 30)"
      ],
      "metadata": {
        "id": "fDWWZZ3-RQdj"
      },
      "execution_count": 198,
      "outputs": []
    },
    {
      "cell_type": "code",
      "source": [
        "int1.intern_details()"
      ],
      "metadata": {
        "colab": {
          "base_uri": "https://localhost:8080/"
        },
        "id": "VMhh6gwYR6yf",
        "outputId": "ca2965b5-b480-444f-ea53-9c3706106e06"
      },
      "execution_count": 199,
      "outputs": [
        {
          "output_type": "stream",
          "name": "stdout",
          "text": [
            "*****Employee Details****** \n",
            "Name = Amit\n",
            "Code = Ik100\n",
            "Designation = Intern\n",
            "Salary = 40000\n",
            "Duration = 30\n"
          ]
        }
      ]
    },
    {
      "cell_type": "code",
      "source": [
        "int1.employee_details()"
      ],
      "metadata": {
        "colab": {
          "base_uri": "https://localhost:8080/"
        },
        "id": "cYmo2pBJRV7p",
        "outputId": "c8de5542-8095-466f-c681-1fe425637935"
      },
      "execution_count": 200,
      "outputs": [
        {
          "output_type": "stream",
          "name": "stdout",
          "text": [
            "*****Employee Details****** \n",
            "Name = Amit\n",
            "Code = Ik100\n",
            "Designation = Intern\n",
            "Salary = 40000\n"
          ]
        }
      ]
    },
    {
      "cell_type": "code",
      "source": [
        "int1.__employee_salary"
      ],
      "metadata": {
        "colab": {
          "base_uri": "https://localhost:8080/",
          "height": 165
        },
        "id": "eJB7b9AJlsxz",
        "outputId": "bd97df88-8304-4e66-a27f-12d417131f8a"
      },
      "execution_count": 201,
      "outputs": [
        {
          "output_type": "error",
          "ename": "AttributeError",
          "evalue": "ignored",
          "traceback": [
            "\u001b[0;31m---------------------------------------------------------------------------\u001b[0m",
            "\u001b[0;31mAttributeError\u001b[0m                            Traceback (most recent call last)",
            "\u001b[0;32m<ipython-input-201-15a01c89dcdf>\u001b[0m in \u001b[0;36m<module>\u001b[0;34m\u001b[0m\n\u001b[0;32m----> 1\u001b[0;31m \u001b[0mint1\u001b[0m\u001b[0;34m.\u001b[0m\u001b[0m__employee_salary\u001b[0m\u001b[0;34m\u001b[0m\u001b[0;34m\u001b[0m\u001b[0m\n\u001b[0m",
            "\u001b[0;31mAttributeError\u001b[0m: 'Intern' object has no attribute '__employee_salary'"
          ]
        }
      ]
    },
    {
      "cell_type": "code",
      "source": [
        "dir(int1)"
      ],
      "metadata": {
        "colab": {
          "base_uri": "https://localhost:8080/"
        },
        "id": "lHBULvdzTRsr",
        "outputId": "4a006d1d-4aeb-49c6-8b07-89e120e24b77"
      },
      "execution_count": 202,
      "outputs": [
        {
          "output_type": "execute_result",
          "data": {
            "text/plain": [
              "['_Employee__employee_salary',\n",
              " '_Employee__get_salary_details',\n",
              " '__class__',\n",
              " '__delattr__',\n",
              " '__dict__',\n",
              " '__dir__',\n",
              " '__doc__',\n",
              " '__eq__',\n",
              " '__format__',\n",
              " '__ge__',\n",
              " '__getattribute__',\n",
              " '__gt__',\n",
              " '__hash__',\n",
              " '__init__',\n",
              " '__init_subclass__',\n",
              " '__le__',\n",
              " '__lt__',\n",
              " '__module__',\n",
              " '__ne__',\n",
              " '__new__',\n",
              " '__reduce__',\n",
              " '__reduce_ex__',\n",
              " '__repr__',\n",
              " '__setattr__',\n",
              " '__sizeof__',\n",
              " '__str__',\n",
              " '__subclasshook__',\n",
              " '__weakref__',\n",
              " 'duration',\n",
              " 'employee_code',\n",
              " 'employee_designation',\n",
              " 'employee_details',\n",
              " 'employee_name',\n",
              " 'intern_details']"
            ]
          },
          "metadata": {},
          "execution_count": 202
        }
      ]
    },
    {
      "cell_type": "code",
      "source": [
        "int1._Employee__employee_salary"
      ],
      "metadata": {
        "colab": {
          "base_uri": "https://localhost:8080/"
        },
        "id": "O4qzjxhjl6Ik",
        "outputId": "d8a50472-b501-4c3c-8ed2-8c0ad71b1785"
      },
      "execution_count": 203,
      "outputs": [
        {
          "output_type": "execute_result",
          "data": {
            "text/plain": [
              "40000"
            ]
          },
          "metadata": {},
          "execution_count": 203
        }
      ]
    },
    {
      "cell_type": "code",
      "source": [
        "class Intern(Employee):\n",
        "  def __init__(self, name, code, designation, sal, duration):\n",
        "    self.duration = duration\n",
        "    super().__init__(name, code, designation, sal)\n",
        "\n",
        "  def intern_details(self):\n",
        "    self.employee_details()\n",
        "    print(f\"Duration = {self.duration}\")\n",
        "\n",
        "  def get_salary(self):\n",
        "    print(self.__employee_salary)"
      ],
      "metadata": {
        "id": "LcbsoAxzYMCs"
      },
      "execution_count": 204,
      "outputs": []
    },
    {
      "cell_type": "code",
      "source": [
        "int2 = Intern(\"Amit\", \"Ik100\", \"Intern\", 40000, 30)"
      ],
      "metadata": {
        "id": "6HMLDzF7Y0Dq"
      },
      "execution_count": 205,
      "outputs": []
    },
    {
      "cell_type": "code",
      "source": [
        "int2.get_salary()  # not able to access private member in subclass through subclass method. It is accessible through parent class method."
      ],
      "metadata": {
        "colab": {
          "base_uri": "https://localhost:8080/",
          "height": 252
        },
        "id": "9NEsqBmnY5qy",
        "outputId": "a6563a7d-5f09-4594-b5db-9b0071de52f5"
      },
      "execution_count": 206,
      "outputs": [
        {
          "output_type": "error",
          "ename": "AttributeError",
          "evalue": "ignored",
          "traceback": [
            "\u001b[0;31m---------------------------------------------------------------------------\u001b[0m",
            "\u001b[0;31mAttributeError\u001b[0m                            Traceback (most recent call last)",
            "\u001b[0;32m<ipython-input-206-1c23aee3b839>\u001b[0m in \u001b[0;36m<module>\u001b[0;34m\u001b[0m\n\u001b[0;32m----> 1\u001b[0;31m \u001b[0mint2\u001b[0m\u001b[0;34m.\u001b[0m\u001b[0mget_salary\u001b[0m\u001b[0;34m(\u001b[0m\u001b[0;34m)\u001b[0m\u001b[0;34m\u001b[0m\u001b[0;34m\u001b[0m\u001b[0m\n\u001b[0m",
            "\u001b[0;32m<ipython-input-204-acee5b5a97ac>\u001b[0m in \u001b[0;36mget_salary\u001b[0;34m(self)\u001b[0m\n\u001b[1;32m      9\u001b[0m \u001b[0;34m\u001b[0m\u001b[0m\n\u001b[1;32m     10\u001b[0m   \u001b[0;32mdef\u001b[0m \u001b[0mget_salary\u001b[0m\u001b[0;34m(\u001b[0m\u001b[0mself\u001b[0m\u001b[0;34m)\u001b[0m\u001b[0;34m:\u001b[0m\u001b[0;34m\u001b[0m\u001b[0;34m\u001b[0m\u001b[0m\n\u001b[0;32m---> 11\u001b[0;31m     \u001b[0mprint\u001b[0m\u001b[0;34m(\u001b[0m\u001b[0mself\u001b[0m\u001b[0;34m.\u001b[0m\u001b[0m__employee_salary\u001b[0m\u001b[0;34m)\u001b[0m\u001b[0;34m\u001b[0m\u001b[0;34m\u001b[0m\u001b[0m\n\u001b[0m",
            "\u001b[0;31mAttributeError\u001b[0m: 'Intern' object has no attribute '_Intern__employee_salary'"
          ]
        }
      ]
    }
  ]
}