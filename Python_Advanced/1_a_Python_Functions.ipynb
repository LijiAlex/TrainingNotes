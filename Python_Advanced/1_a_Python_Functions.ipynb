{
  "cells": [
    {
      "cell_type": "code",
      "execution_count": null,
      "id": "d7b24ff0",
      "metadata": {
        "id": "d7b24ff0"
      },
      "outputs": [],
      "source": [
        "balance = 0\n",
        "\n",
        "while True:\n",
        "    print(\"1. Deposit\")\n",
        "    print(\"2. Withdraw\")\n",
        "    print(\"3. Check balance\")\n",
        "    print(\"4. Exit\")\n",
        "    choice = int(input(\"Enter your choice: \"))\n",
        "    \n",
        "    if choice == 1:\n",
        "        amount = int(input(\"Enter deposit amount:\"))\n",
        "        balance += amount\n",
        "    elif choice == 2:\n",
        "        amount = int(input(\"Enter withdrawal amount:\"))\n",
        "        if balance >= amount:\n",
        "            balance -= amount\n",
        "        else:\n",
        "            print(\"Not enough balance\")\n",
        "    elif choice == 3:\n",
        "        print(f\"Balance = {balance}\")\n",
        "    elif choice == 4:\n",
        "        print(\"Thankyou for banking with us.\")\n",
        "        break"
      ]
    },
    {
      "cell_type": "code",
      "execution_count": null,
      "id": "7bf9e0a8",
      "metadata": {
        "id": "7bf9e0a8"
      },
      "outputs": [],
      "source": [
        "balance = 0\n",
        "while True:\n",
        "    choice = get_banking_option()\n",
        "    if choice == 1:\n",
        "        deposit()\n",
        "    elif choice == 2:\n",
        "        withdraw()\n",
        "    elif choice == 3:\n",
        "        print(f\"Balance = {balance}\")\n",
        "    elif choice == 4:\n",
        "        print(\"Thankyou for banking with us.\")\n",
        "        break"
      ]
    },
    {
      "cell_type": "markdown",
      "id": "1ade7d2d",
      "metadata": {
        "id": "1ade7d2d"
      },
      "source": [
        "# Functions"
      ]
    },
    {
      "cell_type": "markdown",
      "id": "596586f3",
      "metadata": {
        "id": "596586f3"
      },
      "source": [
        "A function is a named group of related statements that perform a specific task.\n",
        "* Functions make a program modular and more readable.\n",
        "\n",
        "<pre>\n",
        "<u>Syntax</u>\n",
        "def < function_name>():\n",
        "    < statement 1>\n",
        "    < statement 2>\n",
        "    .\n",
        "    .\n",
        "    .\n",
        "    < statement n>"
      ]
    },
    {
      "cell_type": "code",
      "execution_count": null,
      "id": "b7478fca",
      "metadata": {
        "id": "b7478fca"
      },
      "outputs": [],
      "source": [
        "def get_banking_option():  # function definition\n",
        "    print(\"1. Deposit\")\n",
        "    print(\"2. Withdraw\")\n",
        "    print(\"3. Check balance\")\n",
        "    print(\"4. Exit\")"
      ]
    },
    {
      "cell_type": "markdown",
      "id": "59728925",
      "metadata": {
        "id": "59728925"
      },
      "source": [
        "* Statements inside a function will be executed only if it is called.\n",
        "* Functions once defined can be reused any number of times.\n",
        "* A function cannot be called before its defined."
      ]
    },
    {
      "cell_type": "code",
      "execution_count": null,
      "id": "ec7105c9",
      "metadata": {
        "id": "ec7105c9",
        "outputId": "94d7212d-bb92-45cf-92a5-ed22f7f339c4",
        "colab": {
          "base_uri": "https://localhost:8080/"
        }
      },
      "outputs": [
        {
          "output_type": "stream",
          "name": "stdout",
          "text": [
            "1. Deposit\n",
            "2. Withdraw\n",
            "3. Check balance\n",
            "4. Exit\n"
          ]
        }
      ],
      "source": [
        "get_banking_option() # function call"
      ]
    },
    {
      "cell_type": "code",
      "source": [
        "banking_option_function = get_banking_option"
      ],
      "metadata": {
        "id": "tJCNzYGavNTX"
      },
      "id": "tJCNzYGavNTX",
      "execution_count": null,
      "outputs": []
    },
    {
      "cell_type": "code",
      "source": [
        "type(banking_option_function)"
      ],
      "metadata": {
        "colab": {
          "base_uri": "https://localhost:8080/"
        },
        "id": "XFV19qs1vTZ2",
        "outputId": "a856b0db-0619-41e0-cf17-150c3700a655"
      },
      "id": "XFV19qs1vTZ2",
      "execution_count": null,
      "outputs": [
        {
          "output_type": "execute_result",
          "data": {
            "text/plain": [
              "function"
            ]
          },
          "metadata": {},
          "execution_count": 8
        }
      ]
    },
    {
      "cell_type": "code",
      "source": [
        "banking_option_function()"
      ],
      "metadata": {
        "colab": {
          "base_uri": "https://localhost:8080/"
        },
        "id": "PmIsfD9QvYpR",
        "outputId": "72aa9683-9eb0-49cd-ff33-cf682389fa61"
      },
      "id": "PmIsfD9QvYpR",
      "execution_count": null,
      "outputs": [
        {
          "output_type": "stream",
          "name": "stdout",
          "text": [
            "1. Deposit\n",
            "2. Withdraw\n",
            "3. Check balance\n",
            "4. Exit\n"
          ]
        }
      ]
    },
    {
      "cell_type": "code",
      "execution_count": null,
      "id": "c570270e",
      "metadata": {
        "id": "c570270e",
        "outputId": "e6ecdcf3-c395-4527-eab4-9a4316c7863d",
        "colab": {
          "base_uri": "https://localhost:8080/"
        }
      },
      "outputs": [
        {
          "output_type": "stream",
          "name": "stdout",
          "text": [
            "1. Deposit\n",
            "2. Withdraw\n",
            "3. Check balance\n",
            "4. Exit\n",
            "1. Deposit\n",
            "2. Withdraw\n",
            "3. Check balance\n",
            "4. Exit\n",
            "1. Deposit\n",
            "2. Withdraw\n",
            "3. Check balance\n",
            "4. Exit\n"
          ]
        }
      ],
      "source": [
        "get_banking_option()\n",
        "get_banking_option()\n",
        "get_banking_option()"
      ]
    },
    {
      "cell_type": "markdown",
      "id": "f2e77c16",
      "metadata": {
        "id": "f2e77c16"
      },
      "source": [
        "Types of functions\n",
        "* User defined functions - Functions defined by users.\n",
        "* Built-in functions - Functions included with Python core package, modules, libraries etc.\n",
        "Eg:- print(), input(), len()\n",
        "\n",
        "A function can take an input(optional), process it and give an output(optional).\n",
        "\n"
      ]
    },
    {
      "cell_type": "markdown",
      "id": "42969613",
      "metadata": {
        "id": "42969613"
      },
      "source": [
        "### Function Inputs"
      ]
    },
    {
      "cell_type": "code",
      "execution_count": null,
      "id": "444c7f58",
      "metadata": {
        "id": "444c7f58",
        "outputId": "4a7a034f-5348-45b9-d8b3-be47dca9caf8",
        "colab": {
          "base_uri": "https://localhost:8080/"
        }
      },
      "outputs": [
        {
          "output_type": "stream",
          "name": "stdout",
          "text": [
            "\n"
          ]
        }
      ],
      "source": [
        "print()"
      ]
    },
    {
      "cell_type": "code",
      "execution_count": null,
      "id": "61ee9ced",
      "metadata": {
        "id": "61ee9ced",
        "outputId": "725e36c0-3809-414e-cf7a-533a5ca88dd6",
        "colab": {
          "base_uri": "https://localhost:8080/"
        }
      },
      "outputs": [
        {
          "output_type": "stream",
          "name": "stdout",
          "text": [
            "Enter a number:\n"
          ]
        }
      ],
      "source": [
        "print(\"Enter a number:\")"
      ]
    },
    {
      "cell_type": "code",
      "execution_count": null,
      "id": "b2a773e9",
      "metadata": {
        "id": "b2a773e9",
        "outputId": "8dd6f2ff-5b9d-49d9-fa96-7e097ef42953",
        "colab": {
          "base_uri": "https://localhost:8080/"
        }
      },
      "outputs": [
        {
          "output_type": "execute_result",
          "data": {
            "text/plain": [
              "4"
            ]
          },
          "metadata": {},
          "execution_count": 13
        }
      ],
      "source": [
        "len([1, 2, 3, 4])"
      ]
    },
    {
      "cell_type": "code",
      "execution_count": null,
      "id": "8dada313",
      "metadata": {
        "id": "8dada313"
      },
      "outputs": [],
      "source": [
        "def add():\n",
        "    print(5 + 6)"
      ]
    },
    {
      "cell_type": "code",
      "execution_count": null,
      "id": "aa60709b",
      "metadata": {
        "id": "aa60709b",
        "outputId": "4b65a7b4-7b29-436c-a9cc-f687775fd2f7",
        "colab": {
          "base_uri": "https://localhost:8080/"
        }
      },
      "outputs": [
        {
          "output_type": "stream",
          "name": "stdout",
          "text": [
            "11\n"
          ]
        }
      ],
      "source": [
        "add()"
      ]
    },
    {
      "cell_type": "code",
      "execution_count": null,
      "id": "e20e998c",
      "metadata": {
        "id": "e20e998c",
        "outputId": "8fab9d9e-91cd-45f8-c944-dd5df398dbb4",
        "colab": {
          "base_uri": "https://localhost:8080/"
        }
      },
      "outputs": [
        {
          "output_type": "stream",
          "name": "stdout",
          "text": [
            "11\n",
            "11\n",
            "11\n"
          ]
        }
      ],
      "source": [
        "add()\n",
        "add()\n",
        "add()"
      ]
    },
    {
      "cell_type": "code",
      "execution_count": null,
      "id": "521f171b",
      "metadata": {
        "id": "521f171b"
      },
      "outputs": [],
      "source": [
        "def add(input1, input2):\n",
        "    print(input1 + input2)"
      ]
    },
    {
      "cell_type": "code",
      "execution_count": null,
      "id": "e7c42d8e",
      "metadata": {
        "id": "e7c42d8e",
        "outputId": "67ac03b6-9577-4c51-ce24-cce39f4d4709",
        "colab": {
          "base_uri": "https://localhost:8080/"
        }
      },
      "outputs": [
        {
          "output_type": "stream",
          "name": "stdout",
          "text": [
            "11\n"
          ]
        }
      ],
      "source": [
        "add(5, 6)"
      ]
    },
    {
      "cell_type": "code",
      "execution_count": null,
      "id": "a2b26ec2",
      "metadata": {
        "id": "a2b26ec2",
        "outputId": "0fb3f7e9-f18e-4dc2-9d41-44dff4bfc75a",
        "colab": {
          "base_uri": "https://localhost:8080/"
        }
      },
      "outputs": [
        {
          "output_type": "stream",
          "name": "stdout",
          "text": [
            "15\n"
          ]
        }
      ],
      "source": [
        "add(7, 8)"
      ]
    },
    {
      "cell_type": "markdown",
      "id": "197a3046",
      "metadata": {
        "id": "197a3046"
      },
      "source": [
        "* Helps us in customizing functions as per our needs.\n",
        "* No limit on the number of inputs that can be given to a function.\n",
        "* Input values are supplied while calling the function.\n",
        "\n"
      ]
    },
    {
      "cell_type": "markdown",
      "source": [
        "### Parameters and Arguments"
      ],
      "metadata": {
        "id": "FW6Fyq30Wv2X"
      },
      "id": "FW6Fyq30Wv2X"
    },
    {
      "cell_type": "markdown",
      "source": [
        "* A parameter is a variable defined by a method and gets values when the function is called.\n",
        "* An argument is a value passed to method during its call.\n",
        "* By default, arguments will be assigned to parameters in the order they are supplied."
      ],
      "metadata": {
        "id": "LDWVsjBVWsYJ"
      },
      "id": "LDWVsjBVWsYJ"
    },
    {
      "cell_type": "markdown",
      "id": "6e75a87e",
      "metadata": {
        "id": "6e75a87e"
      },
      "source": [
        "### Function outputs"
      ]
    },
    {
      "cell_type": "code",
      "execution_count": null,
      "id": "784eb9c6",
      "metadata": {
        "id": "784eb9c6",
        "outputId": "ed40643f-8da6-4207-88a6-962dc1c3227b",
        "colab": {
          "base_uri": "https://localhost:8080/"
        }
      },
      "outputs": [
        {
          "output_type": "stream",
          "name": "stdout",
          "text": [
            "\n"
          ]
        },
        {
          "output_type": "execute_result",
          "data": {
            "text/plain": [
              "NoneType"
            ]
          },
          "metadata": {},
          "execution_count": 20
        }
      ],
      "source": [
        "type(print())"
      ]
    },
    {
      "cell_type": "code",
      "execution_count": null,
      "id": "674d081e",
      "metadata": {
        "id": "674d081e",
        "outputId": "766b7648-275b-4bdb-ec4d-e0489901f183",
        "colab": {
          "base_uri": "https://localhost:8080/"
        }
      },
      "outputs": [
        {
          "name": "stdout",
          "output_type": "stream",
          "text": [
            "Enter a number:6\n"
          ]
        },
        {
          "output_type": "execute_result",
          "data": {
            "text/plain": [
              "str"
            ]
          },
          "metadata": {},
          "execution_count": 21
        }
      ],
      "source": [
        "type(input(\"Enter a number:\"))"
      ]
    },
    {
      "cell_type": "code",
      "execution_count": null,
      "id": "1fa89608",
      "metadata": {
        "id": "1fa89608",
        "outputId": "5973ccbd-e17b-4f76-d6dd-552941013b55",
        "colab": {
          "base_uri": "https://localhost:8080/"
        }
      },
      "outputs": [
        {
          "output_type": "execute_result",
          "data": {
            "text/plain": [
              "int"
            ]
          },
          "metadata": {},
          "execution_count": 22
        }
      ],
      "source": [
        "type(len([1, 2, 3, 4]))"
      ]
    },
    {
      "cell_type": "code",
      "execution_count": null,
      "id": "1add51a5",
      "metadata": {
        "id": "1add51a5",
        "outputId": "2f670765-2abc-4c49-f816-5b12516842e4",
        "colab": {
          "base_uri": "https://localhost:8080/"
        }
      },
      "outputs": [
        {
          "output_type": "stream",
          "name": "stdout",
          "text": [
            "7\n"
          ]
        },
        {
          "output_type": "execute_result",
          "data": {
            "text/plain": [
              "NoneType"
            ]
          },
          "metadata": {},
          "execution_count": 23
        }
      ],
      "source": [
        "type(add(3, 4))"
      ]
    },
    {
      "cell_type": "code",
      "execution_count": null,
      "id": "608b4e4c",
      "metadata": {
        "id": "608b4e4c",
        "outputId": "2b5dd78b-814f-44e6-fb52-e3236e3f8e2a",
        "colab": {
          "base_uri": "https://localhost:8080/"
        }
      },
      "outputs": [
        {
          "output_type": "stream",
          "name": "stdout",
          "text": [
            "7\n"
          ]
        }
      ],
      "source": [
        "x = add(3, 4)"
      ]
    },
    {
      "cell_type": "code",
      "execution_count": null,
      "id": "045e8853",
      "metadata": {
        "id": "045e8853"
      },
      "outputs": [],
      "source": [
        "x"
      ]
    },
    {
      "cell_type": "code",
      "execution_count": null,
      "id": "d8e00181",
      "metadata": {
        "id": "d8e00181",
        "outputId": "b1f6538a-3783-44c1-8eac-249941b62cfe",
        "colab": {
          "base_uri": "https://localhost:8080/"
        }
      },
      "outputs": [
        {
          "output_type": "execute_result",
          "data": {
            "text/plain": [
              "NoneType"
            ]
          },
          "metadata": {},
          "execution_count": 26
        }
      ],
      "source": [
        "type(x)"
      ]
    },
    {
      "cell_type": "markdown",
      "id": "9152480b",
      "metadata": {
        "id": "9152480b"
      },
      "source": [
        "* By default a function returns None\n",
        "* Variables defined inside function is not accessible outside\n",
        "* A value can be returned from a function using return keyword.\n"
      ]
    },
    {
      "cell_type": "code",
      "execution_count": null,
      "id": "ef058072",
      "metadata": {
        "id": "ef058072"
      },
      "outputs": [],
      "source": [
        "def add(input1, input2):\n",
        "    return input1 + input2"
      ]
    },
    {
      "cell_type": "code",
      "execution_count": null,
      "id": "a0e2f426",
      "metadata": {
        "id": "a0e2f426"
      },
      "outputs": [],
      "source": [
        "x = add(5, 6)"
      ]
    },
    {
      "cell_type": "code",
      "execution_count": null,
      "id": "a8d1ffd2",
      "metadata": {
        "id": "a8d1ffd2",
        "outputId": "d8d9af18-3d98-45b9-9f78-457ed26e4af1",
        "colab": {
          "base_uri": "https://localhost:8080/"
        }
      },
      "outputs": [
        {
          "output_type": "execute_result",
          "data": {
            "text/plain": [
              "11"
            ]
          },
          "metadata": {},
          "execution_count": 29
        }
      ],
      "source": [
        "x"
      ]
    },
    {
      "cell_type": "code",
      "execution_count": null,
      "id": "e8d4e9f2",
      "metadata": {
        "id": "e8d4e9f2",
        "outputId": "4e1a2b72-8677-40fa-e47a-aef6b093f9bc",
        "colab": {
          "base_uri": "https://localhost:8080/"
        }
      },
      "outputs": [
        {
          "output_type": "execute_result",
          "data": {
            "text/plain": [
              "int"
            ]
          },
          "metadata": {},
          "execution_count": 30
        }
      ],
      "source": [
        "type(x)"
      ]
    },
    {
      "cell_type": "code",
      "execution_count": null,
      "id": "baa4d75a",
      "metadata": {
        "id": "baa4d75a",
        "outputId": "3746f719-0f7b-47e9-d282-ecb65b80a638",
        "colab": {
          "base_uri": "https://localhost:8080/"
        }
      },
      "outputs": [
        {
          "output_type": "stream",
          "name": "stdout",
          "text": [
            "1. Deposit\n",
            "2. Withdraw\n",
            "3. Check balance\n",
            "4. Exit\n"
          ]
        },
        {
          "output_type": "execute_result",
          "data": {
            "text/plain": [
              "NoneType"
            ]
          },
          "metadata": {},
          "execution_count": 31
        }
      ],
      "source": [
        "type(get_banking_option())"
      ]
    },
    {
      "cell_type": "code",
      "execution_count": null,
      "id": "ac9a729a",
      "metadata": {
        "id": "ac9a729a"
      },
      "outputs": [],
      "source": [
        "def get_banking_option():  # function definition\n",
        "    print(\"1. Deposit\")\n",
        "    print(\"2. Withdraw\")\n",
        "    print(\"3. Check balance\")\n",
        "    print(\"4. Exit\")\n",
        "    choice = int(input(\"Enter your choice: \"))\n",
        "    return choice"
      ]
    },
    {
      "cell_type": "code",
      "execution_count": null,
      "id": "6c4c2a7a",
      "metadata": {
        "id": "6c4c2a7a",
        "outputId": "1540719c-c5bd-4796-8ff9-59381fb1f909",
        "colab": {
          "base_uri": "https://localhost:8080/"
        }
      },
      "outputs": [
        {
          "name": "stdout",
          "output_type": "stream",
          "text": [
            "1. Deposit\n",
            "2. Withdraw\n",
            "3. Check balance\n",
            "4. Exit\n",
            "Enter your choice: 1\n"
          ]
        },
        {
          "output_type": "execute_result",
          "data": {
            "text/plain": [
              "1"
            ]
          },
          "metadata": {},
          "execution_count": 34
        }
      ],
      "source": [
        "get_banking_option()"
      ]
    },
    {
      "cell_type": "code",
      "execution_count": null,
      "id": "aad2ff07",
      "metadata": {
        "id": "aad2ff07"
      },
      "outputs": [],
      "source": []
    },
    {
      "cell_type": "code",
      "execution_count": null,
      "id": "1c5705c7",
      "metadata": {
        "id": "1c5705c7"
      },
      "outputs": [],
      "source": [
        "balance = 0\n",
        "\n",
        "def print_banking_options():  # function definition\n",
        "    print(\"1. Deposit\")\n",
        "    print(\"2. Withdraw\")\n",
        "    print(\"3. Check balance\")\n",
        "    print(\"4. Exit\")\n",
        "    choice = int(input(\"Enter your choice: \"))\n",
        "    return choice\n",
        "\n",
        "def deposit():\n",
        "    amount = int(input(\"Enter deposit amount:\"))\n",
        "    balance += amount\n",
        "    \n",
        "def withdraw():\n",
        "    amount = int(input(\"Enter withdrawal amount:\"))\n",
        "    if balance >= amount:\n",
        "        balance -= amount\n",
        "    else:\n",
        "        print(\"Not enough balance\")\n",
        "        \n",
        "while True:\n",
        "    choice = print_banking_options()\n",
        "    if choice == 1:\n",
        "        deposit()\n",
        "    elif choice == 2:\n",
        "        withdraw()\n",
        "    elif choice == 3:\n",
        "        print(f\"Balance = {balance}\")\n",
        "    elif choice == 4:\n",
        "        print(\"Thankyou for banking with us.\")\n",
        "        break"
      ]
    },
    {
      "cell_type": "markdown",
      "source": [
        "### Specifying type of input parameter and return type"
      ],
      "metadata": {
        "id": "NBbMbvI5XfvI"
      },
      "id": "NBbMbvI5XfvI"
    },
    {
      "cell_type": "code",
      "execution_count": null,
      "id": "9e0a7d91",
      "metadata": {
        "id": "9e0a7d91"
      },
      "outputs": [],
      "source": [
        "def add(input1:int, input2:int)->int:\n",
        "    return input1 + input2"
      ]
    },
    {
      "cell_type": "code",
      "source": [
        "add(4, 5)"
      ],
      "metadata": {
        "colab": {
          "base_uri": "https://localhost:8080/"
        },
        "id": "eMrGHvx2X56Q",
        "outputId": "cdf32459-1160-4e1b-8ee0-acf3e6771eb3"
      },
      "id": "eMrGHvx2X56Q",
      "execution_count": null,
      "outputs": [
        {
          "output_type": "execute_result",
          "data": {
            "text/plain": [
              "9"
            ]
          },
          "metadata": {},
          "execution_count": 36
        }
      ]
    },
    {
      "cell_type": "code",
      "source": [
        "add('ab', 'bb')"
      ],
      "metadata": {
        "colab": {
          "base_uri": "https://localhost:8080/",
          "height": 36
        },
        "id": "LOv2yc7jX9e_",
        "outputId": "bf821284-795b-49ce-e77f-05b1e8a3d0b4"
      },
      "id": "LOv2yc7jX9e_",
      "execution_count": null,
      "outputs": [
        {
          "output_type": "execute_result",
          "data": {
            "text/plain": [
              "'abbb'"
            ],
            "application/vnd.google.colaboratory.intrinsic+json": {
              "type": "string"
            }
          },
          "metadata": {},
          "execution_count": 38
        }
      ]
    },
    {
      "cell_type": "code",
      "source": [
        "type(add('ab', 'bb'))"
      ],
      "metadata": {
        "id": "1l2Ix1BTyTGS",
        "outputId": "675033f8-556d-4c5c-a40d-d7f6fba3eddd",
        "colab": {
          "base_uri": "https://localhost:8080/"
        }
      },
      "id": "1l2Ix1BTyTGS",
      "execution_count": null,
      "outputs": [
        {
          "output_type": "execute_result",
          "data": {
            "text/plain": [
              "str"
            ]
          },
          "metadata": {},
          "execution_count": 39
        }
      ]
    },
    {
      "cell_type": "markdown",
      "source": [
        "Specifying the type of parameters doesn't reinforce it. It is for easy readability and understandability"
      ],
      "metadata": {
        "id": "CAeAsS_aYChv"
      },
      "id": "CAeAsS_aYChv"
    }
  ],
  "metadata": {
    "kernelspec": {
      "display_name": "Python 3",
      "language": "python",
      "name": "python3"
    },
    "language_info": {
      "codemirror_mode": {
        "name": "ipython",
        "version": 3
      },
      "file_extension": ".py",
      "mimetype": "text/x-python",
      "name": "python",
      "nbconvert_exporter": "python",
      "pygments_lexer": "ipython3",
      "version": "3.8.8"
    },
    "colab": {
      "provenance": []
    }
  },
  "nbformat": 4,
  "nbformat_minor": 5
}