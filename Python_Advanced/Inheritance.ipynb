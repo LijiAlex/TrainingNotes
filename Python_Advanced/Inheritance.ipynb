{
  "nbformat": 4,
  "nbformat_minor": 0,
  "metadata": {
    "colab": {
      "provenance": []
    },
    "kernelspec": {
      "name": "python3",
      "display_name": "Python 3"
    },
    "language_info": {
      "name": "python"
    }
  },
  "cells": [
    {
      "cell_type": "markdown",
      "source": [
        "## Python Inheritance"
      ],
      "metadata": {
        "id": "6poirYft5ci0"
      }
    },
    {
      "cell_type": "markdown",
      "source": [
        "Inheritance is an important aspect of the object-oriented paradigm. Inheritance provides code reusability to the program because we can use an existing class to create a new class instead of creating it from scratch. In inheritance, the child class acquires the properties and can access all the data members and functions defined in the parent class. "
      ],
      "metadata": {
        "id": "Nb0ARVi06Ra4"
      }
    },
    {
      "cell_type": "code",
      "execution_count": 111,
      "metadata": {
        "id": "_mdqSiV848Lk"
      },
      "outputs": [],
      "source": [
        "class Animal:\n",
        "  def eat(self):\n",
        "    print(\"Animal Eats\")\n",
        "\n",
        "  def walk(self):\n",
        "    print(\"Animal walks\")\n",
        "\n",
        "  def sleep(self):\n",
        "    print(\"Animal sleeps\")\n",
        "\n",
        "  def run(self):\n",
        "    print(f\"{self.__class__.__name__} runs\")"
      ]
    },
    {
      "cell_type": "code",
      "source": [
        "class Dog(Animal):\n",
        "  def bark(self):\n",
        "    print(\"Dog barks\")"
      ],
      "metadata": {
        "id": "sIsuwe_h7VnD"
      },
      "execution_count": 112,
      "outputs": []
    },
    {
      "cell_type": "code",
      "source": [
        "my_dog = Dog()"
      ],
      "metadata": {
        "id": "mc6t3gPH7dfn"
      },
      "execution_count": 113,
      "outputs": []
    },
    {
      "cell_type": "code",
      "source": [
        "my_dog.eat()"
      ],
      "metadata": {
        "colab": {
          "base_uri": "https://localhost:8080/"
        },
        "id": "xiPnodaYDcq9",
        "outputId": "cf4ee2e4-c9f7-49ef-95e8-e87e519a4280"
      },
      "execution_count": 114,
      "outputs": [
        {
          "output_type": "stream",
          "name": "stdout",
          "text": [
            "Animal Eats\n"
          ]
        }
      ]
    },
    {
      "cell_type": "code",
      "source": [
        "my_dog.bark()"
      ],
      "metadata": {
        "colab": {
          "base_uri": "https://localhost:8080/"
        },
        "id": "eYSRDROr7hx4",
        "outputId": "58b00aa9-ca72-43fc-b37d-f577ccf7b0c2"
      },
      "execution_count": 115,
      "outputs": [
        {
          "output_type": "stream",
          "name": "stdout",
          "text": [
            "Dog barks\n"
          ]
        }
      ]
    },
    {
      "cell_type": "code",
      "source": [
        "my_dog.__class__"
      ],
      "metadata": {
        "colab": {
          "base_uri": "https://localhost:8080/"
        },
        "id": "E0kh3VOqEDps",
        "outputId": "3209e9f0-ba15-4c68-8af7-364c10f8ec7c"
      },
      "execution_count": 116,
      "outputs": [
        {
          "output_type": "execute_result",
          "data": {
            "text/plain": [
              "__main__.Dog"
            ]
          },
          "metadata": {},
          "execution_count": 116
        }
      ]
    },
    {
      "cell_type": "code",
      "source": [
        "my_dog.__class__.__name__"
      ],
      "metadata": {
        "colab": {
          "base_uri": "https://localhost:8080/",
          "height": 36
        },
        "id": "rBlQNsEpEJpR",
        "outputId": "4b8841bb-ef23-4a4a-f88f-8ce822a9140e"
      },
      "execution_count": 117,
      "outputs": [
        {
          "output_type": "execute_result",
          "data": {
            "text/plain": [
              "'Dog'"
            ],
            "application/vnd.google.colaboratory.intrinsic+json": {
              "type": "string"
            }
          },
          "metadata": {},
          "execution_count": 117
        }
      ]
    },
    {
      "cell_type": "code",
      "source": [
        "an_animal = Animal()"
      ],
      "metadata": {
        "id": "xLnvsHc6ESGp"
      },
      "execution_count": 118,
      "outputs": []
    },
    {
      "cell_type": "code",
      "source": [
        "an_animal.run()"
      ],
      "metadata": {
        "colab": {
          "base_uri": "https://localhost:8080/"
        },
        "id": "RnF39WIxEVvM",
        "outputId": "90fcd233-dba5-4787-b592-a8de43b9e49f"
      },
      "execution_count": 119,
      "outputs": [
        {
          "output_type": "stream",
          "name": "stdout",
          "text": [
            "Animal runs\n"
          ]
        }
      ]
    },
    {
      "cell_type": "code",
      "source": [
        "my_dog.run()"
      ],
      "metadata": {
        "colab": {
          "base_uri": "https://localhost:8080/"
        },
        "id": "fbn_TZ4w79DB",
        "outputId": "d3fdac4c-bdb4-4bfd-855e-a9576501075e"
      },
      "execution_count": 120,
      "outputs": [
        {
          "output_type": "stream",
          "name": "stdout",
          "text": [
            "Dog runs\n"
          ]
        }
      ]
    },
    {
      "cell_type": "code",
      "source": [
        "class Cat(Animal):\n",
        "  pass"
      ],
      "metadata": {
        "id": "vRYMVrGK8rk-"
      },
      "execution_count": 121,
      "outputs": []
    },
    {
      "cell_type": "code",
      "source": [
        "my_cat = Cat()"
      ],
      "metadata": {
        "id": "VuKCJiiF8oFX"
      },
      "execution_count": 122,
      "outputs": []
    },
    {
      "cell_type": "code",
      "source": [
        "my_cat.run()"
      ],
      "metadata": {
        "colab": {
          "base_uri": "https://localhost:8080/"
        },
        "id": "0oP-7CZN8zkc",
        "outputId": "8e1c8c01-ab15-4f16-e0e4-9f5b34b8a73d"
      },
      "execution_count": 123,
      "outputs": [
        {
          "output_type": "stream",
          "name": "stdout",
          "text": [
            "Cat runs\n"
          ]
        }
      ]
    },
    {
      "cell_type": "markdown",
      "source": [
        "### Multi-Level inheritance"
      ],
      "metadata": {
        "id": "BHzQTKVD9M-P"
      }
    },
    {
      "cell_type": "markdown",
      "source": [
        "Multi-level inheritance is when a derived class inherits another derived class. There is no limit on the number of levels up to which, the multi-level inheritance is can happen in python."
      ],
      "metadata": {
        "id": "G2Z1bVoQ9muH"
      }
    },
    {
      "cell_type": "code",
      "source": [
        "class GoldenRetriever(Dog):\n",
        "  def shedding(self):\n",
        "    print(\"GoldenRetriever sheds a lot\")"
      ],
      "metadata": {
        "id": "59F9HgU_9VGY"
      },
      "execution_count": 124,
      "outputs": []
    },
    {
      "cell_type": "code",
      "source": [
        "goldy = GoldenRetriever()"
      ],
      "metadata": {
        "id": "Rh_yLvHE-bBp"
      },
      "execution_count": 125,
      "outputs": []
    },
    {
      "cell_type": "code",
      "source": [
        "goldy.shedding()"
      ],
      "metadata": {
        "colab": {
          "base_uri": "https://localhost:8080/"
        },
        "id": "sUwtEiUl-gA0",
        "outputId": "d51547b4-0f83-48f4-98b1-55938f8a6e8b"
      },
      "execution_count": 126,
      "outputs": [
        {
          "output_type": "stream",
          "name": "stdout",
          "text": [
            "GoldenRetriever sheds a lot\n"
          ]
        }
      ]
    },
    {
      "cell_type": "code",
      "source": [
        "goldy.bark()"
      ],
      "metadata": {
        "colab": {
          "base_uri": "https://localhost:8080/"
        },
        "id": "hORXNsXx-nwE",
        "outputId": "7ce0b088-32be-46be-a432-61ae0998bebc"
      },
      "execution_count": 127,
      "outputs": [
        {
          "output_type": "stream",
          "name": "stdout",
          "text": [
            "Dog barks\n"
          ]
        }
      ]
    },
    {
      "cell_type": "code",
      "source": [
        "goldy.run()"
      ],
      "metadata": {
        "colab": {
          "base_uri": "https://localhost:8080/"
        },
        "id": "yLHS1HBo-rdk",
        "outputId": "e054611b-4aa5-40a7-f926-cd12131973ce"
      },
      "execution_count": 128,
      "outputs": [
        {
          "output_type": "stream",
          "name": "stdout",
          "text": [
            "GoldenRetriever runs\n"
          ]
        }
      ]
    },
    {
      "cell_type": "markdown",
      "source": [
        "### Hierarchial Inheritance\n",
        "\n",
        "When more than one derived class are created from a single base this type of inheritance is called hierarchical inheritance."
      ],
      "metadata": {
        "id": "Pqypm_3ZmGmY"
      }
    },
    {
      "cell_type": "code",
      "source": [
        "class Lab(Dog):\n",
        "  def lazyness(self):\n",
        "    print(\"No walking today\")"
      ],
      "metadata": {
        "id": "z0CLNCfQmTiQ"
      },
      "execution_count": 129,
      "outputs": []
    },
    {
      "cell_type": "code",
      "source": [
        "laby = Lab()"
      ],
      "metadata": {
        "id": "kF9S0HKrmloz"
      },
      "execution_count": 130,
      "outputs": []
    },
    {
      "cell_type": "code",
      "source": [
        "laby.lazyness()"
      ],
      "metadata": {
        "colab": {
          "base_uri": "https://localhost:8080/"
        },
        "id": "jQQOqrPXmtXS",
        "outputId": "762161b9-45da-4a5c-ae38-171be0960ad8"
      },
      "execution_count": 131,
      "outputs": [
        {
          "output_type": "stream",
          "name": "stdout",
          "text": [
            "No walking today\n"
          ]
        }
      ]
    },
    {
      "cell_type": "code",
      "source": [
        "goldy.eat()"
      ],
      "metadata": {
        "colab": {
          "base_uri": "https://localhost:8080/"
        },
        "id": "xJ0sUrz9mxb7",
        "outputId": "04e03a45-abac-40e8-97b1-1088778f2e29"
      },
      "execution_count": 132,
      "outputs": [
        {
          "output_type": "stream",
          "name": "stdout",
          "text": [
            "Animal Eats\n"
          ]
        }
      ]
    },
    {
      "cell_type": "markdown",
      "source": [
        "### Multiple Inheritance\n",
        "\n",
        "Flexibility to inherit multiple base classes in the child class."
      ],
      "metadata": {
        "id": "g-M56xvCk3La"
      }
    },
    {
      "cell_type": "code",
      "source": [
        "class Mix(GoldenRetriever, Lab):\n",
        "  def special_quality(self):\n",
        "    print(\"I am a mix of both worlds\")"
      ],
      "metadata": {
        "id": "Zxl9MKL8mDU9"
      },
      "execution_count": 133,
      "outputs": []
    },
    {
      "cell_type": "code",
      "source": [
        "mixie = Mix()"
      ],
      "metadata": {
        "id": "VYh-_8Qjn4BC"
      },
      "execution_count": 134,
      "outputs": []
    },
    {
      "cell_type": "code",
      "source": [
        "mixie.shedding()\n",
        "mixie.lazyness()\n",
        "mixie.special_quality()"
      ],
      "metadata": {
        "colab": {
          "base_uri": "https://localhost:8080/"
        },
        "id": "ntqkE0n-n_r7",
        "outputId": "29d5b96f-ae9f-4902-9e9d-588e3f8c9b21"
      },
      "execution_count": 135,
      "outputs": [
        {
          "output_type": "stream",
          "name": "stdout",
          "text": [
            "GoldenRetriever sheds a lot\n",
            "No walking today\n",
            "I am a mix of both worlds\n"
          ]
        }
      ]
    },
    {
      "cell_type": "code",
      "source": [
        "mixie.run()"
      ],
      "metadata": {
        "colab": {
          "base_uri": "https://localhost:8080/"
        },
        "id": "Y6N0TxCPGo3n",
        "outputId": "3a1afd5d-3bfc-4516-bbd2-04997af71219"
      },
      "execution_count": 136,
      "outputs": [
        {
          "output_type": "stream",
          "name": "stdout",
          "text": [
            "Mix runs\n"
          ]
        }
      ]
    },
    {
      "cell_type": "markdown",
      "source": [
        "### Hybrid Inheritance\n",
        "\n",
        "Inheritance consisting of multiple types of inheritance is called hybrid inheritance."
      ],
      "metadata": {
        "id": "HPy4aTOaoLAH"
      }
    },
    {
      "cell_type": "markdown",
      "source": [
        "Benefits of inheritance are: \n",
        "* It represents real-world relationships well.\n",
        "* It provides the reusability of a code. We don’t have to write the same code again and again. Also, it allows us to add more features to a class without modifying it.\n",
        "* It is transitive in nature, which means that if class B inherits from another class A, then all the subclasses of B would automatically inherit from class A.\n",
        "* Inheritance offers a simple, understandable model structure. \n",
        "* Less development and maintenance expenses result from an inheritance. "
      ],
      "metadata": {
        "id": "4FJpbMl01yAZ"
      }
    },
    {
      "cell_type": "code",
      "source": [
        "mixie.__class__"
      ],
      "metadata": {
        "colab": {
          "base_uri": "https://localhost:8080/"
        },
        "id": "19vRL5BM2tRJ",
        "outputId": "1ab51533-e8b1-4255-afe4-f79438394cc4"
      },
      "execution_count": 137,
      "outputs": [
        {
          "output_type": "execute_result",
          "data": {
            "text/plain": [
              "__main__.Mix"
            ]
          },
          "metadata": {},
          "execution_count": 137
        }
      ]
    },
    {
      "cell_type": "code",
      "source": [
        "mixie.__class__.__bases__"
      ],
      "metadata": {
        "colab": {
          "base_uri": "https://localhost:8080/"
        },
        "id": "JiR1tvQC2WMp",
        "outputId": "7829a3fc-e12b-4aa9-f193-1885b24a4024"
      },
      "execution_count": 138,
      "outputs": [
        {
          "output_type": "execute_result",
          "data": {
            "text/plain": [
              "(__main__.GoldenRetriever, __main__.Lab)"
            ]
          },
          "metadata": {},
          "execution_count": 138
        }
      ]
    },
    {
      "cell_type": "code",
      "source": [
        "mixie.__class__.__bases__[0]"
      ],
      "metadata": {
        "colab": {
          "base_uri": "https://localhost:8080/"
        },
        "id": "vuC0pIaO22Qh",
        "outputId": "49c4ff2d-50a4-4ff0-9e9a-8896f1f11d3b"
      },
      "execution_count": 139,
      "outputs": [
        {
          "output_type": "execute_result",
          "data": {
            "text/plain": [
              "__main__.GoldenRetriever"
            ]
          },
          "metadata": {},
          "execution_count": 139
        }
      ]
    },
    {
      "cell_type": "code",
      "source": [
        "mixie.__class__.__bases__[0].__bases__"
      ],
      "metadata": {
        "colab": {
          "base_uri": "https://localhost:8080/"
        },
        "id": "CNKuiyvBH33D",
        "outputId": "9c65892f-9bdf-4027-8078-47da59a220c2"
      },
      "execution_count": 140,
      "outputs": [
        {
          "output_type": "execute_result",
          "data": {
            "text/plain": [
              "(__main__.Dog,)"
            ]
          },
          "metadata": {},
          "execution_count": 140
        }
      ]
    },
    {
      "cell_type": "markdown",
      "source": [
        "The isinstance() method is used to check the relationship between the objects and classes. It returns true if the first parameter, i.e., obj is the instance of the second parameter, i.e., class."
      ],
      "metadata": {
        "id": "pyr0ZB2y3jTk"
      }
    },
    {
      "cell_type": "code",
      "source": [
        "isinstance(mixie, Mix)"
      ],
      "metadata": {
        "colab": {
          "base_uri": "https://localhost:8080/"
        },
        "id": "DJIsOs-q3lZC",
        "outputId": "caef148e-19c4-4239-cbf0-6f54bd1e98f1"
      },
      "execution_count": 141,
      "outputs": [
        {
          "output_type": "execute_result",
          "data": {
            "text/plain": [
              "True"
            ]
          },
          "metadata": {},
          "execution_count": 141
        }
      ]
    },
    {
      "cell_type": "code",
      "source": [
        "isinstance(mixie, Dog)"
      ],
      "metadata": {
        "colab": {
          "base_uri": "https://localhost:8080/"
        },
        "id": "_n-X0MpK3lTR",
        "outputId": "45856689-e597-4fe7-e945-b47a1e481d2d"
      },
      "execution_count": 142,
      "outputs": [
        {
          "output_type": "execute_result",
          "data": {
            "text/plain": [
              "True"
            ]
          },
          "metadata": {},
          "execution_count": 142
        }
      ]
    },
    {
      "cell_type": "code",
      "source": [
        "isinstance(my_dog, Mix)"
      ],
      "metadata": {
        "colab": {
          "base_uri": "https://localhost:8080/"
        },
        "id": "8mbVaT1zIC7n",
        "outputId": "28a7ec17-3179-46a1-bab1-1ba9b61078fd"
      },
      "execution_count": 143,
      "outputs": [
        {
          "output_type": "execute_result",
          "data": {
            "text/plain": [
              "False"
            ]
          },
          "metadata": {},
          "execution_count": 143
        }
      ]
    },
    {
      "cell_type": "markdown",
      "source": [
        "The issubclass(sub, sup) method is used to check the relationships between the specified classes. It returns true if the first class is the subclass of the second class, and false otherwise."
      ],
      "metadata": {
        "id": "VsVmwSDP34D3"
      }
    },
    {
      "cell_type": "code",
      "source": [
        "issubclass(Lab, Dog)"
      ],
      "metadata": {
        "colab": {
          "base_uri": "https://localhost:8080/"
        },
        "id": "x4RueHyb35r-",
        "outputId": "1df86089-f730-44cc-c432-60b27a1abb20"
      },
      "execution_count": 144,
      "outputs": [
        {
          "output_type": "execute_result",
          "data": {
            "text/plain": [
              "True"
            ]
          },
          "metadata": {},
          "execution_count": 144
        }
      ]
    },
    {
      "cell_type": "code",
      "source": [
        "issubclass(Mix, Dog)"
      ],
      "metadata": {
        "colab": {
          "base_uri": "https://localhost:8080/"
        },
        "id": "Zg_x6wN-4GiY",
        "outputId": "9498af91-befd-4c28-f93a-56c4423c35fa"
      },
      "execution_count": 145,
      "outputs": [
        {
          "output_type": "execute_result",
          "data": {
            "text/plain": [
              "True"
            ]
          },
          "metadata": {},
          "execution_count": 145
        }
      ]
    },
    {
      "cell_type": "markdown",
      "source": [
        "### Method Overriding\n",
        "We can provide some specific implementation of the parent class method in our child class. When the parent class method is defined in the child class with some specific implementation, then the concept is called method overriding. We may need to perform method overriding in the scenario where the different definition of a parent class method is needed in the child class."
      ],
      "metadata": {
        "id": "iiwgGjh-4QyX"
      }
    },
    {
      "cell_type": "code",
      "source": [
        "class Animal:  \n",
        "    def speak(self):  \n",
        "        print(\"speaking\")  \n",
        "        \n",
        "class Dog(Animal):  \n",
        "    def speak(self):  \n",
        "        print(\"Barking\")  \n",
        "d = Dog()  \n",
        "d.speak()  "
      ],
      "metadata": {
        "colab": {
          "base_uri": "https://localhost:8080/"
        },
        "id": "Zd5Zwf-w4gl1",
        "outputId": "a53381a6-7d5f-4034-b409-f93b6365e13d"
      },
      "execution_count": 146,
      "outputs": [
        {
          "output_type": "stream",
          "name": "stdout",
          "text": [
            "Barking\n"
          ]
        }
      ]
    },
    {
      "cell_type": "code",
      "source": [
        "a = Animal()\n",
        "a.speak()"
      ],
      "metadata": {
        "colab": {
          "base_uri": "https://localhost:8080/"
        },
        "id": "_Ksf_i534knZ",
        "outputId": "e3c568e8-2cb8-40a8-def4-a0fa08059d16"
      },
      "execution_count": 147,
      "outputs": [
        {
          "output_type": "stream",
          "name": "stdout",
          "text": [
            "speaking\n"
          ]
        }
      ]
    },
    {
      "cell_type": "markdown",
      "source": [
        "### Calling constructors\n",
        "\n"
      ],
      "metadata": {
        "id": "yqZWk4CR-5yQ"
      }
    },
    {
      "cell_type": "code",
      "source": [
        "class Animal:\n",
        "  def __init__(self):\n",
        "    print(\"I am an animal\")\n",
        "    \n",
        "  def eat(self):\n",
        "    print(\"Animal Eats\")\n",
        "\n",
        "  def walk(self):\n",
        "    print(\"Animal walks\")\n",
        "\n",
        "  def sleep(self):\n",
        "    print(\"Animal sleeps\")"
      ],
      "metadata": {
        "id": "PlPwSiMw_LRg"
      },
      "execution_count": 148,
      "outputs": []
    },
    {
      "cell_type": "code",
      "source": [
        "class Dog(Animal):\n",
        "  def __init__(self):\n",
        "    print(\"I am a dog\")\n",
        "    super().__init__()\n",
        "\n",
        "  def bark(self):\n",
        "    print(\"Dog barks\")"
      ],
      "metadata": {
        "id": "Uowxf3tV_MYG"
      },
      "execution_count": 149,
      "outputs": []
    },
    {
      "cell_type": "code",
      "source": [
        "class GoldenRetriever(Dog):\n",
        "  def __init__(self):\n",
        "    print(\"I am a golden\")\n",
        "    super().__init__()\n",
        "\n",
        "  def shedding(self):\n",
        "    print(\"GoldenRetriever sheds a lot\")"
      ],
      "metadata": {
        "id": "XYLwjv2j_Rh1"
      },
      "execution_count": 150,
      "outputs": []
    },
    {
      "cell_type": "code",
      "source": [
        "class Lab(Dog):\n",
        "  def __init__(self):\n",
        "    print(\"I am a lab\")\n",
        "    super().__init__()\n",
        "\n",
        "  def lazyness(self):\n",
        "    print(\"No walking today\")"
      ],
      "metadata": {
        "id": "mdN4b-Kz_Wzn"
      },
      "execution_count": 151,
      "outputs": []
    },
    {
      "cell_type": "code",
      "source": [
        "class Mix(GoldenRetriever, Lab):\n",
        "  def __init__(self):\n",
        "    print(\"I am mix\")\n",
        "    super().__init__()\n",
        "\n",
        "  def special_quality(self):\n",
        "    print(\"I am a mix of both worlds\")"
      ],
      "metadata": {
        "id": "tG3X6TH9_bE6"
      },
      "execution_count": 152,
      "outputs": []
    },
    {
      "cell_type": "code",
      "source": [
        "mix_pup = Mix()"
      ],
      "metadata": {
        "colab": {
          "base_uri": "https://localhost:8080/"
        },
        "id": "cbJVrYbK_z5M",
        "outputId": "ce4ef6d8-bbbc-4c2c-c37f-6f43fb1659f7"
      },
      "execution_count": 153,
      "outputs": [
        {
          "output_type": "stream",
          "name": "stdout",
          "text": [
            "I am mix\n",
            "I am a golden\n",
            "I am a lab\n",
            "I am a dog\n",
            "I am an animal\n"
          ]
        }
      ]
    },
    {
      "cell_type": "markdown",
      "source": [
        "### Calling constructors with parameters"
      ],
      "metadata": {
        "id": "A436arRQNPFO"
      }
    },
    {
      "cell_type": "code",
      "source": [
        "class Animal:\n",
        "  def __init__(self, n):\n",
        "    print(\"I am an animal\")\n",
        "    self.name = n\n",
        "    \n",
        "  def eat(self):\n",
        "    print(\"Animal Eats\")\n",
        "\n",
        "  def walk(self):\n",
        "    print(\"Animal walks\")\n",
        "\n",
        "  def sleep(self):\n",
        "    print(\"Animal sleeps\")\n",
        "\n",
        "class Dog(Animal):\n",
        "  def __init__(self, name):\n",
        "    print(\"I am a dog\")\n",
        "    super().__init__(name)\n",
        "\n",
        "  def bark(self):\n",
        "    print(\"Dog barks\")\n",
        "\n",
        "class GoldenRetriever(Dog):\n",
        "  def __init__(self, name):\n",
        "    print(\"I am a golden\")\n",
        "    super().__init__(name)\n",
        "\n",
        "  def shedding(self):\n",
        "    print(\"GoldenRetriever sheds a lot\")\n",
        "\n",
        "class Lab(Dog):\n",
        "  def __init__(self, name):\n",
        "    print(\"I am a lab\")\n",
        "    super().__init__(name)\n",
        "\n",
        "  def lazyness(self):\n",
        "    print(\"No walking today\")\n",
        "\n",
        "class Mix(GoldenRetriever, Lab):\n",
        "  def __init__(self, name):\n",
        "    print(\"I am mix\")\n",
        "    super().__init__(name)\n",
        "\n",
        "  def special_quality(self):\n",
        "    print(\"I am a mix of both worlds\")\n",
        "\n",
        "\n"
      ],
      "metadata": {
        "id": "YhHJwqD6J769"
      },
      "execution_count": 154,
      "outputs": []
    },
    {
      "cell_type": "code",
      "source": [
        "m = Mix(\"bruno\")"
      ],
      "metadata": {
        "colab": {
          "base_uri": "https://localhost:8080/"
        },
        "id": "X3RI-bqLKeww",
        "outputId": "418cc114-5ec5-41cd-c6a7-86ffcc460c42"
      },
      "execution_count": 155,
      "outputs": [
        {
          "output_type": "stream",
          "name": "stdout",
          "text": [
            "I am mix\n",
            "I am a golden\n",
            "I am a lab\n",
            "I am a dog\n",
            "I am an animal\n"
          ]
        }
      ]
    },
    {
      "cell_type": "code",
      "source": [
        "m.name"
      ],
      "metadata": {
        "colab": {
          "base_uri": "https://localhost:8080/",
          "height": 36
        },
        "id": "9Adc1MieK31U",
        "outputId": "4090f10e-a674-468e-cb79-ff230a03e3f5"
      },
      "execution_count": 156,
      "outputs": [
        {
          "output_type": "execute_result",
          "data": {
            "text/plain": [
              "'bruno'"
            ],
            "application/vnd.google.colaboratory.intrinsic+json": {
              "type": "string"
            }
          },
          "metadata": {},
          "execution_count": 156
        }
      ]
    },
    {
      "cell_type": "code",
      "source": [
        "class Animal:\n",
        "  def __init__(self, n):\n",
        "    print(\"I am an animal\")\n",
        "    self.name = n\n",
        "    \n",
        "  def eat(self):\n",
        "    print(\"Animal Eats\")\n",
        "\n",
        "  def walk(self):\n",
        "    print(\"Animal walks\")\n",
        "\n",
        "  def sleep(self):\n",
        "    print(\"Animal sleeps\")\n",
        "\n",
        "class Dog(Animal):\n",
        "  def __init__(self, name, age):\n",
        "    print(\"I am a dog\")\n",
        "    self.age = age\n",
        "    super().__init__(name)\n",
        "\n",
        "  def bark(self):\n",
        "    print(\"Dog barks\")\n",
        "\n",
        "class GoldenRetriever(Dog):\n",
        "  def __init__(self, name, a, b):\n",
        "    print(\"I am a golden\")\n",
        "    self.behaviour = b\n",
        "    super().__init__(name, a)\n",
        "\n",
        "  def shedding(self):\n",
        "    print(\"GoldenRetriever sheds a lot\")"
      ],
      "metadata": {
        "id": "Fsc9PPUSL3oN"
      },
      "execution_count": 157,
      "outputs": []
    },
    {
      "cell_type": "code",
      "source": [
        "gold = GoldenRetriever(\"Goldy\", \"1\", \"docile\")"
      ],
      "metadata": {
        "colab": {
          "base_uri": "https://localhost:8080/"
        },
        "id": "EYmRH7i0MhkH",
        "outputId": "9ac097eb-16b1-4be6-a0de-af3490ef5d29"
      },
      "execution_count": 158,
      "outputs": [
        {
          "output_type": "stream",
          "name": "stdout",
          "text": [
            "I am a golden\n",
            "I am a dog\n",
            "I am an animal\n"
          ]
        }
      ]
    }
  ]
}