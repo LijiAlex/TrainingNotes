{
  "nbformat": 4,
  "nbformat_minor": 0,
  "metadata": {
    "colab": {
      "provenance": []
    },
    "kernelspec": {
      "name": "python3",
      "display_name": "Python 3"
    },
    "language_info": {
      "name": "python"
    }
  },
  "cells": [
    {
      "cell_type": "markdown",
      "source": [
        "# Abstraction\n",
        "\n",
        "* Abstraction is defined as a process of handling complexity by hiding unnecessary information from the user. \n",
        "* Abstraction is used to hide the internal functionality of the function from the users. \n",
        "* The users only interact with the basic implementation of the function, but inner working is hidden. \n",
        "* User is familiar with that \"what function does\" but they don't know \"how it does.\"\n",
        "\n",
        "Ex: smart phones, social media sites, shopping sites, Amazon Alexa etc"
      ],
      "metadata": {
        "id": "WFsaiIcRFXrv"
      }
    },
    {
      "cell_type": "markdown",
      "source": [
        "For a developer, abstraction is achieved through \n",
        "* Abstract Classes\n",
        "* Abstract methods\n",
        "\n",
        "### Abstract Method\n",
        "* An abstract method is a method that is declared, but does not contain implementation. \n",
        "* An abstract method in a base class identifies the functionality that should be implemented by all its subclasses. However, since the implementation of an abstract method would differ from one subclass to another, often the method body comprises just a pass statement. Every subclass of the base class will ride this method with its implementation. \n",
        "\n",
        "### Abstract Class\n",
        "A class containing abstract methods is called abstract class.\n",
        "* Abstraction classes are meant to be the blueprint of the other class. \n",
        "* An abstract class provides the standard interface for different implementations of components. "
      ],
      "metadata": {
        "id": "0oS_zt_8GTXN"
      }
    },
    {
      "cell_type": "code",
      "execution_count": null,
      "metadata": {
        "id": "AP7wOv6bFWY0"
      },
      "outputs": [],
      "source": [
        "class Shape:\n",
        "  def __init__(self, sides):\n",
        "    self.__no_of_sides = sides\n",
        "\n",
        "  def _area(self):\n",
        "    pass\n",
        "\n",
        "  def _perimeter(self):\n",
        "    pass\n",
        "\n",
        "  def _metaDetails(self):\n",
        "    print(f\"Shape = {self}\")\n",
        "    print(f\"No of sides = {self.__no_of_sides}\")\n",
        "\n",
        "  def _coreDetails(self):\n",
        "    print(f\"Area = {self._area()}\")\n",
        "    print(f\"Perimeter = {self._perimeter()}\")\n",
        "\n",
        "  def display(self):\n",
        "    self._metaDetails()\n",
        "    self._coreDetails()    \n",
        "\n",
        "  def __str__(self):\n",
        "    return self.__class__.__name__"
      ]
    },
    {
      "cell_type": "code",
      "source": [
        "s = Shape(5)\n",
        "s.display()"
      ],
      "metadata": {
        "colab": {
          "base_uri": "https://localhost:8080/"
        },
        "id": "XqxrDrp8KkS5",
        "outputId": "03e3a087-6a23-4b89-f052-df0341ad48c9"
      },
      "execution_count": null,
      "outputs": [
        {
          "output_type": "stream",
          "name": "stdout",
          "text": [
            "Shape = Shape\n",
            "No of sides = 5\n",
            "Area = None\n",
            "Perimeter = None\n"
          ]
        }
      ]
    },
    {
      "cell_type": "code",
      "source": [
        "class Rectangle(Shape):\n",
        "  def __init__(self):\n",
        "    super().__init__(4)"
      ],
      "metadata": {
        "id": "4qYRUx0hK2cJ"
      },
      "execution_count": null,
      "outputs": []
    },
    {
      "cell_type": "code",
      "source": [
        "r = Rectangle()\n",
        "r.display()"
      ],
      "metadata": {
        "colab": {
          "base_uri": "https://localhost:8080/"
        },
        "id": "7qCwj28pLIJw",
        "outputId": "388b9e53-ebc6-4270-fc5d-b98a400ab81c"
      },
      "execution_count": null,
      "outputs": [
        {
          "output_type": "stream",
          "name": "stdout",
          "text": [
            "Shape = Rectangle\n",
            "No of sides = 4\n",
            "Area = None\n",
            "Perimeter = None\n"
          ]
        }
      ]
    },
    {
      "cell_type": "markdown",
      "source": [
        "It will be very difficult to implement abstarction with the normal class structure. In order to implement abstarction in a class, we have to inherit it from the ABC class of abc module and specify the abstract methods."
      ],
      "metadata": {
        "id": "uy2twEuwLWK1"
      }
    },
    {
      "cell_type": "code",
      "source": [
        "from abc import ABC, abstractmethod\n",
        "\n",
        "class Shape(ABC):\n",
        "  def __init__(self, sides):\n",
        "    self.__no_of_sides = sides\n",
        "\n",
        "  @abstractmethod\n",
        "  def _area(self):\n",
        "    pass\n",
        "\n",
        "  @abstractmethod\n",
        "  def _perimeter(self):\n",
        "    pass\n",
        "\n",
        "  def _metaDetails(self):\n",
        "    print(f\"Shape = {self}\")\n",
        "    print(f\"No of sides = {self.__no_of_sides}\")\n",
        "\n",
        "  def _coreDetails(self):\n",
        "    print(f\"Area = {self._area()}\")\n",
        "    print(f\"Perimeter = {self._perimeter()}\")\n",
        "\n",
        "  @abstractmethod\n",
        "  def display(self):\n",
        "    self._metaDetails()\n",
        "    self._coreDetails()    \n",
        "\n",
        "  def __str__(self):\n",
        "    return self.__class__.__name__"
      ],
      "metadata": {
        "id": "7HsHI5IRLe4G"
      },
      "execution_count": null,
      "outputs": []
    },
    {
      "cell_type": "code",
      "source": [
        "s = Shape(5)\n",
        "s.display()"
      ],
      "metadata": {
        "colab": {
          "base_uri": "https://localhost:8080/",
          "height": 182
        },
        "id": "3I8_fVyrMRD7",
        "outputId": "0f11b0a3-ea5b-46bf-8d2d-dc74caf11a45"
      },
      "execution_count": null,
      "outputs": [
        {
          "output_type": "error",
          "ename": "TypeError",
          "evalue": "ignored",
          "traceback": [
            "\u001b[0;31m---------------------------------------------------------------------------\u001b[0m",
            "\u001b[0;31mTypeError\u001b[0m                                 Traceback (most recent call last)",
            "\u001b[0;32m<ipython-input-105-b34bb71d1a3c>\u001b[0m in \u001b[0;36m<module>\u001b[0;34m\u001b[0m\n\u001b[0;32m----> 1\u001b[0;31m \u001b[0ms\u001b[0m \u001b[0;34m=\u001b[0m \u001b[0mShape\u001b[0m\u001b[0;34m(\u001b[0m\u001b[0;36m5\u001b[0m\u001b[0;34m)\u001b[0m\u001b[0;34m\u001b[0m\u001b[0;34m\u001b[0m\u001b[0m\n\u001b[0m\u001b[1;32m      2\u001b[0m \u001b[0ms\u001b[0m\u001b[0;34m.\u001b[0m\u001b[0mdisplay\u001b[0m\u001b[0;34m(\u001b[0m\u001b[0;34m)\u001b[0m\u001b[0;34m\u001b[0m\u001b[0;34m\u001b[0m\u001b[0m\n",
            "\u001b[0;31mTypeError\u001b[0m: Can't instantiate abstract class Shape with abstract methods _area, _perimeter"
          ]
        }
      ]
    },
    {
      "cell_type": "code",
      "source": [
        "class Rectangle(Shape):\n",
        "  def __init__(self):\n",
        "    super().__init__(4)"
      ],
      "metadata": {
        "id": "fmN97drlMFsm"
      },
      "execution_count": null,
      "outputs": []
    },
    {
      "cell_type": "code",
      "source": [
        "r = Rectangle()\n",
        "r.display()"
      ],
      "metadata": {
        "colab": {
          "base_uri": "https://localhost:8080/",
          "height": 182
        },
        "id": "vysalVulMWQ9",
        "outputId": "8ea9925f-c1f1-4f92-a7b4-96588d37d95c"
      },
      "execution_count": null,
      "outputs": [
        {
          "output_type": "error",
          "ename": "TypeError",
          "evalue": "ignored",
          "traceback": [
            "\u001b[0;31m---------------------------------------------------------------------------\u001b[0m",
            "\u001b[0;31mTypeError\u001b[0m                                 Traceback (most recent call last)",
            "\u001b[0;32m<ipython-input-107-ff036fe1f2ac>\u001b[0m in \u001b[0;36m<module>\u001b[0;34m\u001b[0m\n\u001b[0;32m----> 1\u001b[0;31m \u001b[0mr\u001b[0m \u001b[0;34m=\u001b[0m \u001b[0mRectangle\u001b[0m\u001b[0;34m(\u001b[0m\u001b[0;34m)\u001b[0m\u001b[0;34m\u001b[0m\u001b[0;34m\u001b[0m\u001b[0m\n\u001b[0m\u001b[1;32m      2\u001b[0m \u001b[0mr\u001b[0m\u001b[0;34m.\u001b[0m\u001b[0mdisplay\u001b[0m\u001b[0;34m(\u001b[0m\u001b[0;34m)\u001b[0m\u001b[0;34m\u001b[0m\u001b[0;34m\u001b[0m\u001b[0m\n",
            "\u001b[0;31mTypeError\u001b[0m: Can't instantiate abstract class Rectangle with abstract methods _area, _perimeter"
          ]
        }
      ]
    },
    {
      "cell_type": "code",
      "source": [
        "class Rectangle(Shape):\n",
        "  def __init__(self, l, b):\n",
        "    self.__length = l\n",
        "    self.__breadth = b\n",
        "    super().__init__(4)\n",
        "\n",
        "  def _area(self):\n",
        "    return self.__length * self.__breadth \n",
        "\n",
        "  def _perimeter(self):\n",
        "    return 2*(self.__length + self.__breadth)\n",
        "    \n",
        "  def display(self):\n",
        "    self._metaDetails()\n",
        "    print(f\"Length = {self.__length}\")\n",
        "    print(f\"Breadth = {self.__breadth}\")\n",
        "    self._coreDetails()"
      ],
      "metadata": {
        "id": "Tj7f-dhENQlY"
      },
      "execution_count": null,
      "outputs": []
    },
    {
      "cell_type": "code",
      "source": [
        "r = Rectangle(5, 6)\n",
        "r.display()"
      ],
      "metadata": {
        "colab": {
          "base_uri": "https://localhost:8080/",
          "height": 182
        },
        "id": "hcOA8JMyOW69",
        "outputId": "b581b5d7-e09b-4766-8c3d-45577fc85c94"
      },
      "execution_count": null,
      "outputs": [
        {
          "output_type": "error",
          "ename": "TypeError",
          "evalue": "ignored",
          "traceback": [
            "\u001b[0;31m---------------------------------------------------------------------------\u001b[0m",
            "\u001b[0;31mTypeError\u001b[0m                                 Traceback (most recent call last)",
            "\u001b[0;32m<ipython-input-119-902496fb316f>\u001b[0m in \u001b[0;36m<module>\u001b[0;34m\u001b[0m\n\u001b[0;32m----> 1\u001b[0;31m \u001b[0mr\u001b[0m \u001b[0;34m=\u001b[0m \u001b[0mRectangle\u001b[0m\u001b[0;34m(\u001b[0m\u001b[0;36m5\u001b[0m\u001b[0;34m,\u001b[0m \u001b[0;36m6\u001b[0m\u001b[0;34m)\u001b[0m\u001b[0;34m\u001b[0m\u001b[0;34m\u001b[0m\u001b[0m\n\u001b[0m\u001b[1;32m      2\u001b[0m \u001b[0mr\u001b[0m\u001b[0;34m.\u001b[0m\u001b[0mdisplay\u001b[0m\u001b[0;34m(\u001b[0m\u001b[0;34m)\u001b[0m\u001b[0;34m\u001b[0m\u001b[0;34m\u001b[0m\u001b[0m\n",
            "\u001b[0;31mTypeError\u001b[0m: Can't instantiate abstract class Rectangle with abstract methods display"
          ]
        }
      ]
    },
    {
      "cell_type": "markdown",
      "source": [
        "Abtract methods may or may not having some implementation in it"
      ],
      "metadata": {
        "id": "HPwFlxzxTvKH"
      }
    },
    {
      "cell_type": "markdown",
      "source": [
        "# Polymorphism\n",
        "\n",
        "Polymorphism means having many forms."
      ],
      "metadata": {
        "id": "k0cM9l3wUYFv"
      }
    },
    {
      "cell_type": "markdown",
      "source": [
        "### Polymorphism in operators"
      ],
      "metadata": {
        "id": "poEi9K_CUsk3"
      }
    },
    {
      "cell_type": "code",
      "source": [
        "5 + 6"
      ],
      "metadata": {
        "colab": {
          "base_uri": "https://localhost:8080/"
        },
        "id": "sazzMKjBTt-T",
        "outputId": "d1bb6e8e-3ce5-43ed-8596-203df714484e"
      },
      "execution_count": null,
      "outputs": [
        {
          "output_type": "execute_result",
          "data": {
            "text/plain": [
              "11"
            ]
          },
          "metadata": {},
          "execution_count": 120
        }
      ]
    },
    {
      "cell_type": "code",
      "source": [
        "\"5\" + \"6\""
      ],
      "metadata": {
        "colab": {
          "base_uri": "https://localhost:8080/",
          "height": 36
        },
        "id": "JdrRJSO0UoN-",
        "outputId": "332d4964-7cbd-4f16-e8ec-ecceb6353dae"
      },
      "execution_count": null,
      "outputs": [
        {
          "output_type": "execute_result",
          "data": {
            "text/plain": [
              "'56'"
            ],
            "application/vnd.google.colaboratory.intrinsic+json": {
              "type": "string"
            }
          },
          "metadata": {},
          "execution_count": 121
        }
      ]
    },
    {
      "cell_type": "code",
      "source": [
        "5 * 6"
      ],
      "metadata": {
        "colab": {
          "base_uri": "https://localhost:8080/"
        },
        "id": "0KoNvyT2UwwV",
        "outputId": "73d20478-c03f-4512-ae2f-2b0c75bd5562"
      },
      "execution_count": null,
      "outputs": [
        {
          "output_type": "execute_result",
          "data": {
            "text/plain": [
              "30"
            ]
          },
          "metadata": {},
          "execution_count": 122
        }
      ]
    },
    {
      "cell_type": "code",
      "source": [
        "\"5\" * 6"
      ],
      "metadata": {
        "colab": {
          "base_uri": "https://localhost:8080/",
          "height": 36
        },
        "id": "7Q9dvDj3UzbJ",
        "outputId": "54053cf9-136e-4e9e-9b2f-c36a7fd4c2e2"
      },
      "execution_count": null,
      "outputs": [
        {
          "output_type": "execute_result",
          "data": {
            "text/plain": [
              "'555555'"
            ],
            "application/vnd.google.colaboratory.intrinsic+json": {
              "type": "string"
            }
          },
          "metadata": {},
          "execution_count": 123
        }
      ]
    },
    {
      "cell_type": "markdown",
      "source": [
        "### Polymorphism in built-in fuctions\n",
        "\n"
      ],
      "metadata": {
        "id": "eaNenzFZU4ET"
      }
    },
    {
      "cell_type": "code",
      "source": [
        "print(5, 6)"
      ],
      "metadata": {
        "colab": {
          "base_uri": "https://localhost:8080/"
        },
        "id": "4NoqITAK5KkK",
        "outputId": "4d800e40-9913-4085-95ed-f3894cc83298"
      },
      "execution_count": null,
      "outputs": [
        {
          "output_type": "stream",
          "name": "stdout",
          "text": [
            "5 6\n"
          ]
        }
      ]
    },
    {
      "cell_type": "code",
      "source": [
        "print(f\"5 6\")"
      ],
      "metadata": {
        "colab": {
          "base_uri": "https://localhost:8080/"
        },
        "id": "P3hmerRJ5O7N",
        "outputId": "2b3ea521-7edd-41a5-853d-677e69d149cd"
      },
      "execution_count": null,
      "outputs": [
        {
          "output_type": "stream",
          "name": "stdout",
          "text": [
            "5 6\n"
          ]
        }
      ]
    },
    {
      "cell_type": "code",
      "source": [
        "len('Python')"
      ],
      "metadata": {
        "colab": {
          "base_uri": "https://localhost:8080/"
        },
        "id": "M3fgNIOaU_BR",
        "outputId": "02d4d2d0-b811-4b13-e1a9-e761b743d009"
      },
      "execution_count": null,
      "outputs": [
        {
          "output_type": "execute_result",
          "data": {
            "text/plain": [
              "6"
            ]
          },
          "metadata": {},
          "execution_count": 124
        }
      ]
    },
    {
      "cell_type": "code",
      "source": [
        "len([1, 2, 3, 4])"
      ],
      "metadata": {
        "colab": {
          "base_uri": "https://localhost:8080/"
        },
        "id": "98dcWmdvVEhF",
        "outputId": "d6757a7f-6edb-4634-9b1e-334af480b6b9"
      },
      "execution_count": null,
      "outputs": [
        {
          "output_type": "execute_result",
          "data": {
            "text/plain": [
              "4"
            ]
          },
          "metadata": {},
          "execution_count": 125
        }
      ]
    },
    {
      "cell_type": "markdown",
      "source": [
        "### Polymorphism in methods"
      ],
      "metadata": {
        "id": "xXA6-T38WruO"
      }
    },
    {
      "cell_type": "code",
      "source": [
        "def add(*numbers):\n",
        "  print(\"I am in function1\")\n",
        "  return sum(numbers)"
      ],
      "metadata": {
        "id": "p55Rupi_VUG7"
      },
      "execution_count": null,
      "outputs": []
    },
    {
      "cell_type": "code",
      "source": [
        "def add(msg, *numbers):\n",
        "  return f\"{msg} {sum(numbers)}\""
      ],
      "metadata": {
        "id": "zU3WlVnxWL0F"
      },
      "execution_count": null,
      "outputs": []
    },
    {
      "cell_type": "code",
      "source": [
        "add(5,6)"
      ],
      "metadata": {
        "colab": {
          "base_uri": "https://localhost:8080/"
        },
        "id": "RfCPcocsVo7D",
        "outputId": "32b01d78-5a71-4130-f494-1cd5781a7afd"
      },
      "execution_count": null,
      "outputs": [
        {
          "output_type": "stream",
          "name": "stdout",
          "text": [
            "I am in function1\n"
          ]
        },
        {
          "output_type": "execute_result",
          "data": {
            "text/plain": [
              "11"
            ]
          },
          "metadata": {},
          "execution_count": 133
        }
      ]
    },
    {
      "cell_type": "code",
      "source": [
        "add(5, 6, 7, 8, 9)"
      ],
      "metadata": {
        "colab": {
          "base_uri": "https://localhost:8080/"
        },
        "id": "26zg8pUHVzfL",
        "outputId": "04522634-6015-470d-cff8-a10bcb43a6ed"
      },
      "execution_count": null,
      "outputs": [
        {
          "output_type": "stream",
          "name": "stdout",
          "text": [
            "I am in function1\n"
          ]
        },
        {
          "output_type": "execute_result",
          "data": {
            "text/plain": [
              "35"
            ]
          },
          "metadata": {},
          "execution_count": 134
        }
      ]
    },
    {
      "cell_type": "code",
      "source": [
        "add(\"Sum =\", 1, 2, 3, 4, 5, 6, 7)"
      ],
      "metadata": {
        "colab": {
          "base_uri": "https://localhost:8080/",
          "height": 36
        },
        "id": "UD9PpgiPWZN7",
        "outputId": "1d43633b-05af-4f9f-db7b-2dfb2561639c"
      },
      "execution_count": null,
      "outputs": [
        {
          "output_type": "execute_result",
          "data": {
            "text/plain": [
              "'Sum = 28'"
            ],
            "application/vnd.google.colaboratory.intrinsic+json": {
              "type": "string"
            }
          },
          "metadata": {},
          "execution_count": 136
        }
      ]
    },
    {
      "cell_type": "markdown",
      "source": [
        "### Polymorphism with class methods"
      ],
      "metadata": {
        "id": "3cCGk9UBWxmO"
      }
    },
    {
      "cell_type": "code",
      "source": [
        "class Java:\n",
        "  def define(self):\n",
        "    print(\"Mobile App Development and Backend developemnt\")\n",
        "\n",
        "class CPP:\n",
        "  def define(self):\n",
        "    print(\"System Programming and Game Development\")\n",
        "\n",
        "class JavaScript:\n",
        "  def define(self):\n",
        "    print(\"Web Applications\")\n",
        "\n",
        "class Python:\n",
        "  def define(self):\n",
        "    print(\"AI, ML, Backend, Web APP\")"
      ],
      "metadata": {
        "id": "YslOrerXW1IE"
      },
      "execution_count": null,
      "outputs": []
    },
    {
      "cell_type": "code",
      "source": [
        "j = Java()\n",
        "c= CPP()\n",
        "js = JavaScript()\n",
        "p = Python()"
      ],
      "metadata": {
        "id": "rKG-hLvqX5ye"
      },
      "execution_count": null,
      "outputs": []
    },
    {
      "cell_type": "code",
      "source": [
        "j.define()"
      ],
      "metadata": {
        "colab": {
          "base_uri": "https://localhost:8080/"
        },
        "id": "lIgXS-TWYDaV",
        "outputId": "781d081e-3fd4-422b-b879-b1e6ccb4ccee"
      },
      "execution_count": null,
      "outputs": [
        {
          "output_type": "stream",
          "name": "stdout",
          "text": [
            "Mobile App Development and Backend developemnt\n"
          ]
        }
      ]
    },
    {
      "cell_type": "code",
      "source": [
        "c.define()"
      ],
      "metadata": {
        "colab": {
          "base_uri": "https://localhost:8080/"
        },
        "id": "7BOvfj7TYDT0",
        "outputId": "d098b7b0-935f-4d07-ef3c-3bb48f42c781"
      },
      "execution_count": null,
      "outputs": [
        {
          "output_type": "stream",
          "name": "stdout",
          "text": [
            "System Programming and Game Development\n"
          ]
        }
      ]
    },
    {
      "cell_type": "markdown",
      "source": [
        "### Polymorphism with Inheritance"
      ],
      "metadata": {
        "id": "8joOL-sOYIR3"
      }
    },
    {
      "cell_type": "code",
      "source": [
        "class Python:\n",
        "  def define(self):\n",
        "    print(\"AI, ML, Backend, Web APP\")\n",
        "\n",
        "class Django(Python):\n",
        "  def define(self):\n",
        "    print(\"Web APP\")"
      ],
      "metadata": {
        "id": "mTIvr4WHYcvL"
      },
      "execution_count": null,
      "outputs": []
    },
    {
      "cell_type": "code",
      "source": [
        "p = Python()\n",
        "d = Django()"
      ],
      "metadata": {
        "id": "ns_JB-xwYo7F"
      },
      "execution_count": null,
      "outputs": []
    },
    {
      "cell_type": "code",
      "source": [
        "p.define()"
      ],
      "metadata": {
        "colab": {
          "base_uri": "https://localhost:8080/"
        },
        "id": "Lmg80HPnYvYn",
        "outputId": "f0949fcb-9289-4624-c32a-feafda784bd3"
      },
      "execution_count": null,
      "outputs": [
        {
          "output_type": "stream",
          "name": "stdout",
          "text": [
            "AI, ML, Backend, Web APP\n"
          ]
        }
      ]
    },
    {
      "cell_type": "code",
      "source": [
        "d.define()"
      ],
      "metadata": {
        "colab": {
          "base_uri": "https://localhost:8080/"
        },
        "id": "AeD2gPnKYyI7",
        "outputId": "d8f68bf6-7262-4647-8aec-c8ba1e70b168"
      },
      "execution_count": null,
      "outputs": [
        {
          "output_type": "stream",
          "name": "stdout",
          "text": [
            "Web APP\n"
          ]
        }
      ]
    },
    {
      "cell_type": "markdown",
      "source": [
        "### Polymorphism with objects"
      ],
      "metadata": {
        "id": "DhB5Y0ZzZQXO"
      }
    },
    {
      "cell_type": "code",
      "source": [
        "class Python:\n",
        "  def define(self):\n",
        "   return \"AI, ML, Backend, Web APP\"\n",
        "\n",
        "  def __str__(self):\n",
        "    return f\"{self.__class__.__name__}: {self.define()}\"\n",
        "\n",
        "class Django(Python):\n",
        "  def define(self):\n",
        "    return \"Web APP\""
      ],
      "metadata": {
        "id": "aWyzn89QZTla"
      },
      "execution_count": null,
      "outputs": []
    },
    {
      "cell_type": "code",
      "source": [
        "p = Python()\n",
        "d = Django()"
      ],
      "metadata": {
        "id": "-qwYeDyFaOtF"
      },
      "execution_count": null,
      "outputs": []
    },
    {
      "cell_type": "code",
      "source": [
        "print(p)"
      ],
      "metadata": {
        "colab": {
          "base_uri": "https://localhost:8080/"
        },
        "id": "5hvs5VPaaQZS",
        "outputId": "3e332a54-ca50-4523-f59c-0f4e9da75674"
      },
      "execution_count": null,
      "outputs": [
        {
          "output_type": "stream",
          "name": "stdout",
          "text": [
            "Python: AI, ML, Backend, Web APP\n"
          ]
        }
      ]
    },
    {
      "cell_type": "code",
      "source": [
        "print(d)"
      ],
      "metadata": {
        "colab": {
          "base_uri": "https://localhost:8080/"
        },
        "id": "a1x749pqaQSx",
        "outputId": "f816277b-a738-43dc-8781-3bcb485ab89a"
      },
      "execution_count": null,
      "outputs": [
        {
          "output_type": "stream",
          "name": "stdout",
          "text": [
            "Django: Web APP\n"
          ]
        }
      ]
    }
  ]
}