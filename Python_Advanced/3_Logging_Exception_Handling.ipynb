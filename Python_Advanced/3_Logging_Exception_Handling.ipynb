{
  "nbformat": 4,
  "nbformat_minor": 0,
  "metadata": {
    "colab": {
      "provenance": []
    },
    "kernelspec": {
      "name": "python3",
      "display_name": "Python 3"
    },
    "language_info": {
      "name": "python"
    }
  },
  "cells": [
    {
      "cell_type": "markdown",
      "source": [
        "# Logging"
      ],
      "metadata": {
        "id": "iJbgmbd7WYXt"
      }
    },
    {
      "cell_type": "markdown",
      "source": [
        "Logs provide developers with an extra set of eyes. \n",
        "\n",
        "By logging useful data from the right places,\n",
        "1. if an error occurs, logs can provide insights into the state of the program was before it arrived at the line of code where the error occurred.\n",
        "2.  We can also use this data to analyze the performance of the application to plan for scaling or look at usage patterns to plan for marketing.\n",
        "\n",
        "Python provides a logging system as a part of its standard library, so you can quickly add logging to your application."
      ],
      "metadata": {
        "id": "MAzCCQuHPKzQ"
      }
    },
    {
      "cell_type": "code",
      "execution_count": null,
      "metadata": {
        "id": "l4Lyu1NBO64p"
      },
      "outputs": [],
      "source": [
        "import logging"
      ]
    },
    {
      "cell_type": "markdown",
      "source": [
        "By default, there are 5 standard levels indicating the severity of events. Each has a corresponding method that can be used to log events at that level of severity. The defined levels, in order of increasing severity, are the following:\n",
        "\n",
        "* DEBUG\n",
        "* INFO\n",
        "* WARNING\n",
        "* ERROR\n",
        "* CRITICAL"
      ],
      "metadata": {
        "id": "r5tVxkz-QcOY"
      }
    },
    {
      "cell_type": "code",
      "source": [
        "logging.debug('This is a debug message')\n",
        "logging.info('This is an info message')\n",
        "logging.warning('This is a warning message')\n",
        "logging.error('This is an error message')\n",
        "logging.critical('This is a critical message')"
      ],
      "metadata": {
        "colab": {
          "base_uri": "https://localhost:8080/"
        },
        "id": "8pe-t5_lQiPl",
        "outputId": "b47e5e84-c1eb-4de1-cd85-ba05f445d122"
      },
      "execution_count": null,
      "outputs": [
        {
          "output_type": "stream",
          "name": "stderr",
          "text": [
            "WARNING:root:This is a warning message\n",
            "ERROR:root:This is an error message\n",
            "CRITICAL:root:This is a critical message\n"
          ]
        }
      ]
    },
    {
      "cell_type": "markdown",
      "source": [
        "Notice that the debug() and info() messages didn’t get logged. This is because, by default, the logging module logs the messages with a severity level of WARNING or above. You can change that by configuring the logging module to log events of all levels if you want."
      ],
      "metadata": {
        "id": "01A5vlEIRT6l"
      }
    },
    {
      "cell_type": "markdown",
      "source": [
        "You can use the basicConfig(**kwargs) method to configure the logging:\n",
        "\n",
        "Some of the commonly used parameters for basicConfig() are the following:\n",
        "\n",
        "* level: The root logger will be set to the specified severity level.\n",
        "* filename: This specifies the file.\n",
        "* filemode: If filename is given, the file is opened in this mode. The default is a, which means append.\n",
        "* format: This is the format of the log message."
      ],
      "metadata": {
        "id": "hDURGfNfRcQX"
      }
    },
    {
      "cell_type": "code",
      "source": [
        "logger = logging.getLogger()\n",
        "logger.setLevel(logging.DEBUG)"
      ],
      "metadata": {
        "id": "dJBsSoG0RpCZ"
      },
      "execution_count": null,
      "outputs": []
    },
    {
      "cell_type": "code",
      "source": [
        "logging.basicConfig(filename='app.log', filemode='w', format='%(name)s - %(levelname)s - %(message)s')\n",
        "logging.warning('This will get logged to a file')"
      ],
      "metadata": {
        "id": "OVZ3EnHkRuL_",
        "outputId": "98abfeaf-6646-4fd9-8f6d-bb59bc2f965d",
        "colab": {
          "base_uri": "https://localhost:8080/"
        }
      },
      "execution_count": null,
      "outputs": [
        {
          "output_type": "stream",
          "name": "stderr",
          "text": [
            "WARNING:root:This will get logged to a file\n"
          ]
        }
      ]
    },
    {
      "cell_type": "markdown",
      "source": [
        "# Exception Handling"
      ],
      "metadata": {
        "id": "v03XEsyZWcAt"
      }
    },
    {
      "cell_type": "markdown",
      "source": [
        "An exception is an unexpected event that occurs during program execution. "
      ],
      "metadata": {
        "id": "pSKmVWX0W2e7"
      }
    },
    {
      "cell_type": "code",
      "source": [
        "num = int(input(\"Enter number\"))\n",
        "divide_by_zero = 7 / num"
      ],
      "metadata": {
        "colab": {
          "base_uri": "https://localhost:8080/",
          "height": 200
        },
        "id": "i_NpqyZsWgEZ",
        "outputId": "91dae4bc-3006-40e4-da9f-0ddd334860e1"
      },
      "execution_count": null,
      "outputs": [
        {
          "name": "stdout",
          "output_type": "stream",
          "text": [
            "Enter number0\n"
          ]
        },
        {
          "output_type": "error",
          "ename": "ZeroDivisionError",
          "evalue": "ignored",
          "traceback": [
            "\u001b[0;31m---------------------------------------------------------------------------\u001b[0m",
            "\u001b[0;31mZeroDivisionError\u001b[0m                         Traceback (most recent call last)",
            "\u001b[0;32m<ipython-input-6-692ec7e42766>\u001b[0m in \u001b[0;36m<module>\u001b[0;34m\u001b[0m\n\u001b[1;32m      1\u001b[0m \u001b[0mnum\u001b[0m \u001b[0;34m=\u001b[0m \u001b[0mint\u001b[0m\u001b[0;34m(\u001b[0m\u001b[0minput\u001b[0m\u001b[0;34m(\u001b[0m\u001b[0;34m\"Enter number\"\u001b[0m\u001b[0;34m)\u001b[0m\u001b[0;34m)\u001b[0m\u001b[0;34m\u001b[0m\u001b[0;34m\u001b[0m\u001b[0m\n\u001b[0;32m----> 2\u001b[0;31m \u001b[0mdivide_by_zero\u001b[0m \u001b[0;34m=\u001b[0m \u001b[0;36m7\u001b[0m \u001b[0;34m/\u001b[0m \u001b[0mnum\u001b[0m\u001b[0;34m\u001b[0m\u001b[0;34m\u001b[0m\u001b[0m\n\u001b[0m",
            "\u001b[0;31mZeroDivisionError\u001b[0m: division by zero"
          ]
        }
      ]
    },
    {
      "cell_type": "markdown",
      "source": [
        "Errors that occur at runtime (after passing the syntax test) are called exceptions or logical errors.\n",
        "\n",
        "For instance, they occur when we\n",
        "\n",
        "* try to open a file(for reading) that does not exist (FileNotFoundError)\n",
        "* try to divide a number by zero (ZeroDivisionError)\n",
        "* try to import a module that does not exist (ImportError) and so on.\n",
        "Whenever these types of runtime errors occur, Python creates an exception object.\n",
        "\n",
        "If not handled properly, it prints a traceback to that error along with some details about why that error occurred."
      ],
      "metadata": {
        "id": "5UeIaJr7XSjg"
      }
    },
    {
      "cell_type": "markdown",
      "source": [
        "**Python Error and Exception**\n",
        "Errors represent conditions such as compilation error, syntax error, error in the logical part of the code, library incompatibility, infinite recursion, etc.\n",
        "\n",
        "Exceptions can be caught and handled by the program."
      ],
      "metadata": {
        "id": "wNY-2WGNXlIC"
      }
    },
    {
      "cell_type": "code",
      "source": [
        "try:\n",
        "    numerator = 10\n",
        "    denominator = 0\n",
        "\n",
        "    result = numerator/denominator\n",
        "\n",
        "    print(result)\n",
        "except:\n",
        "    print(\"Error: Denominator cannot be 0.\")"
      ],
      "metadata": {
        "colab": {
          "base_uri": "https://localhost:8080/"
        },
        "id": "l0jfk3IkXLom",
        "outputId": "7088b6bf-1a37-42e1-f1cb-1a19ab34f07d"
      },
      "execution_count": null,
      "outputs": [
        {
          "output_type": "stream",
          "name": "stdout",
          "text": [
            "Error: Denominator cannot be 0.\n"
          ]
        }
      ]
    },
    {
      "cell_type": "code",
      "source": [
        "try:\n",
        "    numerator = 10\n",
        "    denominator = 0\n",
        "\n",
        "    result = numerator/denominator\n",
        "\n",
        "    print(result)\n",
        "except Exception as e:\n",
        "    print(e)"
      ],
      "metadata": {
        "colab": {
          "base_uri": "https://localhost:8080/"
        },
        "id": "dAkK3_gxn9Rg",
        "outputId": "b8374cc1-8c0e-4550-a363-bab61a843760"
      },
      "execution_count": null,
      "outputs": [
        {
          "output_type": "stream",
          "name": "stdout",
          "text": [
            "division by zero\n"
          ]
        }
      ]
    },
    {
      "cell_type": "markdown",
      "source": [
        "To handle the exception, we have put the code, result = numerator/denominator inside the try block. Now when an exception occurs, the rest of the code inside the try block is skipped.\n",
        "\n",
        "The except block catches the exception and statements inside the except block are executed.\n",
        "\n",
        "If none of the statements in the try block generates an exception, the except block is skipped."
      ],
      "metadata": {
        "id": "KhvfBvp2X8CA"
      }
    },
    {
      "cell_type": "code",
      "source": [
        "try:\n",
        "    denominator = 4\n",
        "    even_numbers = [2,4,6,8]\n",
        "    print(even_numbers[9]/denominator)\n",
        "\n",
        "except ZeroDivisionError:\n",
        "    print(\"Denominator cannot be 0.\")\n",
        "    \n",
        "except IndexError:\n",
        "    print(\"Index Out of Bound.\")"
      ],
      "metadata": {
        "colab": {
          "base_uri": "https://localhost:8080/"
        },
        "id": "gTZrziriX95V",
        "outputId": "c34d274c-6771-4bf7-88e9-1e8c287429b9"
      },
      "execution_count": null,
      "outputs": [
        {
          "output_type": "stream",
          "name": "stdout",
          "text": [
            "Index Out of Bound.\n"
          ]
        }
      ]
    },
    {
      "cell_type": "code",
      "source": [
        "try:\n",
        "    denominator = \"hgfhgfh\"\n",
        "    even_numbers = [2,4,6,8]\n",
        "    print(even_numbers[1]/denominator)\n",
        "\n",
        "except ZeroDivisionError:\n",
        "    print(\"Denominator cannot be 0.\")\n",
        "    \n",
        "except IndexError:\n",
        "    print(\"Index Out of Bound.\")\n",
        "\n",
        "except Exception:\n",
        "    print(\"Error\")"
      ],
      "metadata": {
        "colab": {
          "base_uri": "https://localhost:8080/"
        },
        "id": "-zRy-TMIoSQY",
        "outputId": "24bfaffe-a7ac-475d-fc77-69418c6f2003"
      },
      "execution_count": null,
      "outputs": [
        {
          "output_type": "stream",
          "name": "stdout",
          "text": [
            "Error\n"
          ]
        }
      ]
    },
    {
      "cell_type": "markdown",
      "source": [
        "In some situations, we might want to run a certain block of code if the code block inside try runs without any errors."
      ],
      "metadata": {
        "id": "QmresxNeYsfq"
      }
    },
    {
      "cell_type": "code",
      "source": [
        "try:\n",
        "    denominator = 1\n",
        "    even_numbers = [2,4,6,8]\n",
        "    print(even_numbers[1]/denominator)\n",
        "\n",
        "except ZeroDivisionError:\n",
        "    print(\"Denominator cannot be 0.\")\n",
        "    \n",
        "except IndexError:\n",
        "    print(\"Index Out of Bound.\")\n",
        "\n",
        "else:\n",
        "  print(\"Ran without an error\")"
      ],
      "metadata": {
        "id": "-xDvGPxBYlpt",
        "colab": {
          "base_uri": "https://localhost:8080/"
        },
        "outputId": "c28f4edc-00bc-4123-fe12-f492c9c83693"
      },
      "execution_count": null,
      "outputs": [
        {
          "output_type": "stream",
          "name": "stdout",
          "text": [
            "4.0\n",
            "Ran without an error\n"
          ]
        }
      ]
    },
    {
      "cell_type": "markdown",
      "source": [
        "In Python, the finally block is always executed no matter whether there is an exception or not."
      ],
      "metadata": {
        "id": "rdKp8ikyYzFg"
      }
    },
    {
      "cell_type": "code",
      "source": [
        "try:\n",
        "    numerator = 10\n",
        "    denominator = 1\n",
        "\n",
        "    result = numerator/denominator\n",
        "\n",
        "    print(result)\n",
        "except:\n",
        "    print(\"Error: Denominator cannot be 0.\")\n",
        "else:\n",
        "    print(\"No error\")    \n",
        "finally:\n",
        "    print(\"This is finally block.\")"
      ],
      "metadata": {
        "colab": {
          "base_uri": "https://localhost:8080/"
        },
        "id": "7dW_NHSyY0Ie",
        "outputId": "1fbd75cd-7fad-4a02-8fc1-455b1e0a0fa5"
      },
      "execution_count": null,
      "outputs": [
        {
          "output_type": "stream",
          "name": "stdout",
          "text": [
            "10.0\n",
            "No error\n",
            "This is finally block.\n"
          ]
        }
      ]
    },
    {
      "cell_type": "markdown",
      "source": [
        "# User defined exception\n",
        "\n"
      ],
      "metadata": {
        "id": "iWv6mZTPZ3bz"
      }
    },
    {
      "cell_type": "code",
      "source": [
        "class MyError(Exception):\n",
        "\n",
        "\t# Constructor or Initializer\n",
        "\tdef __init__(self, value):\n",
        "\t\tself.value = value\n",
        "\n",
        "\t# __str__ is to print() the value\n",
        "\tdef __str__(self):\n",
        "\t\treturn(repr(self.value))\n",
        "\n",
        "\n",
        "try:\n",
        "\traise(MyError(3*2))\n",
        "\n",
        "# Value of Exception is stored in error\n",
        "except MyError as error:\n",
        "\tprint('A New Exception occurred: ', error.value)\n"
      ],
      "metadata": {
        "id": "mo_ipxtWaDGm"
      },
      "execution_count": null,
      "outputs": []
    }
  ]
}