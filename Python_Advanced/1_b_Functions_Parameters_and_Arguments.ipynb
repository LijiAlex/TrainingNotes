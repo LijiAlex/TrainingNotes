{
  "cells": [
    {
      "cell_type": "markdown",
      "id": "c9bf6adf",
      "metadata": {
        "id": "c9bf6adf"
      },
      "source": [
        "* A parameter is a variable defined by a method.\n",
        "* An argument is a value passed to method during its call.\n",
        "* By default, arguments will be assigned to parameters in the order they are supplied."
      ]
    },
    {
      "cell_type": "markdown",
      "id": "47fc3b5f",
      "metadata": {
        "id": "47fc3b5f"
      },
      "source": [
        "### Positional Arguments\n",
        "Position of arguments in function call determines how it is assigned to parameters."
      ]
    },
    {
      "cell_type": "code",
      "execution_count": null,
      "id": "dc05f19b",
      "metadata": {
        "id": "dc05f19b"
      },
      "outputs": [],
      "source": [
        "def student(name,age, grade, section):\n",
        "    print(f\"Name = {name}\")\n",
        "    print(f\"Age = {age}\")\n",
        "    print(f\"Grade = {grade}\")\n",
        "    print(f\"Section = {section}\")"
      ]
    },
    {
      "cell_type": "code",
      "execution_count": null,
      "id": "a2f34b25",
      "metadata": {
        "colab": {
          "base_uri": "https://localhost:8080/"
        },
        "id": "a2f34b25",
        "outputId": "8adae076-5020-4a1d-8a15-440fb98c879e"
      },
      "outputs": [
        {
          "output_type": "stream",
          "name": "stdout",
          "text": [
            "Name = Sony\n",
            "Age = 17\n",
            "Grade = 12\n",
            "Section = B\n"
          ]
        }
      ],
      "source": [
        "student(\"Sony\", 17, 12, 'B')"
      ]
    },
    {
      "cell_type": "code",
      "source": [
        "student(\"Sony\", 'B', 12, 17)"
      ],
      "metadata": {
        "colab": {
          "base_uri": "https://localhost:8080/"
        },
        "id": "na6F6i_KbnbV",
        "outputId": "a0e5d449-8498-4d04-ec90-aeec1516e036"
      },
      "id": "na6F6i_KbnbV",
      "execution_count": null,
      "outputs": [
        {
          "output_type": "stream",
          "name": "stdout",
          "text": [
            "Name = Sony\n",
            "Age = B\n",
            "Grade = 12\n",
            "Section = 17\n"
          ]
        }
      ]
    },
    {
      "cell_type": "markdown",
      "id": "034990fc",
      "metadata": {
        "id": "034990fc"
      },
      "source": [
        "### Keyword Arguments\n",
        "\n",
        "Arguments can be passed in the form of key-value pair.In that case order of arguments doesn't matter."
      ]
    },
    {
      "cell_type": "code",
      "execution_count": null,
      "id": "98937178",
      "metadata": {
        "colab": {
          "base_uri": "https://localhost:8080/"
        },
        "id": "98937178",
        "outputId": "a6926380-be7e-45bc-f03d-3a44669da8a8"
      },
      "outputs": [
        {
          "output_type": "stream",
          "name": "stdout",
          "text": [
            "Name = Sony\n",
            "Age = 17\n",
            "Grade = C\n",
            "Section = B\n"
          ]
        }
      ],
      "source": [
        "student(name=\"Sony\", section='B', age=17, grade='C')"
      ]
    },
    {
      "cell_type": "markdown",
      "id": "961480b4",
      "metadata": {
        "id": "961480b4"
      },
      "source": [
        "* Make sure argument names and parameter names are same.\n",
        "* keyword arguments should always come after positional argument.\n",
        "* we cannot specify values for an argument more than once"
      ]
    },
    {
      "cell_type": "code",
      "execution_count": null,
      "id": "bc08f0ae",
      "metadata": {
        "id": "bc08f0ae",
        "outputId": "da02dd96-4fd9-4256-b651-f45d255f9221",
        "colab": {
          "base_uri": "https://localhost:8080/"
        }
      },
      "outputs": [
        {
          "output_type": "stream",
          "name": "stdout",
          "text": [
            "Name = Sony\n",
            "Age = 17\n",
            "Grade = C\n",
            "Section = B\n"
          ]
        }
      ],
      "source": [
        "student(\"Sony\", section='B', age=17, grade='C')"
      ]
    },
    {
      "cell_type": "code",
      "execution_count": null,
      "id": "1e6f27c6",
      "metadata": {
        "id": "1e6f27c6",
        "outputId": "5779fc73-fb71-4b60-faba-dea1623fa410",
        "colab": {
          "base_uri": "https://localhost:8080/"
        }
      },
      "outputs": [
        {
          "output_type": "stream",
          "name": "stdout",
          "text": [
            "Name = Sony\n",
            "Age = 17\n",
            "Grade = C\n",
            "Section = B\n"
          ]
        }
      ],
      "source": [
        "student(\"Sony\", 17, section='B', grade='C')"
      ]
    },
    {
      "cell_type": "code",
      "execution_count": null,
      "id": "8f30e6bc",
      "metadata": {
        "id": "8f30e6bc",
        "outputId": "b7a20c94-9970-4221-9b77-d48d8d2b02c3",
        "colab": {
          "base_uri": "https://localhost:8080/",
          "height": 130
        }
      },
      "outputs": [
        {
          "output_type": "error",
          "ename": "SyntaxError",
          "evalue": "ignored",
          "traceback": [
            "\u001b[0;36m  File \u001b[0;32m\"<ipython-input-10-0504ba6ebb1e>\"\u001b[0;36m, line \u001b[0;32m1\u001b[0m\n\u001b[0;31m    student(section='B', grade='C', \"Sony\", 17)\u001b[0m\n\u001b[0m                                    ^\u001b[0m\n\u001b[0;31mSyntaxError\u001b[0m\u001b[0;31m:\u001b[0m positional argument follows keyword argument\n"
          ]
        }
      ],
      "source": [
        "student(section='B', grade='C', \"Sony\", 17)"
      ]
    },
    {
      "cell_type": "code",
      "execution_count": null,
      "id": "cd8524e1",
      "metadata": {
        "id": "cd8524e1",
        "outputId": "cfa25164-58a1-4def-8d25-29ac6fd4a9b6",
        "colab": {
          "base_uri": "https://localhost:8080/",
          "height": 165
        }
      },
      "outputs": [
        {
          "output_type": "error",
          "ename": "TypeError",
          "evalue": "ignored",
          "traceback": [
            "\u001b[0;31m---------------------------------------------------------------------------\u001b[0m",
            "\u001b[0;31mTypeError\u001b[0m                                 Traceback (most recent call last)",
            "\u001b[0;32m<ipython-input-11-557faa1c70a7>\u001b[0m in \u001b[0;36m<module>\u001b[0;34m\u001b[0m\n\u001b[0;32m----> 1\u001b[0;31m \u001b[0mstudent\u001b[0m\u001b[0;34m(\u001b[0m\u001b[0;34m\"Sony\"\u001b[0m\u001b[0;34m,\u001b[0m \u001b[0;36m17\u001b[0m\u001b[0;34m,\u001b[0m \u001b[0mage\u001b[0m\u001b[0;34m=\u001b[0m\u001b[0;36m16\u001b[0m\u001b[0;34m,\u001b[0m \u001b[0msection\u001b[0m\u001b[0;34m=\u001b[0m\u001b[0;34m'B'\u001b[0m\u001b[0;34m,\u001b[0m \u001b[0mgrade\u001b[0m\u001b[0;34m=\u001b[0m\u001b[0;34m'C'\u001b[0m\u001b[0;34m)\u001b[0m\u001b[0;34m\u001b[0m\u001b[0;34m\u001b[0m\u001b[0m\n\u001b[0m",
            "\u001b[0;31mTypeError\u001b[0m: student() got multiple values for argument 'age'"
          ]
        }
      ],
      "source": [
        "student(\"Sony\", 17, age=16, section='B', grade='C')"
      ]
    },
    {
      "cell_type": "markdown",
      "id": "eda7257a",
      "metadata": {
        "id": "eda7257a"
      },
      "source": [
        "### Default arguments\n",
        "\n",
        "A parameter having default value in function header is known as default parameter.\n",
        "\n",
        "* It is optional to supply value for default parameter through function call.\n",
        "* Non default parameter cannot follow default parameter."
      ]
    },
    {
      "cell_type": "code",
      "execution_count": null,
      "id": "64ea0913",
      "metadata": {
        "id": "64ea0913"
      },
      "outputs": [],
      "source": [
        "def student(name, age, grade, section='A'):\n",
        "    print(f\"Name = {name}\")\n",
        "    print(f\"Age = {age}\")\n",
        "    print(f\"Grade = {grade}\")\n",
        "    print(f\"Section = {section}\")"
      ]
    },
    {
      "cell_type": "code",
      "execution_count": null,
      "id": "fd33cc8a",
      "metadata": {
        "colab": {
          "base_uri": "https://localhost:8080/"
        },
        "id": "fd33cc8a",
        "outputId": "0ff0ee12-05d5-41aa-994e-7757c446d7bc"
      },
      "outputs": [
        {
          "output_type": "stream",
          "name": "stdout",
          "text": [
            "Name = Sony\n",
            "Age = 17\n",
            "Grade = 12\n",
            "Section = A\n"
          ]
        }
      ],
      "source": [
        "student(\"Sony\", 17, 12)"
      ]
    },
    {
      "cell_type": "code",
      "execution_count": null,
      "id": "8c951170",
      "metadata": {
        "colab": {
          "base_uri": "https://localhost:8080/"
        },
        "id": "8c951170",
        "outputId": "f1106af3-8e4c-4c51-e5ed-b913b7d2e0a0"
      },
      "outputs": [
        {
          "output_type": "stream",
          "name": "stdout",
          "text": [
            "Name = Sony\n",
            "Age = 17\n",
            "Grade = 12\n",
            "Section = C\n"
          ]
        }
      ],
      "source": [
        "student(\"Sony\", 17, 12, 'C')"
      ]
    },
    {
      "cell_type": "code",
      "execution_count": null,
      "id": "d648bc7e",
      "metadata": {
        "colab": {
          "base_uri": "https://localhost:8080/"
        },
        "id": "d648bc7e",
        "outputId": "4c3f0f03-f737-4bd0-d99a-ccc9188d534c"
      },
      "outputs": [
        {
          "output_type": "stream",
          "name": "stdout",
          "text": [
            "Name = Sony\n",
            "Age = 17\n",
            "Grade = C\n",
            "Section = B\n"
          ]
        }
      ],
      "source": [
        "student(\"Sony\", 17, section='B', grade='C')"
      ]
    },
    {
      "cell_type": "code",
      "execution_count": null,
      "id": "6cadf035",
      "metadata": {
        "colab": {
          "base_uri": "https://localhost:8080/"
        },
        "id": "6cadf035",
        "outputId": "2d88267f-9998-40fa-cbfb-9f803aec2529"
      },
      "outputs": [
        {
          "output_type": "stream",
          "name": "stdout",
          "text": [
            "Name = Sony\n",
            "Age = 17\n",
            "Grade = C\n",
            "Section = A\n"
          ]
        }
      ],
      "source": [
        "student(\"Sony\", 17, grade='C')"
      ]
    },
    {
      "cell_type": "code",
      "source": [
        "def student(name, age, section='A', grade):\n",
        "    print(f\"Name = {name}\")\n",
        "    print(f\"Age = {age}\")\n",
        "    print(f\"Grade = {grade}\")\n",
        "    print(f\"Section = {section}\")"
      ],
      "metadata": {
        "colab": {
          "base_uri": "https://localhost:8080/",
          "height": 130
        },
        "id": "tzO3nX1jc2fy",
        "outputId": "ff3ae951-b8d7-4bd7-88c8-b62096f6a4c1"
      },
      "id": "tzO3nX1jc2fy",
      "execution_count": null,
      "outputs": [
        {
          "output_type": "error",
          "ename": "SyntaxError",
          "evalue": "ignored",
          "traceback": [
            "\u001b[0;36m  File \u001b[0;32m\"<ipython-input-17-30faba6c5c1a>\"\u001b[0;36m, line \u001b[0;32m1\u001b[0m\n\u001b[0;31m    def student(name, age, section='A', grade):\u001b[0m\n\u001b[0m                ^\u001b[0m\n\u001b[0;31mSyntaxError\u001b[0m\u001b[0;31m:\u001b[0m non-default argument follows default argument\n"
          ]
        }
      ]
    },
    {
      "cell_type": "markdown",
      "id": "84964f34",
      "metadata": {
        "id": "84964f34"
      },
      "source": [
        "### Arbitrary Arguments, *args\n",
        "\n",
        "If you do not know how many arguments that will be passed into your function, add a * before the parameter name in the function definition. This way the function will receive a tuple of arguments."
      ]
    },
    {
      "cell_type": "code",
      "execution_count": null,
      "id": "1fdc8b89",
      "metadata": {
        "id": "1fdc8b89"
      },
      "outputs": [],
      "source": [
        "def student(*args):\n",
        "    print(args)\n",
        "    print(type(args))"
      ]
    },
    {
      "cell_type": "code",
      "execution_count": null,
      "id": "5b2f03a0",
      "metadata": {
        "colab": {
          "base_uri": "https://localhost:8080/"
        },
        "id": "5b2f03a0",
        "outputId": "f89781dc-ebe7-4712-dcc7-79c9581b53ed"
      },
      "outputs": [
        {
          "output_type": "stream",
          "name": "stdout",
          "text": [
            "('ansuman', 'kaira', 'annie', 'ram')\n",
            "<class 'tuple'>\n"
          ]
        }
      ],
      "source": [
        "student(\"ansuman\", \"kaira\", \"annie\", \"ram\")"
      ]
    },
    {
      "cell_type": "code",
      "execution_count": null,
      "id": "ed005042",
      "metadata": {
        "id": "ed005042"
      },
      "outputs": [],
      "source": [
        "def student(*names):\n",
        "    print(names)\n",
        "    for name in names:\n",
        "        print(name)"
      ]
    },
    {
      "cell_type": "code",
      "execution_count": null,
      "id": "6d74712f",
      "metadata": {
        "colab": {
          "base_uri": "https://localhost:8080/"
        },
        "id": "6d74712f",
        "outputId": "8ca7f72c-a471-4b44-af76-830b8149b426"
      },
      "outputs": [
        {
          "output_type": "stream",
          "name": "stdout",
          "text": [
            "('ansuman', 'kaira', 'annie', 'ram')\n",
            "ansuman\n",
            "kaira\n",
            "annie\n",
            "ram\n"
          ]
        }
      ],
      "source": [
        "student(\"ansuman\", \"kaira\", \"annie\", \"ram\")"
      ]
    },
    {
      "cell_type": "code",
      "execution_count": null,
      "id": "a31c34f7",
      "metadata": {
        "colab": {
          "base_uri": "https://localhost:8080/"
        },
        "id": "a31c34f7",
        "outputId": "a226d10a-b7ad-4042-c1b0-43e6fb7e9e7e"
      },
      "outputs": [
        {
          "output_type": "stream",
          "name": "stdout",
          "text": [
            "('ansuman', 'kaira', 'annie', 'akash', 'spide', 'marshall', 'bhim')\n",
            "ansuman\n",
            "kaira\n",
            "annie\n",
            "akash\n",
            "spide\n",
            "marshall\n",
            "bhim\n"
          ]
        }
      ],
      "source": [
        "student(\"ansuman\", \"kaira\", \"annie\", \"akash\", \"spide\", \"marshall\", \"bhim\")"
      ]
    },
    {
      "cell_type": "code",
      "execution_count": null,
      "id": "b05244a5",
      "metadata": {
        "id": "b05244a5"
      },
      "outputs": [],
      "source": [
        "def student(*names, age, grade= 12, section='A'):\n",
        "    print(f\"Name = {names}\")\n",
        "    print(f\"Age = {age}\")\n",
        "    print(f\"Grade = {grade}\")\n",
        "    print(f\"Section = {section}\")"
      ]
    },
    {
      "cell_type": "code",
      "execution_count": null,
      "id": "0cfbe65d",
      "metadata": {
        "colab": {
          "base_uri": "https://localhost:8080/"
        },
        "id": "0cfbe65d",
        "outputId": "16159944-2320-45f8-ff82-0670a4da713d"
      },
      "outputs": [
        {
          "output_type": "stream",
          "name": "stdout",
          "text": [
            "Name = ('ansuman', 'kaira', 'annie', 'akash', 'spide', 'marshall', 'bhim')\n",
            "Age = 17\n",
            "Grade = 12\n",
            "Section = A\n"
          ]
        }
      ],
      "source": [
        "student(\"ansuman\", \"kaira\", \"annie\", \"akash\", \"spide\", \"marshall\", \"bhim\", age = 17)"
      ]
    },
    {
      "cell_type": "code",
      "execution_count": null,
      "id": "b2b40d34",
      "metadata": {
        "colab": {
          "base_uri": "https://localhost:8080/",
          "height": 165
        },
        "id": "b2b40d34",
        "outputId": "d6c99756-f70d-4da0-9848-93cb2f524f5d"
      },
      "outputs": [
        {
          "output_type": "error",
          "ename": "TypeError",
          "evalue": "ignored",
          "traceback": [
            "\u001b[0;31m---------------------------------------------------------------------------\u001b[0m",
            "\u001b[0;31mTypeError\u001b[0m                                 Traceback (most recent call last)",
            "\u001b[0;32m<ipython-input-32-b285a7a078c1>\u001b[0m in \u001b[0;36m<module>\u001b[0;34m\u001b[0m\n\u001b[0;32m----> 1\u001b[0;31m \u001b[0mstudent\u001b[0m\u001b[0;34m(\u001b[0m\u001b[0;34m\"ansuman\"\u001b[0m\u001b[0;34m,\u001b[0m \u001b[0;34m\"kaira\"\u001b[0m\u001b[0;34m,\u001b[0m \u001b[0;34m\"annie\"\u001b[0m\u001b[0;34m,\u001b[0m \u001b[0;34m\"akash\"\u001b[0m\u001b[0;34m,\u001b[0m \u001b[0;34m\"spide\"\u001b[0m\u001b[0;34m,\u001b[0m \u001b[0;34m\"marshall\"\u001b[0m\u001b[0;34m,\u001b[0m \u001b[0;34m\"bhim\"\u001b[0m\u001b[0;34m,\u001b[0m \u001b[0;36m17\u001b[0m\u001b[0;34m)\u001b[0m\u001b[0;34m\u001b[0m\u001b[0;34m\u001b[0m\u001b[0m\n\u001b[0m",
            "\u001b[0;31mTypeError\u001b[0m: student() missing 1 required keyword-only argument: 'age'"
          ]
        }
      ],
      "source": [
        "student(\"ansuman\", \"kaira\", \"annie\", \"akash\", \"spide\", \"marshall\", \"bhim\", 17)"
      ]
    },
    {
      "cell_type": "markdown",
      "source": [
        "* any positional argument has to be specified before arbitary arguments"
      ],
      "metadata": {
        "id": "Q0ff9_jrfvn3"
      },
      "id": "Q0ff9_jrfvn3"
    },
    {
      "cell_type": "code",
      "execution_count": null,
      "id": "27321c50",
      "metadata": {
        "id": "27321c50"
      },
      "outputs": [],
      "source": [
        "def student(age, *names, grade= 12, section='A'):\n",
        "    print(f\"Name = {names[0]}\")\n",
        "    print(f\"Age = {age}\")\n",
        "    print(f\"Grade = {grade}\")\n",
        "    print(f\"Section = {section}\")"
      ]
    },
    {
      "cell_type": "code",
      "execution_count": null,
      "id": "9331d792",
      "metadata": {
        "colab": {
          "base_uri": "https://localhost:8080/"
        },
        "id": "9331d792",
        "outputId": "d052562f-d4c3-472a-dc91-ecb479f4fffa"
      },
      "outputs": [
        {
          "output_type": "stream",
          "name": "stdout",
          "text": [
            "Name = ansuman\n",
            "Age = 17\n",
            "Grade = 12\n",
            "Section = A\n"
          ]
        }
      ],
      "source": [
        "student(17, \"ansuman\", \"kaira\", \"annie\", \"akash\", \"spide\", \"marshall\", \"bhim\")"
      ]
    },
    {
      "cell_type": "markdown",
      "id": "a24b4754",
      "metadata": {
        "id": "a24b4754"
      },
      "source": [
        "### Arbitary keyword arguments, **kwargs\n",
        "Pass arbitary key, value pair (keyword) arguments."
      ]
    },
    {
      "cell_type": "code",
      "execution_count": null,
      "id": "bcfe13d6",
      "metadata": {
        "id": "bcfe13d6"
      },
      "outputs": [],
      "source": [
        "def student(**kwargs):\n",
        "    print(kwargs)\n",
        "    print(type(kwargs))\n",
        "    print(f\"Name = {kwargs['name']}\")\n",
        "    print(f\"Age = {kwargs['age']}\")\n",
        "    print(f\"Grade = {kwargs['grade']}\")\n",
        "    print(f\"Section = {kwargs['section']}\")"
      ]
    },
    {
      "cell_type": "code",
      "execution_count": null,
      "id": "1ea68428",
      "metadata": {
        "colab": {
          "base_uri": "https://localhost:8080/"
        },
        "id": "1ea68428",
        "outputId": "f9faddee-e90d-4cb4-8cdf-feb7a2b82d8d"
      },
      "outputs": [
        {
          "output_type": "stream",
          "name": "stdout",
          "text": [
            "{'name': 'Sony', 'section': 'B', 'age': 17, 'grade': 'C'}\n",
            "<class 'dict'>\n",
            "Name = Sony\n",
            "Age = 17\n",
            "Grade = C\n",
            "Section = B\n"
          ]
        }
      ],
      "source": [
        "student(name=\"Sony\", section='B', age=17, grade='C')"
      ]
    },
    {
      "cell_type": "code",
      "execution_count": null,
      "id": "19139126",
      "metadata": {
        "id": "19139126"
      },
      "outputs": [],
      "source": [
        "def student(name, **kwargs):\n",
        "    print(kwargs)\n",
        "    print(f\"Name = {name}\")\n",
        "    print(f\"Age = {kwargs['age']}\")\n",
        "    print(f\"Grade = {kwargs['grade']}\")\n",
        "    print(f\"Section = {kwargs['section']}\")"
      ]
    },
    {
      "cell_type": "code",
      "execution_count": null,
      "id": "650479f8",
      "metadata": {
        "colab": {
          "base_uri": "https://localhost:8080/"
        },
        "id": "650479f8",
        "outputId": "58f5b320-aa91-480a-e3c8-2b3d9efc425a"
      },
      "outputs": [
        {
          "output_type": "stream",
          "name": "stdout",
          "text": [
            "{'section': 'B', 'age': 17, 'grade': 'C'}\n",
            "Name = Sony\n",
            "Age = 17\n",
            "Grade = C\n",
            "Section = B\n"
          ]
        }
      ],
      "source": [
        "student(\"Sony\", section='B', age=17, grade='C')"
      ]
    },
    {
      "cell_type": "code",
      "execution_count": null,
      "id": "0734d009",
      "metadata": {
        "colab": {
          "base_uri": "https://localhost:8080/",
          "height": 130
        },
        "id": "0734d009",
        "outputId": "98030452-0398-43ec-f4be-01b77683a4cf"
      },
      "outputs": [
        {
          "output_type": "error",
          "ename": "SyntaxError",
          "evalue": "ignored",
          "traceback": [
            "\u001b[0;36m  File \u001b[0;32m\"<ipython-input-41-cba9f2b96073>\"\u001b[0;36m, line \u001b[0;32m1\u001b[0m\n\u001b[0;31m    def student(name, **kwargs, age=17):\u001b[0m\n\u001b[0m                                ^\u001b[0m\n\u001b[0;31mSyntaxError\u001b[0m\u001b[0;31m:\u001b[0m invalid syntax\n"
          ]
        }
      ],
      "source": [
        "def student(name, **kwargs, age=17):\n",
        "    print(kwargs)"
      ]
    },
    {
      "cell_type": "code",
      "source": [
        "student(\"Sony\", section='B', grade='C', age=17)"
      ],
      "metadata": {
        "id": "MBJV9R-l2_p1"
      },
      "id": "MBJV9R-l2_p1",
      "execution_count": null,
      "outputs": []
    },
    {
      "cell_type": "code",
      "execution_count": null,
      "id": "3acfe281",
      "metadata": {
        "id": "3acfe281"
      },
      "outputs": [],
      "source": [
        "def student(name, age=17, **kwargs):\n",
        "    print(kwargs)\n",
        "    print(f\"Name = {name}\")\n",
        "    print(f\"Age = {age}\")\n",
        "    print(f\"Grade = {kwargs['grade']}\")\n",
        "    print(f\"Section = {kwargs['section']}\")"
      ]
    },
    {
      "cell_type": "code",
      "source": [
        "student(\"Sony\", section='B', grade='C')"
      ],
      "metadata": {
        "colab": {
          "base_uri": "https://localhost:8080/"
        },
        "id": "v0Kc73zG3N73",
        "outputId": "36e29400-7612-41b8-bb18-97fff5c4cd3f"
      },
      "id": "v0Kc73zG3N73",
      "execution_count": null,
      "outputs": [
        {
          "output_type": "stream",
          "name": "stdout",
          "text": [
            "{'section': 'B', 'grade': 'C'}\n",
            "Name = Sony\n",
            "Age = 17\n",
            "Grade = C\n",
            "Section = B\n"
          ]
        }
      ]
    },
    {
      "cell_type": "code",
      "execution_count": null,
      "id": "5dcc094a",
      "metadata": {
        "colab": {
          "base_uri": "https://localhost:8080/"
        },
        "id": "5dcc094a",
        "outputId": "43891181-7acb-42c3-f732-d872bcf1ca05"
      },
      "outputs": [
        {
          "output_type": "stream",
          "name": "stdout",
          "text": [
            "{'section': 'B', 'grade': 'C'}\n",
            "Name = Sony\n",
            "Age = 18\n",
            "Grade = C\n",
            "Section = B\n"
          ]
        }
      ],
      "source": [
        "student(\"Sony\", section='B', age=18, grade='C')"
      ]
    },
    {
      "cell_type": "code",
      "execution_count": null,
      "id": "248bfd61",
      "metadata": {
        "id": "248bfd61"
      },
      "outputs": [],
      "source": [
        "def student(*details, **kwargs):\n",
        "    print(kwargs)\n",
        "    print(f\"Name = {details[0]}\")\n",
        "    print(f\"Age = {details[1]}\")\n",
        "    print(f\"Grade = {kwargs['grade']}\")\n",
        "    print(f\"Section = {kwargs['section']}\")"
      ]
    },
    {
      "cell_type": "code",
      "execution_count": null,
      "id": "808233ce",
      "metadata": {
        "colab": {
          "base_uri": "https://localhost:8080/"
        },
        "id": "808233ce",
        "outputId": "cae8acbd-1aa0-40c2-9c62-13be40a721fb"
      },
      "outputs": [
        {
          "output_type": "stream",
          "name": "stdout",
          "text": [
            "{'section': 'B', 'grade': 'C'}\n",
            "Name = Sony\n",
            "Age = 1\n",
            "Grade = C\n",
            "Section = B\n"
          ]
        }
      ],
      "source": [
        "student(\"Sony\", 1, section='B', grade='C')"
      ]
    },
    {
      "cell_type": "markdown",
      "id": "f7897985",
      "metadata": {
        "id": "f7897985"
      },
      "source": [
        "* positional argument should be before keyword argument\n",
        "* default argument should be before keyword argument\n",
        "* arbitary list arguments should be before keyword arguments"
      ]
    },
    {
      "cell_type": "code",
      "execution_count": null,
      "id": "ea3d7bc4",
      "metadata": {
        "id": "ea3d7bc4"
      },
      "outputs": [],
      "source": []
    }
  ],
  "metadata": {
    "kernelspec": {
      "display_name": "Python 3",
      "language": "python",
      "name": "python3"
    },
    "language_info": {
      "codemirror_mode": {
        "name": "ipython",
        "version": 3
      },
      "file_extension": ".py",
      "mimetype": "text/x-python",
      "name": "python",
      "nbconvert_exporter": "python",
      "pygments_lexer": "ipython3",
      "version": "3.8.8"
    },
    "colab": {
      "provenance": []
    }
  },
  "nbformat": 4,
  "nbformat_minor": 5
}