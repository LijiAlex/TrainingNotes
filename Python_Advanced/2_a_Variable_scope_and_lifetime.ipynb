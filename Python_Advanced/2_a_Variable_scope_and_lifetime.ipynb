{
  "cells": [
    {
      "cell_type": "markdown",
      "id": "62b04e5f",
      "metadata": {
        "id": "62b04e5f"
      },
      "source": [
        "# Variable scope and Lifetime\n",
        "* Not all variables are accessible from all parts of our program, and not all variables exist for the same amount of time.\n",
        "* Availability of a variable in a region is defined by its scope. Here region refers to inside function, inside block, outside block etc.\n",
        "* The lifetime of a variable is the time during which the variable stays in memory and is therefore accessible during program execution. "
      ]
    },
    {
      "cell_type": "markdown",
      "id": "7426688e",
      "metadata": {
        "id": "7426688e"
      },
      "source": [
        "### Global scope\n",
        "A variable which is defined in the main body of a file is called a global variable. It will be visible throughout the file, and also inside any file which imports that file.\n"
      ]
    },
    {
      "cell_type": "code",
      "execution_count": null,
      "id": "028f2826",
      "metadata": {
        "id": "028f2826"
      },
      "outputs": [],
      "source": [
        "x = 20"
      ]
    },
    {
      "cell_type": "code",
      "execution_count": null,
      "id": "c827b238",
      "metadata": {
        "id": "c827b238",
        "outputId": "b74d6805-0768-4e41-fb6d-90d476a063a4",
        "colab": {
          "base_uri": "https://localhost:8080/"
        }
      },
      "outputs": [
        {
          "output_type": "execute_result",
          "data": {
            "text/plain": [
              "20"
            ]
          },
          "metadata": {},
          "execution_count": 2
        }
      ],
      "source": [
        "x"
      ]
    },
    {
      "cell_type": "code",
      "execution_count": null,
      "id": "29168fec",
      "metadata": {
        "id": "29168fec"
      },
      "outputs": [],
      "source": [
        "x = 50\n",
        "def myfunc():\n",
        "    print(x)\n",
        "    print(y)\n",
        "y = 30"
      ]
    },
    {
      "cell_type": "code",
      "execution_count": null,
      "id": "cbbe821d",
      "metadata": {
        "id": "cbbe821d",
        "outputId": "522956e4-2a79-4af4-d7d0-abb45c2a6d8b",
        "colab": {
          "base_uri": "https://localhost:8080/"
        }
      },
      "outputs": [
        {
          "output_type": "stream",
          "name": "stdout",
          "text": [
            "50\n",
            "30\n"
          ]
        }
      ],
      "source": [
        "myfunc()"
      ]
    },
    {
      "cell_type": "markdown",
      "id": "fff882b3",
      "metadata": {
        "id": "fff882b3"
      },
      "source": [
        "### Local variable\n",
        "A local variable is a variable that is only accessible within a specific part of a program."
      ]
    },
    {
      "cell_type": "code",
      "execution_count": null,
      "id": "444ac951",
      "metadata": {
        "id": "444ac951"
      },
      "outputs": [],
      "source": [
        "def myfunc2():\n",
        "    num = 500\n",
        "    print(num)"
      ]
    },
    {
      "cell_type": "code",
      "execution_count": null,
      "id": "22705a38",
      "metadata": {
        "id": "22705a38",
        "outputId": "5106bbf7-175c-41ad-9cda-2a9bb7dc470d",
        "colab": {
          "base_uri": "https://localhost:8080/"
        }
      },
      "outputs": [
        {
          "output_type": "stream",
          "name": "stdout",
          "text": [
            "500\n"
          ]
        }
      ],
      "source": [
        "myfunc2()"
      ]
    },
    {
      "cell_type": "code",
      "execution_count": null,
      "id": "e1d43935",
      "metadata": {
        "id": "e1d43935",
        "outputId": "34d47007-e287-4699-a5ae-e3cf7239bdf5",
        "colab": {
          "base_uri": "https://localhost:8080/",
          "height": 165
        }
      },
      "outputs": [
        {
          "output_type": "error",
          "ename": "NameError",
          "evalue": "ignored",
          "traceback": [
            "\u001b[0;31m---------------------------------------------------------------------------\u001b[0m",
            "\u001b[0;31mNameError\u001b[0m                                 Traceback (most recent call last)",
            "\u001b[0;32m<ipython-input-9-55a60ae9504f>\u001b[0m in \u001b[0;36m<module>\u001b[0;34m\u001b[0m\n\u001b[0;32m----> 1\u001b[0;31m \u001b[0mprint\u001b[0m\u001b[0;34m(\u001b[0m\u001b[0mnum\u001b[0m\u001b[0;34m)\u001b[0m\u001b[0;34m\u001b[0m\u001b[0;34m\u001b[0m\u001b[0m\n\u001b[0m",
            "\u001b[0;31mNameError\u001b[0m: name 'num' is not defined"
          ]
        }
      ],
      "source": [
        "print(num)"
      ]
    },
    {
      "cell_type": "markdown",
      "id": "b75f1dd5",
      "metadata": {
        "id": "b75f1dd5"
      },
      "source": [
        "* Function parameters are also considered as local variables"
      ]
    },
    {
      "cell_type": "code",
      "execution_count": null,
      "id": "be4fcd95",
      "metadata": {
        "id": "be4fcd95",
        "outputId": "cf7062d6-d54e-4e17-d660-9a92dfbe67b0",
        "colab": {
          "base_uri": "https://localhost:8080/"
        }
      },
      "outputs": [
        {
          "output_type": "stream",
          "name": "stdout",
          "text": [
            "400\n",
            "500\n",
            "140281740325136\n"
          ]
        }
      ],
      "source": [
        "def myfunc1(a, b):\n",
        "    print(a)\n",
        "    print(b)\n",
        "    print(id(a))\n",
        "myfunc1(400, 500)"
      ]
    },
    {
      "cell_type": "code",
      "execution_count": null,
      "id": "2c9128d6",
      "metadata": {
        "id": "2c9128d6",
        "outputId": "2dd63673-b83e-43a0-a732-40507e47263f",
        "colab": {
          "base_uri": "https://localhost:8080/",
          "height": 165
        }
      },
      "outputs": [
        {
          "output_type": "error",
          "ename": "NameError",
          "evalue": "ignored",
          "traceback": [
            "\u001b[0;31m---------------------------------------------------------------------------\u001b[0m",
            "\u001b[0;31mNameError\u001b[0m                                 Traceback (most recent call last)",
            "\u001b[0;32m<ipython-input-11-bca0e2660b9f>\u001b[0m in \u001b[0;36m<module>\u001b[0;34m\u001b[0m\n\u001b[0;32m----> 1\u001b[0;31m \u001b[0mprint\u001b[0m\u001b[0;34m(\u001b[0m\u001b[0ma\u001b[0m\u001b[0;34m)\u001b[0m\u001b[0;34m\u001b[0m\u001b[0;34m\u001b[0m\u001b[0m\n\u001b[0m",
            "\u001b[0;31mNameError\u001b[0m: name 'a' is not defined"
          ]
        }
      ],
      "source": [
        "print(a)"
      ]
    },
    {
      "cell_type": "code",
      "execution_count": null,
      "id": "7d845a4b",
      "metadata": {
        "id": "7d845a4b",
        "outputId": "3aa64f0a-adb7-4946-f17f-3058178f6456",
        "colab": {
          "base_uri": "https://localhost:8080/",
          "height": 165
        }
      },
      "outputs": [
        {
          "output_type": "error",
          "ename": "NameError",
          "evalue": "ignored",
          "traceback": [
            "\u001b[0;31m---------------------------------------------------------------------------\u001b[0m",
            "\u001b[0;31mNameError\u001b[0m                                 Traceback (most recent call last)",
            "\u001b[0;32m<ipython-input-12-186eb25ff3c5>\u001b[0m in \u001b[0;36m<module>\u001b[0;34m\u001b[0m\n\u001b[0;32m----> 1\u001b[0;31m \u001b[0mprint\u001b[0m\u001b[0;34m(\u001b[0m\u001b[0mid\u001b[0m\u001b[0;34m(\u001b[0m\u001b[0ma\u001b[0m\u001b[0;34m)\u001b[0m\u001b[0;34m)\u001b[0m\u001b[0;34m\u001b[0m\u001b[0;34m\u001b[0m\u001b[0m\n\u001b[0m",
            "\u001b[0;31mNameError\u001b[0m: name 'a' is not defined"
          ]
        }
      ],
      "source": [
        "print(id(a))"
      ]
    },
    {
      "cell_type": "markdown",
      "id": "410d0062",
      "metadata": {
        "id": "410d0062"
      },
      "source": [
        "### Changing global variable from a function"
      ]
    },
    {
      "cell_type": "code",
      "source": [
        "x"
      ],
      "metadata": {
        "colab": {
          "base_uri": "https://localhost:8080/"
        },
        "id": "HNweq4keA8cU",
        "outputId": "02f25a96-55e6-438b-8d55-02672e1834a1"
      },
      "id": "HNweq4keA8cU",
      "execution_count": null,
      "outputs": [
        {
          "output_type": "execute_result",
          "data": {
            "text/plain": [
              "50"
            ]
          },
          "metadata": {},
          "execution_count": 13
        }
      ]
    },
    {
      "cell_type": "code",
      "execution_count": null,
      "id": "a573529b",
      "metadata": {
        "id": "a573529b"
      },
      "outputs": [],
      "source": [
        "def func3():\n",
        "    print(x)"
      ]
    },
    {
      "cell_type": "code",
      "execution_count": null,
      "id": "5d5c7cca",
      "metadata": {
        "id": "5d5c7cca",
        "outputId": "2b9ed3a8-3c11-4c66-dfe6-bcda96dfe9c8",
        "colab": {
          "base_uri": "https://localhost:8080/"
        }
      },
      "outputs": [
        {
          "output_type": "stream",
          "name": "stdout",
          "text": [
            "50\n"
          ]
        }
      ],
      "source": [
        "func3()"
      ]
    },
    {
      "cell_type": "code",
      "execution_count": null,
      "id": "de3a6591",
      "metadata": {
        "id": "de3a6591"
      },
      "outputs": [],
      "source": [
        "def func3():\n",
        "    x = 100\n",
        "    print(x)"
      ]
    },
    {
      "cell_type": "code",
      "execution_count": null,
      "id": "63f76c73",
      "metadata": {
        "id": "63f76c73",
        "outputId": "ffbff315-910f-4e7e-b389-4bac54667558",
        "colab": {
          "base_uri": "https://localhost:8080/"
        }
      },
      "outputs": [
        {
          "output_type": "stream",
          "name": "stdout",
          "text": [
            "100\n"
          ]
        }
      ],
      "source": [
        "func3()"
      ]
    },
    {
      "cell_type": "code",
      "execution_count": null,
      "id": "4fa5acea",
      "metadata": {
        "id": "4fa5acea",
        "outputId": "54bf1654-85e1-4236-d568-1fa0ed086940",
        "colab": {
          "base_uri": "https://localhost:8080/"
        }
      },
      "outputs": [
        {
          "output_type": "execute_result",
          "data": {
            "text/plain": [
              "50"
            ]
          },
          "metadata": {},
          "execution_count": 18
        }
      ],
      "source": [
        "x"
      ]
    },
    {
      "cell_type": "code",
      "execution_count": null,
      "id": "42003734",
      "metadata": {
        "id": "42003734"
      },
      "outputs": [],
      "source": [
        "def func3():\n",
        "    global x\n",
        "    x = 100\n",
        "    print(x)"
      ]
    },
    {
      "cell_type": "code",
      "execution_count": null,
      "id": "9514f860",
      "metadata": {
        "id": "9514f860",
        "outputId": "91a5ce07-4c09-4c82-c6d0-c5d046ecfb7a",
        "colab": {
          "base_uri": "https://localhost:8080/"
        }
      },
      "outputs": [
        {
          "output_type": "stream",
          "name": "stdout",
          "text": [
            "100\n"
          ]
        }
      ],
      "source": [
        "func3()"
      ]
    },
    {
      "cell_type": "code",
      "execution_count": null,
      "id": "a919d702",
      "metadata": {
        "id": "a919d702",
        "outputId": "576b00fe-2333-4c34-f8ba-c4225884079d",
        "colab": {
          "base_uri": "https://localhost:8080/"
        }
      },
      "outputs": [
        {
          "output_type": "execute_result",
          "data": {
            "text/plain": [
              "100"
            ]
          },
          "metadata": {},
          "execution_count": 21
        }
      ],
      "source": [
        "x"
      ]
    },
    {
      "cell_type": "markdown",
      "source": [
        "### Scope of a variable in a block"
      ],
      "metadata": {
        "id": "Qs1_eMCjh1CH"
      },
      "id": "Qs1_eMCjh1CH"
    },
    {
      "cell_type": "code",
      "source": [
        "def func100(a, b):\n",
        "  print(\"initial\", a, b)\n",
        "  a = 100\n",
        "  print(\"after first assignment\", a, b)\n",
        "  if a == 100:\n",
        "    def func3():\n",
        "      a = 200\n",
        "      print(\"inside function\", a, b)\n",
        "    func3()\n",
        "  print(\"last\", a, b)"
      ],
      "metadata": {
        "id": "Y_k1I0_xh7Db"
      },
      "id": "Y_k1I0_xh7Db",
      "execution_count": null,
      "outputs": []
    },
    {
      "cell_type": "code",
      "source": [
        "func100(50, 1)"
      ],
      "metadata": {
        "colab": {
          "base_uri": "https://localhost:8080/"
        },
        "id": "wiMKE1ARiKWW",
        "outputId": "ca411d78-a164-4152-be74-c37ba2d7a5fa"
      },
      "id": "wiMKE1ARiKWW",
      "execution_count": null,
      "outputs": [
        {
          "output_type": "stream",
          "name": "stdout",
          "text": [
            "initial 50 1\n",
            "after first assignment 100 1\n",
            "inside function 200 1\n",
            "last 100 1\n"
          ]
        }
      ]
    },
    {
      "cell_type": "code",
      "source": [
        "def func100(a, b):\n",
        "  print(\"initial\", a, b)\n",
        "  a = 100\n",
        "  print(\"after first assignment\", a, b)\n",
        "  if a == 100:\n",
        "    def func3():\n",
        "      nonlocal a\n",
        "      a = 200\n",
        "      print(\"inside function\", a, b)\n",
        "    func3()\n",
        "  print(\"last\", a, b)"
      ],
      "metadata": {
        "id": "GOwbtOS3jzNi"
      },
      "id": "GOwbtOS3jzNi",
      "execution_count": null,
      "outputs": []
    },
    {
      "cell_type": "code",
      "source": [
        "func100(50, 1)"
      ],
      "metadata": {
        "colab": {
          "base_uri": "https://localhost:8080/"
        },
        "id": "YIu_NkfQj3Mt",
        "outputId": "b2c8e36f-9d54-4107-a0ea-93e6ab4552b2"
      },
      "id": "YIu_NkfQj3Mt",
      "execution_count": null,
      "outputs": [
        {
          "output_type": "stream",
          "name": "stdout",
          "text": [
            "initial 50 1\n",
            "after first assignment 100 1\n",
            "inside function 200 1\n",
            "last 200 1\n"
          ]
        }
      ]
    },
    {
      "cell_type": "code",
      "source": [
        "b = 100\n",
        "\n",
        "def func100(a):\n",
        "  b = 20000\n",
        "  print(\"initial\", a, b)\n",
        "  a = 100\n",
        "  print(\"after first assignment\", a, b)\n",
        "  if a == 100:\n",
        "    def func3():\n",
        "      nonlocal a\n",
        "      a = 200\n",
        "      global b\n",
        "      b = 4000000      \n",
        "      print(\"inside function\", a, b)\n",
        "    func3()\n",
        "  print(\"last\", a, b)\n"
      ],
      "metadata": {
        "id": "_1sB89nIC1-I"
      },
      "id": "_1sB89nIC1-I",
      "execution_count": null,
      "outputs": []
    },
    {
      "cell_type": "code",
      "source": [
        "func100(50)"
      ],
      "metadata": {
        "colab": {
          "base_uri": "https://localhost:8080/"
        },
        "id": "LYdsyj7JC5Nx",
        "outputId": "20ceb98a-4705-4586-f182-9c11ebaf72f9"
      },
      "id": "LYdsyj7JC5Nx",
      "execution_count": null,
      "outputs": [
        {
          "output_type": "stream",
          "name": "stdout",
          "text": [
            "initial 50 20000\n",
            "after first assignment 100 20000\n",
            "inside function 200 4000000\n",
            "last 200 20000\n"
          ]
        }
      ]
    },
    {
      "cell_type": "code",
      "source": [
        "b"
      ],
      "metadata": {
        "colab": {
          "base_uri": "https://localhost:8080/"
        },
        "id": "b-Jj5rs0DoO4",
        "outputId": "75ee1437-ddfc-46c9-ab39-4db0707683bf"
      },
      "id": "b-Jj5rs0DoO4",
      "execution_count": null,
      "outputs": [
        {
          "output_type": "execute_result",
          "data": {
            "text/plain": [
              "4000000"
            ]
          },
          "metadata": {},
          "execution_count": 42
        }
      ]
    }
  ],
  "metadata": {
    "kernelspec": {
      "display_name": "Python 3",
      "language": "python",
      "name": "python3"
    },
    "language_info": {
      "codemirror_mode": {
        "name": "ipython",
        "version": 3
      },
      "file_extension": ".py",
      "mimetype": "text/x-python",
      "name": "python",
      "nbconvert_exporter": "python",
      "pygments_lexer": "ipython3",
      "version": "3.8.8"
    },
    "colab": {
      "provenance": []
    }
  },
  "nbformat": 4,
  "nbformat_minor": 5
}