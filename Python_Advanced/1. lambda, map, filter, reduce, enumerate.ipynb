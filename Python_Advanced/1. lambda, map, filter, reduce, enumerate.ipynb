{
 "cells": [
  {
   "cell_type": "markdown",
   "id": "17cb8677",
   "metadata": {},
   "source": [
    "### Anonymous function/in line function/ lambda function/ nameless function"
   ]
  },
  {
   "cell_type": "markdown",
   "id": "a4d98d7e",
   "metadata": {},
   "source": [
    "* Function defined in a single line.\n",
    "* Function doesn't have name\n",
    "* Usually used within another function"
   ]
  },
  {
   "attachments": {
    "image.png": {
     "image/png": "[encoded data removed]"
    }
   },
   "cell_type": "markdown",
   "id": "5819435d",
   "metadata": {},
   "source": [
    "![image.png](attachment:image.png)"
   ]
  },
  {
   "cell_type": "code",
   "execution_count": 26,
   "id": "e9016c3c",
   "metadata": {},
   "outputs": [
    {
     "data": {
      "text/plain": [
       "<function __main__.<lambda>(x)>"
      ]
     },
     "execution_count": 26,
     "metadata": {},
     "output_type": "execute_result"
    }
   ],
   "source": [
    "lambda x: x*x"
   ]
  },
  {
   "cell_type": "code",
   "execution_count": 27,
   "id": "94c6e2ae",
   "metadata": {},
   "outputs": [],
   "source": [
    "square = lambda x: x*x"
   ]
  },
  {
   "cell_type": "code",
   "execution_count": 28,
   "id": "1727d615",
   "metadata": {},
   "outputs": [
    {
     "data": {
      "text/plain": [
       "4"
      ]
     },
     "execution_count": 28,
     "metadata": {},
     "output_type": "execute_result"
    }
   ],
   "source": [
    "square(2)"
   ]
  },
  {
   "cell_type": "markdown",
   "id": "4b6da464",
   "metadata": {},
   "source": [
    "### Map "
   ]
  },
  {
   "cell_type": "markdown",
   "id": "09cb13ed",
   "metadata": {},
   "source": [
    "Applies a function to each item of a sequence.\n",
    "<br> map(fun, seq)"
   ]
  },
  {
   "cell_type": "code",
   "execution_count": 29,
   "id": "ed0329b1",
   "metadata": {},
   "outputs": [],
   "source": [
    "l = [1, 2, 3, 4]"
   ]
  },
  {
   "cell_type": "code",
   "execution_count": 30,
   "id": "e9f3c090",
   "metadata": {},
   "outputs": [
    {
     "data": {
      "text/plain": [
       "[1, 4, 9, 16]"
      ]
     },
     "execution_count": 30,
     "metadata": {},
     "output_type": "execute_result"
    }
   ],
   "source": [
    "squared = []\n",
    "for num in l:\n",
    "    squared.append(num**2)\n",
    "squared"
   ]
  },
  {
   "cell_type": "code",
   "execution_count": 33,
   "id": "3adc67e2",
   "metadata": {},
   "outputs": [
    {
     "data": {
      "text/plain": [
       "[1, 4, 9, 16]"
      ]
     },
     "execution_count": 33,
     "metadata": {},
     "output_type": "execute_result"
    }
   ],
   "source": [
    "squared = map(lambda x: x*x, l)\n",
    "list(squared)"
   ]
  },
  {
   "cell_type": "code",
   "execution_count": 34,
   "id": "32cb3449",
   "metadata": {},
   "outputs": [
    {
     "data": {
      "text/plain": [
       "<map at 0x1d05cb7ec40>"
      ]
     },
     "execution_count": 34,
     "metadata": {},
     "output_type": "execute_result"
    }
   ],
   "source": [
    "squared"
   ]
  },
  {
   "cell_type": "code",
   "execution_count": 36,
   "id": "9be88832",
   "metadata": {},
   "outputs": [
    {
     "data": {
      "text/plain": [
       "[1.0, 1.4142135623730951, 1.7320508075688772, 2.0]"
      ]
     },
     "execution_count": 36,
     "metadata": {},
     "output_type": "execute_result"
    }
   ],
   "source": [
    "import math\n",
    "sroot = map(math.sqrt, l)\n",
    "list(sroot)"
   ]
  },
  {
   "cell_type": "code",
   "execution_count": 37,
   "id": "6c47e7d2",
   "metadata": {},
   "outputs": [
    {
     "data": {
      "text/plain": [
       "[1, 8, 27, 64]"
      ]
     },
     "execution_count": 37,
     "metadata": {},
     "output_type": "execute_result"
    }
   ],
   "source": [
    "def cubed(n):\n",
    "    return pow(n,3)\n",
    "list(map(cubed, l))"
   ]
  },
  {
   "cell_type": "code",
   "execution_count": 38,
   "id": "0e6994b7",
   "metadata": {},
   "outputs": [],
   "source": [
    "days = [\"Sunday\", \"Monday\", \"Tuesday\", \"Wednesday\", \"Thursday\", \"Friday\", \"Saturday\"]"
   ]
  },
  {
   "cell_type": "code",
   "execution_count": 39,
   "id": "8778c24c",
   "metadata": {},
   "outputs": [
    {
     "data": {
      "text/plain": [
       "['Sun', 'Mon', 'Tue', 'Wed', 'Thu', 'Fri', 'Sat']"
      ]
     },
     "execution_count": 39,
     "metadata": {},
     "output_type": "execute_result"
    }
   ],
   "source": [
    "short_hand = map(lambda s: s[:3], days)\n",
    "list(short_hand)"
   ]
  },
  {
   "cell_type": "markdown",
   "id": "0ed16e7b",
   "metadata": {},
   "source": [
    "### Filter"
   ]
  },
  {
   "cell_type": "code",
   "execution_count": 40,
   "id": "ace8db9a",
   "metadata": {},
   "outputs": [],
   "source": [
    "l1 = [11, 1, 21, 34, 43, 56, 78, 103, 457]"
   ]
  },
  {
   "cell_type": "code",
   "execution_count": 41,
   "id": "80f7acee",
   "metadata": {},
   "outputs": [
    {
     "data": {
      "text/plain": [
       "[34, 56, 78]"
      ]
     },
     "execution_count": 41,
     "metadata": {},
     "output_type": "execute_result"
    }
   ],
   "source": [
    "even_numbers = []\n",
    "for num in l1:\n",
    "    if num%2 == 0:\n",
    "        even_numbers.append(num)\n",
    "even_numbers"
   ]
  },
  {
   "cell_type": "code",
   "execution_count": 42,
   "id": "03f9f834",
   "metadata": {},
   "outputs": [
    {
     "data": {
      "text/plain": [
       "[34, 56, 78]"
      ]
     },
     "execution_count": 42,
     "metadata": {},
     "output_type": "execute_result"
    }
   ],
   "source": [
    "even_numbers = filter(lambda n: n%2==0, l1)\n",
    "list(even_numbers)"
   ]
  },
  {
   "cell_type": "code",
   "execution_count": 43,
   "id": "51b81e01",
   "metadata": {},
   "outputs": [
    {
     "data": {
      "text/plain": [
       "<filter at 0x1d05cb845b0>"
      ]
     },
     "execution_count": 43,
     "metadata": {},
     "output_type": "execute_result"
    }
   ],
   "source": [
    "even_numbers"
   ]
  },
  {
   "cell_type": "markdown",
   "id": "07961961",
   "metadata": {},
   "source": [
    "* Filters elements from a given sequence based on a condition\n",
    "<br>filter(func, seq)\n",
    "* Function should return True or False\n",
    "* Only elements that retirn True will be filtered"
   ]
  },
  {
   "cell_type": "code",
   "execution_count": 44,
   "id": "20b82d0f",
   "metadata": {},
   "outputs": [],
   "source": [
    "def check_even(num):\n",
    "    if num%2 ==0:\n",
    "        return True\n",
    "    else:\n",
    "        return False"
   ]
  },
  {
   "cell_type": "code",
   "execution_count": 45,
   "id": "bf5df4ac",
   "metadata": {},
   "outputs": [
    {
     "data": {
      "text/plain": [
       "[34, 56, 78]"
      ]
     },
     "execution_count": 45,
     "metadata": {},
     "output_type": "execute_result"
    }
   ],
   "source": [
    "even_numbers = filter(check_even, l1)\n",
    "list(even_numbers)"
   ]
  },
  {
   "cell_type": "markdown",
   "id": "9ddde4ab",
   "metadata": {},
   "source": [
    "### Reduce"
   ]
  },
  {
   "cell_type": "markdown",
   "id": "29a4638d",
   "metadata": {},
   "source": [
    "Find sum of a list."
   ]
  },
  {
   "cell_type": "code",
   "execution_count": 46,
   "id": "c5a2d6f3",
   "metadata": {},
   "outputs": [
    {
     "data": {
      "text/plain": [
       "45"
      ]
     },
     "execution_count": 46,
     "metadata": {},
     "output_type": "execute_result"
    }
   ],
   "source": [
    "s = 0\n",
    "for num in range(10):\n",
    "    s = s + num\n",
    "s"
   ]
  },
  {
   "cell_type": "code",
   "execution_count": 49,
   "id": "9c09127b",
   "metadata": {},
   "outputs": [
    {
     "data": {
      "text/plain": [
       "362880"
      ]
     },
     "execution_count": 49,
     "metadata": {},
     "output_type": "execute_result"
    }
   ],
   "source": [
    "from functools import reduce\n",
    "reduce(lambda a, b: a*b, range(1, 10))"
   ]
  },
  {
   "cell_type": "markdown",
   "id": "e5f6c124",
   "metadata": {},
   "source": [
    "* Reduces a sequence to a single output\n",
    "* Initially takes 2 arguments from list\n",
    "* then result of the previous opeartion and a new argument"
   ]
  },
  {
   "cell_type": "markdown",
   "id": "e55af2d3",
   "metadata": {},
   "source": [
    "### Enumerate"
   ]
  },
  {
   "cell_type": "code",
   "execution_count": 50,
   "id": "4ec947f3",
   "metadata": {},
   "outputs": [
    {
     "data": {
      "text/plain": [
       "['Sunday', 'Monday', 'Tuesday', 'Wednesday', 'Thursday', 'Friday', 'Saturday']"
      ]
     },
     "execution_count": 50,
     "metadata": {},
     "output_type": "execute_result"
    }
   ],
   "source": [
    "days"
   ]
  },
  {
   "cell_type": "code",
   "execution_count": 51,
   "id": "96167077",
   "metadata": {},
   "outputs": [
    {
     "data": {
      "text/plain": [
       "<enumerate at 0x1d05cb86e80>"
      ]
     },
     "execution_count": 51,
     "metadata": {},
     "output_type": "execute_result"
    }
   ],
   "source": [
    "enumerate(days)"
   ]
  },
  {
   "cell_type": "code",
   "execution_count": 52,
   "id": "16054fc8",
   "metadata": {},
   "outputs": [
    {
     "data": {
      "text/plain": [
       "[(0, 'Sunday'),\n",
       " (1, 'Monday'),\n",
       " (2, 'Tuesday'),\n",
       " (3, 'Wednesday'),\n",
       " (4, 'Thursday'),\n",
       " (5, 'Friday'),\n",
       " (6, 'Saturday')]"
      ]
     },
     "execution_count": 52,
     "metadata": {},
     "output_type": "execute_result"
    }
   ],
   "source": [
    "list(enumerate(days))"
   ]
  },
  {
   "cell_type": "code",
   "execution_count": 53,
   "id": "1ebb86ee",
   "metadata": {},
   "outputs": [
    {
     "name": "stdout",
     "output_type": "stream",
     "text": [
      "0: Sunday\n",
      "1: Monday\n",
      "2: Tuesday\n",
      "3: Wednesday\n",
      "4: Thursday\n",
      "5: Friday\n",
      "6: Saturday\n"
     ]
    }
   ],
   "source": [
    "for index, day in enumerate(days):\n",
    "    print(f\"{index}: {day}\")"
   ]
  },
  {
   "cell_type": "code",
   "execution_count": null,
   "id": "26c83fb5",
   "metadata": {},
   "outputs": [],
   "source": []
  },
  {
   "cell_type": "code",
   "execution_count": null,
   "id": "6533384a",
   "metadata": {},
   "outputs": [],
   "source": []
  },
  {
   "cell_type": "code",
   "execution_count": null,
   "id": "05378bf5",
   "metadata": {},
   "outputs": [],
   "source": []
  },
  {
   "cell_type": "code",
   "execution_count": null,
   "id": "6761914d",
   "metadata": {},
   "outputs": [],
   "source": []
  },
  {
   "cell_type": "code",
   "execution_count": null,
   "id": "00bd6eea",
   "metadata": {},
   "outputs": [],
   "source": []
  },
  {
   "cell_type": "code",
   "execution_count": null,
   "id": "9c5b92de",
   "metadata": {},
   "outputs": [],
   "source": []
  },
  {
   "cell_type": "code",
   "execution_count": null,
   "id": "7c9ed2ed",
   "metadata": {},
   "outputs": [],
   "source": []
  },
  {
   "cell_type": "code",
   "execution_count": null,
   "id": "720403b2",
   "metadata": {},
   "outputs": [],
   "source": []
  },
  {
   "cell_type": "code",
   "execution_count": null,
   "id": "37088599",
   "metadata": {},
   "outputs": [],
   "source": []
  },
  {
   "cell_type": "code",
   "execution_count": null,
   "id": "0ba51ace",
   "metadata": {},
   "outputs": [],
   "source": []
  },
  {
   "cell_type": "code",
   "execution_count": null,
   "id": "08d45b92",
   "metadata": {},
   "outputs": [],
   "source": []
  }
 ],
 "metadata": {
  "kernelspec": {
   "display_name": "Python 3",
   "language": "python",
   "name": "python3"
  },
  "language_info": {
   "codemirror_mode": {
    "name": "ipython",
    "version": 3
   },
   "file_extension": ".py",
   "mimetype": "text/x-python",
   "name": "python",
   "nbconvert_exporter": "python",
   "pygments_lexer": "ipython3",
   "version": "3.8.8"
  }
 },
 "nbformat": 4,
 "nbformat_minor": 5
}
