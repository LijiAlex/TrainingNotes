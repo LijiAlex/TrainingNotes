{
  "cells": [
    {
      "cell_type": "markdown",
      "id": "798ed10c",
      "metadata": {
        "id": "798ed10c"
      },
      "source": [
        "# Strings\n",
        "\n",
        "Text data in Python is referred to as strings. It is formed by enclosing characters in single quotes(''), double quotes(\" \") and for multiline strings using triple quotes(\"\"\"  \"\"\")."
      ]
    },
    {
      "cell_type": "code",
      "execution_count": 1,
      "id": "93b44923",
      "metadata": {
        "colab": {
          "base_uri": "https://localhost:8080/"
        },
        "id": "93b44923",
        "outputId": "59649c11-66b9-4744-f4c4-a6d289b2d886"
      },
      "outputs": [
        {
          "output_type": "stream",
          "name": "stdout",
          "text": [
            "I love coding\n"
          ]
        }
      ],
      "source": [
        "s = \"I love coding\"\n",
        "print(s)"
      ]
    },
    {
      "cell_type": "markdown",
      "id": "724e6065",
      "metadata": {
        "id": "724e6065"
      },
      "source": [
        "### String Indexing\n",
        "![1.png](attachment:1.png)"
      ]
    },
    {
      "cell_type": "code",
      "execution_count": 2,
      "id": "ec3272d2",
      "metadata": {
        "colab": {
          "base_uri": "https://localhost:8080/",
          "height": 36
        },
        "id": "ec3272d2",
        "outputId": "fb57fa6c-d61d-42fe-9787-6b276789a9a5"
      },
      "outputs": [
        {
          "output_type": "execute_result",
          "data": {
            "text/plain": [
              "'I'"
            ],
            "application/vnd.google.colaboratory.intrinsic+json": {
              "type": "string"
            }
          },
          "metadata": {},
          "execution_count": 2
        }
      ],
      "source": [
        "s[0]"
      ]
    },
    {
      "cell_type": "code",
      "execution_count": 3,
      "id": "3eb563ed",
      "metadata": {
        "colab": {
          "base_uri": "https://localhost:8080/",
          "height": 36
        },
        "id": "3eb563ed",
        "outputId": "6a0910e8-35bb-404b-eb3c-078363244213"
      },
      "outputs": [
        {
          "output_type": "execute_result",
          "data": {
            "text/plain": [
              "'o'"
            ],
            "application/vnd.google.colaboratory.intrinsic+json": {
              "type": "string"
            }
          },
          "metadata": {},
          "execution_count": 3
        }
      ],
      "source": [
        "s[3]"
      ]
    },
    {
      "cell_type": "code",
      "execution_count": 4,
      "id": "60c417a5",
      "metadata": {
        "colab": {
          "base_uri": "https://localhost:8080/",
          "height": 36
        },
        "id": "60c417a5",
        "outputId": "d55978f8-24b4-4f95-852a-ef3627efe513"
      },
      "outputs": [
        {
          "output_type": "execute_result",
          "data": {
            "text/plain": [
              "'i'"
            ],
            "application/vnd.google.colaboratory.intrinsic+json": {
              "type": "string"
            }
          },
          "metadata": {},
          "execution_count": 4
        }
      ],
      "source": [
        "s[10]"
      ]
    },
    {
      "cell_type": "code",
      "execution_count": 5,
      "id": "d881e1aa",
      "metadata": {
        "colab": {
          "base_uri": "https://localhost:8080/"
        },
        "id": "d881e1aa",
        "outputId": "36092337-5dfb-491d-f12b-f1b0f84d8334"
      },
      "outputs": [
        {
          "output_type": "execute_result",
          "data": {
            "text/plain": [
              "13"
            ]
          },
          "metadata": {},
          "execution_count": 5
        }
      ],
      "source": [
        "len(s)"
      ]
    },
    {
      "cell_type": "markdown",
      "id": "770d30ae",
      "metadata": {
        "id": "770d30ae"
      },
      "source": [
        "![2.png](attachment:2.png)"
      ]
    },
    {
      "cell_type": "code",
      "source": [
        "s"
      ],
      "metadata": {
        "colab": {
          "base_uri": "https://localhost:8080/",
          "height": 36
        },
        "id": "YXKvpukzK8V-",
        "outputId": "de287e26-7e6b-477f-c32e-96d4a0e3167b"
      },
      "id": "YXKvpukzK8V-",
      "execution_count": 6,
      "outputs": [
        {
          "output_type": "execute_result",
          "data": {
            "text/plain": [
              "'I love coding'"
            ],
            "application/vnd.google.colaboratory.intrinsic+json": {
              "type": "string"
            }
          },
          "metadata": {},
          "execution_count": 6
        }
      ]
    },
    {
      "cell_type": "code",
      "execution_count": 7,
      "id": "3417edda",
      "metadata": {
        "colab": {
          "base_uri": "https://localhost:8080/",
          "height": 36
        },
        "id": "3417edda",
        "outputId": "e2f51425-420a-45e1-a775-30a6a536cc9e"
      },
      "outputs": [
        {
          "output_type": "execute_result",
          "data": {
            "text/plain": [
              "'g'"
            ],
            "application/vnd.google.colaboratory.intrinsic+json": {
              "type": "string"
            }
          },
          "metadata": {},
          "execution_count": 7
        }
      ],
      "source": [
        "s[-1]"
      ]
    },
    {
      "cell_type": "code",
      "execution_count": 8,
      "id": "3ef2cd57",
      "metadata": {
        "colab": {
          "base_uri": "https://localhost:8080/",
          "height": 36
        },
        "id": "3ef2cd57",
        "outputId": "ec6526dd-84ae-497b-89f6-cfbd06a98761"
      },
      "outputs": [
        {
          "output_type": "execute_result",
          "data": {
            "text/plain": [
              "'I'"
            ],
            "application/vnd.google.colaboratory.intrinsic+json": {
              "type": "string"
            }
          },
          "metadata": {},
          "execution_count": 8
        }
      ],
      "source": [
        "s[-13]"
      ]
    },
    {
      "cell_type": "code",
      "execution_count": 9,
      "id": "c0c9d343",
      "metadata": {
        "colab": {
          "base_uri": "https://localhost:8080/",
          "height": 36
        },
        "id": "c0c9d343",
        "outputId": "0bc760d9-fc42-4333-c189-2ea2195c6bce"
      },
      "outputs": [
        {
          "output_type": "execute_result",
          "data": {
            "text/plain": [
              "'o'"
            ],
            "application/vnd.google.colaboratory.intrinsic+json": {
              "type": "string"
            }
          },
          "metadata": {},
          "execution_count": 9
        }
      ],
      "source": [
        "s[-10]"
      ]
    },
    {
      "cell_type": "code",
      "execution_count": 10,
      "id": "8700f3e4",
      "metadata": {
        "colab": {
          "base_uri": "https://localhost:8080/"
        },
        "id": "8700f3e4",
        "outputId": "aaf8c73d-bddf-4704-f6e0-cf723f438462"
      },
      "outputs": [
        {
          "output_type": "execute_result",
          "data": {
            "text/plain": [
              "True"
            ]
          },
          "metadata": {},
          "execution_count": 10
        }
      ],
      "source": [
        "s[0] == s[-13]"
      ]
    },
    {
      "cell_type": "markdown",
      "id": "7924d6d8",
      "metadata": {
        "id": "7924d6d8"
      },
      "source": [
        "### String Iteration"
      ]
    },
    {
      "cell_type": "code",
      "execution_count": 11,
      "id": "97eed158",
      "metadata": {
        "colab": {
          "base_uri": "https://localhost:8080/"
        },
        "id": "97eed158",
        "outputId": "00745d33-31b9-43cf-bb48-c36bf135cf9c"
      },
      "outputs": [
        {
          "output_type": "stream",
          "name": "stdout",
          "text": [
            "I\n",
            " \n",
            "l\n",
            "o\n",
            "v\n",
            "e\n",
            " \n",
            "c\n",
            "o\n",
            "d\n",
            "i\n",
            "n\n",
            "g\n"
          ]
        }
      ],
      "source": [
        "for ch in s:\n",
        "    print(ch)"
      ]
    },
    {
      "cell_type": "code",
      "execution_count": 12,
      "id": "9dd9fa1e",
      "metadata": {
        "colab": {
          "base_uri": "https://localhost:8080/"
        },
        "id": "9dd9fa1e",
        "outputId": "feb60227-8c1a-47e8-e7a6-8fb28c901569"
      },
      "outputs": [
        {
          "output_type": "stream",
          "name": "stdout",
          "text": [
            "I\n",
            " \n",
            "l\n",
            "o\n",
            "v\n",
            "e\n",
            " \n",
            "c\n",
            "o\n",
            "d\n",
            "i\n",
            "n\n",
            "g\n"
          ]
        }
      ],
      "source": [
        "index = 0\n",
        "while index<len(s):\n",
        "    print(s[index])\n",
        "    index = index +1"
      ]
    },
    {
      "cell_type": "markdown",
      "id": "3f1019ca",
      "metadata": {
        "id": "3f1019ca"
      },
      "source": [
        "### String Functions"
      ]
    },
    {
      "cell_type": "markdown",
      "id": "b9ea6f36",
      "metadata": {
        "id": "b9ea6f36"
      },
      "source": [
        "https://docs.python.org/2.5/lib/string-methods.html"
      ]
    },
    {
      "cell_type": "code",
      "execution_count": 13,
      "id": "704f7904",
      "metadata": {
        "colab": {
          "base_uri": "https://localhost:8080/",
          "height": 36
        },
        "id": "704f7904",
        "outputId": "d4458e9b-1918-4427-e8b4-adac7b8255fd"
      },
      "outputs": [
        {
          "output_type": "execute_result",
          "data": {
            "text/plain": [
              "'Python'"
            ],
            "application/vnd.google.colaboratory.intrinsic+json": {
              "type": "string"
            }
          },
          "metadata": {},
          "execution_count": 13
        }
      ],
      "source": [
        "s1 = \"python\"\n",
        "s1.capitalize()"
      ]
    },
    {
      "cell_type": "code",
      "source": [
        "s1.upper()"
      ],
      "metadata": {
        "colab": {
          "base_uri": "https://localhost:8080/",
          "height": 36
        },
        "id": "TF0sWmIuMR6k",
        "outputId": "7544f953-323b-473a-84e4-5c77433722ec"
      },
      "id": "TF0sWmIuMR6k",
      "execution_count": 14,
      "outputs": [
        {
          "output_type": "execute_result",
          "data": {
            "text/plain": [
              "'PYTHON'"
            ],
            "application/vnd.google.colaboratory.intrinsic+json": {
              "type": "string"
            }
          },
          "metadata": {},
          "execution_count": 14
        }
      ]
    },
    {
      "cell_type": "code",
      "execution_count": 15,
      "id": "99e127ec",
      "metadata": {
        "colab": {
          "base_uri": "https://localhost:8080/"
        },
        "id": "99e127ec",
        "outputId": "07d8179f-3e41-4951-a633-e8449c903cda"
      },
      "outputs": [
        {
          "output_type": "execute_result",
          "data": {
            "text/plain": [
              "2"
            ]
          },
          "metadata": {},
          "execution_count": 15
        }
      ],
      "source": [
        "s.count('o')"
      ]
    },
    {
      "cell_type": "code",
      "execution_count": 16,
      "id": "773b4aab",
      "metadata": {
        "colab": {
          "base_uri": "https://localhost:8080/"
        },
        "id": "773b4aab",
        "outputId": "8ea48df6-8f55-44f9-a6a0-c9628be78fc4"
      },
      "outputs": [
        {
          "output_type": "execute_result",
          "data": {
            "text/plain": [
              "True"
            ]
          },
          "metadata": {},
          "execution_count": 16
        }
      ],
      "source": [
        "s.endswith('ng')"
      ]
    },
    {
      "cell_type": "code",
      "execution_count": 20,
      "id": "54dba4ec",
      "metadata": {
        "colab": {
          "base_uri": "https://localhost:8080/"
        },
        "id": "54dba4ec",
        "outputId": "37d4e460-bf72-4cdb-df09-30714f6cf986"
      },
      "outputs": [
        {
          "output_type": "execute_result",
          "data": {
            "text/plain": [
              "-1"
            ]
          },
          "metadata": {},
          "execution_count": 20
        }
      ],
      "source": [
        "s.find('za')"
      ]
    },
    {
      "cell_type": "code",
      "execution_count": 19,
      "id": "b300839b",
      "metadata": {
        "colab": {
          "base_uri": "https://localhost:8080/",
          "height": 165
        },
        "id": "b300839b",
        "outputId": "c1a22ab3-4330-4d5b-f727-e8ce7249c4cd"
      },
      "outputs": [
        {
          "output_type": "error",
          "ename": "ValueError",
          "evalue": "ignored",
          "traceback": [
            "\u001b[0;31m---------------------------------------------------------------------------\u001b[0m",
            "\u001b[0;31mValueError\u001b[0m                                Traceback (most recent call last)",
            "\u001b[0;32m<ipython-input-19-8fdd380a10e0>\u001b[0m in \u001b[0;36m<module>\u001b[0;34m\u001b[0m\n\u001b[0;32m----> 1\u001b[0;31m \u001b[0ms\u001b[0m\u001b[0;34m.\u001b[0m\u001b[0mindex\u001b[0m\u001b[0;34m(\u001b[0m\u001b[0;34m'za'\u001b[0m\u001b[0;34m)\u001b[0m\u001b[0;34m\u001b[0m\u001b[0;34m\u001b[0m\u001b[0m\n\u001b[0m",
            "\u001b[0;31mValueError\u001b[0m: substring not found"
          ]
        }
      ],
      "source": [
        "s.index('za')"
      ]
    },
    {
      "cell_type": "code",
      "execution_count": 21,
      "id": "21bf2596",
      "metadata": {
        "colab": {
          "base_uri": "https://localhost:8080/"
        },
        "id": "21bf2596",
        "outputId": "9e324c9a-41cf-4e85-82dc-859e82aa89ef"
      },
      "outputs": [
        {
          "output_type": "execute_result",
          "data": {
            "text/plain": [
              "False"
            ]
          },
          "metadata": {},
          "execution_count": 21
        }
      ],
      "source": [
        "s.isalnum()"
      ]
    },
    {
      "cell_type": "code",
      "source": [
        "s2 = s1.upper()"
      ],
      "metadata": {
        "id": "5lnPHk0lNT6c"
      },
      "id": "5lnPHk0lNT6c",
      "execution_count": 26,
      "outputs": []
    },
    {
      "cell_type": "code",
      "source": [
        "s2"
      ],
      "metadata": {
        "colab": {
          "base_uri": "https://localhost:8080/",
          "height": 36
        },
        "id": "O_5tum1INi93",
        "outputId": "9f84965a-6586-46fe-d757-4e80e334082c"
      },
      "id": "O_5tum1INi93",
      "execution_count": 27,
      "outputs": [
        {
          "output_type": "execute_result",
          "data": {
            "text/plain": [
              "'PYTHON'"
            ],
            "application/vnd.google.colaboratory.intrinsic+json": {
              "type": "string"
            }
          },
          "metadata": {},
          "execution_count": 27
        }
      ]
    },
    {
      "cell_type": "code",
      "source": [
        "s1"
      ],
      "metadata": {
        "colab": {
          "base_uri": "https://localhost:8080/",
          "height": 36
        },
        "id": "qmhZpDG6NYyn",
        "outputId": "227a4ada-61bc-4408-97e1-191aa4c319e6"
      },
      "id": "qmhZpDG6NYyn",
      "execution_count": 25,
      "outputs": [
        {
          "output_type": "execute_result",
          "data": {
            "text/plain": [
              "'python'"
            ],
            "application/vnd.google.colaboratory.intrinsic+json": {
              "type": "string"
            }
          },
          "metadata": {},
          "execution_count": 25
        }
      ]
    },
    {
      "cell_type": "code",
      "execution_count": 28,
      "id": "f86f3563",
      "metadata": {
        "colab": {
          "base_uri": "https://localhost:8080/",
          "height": 36
        },
        "id": "f86f3563",
        "outputId": "c26ef04a-e114-4844-e280-c00925bff9dd"
      },
      "outputs": [
        {
          "output_type": "execute_result",
          "data": {
            "text/plain": [
              "'python'"
            ],
            "application/vnd.google.colaboratory.intrinsic+json": {
              "type": "string"
            }
          },
          "metadata": {},
          "execution_count": 28
        }
      ],
      "source": [
        "s2.lower()"
      ]
    },
    {
      "cell_type": "code",
      "execution_count": 29,
      "id": "b656d435",
      "metadata": {
        "id": "b656d435"
      },
      "outputs": [],
      "source": [
        "s1 = s.replace('coding','python')"
      ]
    },
    {
      "cell_type": "code",
      "execution_count": 30,
      "id": "9da4ca81",
      "metadata": {
        "colab": {
          "base_uri": "https://localhost:8080/",
          "height": 36
        },
        "id": "9da4ca81",
        "outputId": "ba75b4d9-e578-458a-cde1-a98907966c02"
      },
      "outputs": [
        {
          "output_type": "execute_result",
          "data": {
            "text/plain": [
              "'I love coding'"
            ],
            "application/vnd.google.colaboratory.intrinsic+json": {
              "type": "string"
            }
          },
          "metadata": {},
          "execution_count": 30
        }
      ],
      "source": [
        "s"
      ]
    },
    {
      "cell_type": "code",
      "execution_count": 31,
      "id": "5ad48847",
      "metadata": {
        "colab": {
          "base_uri": "https://localhost:8080/",
          "height": 36
        },
        "id": "5ad48847",
        "outputId": "c131e2a9-fc28-44bd-9761-13ed3fb871ff"
      },
      "outputs": [
        {
          "output_type": "execute_result",
          "data": {
            "text/plain": [
              "'I love python'"
            ],
            "application/vnd.google.colaboratory.intrinsic+json": {
              "type": "string"
            }
          },
          "metadata": {},
          "execution_count": 31
        }
      ],
      "source": [
        "s1"
      ]
    },
    {
      "cell_type": "code",
      "execution_count": 32,
      "id": "04d7cd79",
      "metadata": {
        "colab": {
          "base_uri": "https://localhost:8080/"
        },
        "id": "04d7cd79",
        "outputId": "25bc471d-fc25-4836-c9e4-dd7190aa750e"
      },
      "outputs": [
        {
          "output_type": "execute_result",
          "data": {
            "text/plain": [
              "('I love ', 'c', 'oding')"
            ]
          },
          "metadata": {},
          "execution_count": 32
        }
      ],
      "source": [
        "s.partition('c')"
      ]
    },
    {
      "cell_type": "code",
      "execution_count": 33,
      "id": "9c12c03b",
      "metadata": {
        "colab": {
          "base_uri": "https://localhost:8080/"
        },
        "id": "9c12c03b",
        "outputId": "5523a3fe-35a1-4ff4-c03c-0dd07f25f66b"
      },
      "outputs": [
        {
          "output_type": "execute_result",
          "data": {
            "text/plain": [
              "['I', 'love', 'coding']"
            ]
          },
          "metadata": {},
          "execution_count": 33
        }
      ],
      "source": [
        "s.split()"
      ]
    },
    {
      "cell_type": "code",
      "source": [
        "s1 = \"abc , def , ghi\""
      ],
      "metadata": {
        "id": "aIkNQn43O8Ni"
      },
      "id": "aIkNQn43O8Ni",
      "execution_count": 35,
      "outputs": []
    },
    {
      "cell_type": "code",
      "source": [
        "s1.partition(',')"
      ],
      "metadata": {
        "colab": {
          "base_uri": "https://localhost:8080/"
        },
        "id": "bQHFK0LQPC3_",
        "outputId": "aa1267a6-22ec-45ed-d34f-28a633225ec8"
      },
      "id": "bQHFK0LQPC3_",
      "execution_count": 37,
      "outputs": [
        {
          "output_type": "execute_result",
          "data": {
            "text/plain": [
              "('abc ', ',', ' def , ghi')"
            ]
          },
          "metadata": {},
          "execution_count": 37
        }
      ]
    },
    {
      "cell_type": "code",
      "execution_count": 36,
      "id": "d84930f3",
      "metadata": {
        "colab": {
          "base_uri": "https://localhost:8080/"
        },
        "id": "d84930f3",
        "outputId": "77a70fd0-de30-4880-95fe-c9664485c6d6"
      },
      "outputs": [
        {
          "output_type": "execute_result",
          "data": {
            "text/plain": [
              "['abc ', ' def ', ' ghi']"
            ]
          },
          "metadata": {},
          "execution_count": 36
        }
      ],
      "source": [
        "s1.split(',')"
      ]
    },
    {
      "cell_type": "code",
      "source": [
        "s"
      ],
      "metadata": {
        "colab": {
          "base_uri": "https://localhost:8080/",
          "height": 36
        },
        "id": "adhG72GFPLTY",
        "outputId": "53e2fb7b-948f-4837-c89e-a9773fb19581"
      },
      "id": "adhG72GFPLTY",
      "execution_count": 38,
      "outputs": [
        {
          "output_type": "execute_result",
          "data": {
            "text/plain": [
              "'I love coding'"
            ],
            "application/vnd.google.colaboratory.intrinsic+json": {
              "type": "string"
            }
          },
          "metadata": {},
          "execution_count": 38
        }
      ]
    },
    {
      "cell_type": "code",
      "execution_count": 39,
      "id": "438edffe",
      "metadata": {
        "colab": {
          "base_uri": "https://localhost:8080/",
          "height": 36
        },
        "id": "438edffe",
        "outputId": "b5a2b0d3-0d95-4127-8424-acd012d972e5"
      },
      "outputs": [
        {
          "output_type": "execute_result",
          "data": {
            "text/plain": [
              "'I Love Coding'"
            ],
            "application/vnd.google.colaboratory.intrinsic+json": {
              "type": "string"
            }
          },
          "metadata": {},
          "execution_count": 39
        }
      ],
      "source": [
        "s.title()"
      ]
    },
    {
      "cell_type": "code",
      "execution_count": null,
      "id": "5286b151",
      "metadata": {
        "id": "5286b151"
      },
      "outputs": [],
      "source": [
        "s1 = \"       Python                     \"\n",
        "s1.strip()"
      ]
    },
    {
      "cell_type": "code",
      "execution_count": 41,
      "id": "976c3c9f",
      "metadata": {
        "colab": {
          "base_uri": "https://localhost:8080/",
          "height": 36
        },
        "id": "976c3c9f",
        "outputId": "7a522ce9-2240-487e-99c5-6275c1cde15e"
      },
      "outputs": [
        {
          "output_type": "execute_result",
          "data": {
            "text/plain": [
              "'ab#####pq#####rs'"
            ],
            "application/vnd.google.colaboratory.intrinsic+json": {
              "type": "string"
            }
          },
          "metadata": {},
          "execution_count": 41
        }
      ],
      "source": [
        "'#####'.join(['ab', 'pq', 'rs'])"
      ]
    },
    {
      "cell_type": "code",
      "execution_count": null,
      "id": "94813e20",
      "metadata": {
        "id": "94813e20"
      },
      "outputs": [],
      "source": []
    },
    {
      "cell_type": "code",
      "execution_count": null,
      "id": "fe16da62",
      "metadata": {
        "id": "fe16da62"
      },
      "outputs": [],
      "source": []
    },
    {
      "cell_type": "code",
      "execution_count": null,
      "id": "7886e661",
      "metadata": {
        "id": "7886e661"
      },
      "outputs": [],
      "source": []
    },
    {
      "cell_type": "code",
      "execution_count": null,
      "id": "9ef021cd",
      "metadata": {
        "id": "9ef021cd"
      },
      "outputs": [],
      "source": []
    },
    {
      "cell_type": "code",
      "execution_count": null,
      "id": "4956157a",
      "metadata": {
        "id": "4956157a"
      },
      "outputs": [],
      "source": []
    },
    {
      "cell_type": "code",
      "execution_count": null,
      "id": "8d06d403",
      "metadata": {
        "id": "8d06d403"
      },
      "outputs": [],
      "source": []
    }
  ],
  "metadata": {
    "kernelspec": {
      "display_name": "Python 3",
      "language": "python",
      "name": "python3"
    },
    "language_info": {
      "codemirror_mode": {
        "name": "ipython",
        "version": 3
      },
      "file_extension": ".py",
      "mimetype": "text/x-python",
      "name": "python",
      "nbconvert_exporter": "python",
      "pygments_lexer": "ipython3",
      "version": "3.8.8"
    },
    "colab": {
      "provenance": []
    }
  },
  "nbformat": 4,
  "nbformat_minor": 5
}