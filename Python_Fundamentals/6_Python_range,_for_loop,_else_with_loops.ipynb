{
  "cells": [
    {
      "cell_type": "code",
      "source": [
        "type([1, 2, 3, 4])"
      ],
      "metadata": {
        "id": "n4QypBQYp_k0"
      },
      "id": "n4QypBQYp_k0",
      "execution_count": null,
      "outputs": []
    },
    {
      "cell_type": "markdown",
      "id": "d8da2684",
      "metadata": {
        "id": "d8da2684"
      },
      "source": [
        "### range() function"
      ]
    },
    {
      "cell_type": "markdown",
      "id": "ea3e3f10",
      "metadata": {
        "id": "ea3e3f10"
      },
      "source": [
        "The Python range() function returns a sequence of numbers.\n",
        "<br>Syntax: range(start, stop, step)\n",
        "<br>start- optional, default: 0\n",
        "<br>stop- range() returns a sequence till stop-1\n",
        "<br>step- optional, default: 1"
      ]
    },
    {
      "cell_type": "code",
      "execution_count": null,
      "id": "2ec9d947",
      "metadata": {
        "id": "2ec9d947"
      },
      "outputs": [],
      "source": [
        "range(5) # only one parameter, hence stop=5"
      ]
    },
    {
      "cell_type": "code",
      "execution_count": null,
      "id": "651a12c3",
      "metadata": {
        "id": "651a12c3"
      },
      "outputs": [],
      "source": [
        "type(range(5))"
      ]
    },
    {
      "cell_type": "code",
      "execution_count": null,
      "id": "ae7fc876",
      "metadata": {
        "id": "ae7fc876"
      },
      "outputs": [],
      "source": [
        "list(range(5))"
      ]
    },
    {
      "cell_type": "code",
      "execution_count": null,
      "id": "38b5943e",
      "metadata": {
        "id": "38b5943e"
      },
      "outputs": [],
      "source": [
        "type([0, 1, 2, 3, 4])"
      ]
    },
    {
      "cell_type": "code",
      "execution_count": null,
      "id": "d41d6459",
      "metadata": {
        "id": "d41d6459",
        "outputId": "06ccb8a8-9792-44ed-b97e-3380672a1c0d",
        "colab": {
          "base_uri": "https://localhost:8080/"
        }
      },
      "outputs": [
        {
          "output_type": "execute_result",
          "data": {
            "text/plain": [
              "range(10, 20)"
            ]
          },
          "metadata": {},
          "execution_count": 6
        }
      ],
      "source": [
        "range(10,20)  # two parameters, hence start= 10 and stop=20"
      ]
    },
    {
      "cell_type": "code",
      "execution_count": null,
      "id": "552908a1",
      "metadata": {
        "id": "552908a1",
        "outputId": "b150704f-ccb6-4832-bf25-620202d48df8",
        "colab": {
          "base_uri": "https://localhost:8080/"
        }
      },
      "outputs": [
        {
          "output_type": "execute_result",
          "data": {
            "text/plain": [
              "[10, 11, 12, 13, 14, 15, 16, 17, 18, 19]"
            ]
          },
          "metadata": {},
          "execution_count": 7
        }
      ],
      "source": [
        "list(range(10,20))"
      ]
    },
    {
      "cell_type": "code",
      "execution_count": null,
      "id": "23152e6e",
      "metadata": {
        "id": "23152e6e",
        "outputId": "5a546a30-c7b9-4c79-ead4-78614201e49d",
        "colab": {
          "base_uri": "https://localhost:8080/"
        }
      },
      "outputs": [
        {
          "output_type": "execute_result",
          "data": {
            "text/plain": [
              "range(10, 20, 2)"
            ]
          },
          "metadata": {},
          "execution_count": 10
        }
      ],
      "source": [
        "range(10, 20, 2) # three parameters, which means start= 10, stop=20 and step= 2"
      ]
    },
    {
      "cell_type": "code",
      "execution_count": null,
      "id": "ae40b3bc",
      "metadata": {
        "id": "ae40b3bc",
        "outputId": "aec26533-1f68-4a24-b2c3-c4a825c32bf1",
        "colab": {
          "base_uri": "https://localhost:8080/"
        }
      },
      "outputs": [
        {
          "output_type": "execute_result",
          "data": {
            "text/plain": [
              "[10, 12, 14, 16, 18]"
            ]
          },
          "metadata": {},
          "execution_count": 8
        }
      ],
      "source": [
        "list(range(10, 20, 2))"
      ]
    },
    {
      "cell_type": "code",
      "execution_count": null,
      "id": "4e7c5190",
      "metadata": {
        "id": "4e7c5190",
        "outputId": "adb3ca55-551a-4f43-9606-ff74e2750aea",
        "colab": {
          "base_uri": "https://localhost:8080/"
        }
      },
      "outputs": [
        {
          "output_type": "execute_result",
          "data": {
            "text/plain": [
              "[10, 9, 8, 7, 6, 5, 4, 3, 2]"
            ]
          },
          "metadata": {},
          "execution_count": 9
        }
      ],
      "source": [
        "list(range(10, 1, -1))"
      ]
    },
    {
      "cell_type": "code",
      "execution_count": null,
      "id": "29c21986",
      "metadata": {
        "id": "29c21986",
        "outputId": "a127fd47-df15-4de0-ad42-5643a827c81c",
        "colab": {
          "base_uri": "https://localhost:8080/"
        }
      },
      "outputs": [
        {
          "output_type": "execute_result",
          "data": {
            "text/plain": [
              "[10, 8, 6, 4, 2]"
            ]
          },
          "metadata": {},
          "execution_count": 11
        }
      ],
      "source": [
        "list(range(10, 1, -2))"
      ]
    },
    {
      "cell_type": "code",
      "execution_count": null,
      "id": "80bac5f0",
      "metadata": {
        "id": "80bac5f0",
        "outputId": "9f5ffb28-015d-4fd6-b0c4-8e4c7a5261b5",
        "colab": {
          "base_uri": "https://localhost:8080/"
        }
      },
      "outputs": [
        {
          "output_type": "execute_result",
          "data": {
            "text/plain": [
              "[]"
            ]
          },
          "metadata": {},
          "execution_count": 12
        }
      ],
      "source": [
        "list(range(10, 1))"
      ]
    },
    {
      "cell_type": "code",
      "execution_count": null,
      "id": "328c5994",
      "metadata": {
        "id": "328c5994",
        "outputId": "35c9a770-ce7b-49ea-f2f9-7613c0449e97",
        "colab": {
          "base_uri": "https://localhost:8080/"
        }
      },
      "outputs": [
        {
          "output_type": "execute_result",
          "data": {
            "text/plain": [
              "[100, 160, 220, 280, 340, 400, 460, 520, 580, 640, 700, 760, 820, 880, 940]"
            ]
          },
          "metadata": {},
          "execution_count": 13
        }
      ],
      "source": [
        "list(range(100, 1000, 60))"
      ]
    },
    {
      "cell_type": "code",
      "source": [
        "list(range(0,40,5))"
      ],
      "metadata": {
        "colab": {
          "base_uri": "https://localhost:8080/"
        },
        "id": "RkFBp2KMsOpr",
        "outputId": "9f4c1dd3-eb19-4482-85ab-df85e053b6b6"
      },
      "id": "RkFBp2KMsOpr",
      "execution_count": null,
      "outputs": [
        {
          "output_type": "execute_result",
          "data": {
            "text/plain": [
              "[0, 5, 10, 15, 20, 25, 30, 35]"
            ]
          },
          "metadata": {},
          "execution_count": 16
        }
      ]
    },
    {
      "cell_type": "code",
      "source": [
        "help(print)"
      ],
      "metadata": {
        "colab": {
          "base_uri": "https://localhost:8080/"
        },
        "id": "l2m6ijUmtnU7",
        "outputId": "3b2073e7-db60-46ac-a93c-0a1dc42b08c0"
      },
      "id": "l2m6ijUmtnU7",
      "execution_count": null,
      "outputs": [
        {
          "output_type": "stream",
          "name": "stdout",
          "text": [
            "Help on built-in function print in module builtins:\n",
            "\n",
            "print(...)\n",
            "    print(value, ..., sep=' ', end='\\n', file=sys.stdout, flush=False)\n",
            "    \n",
            "    Prints the values to a stream, or to sys.stdout by default.\n",
            "    Optional keyword arguments:\n",
            "    file:  a file-like object (stream); defaults to the current sys.stdout.\n",
            "    sep:   string inserted between values, default a space.\n",
            "    end:   string appended after the last value, default a newline.\n",
            "    flush: whether to forcibly flush the stream.\n",
            "\n"
          ]
        }
      ]
    },
    {
      "cell_type": "code",
      "source": [
        "i = 0\n",
        "while i<40:\n",
        "  print(i, end=\",\")\n",
        "  i = i+5"
      ],
      "metadata": {
        "colab": {
          "base_uri": "https://localhost:8080/"
        },
        "id": "YHOfjxczsw2X",
        "outputId": "a6192fa9-54bd-43b3-c963-dca064c075db"
      },
      "id": "YHOfjxczsw2X",
      "execution_count": null,
      "outputs": [
        {
          "output_type": "stream",
          "name": "stdout",
          "text": [
            "0,5,10,15,20,25,30,35,"
          ]
        }
      ]
    },
    {
      "cell_type": "code",
      "source": [
        "for i in range(0,40,5):\n",
        "  print(i, end=\",\")"
      ],
      "metadata": {
        "colab": {
          "base_uri": "https://localhost:8080/"
        },
        "id": "pW-Ffx4kuChH",
        "outputId": "ed2734cc-fcea-4a44-e8a2-d6add0a1d03d"
      },
      "id": "pW-Ffx4kuChH",
      "execution_count": null,
      "outputs": [
        {
          "output_type": "stream",
          "name": "stdout",
          "text": [
            "0,5,10,15,20,25,30,35,"
          ]
        }
      ]
    },
    {
      "cell_type": "code",
      "source": [
        "for file in [\"file1.txt\", \"file2.txt\", \"123.txt\", \"1234.ipynb\"]:\n",
        "  print(file)\n",
        "  print(\"123\")\n",
        "  sum = 4 +5\n",
        "  print(sum)"
      ],
      "metadata": {
        "colab": {
          "base_uri": "https://localhost:8080/"
        },
        "id": "YtLVrJKkufAu",
        "outputId": "0ce4857c-ec5b-465a-f003-f260e1be5491"
      },
      "id": "YtLVrJKkufAu",
      "execution_count": null,
      "outputs": [
        {
          "output_type": "stream",
          "name": "stdout",
          "text": [
            "file1.txt\n",
            "123\n",
            "9\n",
            "file2.txt\n",
            "123\n",
            "9\n",
            "123.txt\n",
            "123\n",
            "9\n",
            "1234.ipynb\n",
            "123\n",
            "9\n"
          ]
        }
      ]
    },
    {
      "cell_type": "markdown",
      "id": "31cf4095",
      "metadata": {
        "id": "31cf4095"
      },
      "source": [
        "## for loop\n",
        "\n",
        "A for loop is used for iterating over a sequence."
      ]
    },
    {
      "cell_type": "code",
      "execution_count": null,
      "id": "b09ce753",
      "metadata": {
        "id": "b09ce753",
        "outputId": "54f407e7-fd91-463f-cc41-688a63d38fc7",
        "colab": {
          "base_uri": "https://localhost:8080/"
        }
      },
      "outputs": [
        {
          "output_type": "stream",
          "name": "stdout",
          "text": [
            "5\n",
            "8\n",
            "11\n",
            "14\n",
            "17\n"
          ]
        }
      ],
      "source": [
        "for num in range(5, 20, 3):\n",
        "    print(num)"
      ]
    },
    {
      "cell_type": "code",
      "execution_count": null,
      "id": "b81b2ace",
      "metadata": {
        "id": "b81b2ace",
        "outputId": "0f9a76b5-52a6-428e-b909-055f29191ffd",
        "colab": {
          "base_uri": "https://localhost:8080/"
        }
      },
      "outputs": [
        {
          "output_type": "stream",
          "name": "stdout",
          "text": [
            "1\n",
            "2\n",
            "3\n",
            "4\n",
            "5\n",
            "6\n",
            "7\n",
            "8\n",
            "9\n",
            "10\n"
          ]
        }
      ],
      "source": [
        "for num in range(1, 11):\n",
        "    print(num)"
      ]
    },
    {
      "cell_type": "code",
      "execution_count": null,
      "id": "9160f5f9",
      "metadata": {
        "id": "9160f5f9",
        "outputId": "2eb374e0-5cb4-47af-9e9a-6d4a6591edda",
        "colab": {
          "base_uri": "https://localhost:8080/"
        }
      },
      "outputs": [
        {
          "output_type": "stream",
          "name": "stdout",
          "text": [
            "P\n",
            "y\n",
            "t\n",
            "h\n",
            "o\n",
            "n\n"
          ]
        }
      ],
      "source": [
        "s = \"Python\"\n",
        "for ch in s:\n",
        "    print(ch)"
      ]
    },
    {
      "cell_type": "markdown",
      "id": "595e9046",
      "metadata": {
        "id": "595e9046"
      },
      "source": [
        "## in/ not in operator\n",
        "\n",
        "Known as menbership operators.\n",
        "Checks if an item is present/ not present in a sequence and returns True or False."
      ]
    },
    {
      "cell_type": "code",
      "execution_count": null,
      "id": "fba77684",
      "metadata": {
        "id": "fba77684",
        "outputId": "e7b83f07-4244-41d9-8086-656b8c6fdbef",
        "colab": {
          "base_uri": "https://localhost:8080/"
        }
      },
      "outputs": [
        {
          "output_type": "execute_result",
          "data": {
            "text/plain": [
              "True"
            ]
          },
          "metadata": {},
          "execution_count": 35
        }
      ],
      "source": [
        "'@' not in \"liji.gmail.com\"   # True if not present"
      ]
    },
    {
      "cell_type": "code",
      "execution_count": null,
      "id": "cb03a244",
      "metadata": {
        "id": "cb03a244",
        "outputId": "52e6de53-9727-44d2-98c4-7685666940d9",
        "colab": {
          "base_uri": "https://localhost:8080/"
        }
      },
      "outputs": [
        {
          "output_type": "execute_result",
          "data": {
            "text/plain": [
              "True"
            ]
          },
          "metadata": {},
          "execution_count": 36
        }
      ],
      "source": [
        "'a' not in 'Python'"
      ]
    },
    {
      "cell_type": "code",
      "execution_count": null,
      "id": "1b3607cf",
      "metadata": {
        "id": "1b3607cf",
        "outputId": "55f5cb63-b76b-4969-d3e3-caf69173b257",
        "colab": {
          "base_uri": "https://localhost:8080/"
        }
      },
      "outputs": [
        {
          "output_type": "execute_result",
          "data": {
            "text/plain": [
              "True"
            ]
          },
          "metadata": {},
          "execution_count": 37
        }
      ],
      "source": [
        "3 in range(0,10,3)     # True if present"
      ]
    },
    {
      "cell_type": "code",
      "execution_count": null,
      "id": "c2a38e0b",
      "metadata": {
        "id": "c2a38e0b",
        "outputId": "a0ffbe72-183a-4f5a-9158-6a1d99b91615",
        "colab": {
          "base_uri": "https://localhost:8080/"
        }
      },
      "outputs": [
        {
          "output_type": "execute_result",
          "data": {
            "text/plain": [
              "True"
            ]
          },
          "metadata": {},
          "execution_count": 38
        }
      ],
      "source": [
        "4 not in range(1,4)"
      ]
    },
    {
      "cell_type": "markdown",
      "id": "dec4d5dd",
      "metadata": {
        "id": "dec4d5dd"
      },
      "source": [
        "### break and continue with for loop"
      ]
    },
    {
      "cell_type": "code",
      "execution_count": null,
      "id": "dcf2bb04",
      "metadata": {
        "id": "dcf2bb04",
        "outputId": "988d7dd3-434e-47cc-fa23-1b665e248b82",
        "colab": {
          "base_uri": "https://localhost:8080/"
        }
      },
      "outputs": [
        {
          "output_type": "stream",
          "name": "stdout",
          "text": [
            "10\n",
            "11\n",
            "12\n",
            "13\n",
            "14\n"
          ]
        }
      ],
      "source": [
        "for i in range(10, 20):\n",
        "    if i == 15:\n",
        "        break    # exit from loop\n",
        "    print(i)"
      ]
    },
    {
      "cell_type": "code",
      "execution_count": null,
      "id": "5ff86c4c",
      "metadata": {
        "id": "5ff86c4c",
        "outputId": "a6223ed5-ecf5-4e14-ad73-807c0140d516",
        "colab": {
          "base_uri": "https://localhost:8080/"
        }
      },
      "outputs": [
        {
          "output_type": "stream",
          "name": "stdout",
          "text": [
            "10\n",
            "11\n",
            "12\n",
            "13\n",
            "14\n",
            "16\n",
            "17\n",
            "18\n",
            "19\n"
          ]
        }
      ],
      "source": [
        "for i in range(10, 20):\n",
        "    if i == 15:\n",
        "        continue   # continue to beginning of loop\n",
        "    print(i)"
      ]
    },
    {
      "cell_type": "markdown",
      "id": "f4b47772",
      "metadata": {
        "id": "f4b47772"
      },
      "source": [
        "### else with for loop"
      ]
    },
    {
      "cell_type": "markdown",
      "id": "f163da69",
      "metadata": {
        "id": "f163da69"
      },
      "source": [
        "else in a loop is executed only if the loop completes execution without any interruption in between"
      ]
    },
    {
      "cell_type": "code",
      "execution_count": null,
      "id": "9d5074b1",
      "metadata": {
        "id": "9d5074b1",
        "outputId": "b5b2befe-0ae2-4d78-adfe-f7cca2981bb0",
        "colab": {
          "base_uri": "https://localhost:8080/"
        }
      },
      "outputs": [
        {
          "output_type": "stream",
          "name": "stdout",
          "text": [
            "h\n",
            "b\n",
            "m\n",
            ",\n",
            "b\n",
            ".\n",
            "n\n",
            "k\n",
            ".\n",
            "j\n",
            "n\n",
            "l\n",
            ".\n",
            "n\n",
            "l\n",
            "k\n",
            "j\n",
            "l\n",
            "f\n",
            "s\n",
            "r\n",
            "e\n",
            "d\n",
            "t\n",
            "y\n",
            "u\n",
            "g\n",
            "h\n",
            "h\n",
            ";\n",
            "l\n",
            "k\n",
            "j\n",
            "l\n",
            ";\n",
            "k\n",
            "j\n",
            "l\n",
            "k\n",
            "j\n",
            "l\n",
            "k\n",
            "h\n",
            "k\n",
            "h\n",
            "f\n",
            "d\n",
            "y\n",
            "u\n",
            "r\n",
            "u\n",
            "y\n",
            "o\n",
            "h\n",
            "l\n",
            ";\n",
            "k\n",
            "j\n",
            "j\n",
            "g\n",
            "f\n",
            "g\n",
            "k\n",
            "h\n",
            "j\n",
            "g\n",
            "h\n",
            "j\n",
            "k\n",
            "l\n",
            "j\n",
            "b\n",
            "a is not there\n",
            "I am out\n"
          ]
        }
      ],
      "source": [
        "for ch in \"hbm,b.nk.jnl.nlkjlfsredtyughh;lkjl;kjlkjlkhkhfdyuruyohl;kjjgfgkhjghjkljb\":\n",
        "    if ch=='a':\n",
        "        break    # if this break is executed else for be executed\n",
        "    print(ch)\n",
        "else:\n",
        "    print(\"a is not there\")\n",
        "\n",
        "print(\"I am out\")"
      ]
    },
    {
      "cell_type": "code",
      "execution_count": null,
      "id": "693e76ad",
      "metadata": {
        "id": "693e76ad",
        "outputId": "f836afbe-be33-4d4e-fb1d-a44909bc324e",
        "colab": {
          "base_uri": "https://localhost:8080/"
        }
      },
      "outputs": [
        {
          "output_type": "stream",
          "name": "stdout",
          "text": [
            "1\n",
            "3\n",
            "5\n",
            "7\n",
            "9\n",
            "2 not in the range\n"
          ]
        }
      ],
      "source": [
        "for num in range(1, 10, 2):\n",
        "    if num==2:\n",
        "        break\n",
        "    print(num)\n",
        "else:\n",
        "    print(\"2 not in the range\")"
      ]
    },
    {
      "cell_type": "markdown",
      "source": [
        "### Else with while"
      ],
      "metadata": {
        "id": "JzbChDus2mb_"
      },
      "id": "JzbChDus2mb_"
    },
    {
      "cell_type": "code",
      "source": [
        "blacklisted = [\"user1\", \"user2\", \"user3\"]\n",
        "count = 1\n",
        "while count<=3:\n",
        "  user_name = input(\"Enter user name\")\n",
        "  if user_name in blacklisted:\n",
        "    print(\"Blacklisted\")\n",
        "    break\n",
        "  password = input(\"Enter password\") \n",
        "  if user_name == \"admin\"  and password == \"admin\":\n",
        "    print(\"Logged in successfully\")\n",
        "    break\n",
        "  else:\n",
        "    print(\"Incorrect user name or password\")\n",
        "  count+=1\n",
        "else:\n",
        "  print(\"Login unsuccessful\")\n"
      ],
      "metadata": {
        "id": "TSRYV7fT3CPF"
      },
      "id": "TSRYV7fT3CPF",
      "execution_count": null,
      "outputs": []
    }
  ],
  "metadata": {
    "kernelspec": {
      "display_name": "Python 3",
      "language": "python",
      "name": "python3"
    },
    "language_info": {
      "codemirror_mode": {
        "name": "ipython",
        "version": 3
      },
      "file_extension": ".py",
      "mimetype": "text/x-python",
      "name": "python",
      "nbconvert_exporter": "python",
      "pygments_lexer": "ipython3",
      "version": "3.8.8"
    },
    "colab": {
      "provenance": []
    }
  },
  "nbformat": 4,
  "nbformat_minor": 5
}