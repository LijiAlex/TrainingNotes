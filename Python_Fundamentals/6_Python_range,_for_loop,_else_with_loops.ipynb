{
  "cells": [
    {
      "cell_type": "code",
      "source": [
        "type([1, 2, 3, 4])"
      ],
      "metadata": {
        "id": "n4QypBQYp_k0"
      },
      "id": "n4QypBQYp_k0",
      "execution_count": null,
      "outputs": []
    },
    {
      "cell_type": "markdown",
      "id": "d8da2684",
      "metadata": {
        "id": "d8da2684"
      },
      "source": [
        "### range() function"
      ]
    },
    {
      "cell_type": "markdown",
      "id": "ea3e3f10",
      "metadata": {
        "id": "ea3e3f10"
      },
      "source": [
        "The Python range() function returns a sequence of numbers.\n",
        "<br>Syntax: range(start, stop, step)\n",
        "<br>start- optional, default: 0\n",
        "<br>stop- range() returns a sequence till stop-1\n",
        "<br>step- optional, default: 1"
      ]
    },
    {
      "cell_type": "code",
      "execution_count": null,
      "id": "2ec9d947",
      "metadata": {
        "id": "2ec9d947"
      },
      "outputs": [],
      "source": [
        "range(5) # only one parameter, hence stop=5"
      ]
    },
    {
      "cell_type": "code",
      "execution_count": null,
      "id": "651a12c3",
      "metadata": {
        "id": "651a12c3"
      },
      "outputs": [],
      "source": [
        "type(range(5))"
      ]
    },
    {
      "cell_type": "code",
      "execution_count": null,
      "id": "ae7fc876",
      "metadata": {
        "id": "ae7fc876"
      },
      "outputs": [],
      "source": [
        "list(range(5))"
      ]
    },
    {
      "cell_type": "code",
      "execution_count": null,
      "id": "38b5943e",
      "metadata": {
        "id": "38b5943e"
      },
      "outputs": [],
      "source": [
        "type([0, 1, 2, 3, 4])"
      ]
    },
    {
      "cell_type": "code",
      "execution_count": null,
      "id": "d41d6459",
      "metadata": {
        "id": "d41d6459",
        "outputId": "06ccb8a8-9792-44ed-b97e-3380672a1c0d",
        "colab": {
          "base_uri": "https://localhost:8080/"
        }
      },
      "outputs": [
        {
          "output_type": "execute_result",
          "data": {
            "text/plain": [
              "range(10, 20)"
            ]
          },
          "metadata": {},
          "execution_count": 6
        }
      ],
      "source": [
        "range(10,20)  # two parameters, hence start= 10 and stop=20"
      ]
    },
    {
      "cell_type": "code",
      "execution_count": null,
      "id": "552908a1",
      "metadata": {
        "id": "552908a1",
        "outputId": "b150704f-ccb6-4832-bf25-620202d48df8",
        "colab": {
          "base_uri": "https://localhost:8080/"
        }
      },
      "outputs": [
        {
          "output_type": "execute_result",
          "data": {
            "text/plain": [
              "[10, 11, 12, 13, 14, 15, 16, 17, 18, 19]"
            ]
          },
          "metadata": {},
          "execution_count": 7
        }
      ],
      "source": [
        "list(range(10,20))"
      ]
    },
    {
      "cell_type": "code",
      "execution_count": null,
      "id": "23152e6e",
      "metadata": {
        "id": "23152e6e",
        "outputId": "5a546a30-c7b9-4c79-ead4-78614201e49d",
        "colab": {
          "base_uri": "https://localhost:8080/"
        }
      },
      "outputs": [
        {
          "output_type": "execute_result",
          "data": {
            "text/plain": [
              "range(10, 20, 2)"
            ]
          },
          "metadata": {},
          "execution_count": 10
        }
      ],
      "source": [
        "range(10, 20, 2) # three parameters, which means start= 10, stop=20 and step= 2"
      ]
    },
    {
      "cell_type": "code",
      "execution_count": null,
      "id": "ae40b3bc",
      "metadata": {
        "id": "ae40b3bc",
        "outputId": "aec26533-1f68-4a24-b2c3-c4a825c32bf1",
        "colab": {
          "base_uri": "https://localhost:8080/"
        }
      },
      "outputs": [
        {
          "output_type": "execute_result",
          "data": {
            "text/plain": [
              "[10, 12, 14, 16, 18]"
            ]
          },
          "metadata": {},
          "execution_count": 8
        }
      ],
      "source": [
        "list(range(10, 20, 2))"
      ]
    },
    {
      "cell_type": "code",
      "execution_count": null,
      "id": "4e7c5190",
      "metadata": {
        "id": "4e7c5190",
        "outputId": "adb3ca55-551a-4f43-9606-ff74e2750aea",
        "colab": {
          "base_uri": "https://localhost:8080/"
        }
      },
      "outputs": [
        {
          "output_type": "execute_result",
          "data": {
            "text/plain": [
              "[10, 9, 8, 7, 6, 5, 4, 3, 2]"
            ]
          },
          "metadata": {},
          "execution_count": 9
        }
      ],
      "source": [
        "list(range(10, 1, -1))"
      ]
    },
    {
      "cell_type": "code",
      "execution_count": null,
      "id": "29c21986",
      "metadata": {
        "id": "29c21986",
        "outputId": "a127fd47-df15-4de0-ad42-5643a827c81c",
        "colab": {
          "base_uri": "https://localhost:8080/"
        }
      },
      "outputs": [
        {
          "output_type": "execute_result",
          "data": {
            "text/plain": [
              "[10, 8, 6, 4, 2]"
            ]
          },
          "metadata": {},
          "execution_count": 11
        }
      ],
      "source": [
        "list(range(10, 1, -2))"
      ]
    },
    {
      "cell_type": "code",
      "execution_count": null,
      "id": "80bac5f0",
      "metadata": {
        "id": "80bac5f0",
        "outputId": "9f5ffb28-015d-4fd6-b0c4-8e4c7a5261b5",
        "colab": {
          "base_uri": "https://localhost:8080/"
        }
      },
      "outputs": [
        {
          "output_type": "execute_result",
          "data": {
            "text/plain": [
              "[]"
            ]
          },
          "metadata": {},
          "execution_count": 12
        }
      ],
      "source": [
        "list(range(10, 1))"
      ]
    },
    {
      "cell_type": "code",
      "execution_count": null,
      "id": "328c5994",
      "metadata": {
        "id": "328c5994",
        "outputId": "35c9a770-ce7b-49ea-f2f9-7613c0449e97",
        "colab": {
          "base_uri": "https://localhost:8080/"
        }
      },
      "outputs": [
        {
          "output_type": "execute_result",
          "data": {
            "text/plain": [
              "[100, 160, 220, 280, 340, 400, 460, 520, 580, 640, 700, 760, 820, 880, 940]"
            ]
          },
          "metadata": {},
          "execution_count": 13
        }
      ],
      "source": [
        "list(range(100, 1000, 60))"
      ]
    },
    {
      "cell_type": "code",
      "source": [
        "list(range(0,40,5))"
      ],
      "metadata": {
        "colab": {
          "base_uri": "https://localhost:8080/"
        },
        "id": "RkFBp2KMsOpr",
        "outputId": "9f4c1dd3-eb19-4482-85ab-df85e053b6b6"
      },
      "id": "RkFBp2KMsOpr",
      "execution_count": null,
      "outputs": [
        {
          "output_type": "execute_result",
          "data": {
            "text/plain": [
              "[0, 5, 10, 15, 20, 25, 30, 35]"
            ]
          },
          "metadata": {},
          "execution_count": 16
        }
      ]
    },
    {
      "cell_type": "code",
      "source": [
        "help(print)"
      ],
      "metadata": {
        "colab": {
          "base_uri": "https://localhost:8080/"
        },
        "id": "l2m6ijUmtnU7",
        "outputId": "3b2073e7-db60-46ac-a93c-0a1dc42b08c0"
      },
      "id": "l2m6ijUmtnU7",
      "execution_count": null,
      "outputs": [
        {
          "output_type": "stream",
          "name": "stdout",
          "text": [
            "Help on built-in function print in module builtins:\n",
            "\n",
            "print(...)\n",
            "    print(value, ..., sep=' ', end='\\n', file=sys.stdout, flush=False)\n",
            "    \n",
            "    Prints the values to a stream, or to sys.stdout by default.\n",
            "    Optional keyword arguments:\n",
            "    file:  a file-like object (stream); defaults to the current sys.stdout.\n",
            "    sep:   string inserted between values, default a space.\n",
            "    end:   string appended after the last value, default a newline.\n",
            "    flush: whether to forcibly flush the stream.\n",
            "\n"
          ]
        }
      ]
    },
    {
      "cell_type": "code",
      "source": [
        "i = 0\n",
        "while i<40:\n",
        "  print(i, end=\",\")\n",
        "  i = i+5"
      ],
      "metadata": {
        "colab": {
          "base_uri": "https://localhost:8080/"
        },
        "id": "YHOfjxczsw2X",
        "outputId": "a6192fa9-54bd-43b3-c963-dca064c075db"
      },
      "id": "YHOfjxczsw2X",
      "execution_count": null,
      "outputs": [
        {
          "output_type": "stream",
          "name": "stdout",
          "text": [
            "0,5,10,15,20,25,30,35,"
          ]
        }
      ]
    },
    {
      "cell_type": "code",
      "source": [
        "for i in range(0,40,5):\n",
        "  print(i, end=\",\")"
      ],
      "metadata": {
        "colab": {
          "base_uri": "https://localhost:8080/"
        },
        "id": "pW-Ffx4kuChH",
        "outputId": "ed2734cc-fcea-4a44-e8a2-d6add0a1d03d"
      },
      "id": "pW-Ffx4kuChH",
      "execution_count": null,
      "outputs": [
        {
          "output_type": "stream",
          "name": "stdout",
          "text": [
            "0,5,10,15,20,25,30,35,"
          ]
        }
      ]
    },
    {
      "cell_type": "code",
      "source": [
        "for file in [\"file1.txt\", \"file2.txt\", \"123.txt\", \"1234.ipynb\"]:\n",
        "  print(file)\n",
        "  print(\"123\")\n",
        "  sum = 4 +5\n",
        "  print(sum)"
      ],
      "metadata": {
        "colab": {
          "base_uri": "https://localhost:8080/"
        },
        "id": "YtLVrJKkufAu",
        "outputId": "0ce4857c-ec5b-465a-f003-f260e1be5491"
      },
      "id": "YtLVrJKkufAu",
      "execution_count": null,
      "outputs": [
        {
          "output_type": "stream",
          "name": "stdout",
          "text": [
            "file1.txt\n",
            "123\n",
            "9\n",
            "file2.txt\n",
            "123\n",
            "9\n",
            "123.txt\n",
            "123\n",
            "9\n",
            "1234.ipynb\n",
            "123\n",
            "9\n"
          ]
        }
      ]
    },
    {
      "cell_type": "markdown",
      "id": "31cf4095",
      "metadata": {
        "id": "31cf4095"
      },
      "source": [
        "## for loop\n",
        "\n",
        "A for loop is used for iterating over a sequence."
      ]
    },
    {
      "cell_type": "code",
      "execution_count": null,
      "id": "b09ce753",
      "metadata": {
        "id": "b09ce753",
        "outputId": "54f407e7-fd91-463f-cc41-688a63d38fc7",
        "colab": {
          "base_uri": "https://localhost:8080/"
        }
      },
      "outputs": [
        {
          "output_type": "stream",
          "name": "stdout",
          "text": [
            "5\n",
            "8\n",
            "11\n",
            "14\n",
            "17\n"
          ]
        }
      ],
      "source": [
        "for num in range(5, 20, 3):\n",
        "    print(num)"
      ]
    },
    {
      "cell_type": "code",
      "execution_count": null,
      "id": "b81b2ace",
      "metadata": {
        "id": "b81b2ace",
        "outputId": "0f9a76b5-52a6-428e-b909-055f29191ffd",
        "colab": {
          "base_uri": "https://localhost:8080/"
        }
      },
      "outputs": [
        {
          "output_type": "stream",
          "name": "stdout",
          "text": [
            "1\n",
            "2\n",
            "3\n",
            "4\n",
            "5\n",
            "6\n",
            "7\n",
            "8\n",
            "9\n",
            "10\n"
          ]
        }
      ],
      "source": [
        "for num in range(1, 11):\n",
        "    print(num)"
      ]
    },
    {
      "cell_type": "code",
      "execution_count": null,
      "id": "9160f5f9",
      "metadata": {
        "id": "9160f5f9",
        "outputId": "2eb374e0-5cb4-47af-9e9a-6d4a6591edda",
        "colab": {
          "base_uri": "https://localhost:8080/"
        }
      },
      "outputs": [
        {
          "output_type": "stream",
          "name": "stdout",
          "text": [
            "P\n",
            "y\n",
            "t\n",
            "h\n",
            "o\n",
            "n\n"
          ]
        }
      ],
      "source": [
        "s = \"Python\"\n",
        "for ch in s:\n",
        "    print(ch)"
      ]
    },
    {
      "cell_type": "markdown",
      "id": "595e9046",
      "metadata": {
        "id": "595e9046"
      },
      "source": [
        "## in/ not in operator\n",
        "\n",
        "Known as menbership operators.\n",
        "Checks if an item is present/ not present in a sequence and returns True or False."
      ]
    },
    {
      "cell_type": "code",
      "execution_count": null,
      "id": "fba77684",
      "metadata": {
        "id": "fba77684",
        "outputId": "e7b83f07-4244-41d9-8086-656b8c6fdbef",
        "colab": {
          "base_uri": "https://localhost:8080/"
        }
      },
      "outputs": [
        {
          "output_type": "execute_result",
          "data": {
            "text/plain": [
              "True"
            ]
          },
          "metadata": {},
          "execution_count": 35
        }
      ],
      "source": [
        "'@' not in \"liji.gmail.com\"   # True if not present"
      ]
    },
    {
      "cell_type": "code",
      "execution_count": null,
      "id": "cb03a244",
      "metadata": {
        "id": "cb03a244",
        "outputId": "52e6de53-9727-44d2-98c4-7685666940d9",
        "colab": {
          "base_uri": "https://localhost:8080/"
        }
      },
      "outputs": [
        {
          "output_type": "execute_result",
          "data": {
            "text/plain": [
              "True"
            ]
          },
          "metadata": {},
          "execution_count": 36
        }
      ],
      "source": [
        "'a' not in 'Python'"
      ]
    },
    {
      "cell_type": "code",
      "execution_count": null,
      "id": "1b3607cf",
      "metadata": {
        "id": "1b3607cf",
        "outputId": "55f5cb63-b76b-4969-d3e3-caf69173b257",
        "colab": {
          "base_uri": "https://localhost:8080/"
        }
      },
      "outputs": [
        {
          "output_type": "execute_result",
          "data": {
            "text/plain": [
              "True"
            ]
          },
          "metadata": {},
          "execution_count": 37
        }
      ],
      "source": [
        "3 in range(0,10,3)     # True if present"
      ]
    },
    {
      "cell_type": "code",
      "execution_count": null,
      "id": "c2a38e0b",
      "metadata": {
        "id": "c2a38e0b",
        "outputId": "a0ffbe72-183a-4f5a-9158-6a1d99b91615",
        "colab": {
          "base_uri": "https://localhost:8080/"
        }
      },
      "outputs": [
        {
          "output_type": "execute_result",
          "data": {
            "text/plain": [
              "True"
            ]
          },
          "metadata": {},
          "execution_count": 38
        }
      ],
      "source": [
        "4 not in range(1,4)"
      ]
    },
    {
      "cell_type": "markdown",
      "id": "dec4d5dd",
      "metadata": {
        "id": "dec4d5dd"
      },
      "source": [
        "### break and continue with for loop"
      ]
    },
    {
      "cell_type": "code",
      "execution_count": null,
      "id": "dcf2bb04",
      "metadata": {
        "id": "dcf2bb04",
        "outputId": "988d7dd3-434e-47cc-fa23-1b665e248b82",
        "colab": {
          "base_uri": "https://localhost:8080/"
        }
      },
      "outputs": [
        {
          "output_type": "stream",
          "name": "stdout",
          "text": [
            "10\n",
            "11\n",
            "12\n",
            "13\n",
            "14\n"
          ]
        }
      ],
      "source": [
        "for i in range(10, 20):\n",
        "    if i == 15:\n",
        "        break    # exit from loop\n",
        "    print(i)"
      ]
    },
    {
      "cell_type": "code",
      "execution_count": null,
      "id": "5ff86c4c",
      "metadata": {
        "id": "5ff86c4c",
        "outputId": "a6223ed5-ecf5-4e14-ad73-807c0140d516",
        "colab": {
          "base_uri": "https://localhost:8080/"
        }
      },
      "outputs": [
        {
          "output_type": "stream",
          "name": "stdout",
          "text": [
            "10\n",
            "11\n",
            "12\n",
            "13\n",
            "14\n",
            "16\n",
            "17\n",
            "18\n",
            "19\n"
          ]
        }
      ],
      "source": [
        "for i in range(10, 20):\n",
        "    if i == 15:\n",
        "        continue   # continue to beginning of loop\n",
        "    print(i)"
      ]
    },
    {
      "cell_type": "markdown",
      "id": "f4b47772",
      "metadata": {
        "id": "f4b47772"
      },
      "source": [
        "### else with for loop"
      ]
    },
    {
      "cell_type": "markdown",
      "id": "f163da69",
      "metadata": {
        "id": "f163da69"
      },
      "source": [
        "else in a loop is executed only if the loop completes execution without any interruption in between"
      ]
    },
    {
      "cell_type": "code",
      "execution_count": null,
      "id": "9d5074b1",
      "metadata": {
        "id": "9d5074b1",
        "outputId": "b5b2befe-0ae2-4d78-adfe-f7cca2981bb0",
        "colab": {
          "base_uri": "https://localhost:8080/"
        }
      },
      "outputs": [
        {
          "output_type": "stream",
          "name": "stdout",
          "text": [
            "h\n",
            "b\n",
            "m\n",
            ",\n",
            "b\n",
            ".\n",
            "n\n",
            "k\n",
            ".\n",
            "j\n",
            "n\n",
            "l\n",
            ".\n",
            "n\n",
            "l\n",
            "k\n",
            "j\n",
            "l\n",
            "f\n",
            "s\n",
            "r\n",
            "e\n",
            "d\n",
            "t\n",
            "y\n",
            "u\n",
            "g\n",
            "h\n",
            "h\n",
            ";\n",
            "l\n",
            "k\n",
            "j\n",
            "l\n",
            ";\n",
            "k\n",
            "j\n",
            "l\n",
            "k\n",
            "j\n",
            "l\n",
            "k\n",
            "h\n",
            "k\n",
            "h\n",
            "f\n",
            "d\n",
            "y\n",
            "u\n",
            "r\n",
            "u\n",
            "y\n",
            "o\n",
            "h\n",
            "l\n",
            ";\n",
            "k\n",
            "j\n",
            "j\n",
            "g\n",
            "f\n",
            "g\n",
            "k\n",
            "h\n",
            "j\n",
            "g\n",
            "h\n",
            "j\n",
            "k\n",
            "l\n",
            "j\n",
            "b\n",
            "a is not there\n",
            "I am out\n"
          ]
        }
      ],
      "source": [
        "for ch in \"hbm,b.nk.jnl.nlkjlfsredtyughh;lkjl;kjlkjlkhkhfdyuruyohl;kjjgfgkhjghjkljb\":\n",
        "    if ch=='a':\n",
        "        break    # if this break is executed else for be executed\n",
        "    print(ch)\n",
        "else:\n",
        "    print(\"a is not there\")\n",
        "\n",
        "print(\"I am out\")"
      ]
    },
    {
      "cell_type": "code",
      "execution_count": null,
      "id": "693e76ad",
      "metadata": {
        "id": "693e76ad",
        "outputId": "f836afbe-be33-4d4e-fb1d-a44909bc324e",
        "colab": {
          "base_uri": "https://localhost:8080/"
        }
      },
      "outputs": [
        {
          "output_type": "stream",
          "name": "stdout",
          "text": [
            "1\n",
            "3\n",
            "5\n",
            "7\n",
            "9\n",
            "2 not in the range\n"
          ]
        }
      ],
      "source": [
        "for num in range(1, 10, 2):\n",
        "    if num==2:\n",
        "        break\n",
        "    print(num)\n",
        "else:\n",
        "    print(\"2 not in the range\")"
      ]
    },
    {
      "cell_type": "markdown",
      "source": [
        "### Else with while"
      ],
      "metadata": {
        "id": "JzbChDus2mb_"
      },
      "id": "JzbChDus2mb_"
    },
    {
      "cell_type": "code",
      "source": [
        "blacklisted = [\"user1\", \"user2\", \"user3\"]\n",
        "count = 1\n",
        "while count<=3:\n",
        "  user_name = input(\"Enter user name\")\n",
        "  if user_name in blacklisted:\n",
        "    print(\"Blacklisted\")\n",
        "    break\n",
        "  password = input(\"Enter password\") \n",
        "  if user_name == \"admin\"  and password == \"admin\":\n",
        "    print(\"Logged in successfully\")\n",
        "    break\n",
        "  else:\n",
        "    print(\"Incorrect user name or password\")\n",
        "  count+=1\n",
        "else:\n",
        "  print(\"Login unsuccessful\")\n"
      ],
      "metadata": {
        "id": "TSRYV7fT3CPF"
      },
      "id": "TSRYV7fT3CPF",
      "execution_count": null,
      "outputs": []
    },
    {
      "cell_type": "markdown",
      "source": [
        "# Assessment"
      ],
      "metadata": {
        "id": "Slg-iZ3hS9qD"
      },
      "id": "Slg-iZ3hS9qD"
    },
    {
      "cell_type": "markdown",
      "source": [
        "Write a program to generate 1000 employee ids.\n",
        "Format: ARKXXXX where XXXX has to be replaced with digits. Employee ids ending with 83 is in valid. The following employee ids are reserved and hence these also should not be generated.\n",
        "reserved :ARK0000-ARK0125, ARK2222- ARK2500, ARK1234, ARK3000"
      ],
      "metadata": {
        "id": "EDhGf8SGTAzy"
      },
      "id": "EDhGf8SGTAzy"
    },
    {
      "cell_type": "code",
      "source": [
        "text_part = \"ARK\"\n",
        "count = 0\n",
        "for i in range(2000):\n",
        "  number_part = i\n",
        "  if i in range(0,126) or i in range(2222,2501) or i in [1234, 3000]:\n",
        "    continue\n",
        "  count += 1\n",
        "  if len(str(number_part)) == 1:\n",
        "    employee_id = text_part+\"000\"+str(number_part)\n",
        "  elif len(str(number_part)) == 2:\n",
        "    employee_id = text_part+\"00\"+str(number_part)\n",
        "  elif len(str(number_part)) == 3:\n",
        "    employee_id = text_part+\"0\"+str(number_part)\n",
        "  else:\n",
        "    employee_id = text_part+str(number_part)\n",
        "  if i% 20 == 0:\n",
        "    print(employee_id)\n",
        "  else:\n",
        "    print(employee_id, end = \" \")\n",
        "  if count == 1000:\n",
        "    break"
      ],
      "metadata": {
        "colab": {
          "base_uri": "https://localhost:8080/"
        },
        "id": "T4TSCYYDTAUk",
        "outputId": "cd3d6444-5769-4600-c51c-da6835d52344"
      },
      "id": "T4TSCYYDTAUk",
      "execution_count": null,
      "outputs": [
        {
          "output_type": "stream",
          "name": "stdout",
          "text": [
            "ARK0126 ARK0127 ARK0128 ARK0129 ARK0130 ARK0131 ARK0132 ARK0133 ARK0134 ARK0135 ARK0136 ARK0137 ARK0138 ARK0139 ARK0140\n",
            "ARK0141 ARK0142 ARK0143 ARK0144 ARK0145 ARK0146 ARK0147 ARK0148 ARK0149 ARK0150 ARK0151 ARK0152 ARK0153 ARK0154 ARK0155 ARK0156 ARK0157 ARK0158 ARK0159 ARK0160\n",
            "ARK0161 ARK0162 ARK0163 ARK0164 ARK0165 ARK0166 ARK0167 ARK0168 ARK0169 ARK0170 ARK0171 ARK0172 ARK0173 ARK0174 ARK0175 ARK0176 ARK0177 ARK0178 ARK0179 ARK0180\n",
            "ARK0181 ARK0182 ARK0183 ARK0184 ARK0185 ARK0186 ARK0187 ARK0188 ARK0189 ARK0190 ARK0191 ARK0192 ARK0193 ARK0194 ARK0195 ARK0196 ARK0197 ARK0198 ARK0199 ARK0200\n",
            "ARK0201 ARK0202 ARK0203 ARK0204 ARK0205 ARK0206 ARK0207 ARK0208 ARK0209 ARK0210 ARK0211 ARK0212 ARK0213 ARK0214 ARK0215 ARK0216 ARK0217 ARK0218 ARK0219 ARK0220\n",
            "ARK0221 ARK0222 ARK0223 ARK0224 ARK0225 ARK0226 ARK0227 ARK0228 ARK0229 ARK0230 ARK0231 ARK0232 ARK0233 ARK0234 ARK0235 ARK0236 ARK0237 ARK0238 ARK0239 ARK0240\n",
            "ARK0241 ARK0242 ARK0243 ARK0244 ARK0245 ARK0246 ARK0247 ARK0248 ARK0249 ARK0250 ARK0251 ARK0252 ARK0253 ARK0254 ARK0255 ARK0256 ARK0257 ARK0258 ARK0259 ARK0260\n",
            "ARK0261 ARK0262 ARK0263 ARK0264 ARK0265 ARK0266 ARK0267 ARK0268 ARK0269 ARK0270 ARK0271 ARK0272 ARK0273 ARK0274 ARK0275 ARK0276 ARK0277 ARK0278 ARK0279 ARK0280\n",
            "ARK0281 ARK0282 ARK0283 ARK0284 ARK0285 ARK0286 ARK0287 ARK0288 ARK0289 ARK0290 ARK0291 ARK0292 ARK0293 ARK0294 ARK0295 ARK0296 ARK0297 ARK0298 ARK0299 ARK0300\n",
            "ARK0301 ARK0302 ARK0303 ARK0304 ARK0305 ARK0306 ARK0307 ARK0308 ARK0309 ARK0310 ARK0311 ARK0312 ARK0313 ARK0314 ARK0315 ARK0316 ARK0317 ARK0318 ARK0319 ARK0320\n",
            "ARK0321 ARK0322 ARK0323 ARK0324 ARK0325 ARK0326 ARK0327 ARK0328 ARK0329 ARK0330 ARK0331 ARK0332 ARK0333 ARK0334 ARK0335 ARK0336 ARK0337 ARK0338 ARK0339 ARK0340\n",
            "ARK0341 ARK0342 ARK0343 ARK0344 ARK0345 ARK0346 ARK0347 ARK0348 ARK0349 ARK0350 ARK0351 ARK0352 ARK0353 ARK0354 ARK0355 ARK0356 ARK0357 ARK0358 ARK0359 ARK0360\n",
            "ARK0361 ARK0362 ARK0363 ARK0364 ARK0365 ARK0366 ARK0367 ARK0368 ARK0369 ARK0370 ARK0371 ARK0372 ARK0373 ARK0374 ARK0375 ARK0376 ARK0377 ARK0378 ARK0379 ARK0380\n",
            "ARK0381 ARK0382 ARK0383 ARK0384 ARK0385 ARK0386 ARK0387 ARK0388 ARK0389 ARK0390 ARK0391 ARK0392 ARK0393 ARK0394 ARK0395 ARK0396 ARK0397 ARK0398 ARK0399 ARK0400\n",
            "ARK0401 ARK0402 ARK0403 ARK0404 ARK0405 ARK0406 ARK0407 ARK0408 ARK0409 ARK0410 ARK0411 ARK0412 ARK0413 ARK0414 ARK0415 ARK0416 ARK0417 ARK0418 ARK0419 ARK0420\n",
            "ARK0421 ARK0422 ARK0423 ARK0424 ARK0425 ARK0426 ARK0427 ARK0428 ARK0429 ARK0430 ARK0431 ARK0432 ARK0433 ARK0434 ARK0435 ARK0436 ARK0437 ARK0438 ARK0439 ARK0440\n",
            "ARK0441 ARK0442 ARK0443 ARK0444 ARK0445 ARK0446 ARK0447 ARK0448 ARK0449 ARK0450 ARK0451 ARK0452 ARK0453 ARK0454 ARK0455 ARK0456 ARK0457 ARK0458 ARK0459 ARK0460\n",
            "ARK0461 ARK0462 ARK0463 ARK0464 ARK0465 ARK0466 ARK0467 ARK0468 ARK0469 ARK0470 ARK0471 ARK0472 ARK0473 ARK0474 ARK0475 ARK0476 ARK0477 ARK0478 ARK0479 ARK0480\n",
            "ARK0481 ARK0482 ARK0483 ARK0484 ARK0485 ARK0486 ARK0487 ARK0488 ARK0489 ARK0490 ARK0491 ARK0492 ARK0493 ARK0494 ARK0495 ARK0496 ARK0497 ARK0498 ARK0499 ARK0500\n",
            "ARK0501 ARK0502 ARK0503 ARK0504 ARK0505 ARK0506 ARK0507 ARK0508 ARK0509 ARK0510 ARK0511 ARK0512 ARK0513 ARK0514 ARK0515 ARK0516 ARK0517 ARK0518 ARK0519 ARK0520\n",
            "ARK0521 ARK0522 ARK0523 ARK0524 ARK0525 ARK0526 ARK0527 ARK0528 ARK0529 ARK0530 ARK0531 ARK0532 ARK0533 ARK0534 ARK0535 ARK0536 ARK0537 ARK0538 ARK0539 ARK0540\n",
            "ARK0541 ARK0542 ARK0543 ARK0544 ARK0545 ARK0546 ARK0547 ARK0548 ARK0549 ARK0550 ARK0551 ARK0552 ARK0553 ARK0554 ARK0555 ARK0556 ARK0557 ARK0558 ARK0559 ARK0560\n",
            "ARK0561 ARK0562 ARK0563 ARK0564 ARK0565 ARK0566 ARK0567 ARK0568 ARK0569 ARK0570 ARK0571 ARK0572 ARK0573 ARK0574 ARK0575 ARK0576 ARK0577 ARK0578 ARK0579 ARK0580\n",
            "ARK0581 ARK0582 ARK0583 ARK0584 ARK0585 ARK0586 ARK0587 ARK0588 ARK0589 ARK0590 ARK0591 ARK0592 ARK0593 ARK0594 ARK0595 ARK0596 ARK0597 ARK0598 ARK0599 ARK0600\n",
            "ARK0601 ARK0602 ARK0603 ARK0604 ARK0605 ARK0606 ARK0607 ARK0608 ARK0609 ARK0610 ARK0611 ARK0612 ARK0613 ARK0614 ARK0615 ARK0616 ARK0617 ARK0618 ARK0619 ARK0620\n",
            "ARK0621 ARK0622 ARK0623 ARK0624 ARK0625 ARK0626 ARK0627 ARK0628 ARK0629 ARK0630 ARK0631 ARK0632 ARK0633 ARK0634 ARK0635 ARK0636 ARK0637 ARK0638 ARK0639 ARK0640\n",
            "ARK0641 ARK0642 ARK0643 ARK0644 ARK0645 ARK0646 ARK0647 ARK0648 ARK0649 ARK0650 ARK0651 ARK0652 ARK0653 ARK0654 ARK0655 ARK0656 ARK0657 ARK0658 ARK0659 ARK0660\n",
            "ARK0661 ARK0662 ARK0663 ARK0664 ARK0665 ARK0666 ARK0667 ARK0668 ARK0669 ARK0670 ARK0671 ARK0672 ARK0673 ARK0674 ARK0675 ARK0676 ARK0677 ARK0678 ARK0679 ARK0680\n",
            "ARK0681 ARK0682 ARK0683 ARK0684 ARK0685 ARK0686 ARK0687 ARK0688 ARK0689 ARK0690 ARK0691 ARK0692 ARK0693 ARK0694 ARK0695 ARK0696 ARK0697 ARK0698 ARK0699 ARK0700\n",
            "ARK0701 ARK0702 ARK0703 ARK0704 ARK0705 ARK0706 ARK0707 ARK0708 ARK0709 ARK0710 ARK0711 ARK0712 ARK0713 ARK0714 ARK0715 ARK0716 ARK0717 ARK0718 ARK0719 ARK0720\n",
            "ARK0721 ARK0722 ARK0723 ARK0724 ARK0725 ARK0726 ARK0727 ARK0728 ARK0729 ARK0730 ARK0731 ARK0732 ARK0733 ARK0734 ARK0735 ARK0736 ARK0737 ARK0738 ARK0739 ARK0740\n",
            "ARK0741 ARK0742 ARK0743 ARK0744 ARK0745 ARK0746 ARK0747 ARK0748 ARK0749 ARK0750 ARK0751 ARK0752 ARK0753 ARK0754 ARK0755 ARK0756 ARK0757 ARK0758 ARK0759 ARK0760\n",
            "ARK0761 ARK0762 ARK0763 ARK0764 ARK0765 ARK0766 ARK0767 ARK0768 ARK0769 ARK0770 ARK0771 ARK0772 ARK0773 ARK0774 ARK0775 ARK0776 ARK0777 ARK0778 ARK0779 ARK0780\n",
            "ARK0781 ARK0782 ARK0783 ARK0784 ARK0785 ARK0786 ARK0787 ARK0788 ARK0789 ARK0790 ARK0791 ARK0792 ARK0793 ARK0794 ARK0795 ARK0796 ARK0797 ARK0798 ARK0799 ARK0800\n",
            "ARK0801 ARK0802 ARK0803 ARK0804 ARK0805 ARK0806 ARK0807 ARK0808 ARK0809 ARK0810 ARK0811 ARK0812 ARK0813 ARK0814 ARK0815 ARK0816 ARK0817 ARK0818 ARK0819 ARK0820\n",
            "ARK0821 ARK0822 ARK0823 ARK0824 ARK0825 ARK0826 ARK0827 ARK0828 ARK0829 ARK0830 ARK0831 ARK0832 ARK0833 ARK0834 ARK0835 ARK0836 ARK0837 ARK0838 ARK0839 ARK0840\n",
            "ARK0841 ARK0842 ARK0843 ARK0844 ARK0845 ARK0846 ARK0847 ARK0848 ARK0849 ARK0850 ARK0851 ARK0852 ARK0853 ARK0854 ARK0855 ARK0856 ARK0857 ARK0858 ARK0859 ARK0860\n",
            "ARK0861 ARK0862 ARK0863 ARK0864 ARK0865 ARK0866 ARK0867 ARK0868 ARK0869 ARK0870 ARK0871 ARK0872 ARK0873 ARK0874 ARK0875 ARK0876 ARK0877 ARK0878 ARK0879 ARK0880\n",
            "ARK0881 ARK0882 ARK0883 ARK0884 ARK0885 ARK0886 ARK0887 ARK0888 ARK0889 ARK0890 ARK0891 ARK0892 ARK0893 ARK0894 ARK0895 ARK0896 ARK0897 ARK0898 ARK0899 ARK0900\n",
            "ARK0901 ARK0902 ARK0903 ARK0904 ARK0905 ARK0906 ARK0907 ARK0908 ARK0909 ARK0910 ARK0911 ARK0912 ARK0913 ARK0914 ARK0915 ARK0916 ARK0917 ARK0918 ARK0919 ARK0920\n",
            "ARK0921 ARK0922 ARK0923 ARK0924 ARK0925 ARK0926 ARK0927 ARK0928 ARK0929 ARK0930 ARK0931 ARK0932 ARK0933 ARK0934 ARK0935 ARK0936 ARK0937 ARK0938 ARK0939 ARK0940\n",
            "ARK0941 ARK0942 ARK0943 ARK0944 ARK0945 ARK0946 ARK0947 ARK0948 ARK0949 ARK0950 ARK0951 ARK0952 ARK0953 ARK0954 ARK0955 ARK0956 ARK0957 ARK0958 ARK0959 ARK0960\n",
            "ARK0961 ARK0962 ARK0963 ARK0964 ARK0965 ARK0966 ARK0967 ARK0968 ARK0969 ARK0970 ARK0971 ARK0972 ARK0973 ARK0974 ARK0975 ARK0976 ARK0977 ARK0978 ARK0979 ARK0980\n",
            "ARK0981 ARK0982 ARK0983 ARK0984 ARK0985 ARK0986 ARK0987 ARK0988 ARK0989 ARK0990 ARK0991 ARK0992 ARK0993 ARK0994 ARK0995 ARK0996 ARK0997 ARK0998 ARK0999 ARK1000\n",
            "ARK1001 ARK1002 ARK1003 ARK1004 ARK1005 ARK1006 ARK1007 ARK1008 ARK1009 ARK1010 ARK1011 ARK1012 ARK1013 ARK1014 ARK1015 ARK1016 ARK1017 ARK1018 ARK1019 ARK1020\n",
            "ARK1021 ARK1022 ARK1023 ARK1024 ARK1025 ARK1026 ARK1027 ARK1028 ARK1029 ARK1030 ARK1031 ARK1032 ARK1033 ARK1034 ARK1035 ARK1036 ARK1037 ARK1038 ARK1039 ARK1040\n",
            "ARK1041 ARK1042 ARK1043 ARK1044 ARK1045 ARK1046 ARK1047 ARK1048 ARK1049 ARK1050 ARK1051 ARK1052 ARK1053 ARK1054 ARK1055 ARK1056 ARK1057 ARK1058 ARK1059 ARK1060\n",
            "ARK1061 ARK1062 ARK1063 ARK1064 ARK1065 ARK1066 ARK1067 ARK1068 ARK1069 ARK1070 ARK1071 ARK1072 ARK1073 ARK1074 ARK1075 ARK1076 ARK1077 ARK1078 ARK1079 ARK1080\n",
            "ARK1081 ARK1082 ARK1083 ARK1084 ARK1085 ARK1086 ARK1087 ARK1088 ARK1089 ARK1090 ARK1091 ARK1092 ARK1093 ARK1094 ARK1095 ARK1096 ARK1097 ARK1098 ARK1099 ARK1100\n",
            "ARK1101 ARK1102 ARK1103 ARK1104 ARK1105 ARK1106 ARK1107 ARK1108 ARK1109 ARK1110 ARK1111 ARK1112 ARK1113 ARK1114 ARK1115 ARK1116 ARK1117 ARK1118 ARK1119 ARK1120\n",
            "ARK1121 ARK1122 ARK1123 ARK1124 ARK1125 "
          ]
        }
      ]
    }
  ],
  "metadata": {
    "kernelspec": {
      "display_name": "Python 3",
      "language": "python",
      "name": "python3"
    },
    "language_info": {
      "codemirror_mode": {
        "name": "ipython",
        "version": 3
      },
      "file_extension": ".py",
      "mimetype": "text/x-python",
      "name": "python",
      "nbconvert_exporter": "python",
      "pygments_lexer": "ipython3",
      "version": "3.8.8"
    },
    "colab": {
      "provenance": []
    }
  },
  "nbformat": 4,
  "nbformat_minor": 5
}