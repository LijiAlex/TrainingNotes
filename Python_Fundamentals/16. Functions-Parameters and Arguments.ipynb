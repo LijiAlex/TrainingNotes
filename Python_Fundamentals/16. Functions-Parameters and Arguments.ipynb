{
 "cells": [
  {
   "attachments": {
    "paramters.png": {
     "image/png": "[encoded data removed]"
    }
   },
   "cell_type": "markdown",
   "id": "0c5f0bcc",
   "metadata": {},
   "source": [
    "![paramters.png](attachment:paramters.png)"
   ]
  },
  {
   "cell_type": "markdown",
   "id": "c9bf6adf",
   "metadata": {},
   "source": [
    "* A parameter is a variable defined by a method.\n",
    "* An argument is a value passed to method during its call.\n",
    "* By default, arguments will be assigned to parameters in the order they are supplied."
   ]
  },
  {
   "cell_type": "markdown",
   "id": "47fc3b5f",
   "metadata": {},
   "source": [
    "### Positional Arguments\n",
    "Position of arguments in function call determines how it is assigned to parameters."
   ]
  },
  {
   "cell_type": "code",
   "execution_count": 78,
   "id": "dc05f19b",
   "metadata": {},
   "outputs": [],
   "source": [
    "def student(name,age, grade, section):\n",
    "    print(f\"Name = {name}\")\n",
    "    print(f\"Age = {age}\")\n",
    "    print(f\"Grade = {grade}\")\n",
    "    print(f\"Section = {section}\")"
   ]
  },
  {
   "cell_type": "code",
   "execution_count": 79,
   "id": "a2f34b25",
   "metadata": {},
   "outputs": [
    {
     "name": "stdout",
     "output_type": "stream",
     "text": [
      "Name = Sony\n",
      "Age = 17\n",
      "Grade = 12\n",
      "Section = B\n"
     ]
    }
   ],
   "source": [
    "student(\"Sony\", 17, 12, 'B')"
   ]
  },
  {
   "cell_type": "markdown",
   "id": "034990fc",
   "metadata": {},
   "source": [
    "### Keyword Arguments\n",
    "\n",
    "Arguments can be passed in the form of key-value pair.In that case order of arguments doesn't matter."
   ]
  },
  {
   "cell_type": "code",
   "execution_count": 80,
   "id": "98937178",
   "metadata": {},
   "outputs": [
    {
     "name": "stdout",
     "output_type": "stream",
     "text": [
      "Name = Sony\n",
      "Age = 17\n",
      "Grade = C\n",
      "Section = B\n"
     ]
    }
   ],
   "source": [
    "student(name=\"Sony\", section='B', age=17, grade='C')"
   ]
  },
  {
   "cell_type": "markdown",
   "id": "961480b4",
   "metadata": {},
   "source": [
    "* Make sure argument names and parameter names are same.\n",
    "* keyword arguments should always come after positional argument.\n",
    "* we cannot specify values for an argument more than once"
   ]
  },
  {
   "cell_type": "code",
   "execution_count": 81,
   "id": "bc08f0ae",
   "metadata": {},
   "outputs": [
    {
     "name": "stdout",
     "output_type": "stream",
     "text": [
      "Name = Sony\n",
      "Age = 17\n",
      "Grade = C\n",
      "Section = B\n"
     ]
    }
   ],
   "source": [
    "student(\"Sony\", section='B', age=17, grade='C')"
   ]
  },
  {
   "cell_type": "code",
   "execution_count": 83,
   "id": "1e6f27c6",
   "metadata": {},
   "outputs": [
    {
     "name": "stdout",
     "output_type": "stream",
     "text": [
      "Name = Sony\n",
      "Age = 17\n",
      "Grade = C\n",
      "Section = B\n"
     ]
    }
   ],
   "source": [
    "student(\"Sony\", 17, section='B', grade='C')"
   ]
  },
  {
   "cell_type": "code",
   "execution_count": 82,
   "id": "8f30e6bc",
   "metadata": {},
   "outputs": [
    {
     "ename": "SyntaxError",
     "evalue": "positional argument follows keyword argument (<ipython-input-82-0504ba6ebb1e>, line 1)",
     "output_type": "error",
     "traceback": [
      "\u001b[1;36m  File \u001b[1;32m\"<ipython-input-82-0504ba6ebb1e>\"\u001b[1;36m, line \u001b[1;32m1\u001b[0m\n\u001b[1;33m    student(section='B', grade='C', \"Sony\", 17)\u001b[0m\n\u001b[1;37m                                    ^\u001b[0m\n\u001b[1;31mSyntaxError\u001b[0m\u001b[1;31m:\u001b[0m positional argument follows keyword argument\n"
     ]
    }
   ],
   "source": [
    "student(section='B', grade='C', \"Sony\", 17)"
   ]
  },
  {
   "cell_type": "code",
   "execution_count": 84,
   "id": "cd8524e1",
   "metadata": {},
   "outputs": [
    {
     "ename": "TypeError",
     "evalue": "student() got multiple values for argument 'age'",
     "output_type": "error",
     "traceback": [
      "\u001b[1;31m---------------------------------------------------------------------------\u001b[0m",
      "\u001b[1;31mTypeError\u001b[0m                                 Traceback (most recent call last)",
      "\u001b[1;32m<ipython-input-84-557faa1c70a7>\u001b[0m in \u001b[0;36m<module>\u001b[1;34m\u001b[0m\n\u001b[1;32m----> 1\u001b[1;33m \u001b[0mstudent\u001b[0m\u001b[1;33m(\u001b[0m\u001b[1;34m\"Sony\"\u001b[0m\u001b[1;33m,\u001b[0m \u001b[1;36m17\u001b[0m\u001b[1;33m,\u001b[0m \u001b[0mage\u001b[0m\u001b[1;33m=\u001b[0m\u001b[1;36m16\u001b[0m\u001b[1;33m,\u001b[0m \u001b[0msection\u001b[0m\u001b[1;33m=\u001b[0m\u001b[1;34m'B'\u001b[0m\u001b[1;33m,\u001b[0m \u001b[0mgrade\u001b[0m\u001b[1;33m=\u001b[0m\u001b[1;34m'C'\u001b[0m\u001b[1;33m)\u001b[0m\u001b[1;33m\u001b[0m\u001b[1;33m\u001b[0m\u001b[0m\n\u001b[0m",
      "\u001b[1;31mTypeError\u001b[0m: student() got multiple values for argument 'age'"
     ]
    }
   ],
   "source": [
    "student(\"Sony\", 17, age=16, section='B', grade='C')"
   ]
  },
  {
   "cell_type": "markdown",
   "id": "eda7257a",
   "metadata": {},
   "source": [
    "### Default arguments\n",
    "\n",
    "A parameter having default value in function header is known as default parameter.\n",
    "\n",
    "* It is optional to supply value for default parameter through function call.\n",
    "* Non default parameter cannot follow default parameter."
   ]
  },
  {
   "cell_type": "code",
   "execution_count": 85,
   "id": "64ea0913",
   "metadata": {},
   "outputs": [],
   "source": [
    "def student(name, age, grade, section='A'):\n",
    "    print(f\"Name = {name}\")\n",
    "    print(f\"Age = {age}\")\n",
    "    print(f\"Grade = {grade}\")\n",
    "    print(f\"Section = {section}\")"
   ]
  },
  {
   "cell_type": "code",
   "execution_count": 86,
   "id": "fd33cc8a",
   "metadata": {},
   "outputs": [
    {
     "name": "stdout",
     "output_type": "stream",
     "text": [
      "Name = Sony\n",
      "Age = 17\n",
      "Grade = 12\n",
      "Section = A\n"
     ]
    }
   ],
   "source": [
    "student(\"Sony\", 17, 12)"
   ]
  },
  {
   "cell_type": "code",
   "execution_count": 87,
   "id": "8c951170",
   "metadata": {},
   "outputs": [
    {
     "name": "stdout",
     "output_type": "stream",
     "text": [
      "Name = Sony\n",
      "Age = 17\n",
      "Grade = 12\n",
      "Section = C\n"
     ]
    }
   ],
   "source": [
    "student(\"Sony\", 17, 12, 'C')"
   ]
  },
  {
   "cell_type": "code",
   "execution_count": 88,
   "id": "d648bc7e",
   "metadata": {},
   "outputs": [
    {
     "name": "stdout",
     "output_type": "stream",
     "text": [
      "Name = Sony\n",
      "Age = 17\n",
      "Grade = C\n",
      "Section = B\n"
     ]
    }
   ],
   "source": [
    "student(\"Sony\", 17, section='B', grade='C')"
   ]
  },
  {
   "cell_type": "code",
   "execution_count": 89,
   "id": "6cadf035",
   "metadata": {},
   "outputs": [
    {
     "name": "stdout",
     "output_type": "stream",
     "text": [
      "Name = Sony\n",
      "Age = 17\n",
      "Grade = C\n",
      "Section = A\n"
     ]
    }
   ],
   "source": [
    "student(\"Sony\", 17, grade='C')"
   ]
  },
  {
   "cell_type": "code",
   "execution_count": 90,
   "id": "b742eb3d",
   "metadata": {},
   "outputs": [
    {
     "ename": "SyntaxError",
     "evalue": "non-default argument follows default argument (<ipython-input-90-de39041136b5>, line 1)",
     "output_type": "error",
     "traceback": [
      "\u001b[1;36m  File \u001b[1;32m\"<ipython-input-90-de39041136b5>\"\u001b[1;36m, line \u001b[1;32m1\u001b[0m\n\u001b[1;33m    def student(name, age= 17, grade, section='A'):\u001b[0m\n\u001b[1;37m                ^\u001b[0m\n\u001b[1;31mSyntaxError\u001b[0m\u001b[1;31m:\u001b[0m non-default argument follows default argument\n"
     ]
    }
   ],
   "source": [
    "def student(name, age= 17, grade, section='A'):\n",
    "    print(f\"Name = {name}\")\n",
    "    print(f\"Age = {age}\")\n",
    "    print(f\"Grade = {grade}\")\n",
    "    print(f\"Section = {section}\")"
   ]
  },
  {
   "cell_type": "markdown",
   "id": "84964f34",
   "metadata": {},
   "source": [
    "### Arbitrary Arguments, *args\n",
    "\n",
    "If you do not know how many arguments that will be passed into your function, add a * before the parameter name in the function definition. This way the function will receive a tuple of arguments."
   ]
  },
  {
   "cell_type": "code",
   "execution_count": 91,
   "id": "1fdc8b89",
   "metadata": {},
   "outputs": [],
   "source": [
    "def student(*args):\n",
    "    print(args)"
   ]
  },
  {
   "cell_type": "code",
   "execution_count": 93,
   "id": "5b2f03a0",
   "metadata": {},
   "outputs": [
    {
     "name": "stdout",
     "output_type": "stream",
     "text": [
      "('ansuman', 'kaira', 'annie', 'ram')\n"
     ]
    }
   ],
   "source": [
    "student(\"ansuman\", \"kaira\", \"annie\", \"ram\")"
   ]
  },
  {
   "cell_type": "code",
   "execution_count": 94,
   "id": "ed005042",
   "metadata": {},
   "outputs": [],
   "source": [
    "def student(*names):\n",
    "    print(names)\n",
    "    for name in names:\n",
    "        print(name)"
   ]
  },
  {
   "cell_type": "code",
   "execution_count": 95,
   "id": "6d74712f",
   "metadata": {},
   "outputs": [
    {
     "name": "stdout",
     "output_type": "stream",
     "text": [
      "('ansuman', 'kaira', 'annie', 'ram')\n",
      "ansuman\n",
      "kaira\n",
      "annie\n",
      "ram\n"
     ]
    }
   ],
   "source": [
    "student(\"ansuman\", \"kaira\", \"annie\", \"ram\")"
   ]
  },
  {
   "cell_type": "code",
   "execution_count": 96,
   "id": "a31c34f7",
   "metadata": {},
   "outputs": [
    {
     "name": "stdout",
     "output_type": "stream",
     "text": [
      "('ansuman', 'kaira', 'annie', 'akash', 'spide', 'marshall', 'bhim')\n",
      "ansuman\n",
      "kaira\n",
      "annie\n",
      "akash\n",
      "spide\n",
      "marshall\n",
      "bhim\n"
     ]
    }
   ],
   "source": [
    "student(\"ansuman\", \"kaira\", \"annie\", \"akash\", \"spide\", \"marshall\", \"bhim\")"
   ]
  },
  {
   "cell_type": "code",
   "execution_count": 97,
   "id": "b05244a5",
   "metadata": {},
   "outputs": [],
   "source": [
    "def student(*names, age, grade= 12, section='A'):\n",
    "    print(f\"Name = {names[0]}\")\n",
    "    print(f\"Age = {age}\")\n",
    "    print(f\"Grade = {grade}\")\n",
    "    print(f\"Section = {section}\")"
   ]
  },
  {
   "cell_type": "code",
   "execution_count": 98,
   "id": "0cfbe65d",
   "metadata": {},
   "outputs": [
    {
     "name": "stdout",
     "output_type": "stream",
     "text": [
      "Name = ansuman\n",
      "Age = 17\n",
      "Grade = 12\n",
      "Section = A\n"
     ]
    }
   ],
   "source": [
    "student(\"ansuman\", \"kaira\", \"annie\", \"akash\", \"spide\", \"marshall\", \"bhim\", age = 17)"
   ]
  },
  {
   "cell_type": "code",
   "execution_count": 99,
   "id": "b2b40d34",
   "metadata": {},
   "outputs": [
    {
     "ename": "TypeError",
     "evalue": "student() missing 1 required keyword-only argument: 'age'",
     "output_type": "error",
     "traceback": [
      "\u001b[1;31m---------------------------------------------------------------------------\u001b[0m",
      "\u001b[1;31mTypeError\u001b[0m                                 Traceback (most recent call last)",
      "\u001b[1;32m<ipython-input-99-b285a7a078c1>\u001b[0m in \u001b[0;36m<module>\u001b[1;34m\u001b[0m\n\u001b[1;32m----> 1\u001b[1;33m \u001b[0mstudent\u001b[0m\u001b[1;33m(\u001b[0m\u001b[1;34m\"ansuman\"\u001b[0m\u001b[1;33m,\u001b[0m \u001b[1;34m\"kaira\"\u001b[0m\u001b[1;33m,\u001b[0m \u001b[1;34m\"annie\"\u001b[0m\u001b[1;33m,\u001b[0m \u001b[1;34m\"akash\"\u001b[0m\u001b[1;33m,\u001b[0m \u001b[1;34m\"spide\"\u001b[0m\u001b[1;33m,\u001b[0m \u001b[1;34m\"marshall\"\u001b[0m\u001b[1;33m,\u001b[0m \u001b[1;34m\"bhim\"\u001b[0m\u001b[1;33m,\u001b[0m \u001b[1;36m17\u001b[0m\u001b[1;33m)\u001b[0m\u001b[1;33m\u001b[0m\u001b[1;33m\u001b[0m\u001b[0m\n\u001b[0m",
      "\u001b[1;31mTypeError\u001b[0m: student() missing 1 required keyword-only argument: 'age'"
     ]
    }
   ],
   "source": [
    "student(\"ansuman\", \"kaira\", \"annie\", \"akash\", \"spide\", \"marshall\", \"bhim\", 17)"
   ]
  },
  {
   "cell_type": "code",
   "execution_count": 100,
   "id": "27321c50",
   "metadata": {},
   "outputs": [],
   "source": [
    "def student(age, *names, grade= 12, section='A'):\n",
    "    print(f\"Name = {names[0]}\")\n",
    "    print(f\"Age = {age}\")\n",
    "    print(f\"Grade = {grade}\")\n",
    "    print(f\"Section = {section}\")"
   ]
  },
  {
   "cell_type": "code",
   "execution_count": 101,
   "id": "9331d792",
   "metadata": {},
   "outputs": [
    {
     "name": "stdout",
     "output_type": "stream",
     "text": [
      "Name = ansuman\n",
      "Age = 17\n",
      "Grade = 12\n",
      "Section = A\n"
     ]
    }
   ],
   "source": [
    "student(17, \"ansuman\", \"kaira\", \"annie\", \"akash\", \"spide\", \"marshall\", \"bhim\")"
   ]
  },
  {
   "cell_type": "markdown",
   "id": "77d245ae",
   "metadata": {},
   "source": [
    "* keyword argument can be specified before/after arbitary arguments\n",
    "* any positional argument has to be specified before arbitary arguments"
   ]
  },
  {
   "cell_type": "markdown",
   "id": "a24b4754",
   "metadata": {},
   "source": [
    "### Arbitary keyword arguments, **kwargs\n",
    "Pass arbitary keyword arguments."
   ]
  },
  {
   "cell_type": "code",
   "execution_count": 103,
   "id": "bcfe13d6",
   "metadata": {},
   "outputs": [],
   "source": [
    "def student(**kwargs):\n",
    "    print(kwargs)\n",
    "    print(f\"Name = {kwargs['name']}\")\n",
    "    print(f\"Age = {kwargs['age']}\")\n",
    "    print(f\"Grade = {kwargs['grade']}\")\n",
    "    print(f\"Section = {kwargs['section']}\")"
   ]
  },
  {
   "cell_type": "code",
   "execution_count": 105,
   "id": "1ea68428",
   "metadata": {},
   "outputs": [
    {
     "name": "stdout",
     "output_type": "stream",
     "text": [
      "{'name': 'Sony', 'section': 'B', 'age': 17, 'grade': 'C'}\n",
      "Name = Sony\n",
      "Age = 17\n",
      "Grade = C\n",
      "Section = B\n"
     ]
    }
   ],
   "source": [
    "student(name=\"Sony\", section='B', age=17, grade='C')"
   ]
  },
  {
   "cell_type": "code",
   "execution_count": 106,
   "id": "19139126",
   "metadata": {},
   "outputs": [],
   "source": [
    "def student(name, **kwargs):\n",
    "    print(kwargs)\n",
    "    print(f\"Name = {name}\")\n",
    "    print(f\"Age = {kwargs['age']}\")\n",
    "    print(f\"Grade = {kwargs['grade']}\")\n",
    "    print(f\"Section = {kwargs['section']}\")"
   ]
  },
  {
   "cell_type": "code",
   "execution_count": 108,
   "id": "650479f8",
   "metadata": {},
   "outputs": [
    {
     "name": "stdout",
     "output_type": "stream",
     "text": [
      "{'section': 'B', 'age': 17, 'grade': 'C'}\n",
      "Name = Sony\n",
      "Age = 17\n",
      "Grade = C\n",
      "Section = B\n"
     ]
    }
   ],
   "source": [
    "student(\"Sony\", section='B', age=17, grade='C')"
   ]
  },
  {
   "cell_type": "code",
   "execution_count": 109,
   "id": "0734d009",
   "metadata": {},
   "outputs": [
    {
     "ename": "SyntaxError",
     "evalue": "invalid syntax (<ipython-input-109-cba9f2b96073>, line 1)",
     "output_type": "error",
     "traceback": [
      "\u001b[1;36m  File \u001b[1;32m\"<ipython-input-109-cba9f2b96073>\"\u001b[1;36m, line \u001b[1;32m1\u001b[0m\n\u001b[1;33m    def student(name, **kwargs, age=17):\u001b[0m\n\u001b[1;37m                                ^\u001b[0m\n\u001b[1;31mSyntaxError\u001b[0m\u001b[1;31m:\u001b[0m invalid syntax\n"
     ]
    }
   ],
   "source": [
    "def student(name, **kwargs, age=17):\n",
    "    print(kwargs)"
   ]
  },
  {
   "cell_type": "code",
   "execution_count": 112,
   "id": "3acfe281",
   "metadata": {},
   "outputs": [],
   "source": [
    "def student(name, age=17, **kwargs):\n",
    "    print(kwargs)\n",
    "    print(f\"Name = {name}\")\n",
    "    print(f\"Age = {age}\")\n",
    "    print(f\"Grade = {kwargs['grade']}\")\n",
    "    print(f\"Section = {kwargs['section']}\")"
   ]
  },
  {
   "cell_type": "code",
   "execution_count": 113,
   "id": "5dcc094a",
   "metadata": {},
   "outputs": [
    {
     "name": "stdout",
     "output_type": "stream",
     "text": [
      "{'section': 'B', 'grade': 'C'}\n",
      "Name = Sony\n",
      "Age = 18\n",
      "Grade = C\n",
      "Section = B\n"
     ]
    }
   ],
   "source": [
    "student(\"Sony\", section='B', age=18, grade='C')"
   ]
  },
  {
   "cell_type": "code",
   "execution_count": 115,
   "id": "248bfd61",
   "metadata": {},
   "outputs": [],
   "source": [
    "def student(*details, **kwargs):\n",
    "    print(kwargs)\n",
    "    print(f\"Name = {details[0]}\")\n",
    "    print(f\"Age = {details[1]}\")\n",
    "    print(f\"Grade = {kwargs['grade']}\")\n",
    "    print(f\"Section = {kwargs['section']}\")"
   ]
  },
  {
   "cell_type": "code",
   "execution_count": 116,
   "id": "808233ce",
   "metadata": {},
   "outputs": [
    {
     "name": "stdout",
     "output_type": "stream",
     "text": [
      "{'section': 'B', 'grade': 'C'}\n",
      "Name = Sony\n",
      "Age = 1\n",
      "Grade = C\n",
      "Section = B\n"
     ]
    }
   ],
   "source": [
    "student(\"Sony\", 1, section='B', grade='C')"
   ]
  },
  {
   "cell_type": "markdown",
   "id": "f7897985",
   "metadata": {},
   "source": [
    "* positional argument should be before keyword argument\n",
    "* default argument should be before keyword argument\n",
    "* arbitary list arguments should be before keyword arguments"
   ]
  },
  {
   "cell_type": "code",
   "execution_count": null,
   "id": "ea3d7bc4",
   "metadata": {},
   "outputs": [],
   "source": []
  }
 ],
 "metadata": {
  "kernelspec": {
   "display_name": "Python 3",
   "language": "python",
   "name": "python3"
  },
  "language_info": {
   "codemirror_mode": {
    "name": "ipython",
    "version": 3
   },
   "file_extension": ".py",
   "mimetype": "text/x-python",
   "name": "python",
   "nbconvert_exporter": "python",
   "pygments_lexer": "ipython3",
   "version": "3.8.8"
  }
 },
 "nbformat": 4,
 "nbformat_minor": 5
}
