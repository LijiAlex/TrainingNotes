{
  "nbformat": 4,
  "nbformat_minor": 0,
  "metadata": {
    "colab": {
      "provenance": []
    },
    "kernelspec": {
      "name": "python3",
      "display_name": "Python 3"
    },
    "language_info": {
      "name": "python"
    }
  },
  "cells": [
    {
      "cell_type": "markdown",
      "source": [
        "# Reduce"
      ],
      "metadata": {
        "id": "rAUxZjVkCdSu"
      }
    },
    {
      "cell_type": "markdown",
      "source": [
        "The reduce(fun,seq) function is used to apply a particular function passed in its argument to all of the list elements mentioned in the sequence passed along and return the cumulative effect of this function on the sequence.This function is defined in “functools” module.\n",
        "\n",
        "Working :  \n",
        "\n",
        "1. At first step, first two elements of sequence are picked and the result is obtained.\n",
        "2. Next step is to apply the same function to the previously attained result and the number just succeeding the second element and the result is again stored.\n",
        "3. This process continues till no more elements are left in the container.\n",
        "The final returned result is returned and printed on console."
      ],
      "metadata": {
        "id": "iqzgZNKADdKX"
      }
    },
    {
      "cell_type": "code",
      "source": [
        "fruits = ['apple', 'mango', 'strawberry']"
      ],
      "metadata": {
        "id": "0MIxiBuIfAp1"
      },
      "execution_count": null,
      "outputs": []
    },
    {
      "cell_type": "code",
      "source": [
        "from functools import reduce\n",
        "import operator\n",
        "\n",
        "reduce(operator.add, fruits)"
      ],
      "metadata": {
        "id": "C_6tqvLADvUH",
        "colab": {
          "base_uri": "https://localhost:8080/",
          "height": 36
        },
        "outputId": "c182be6d-5def-4c8e-c329-32b406ed1618"
      },
      "execution_count": null,
      "outputs": [
        {
          "output_type": "execute_result",
          "data": {
            "text/plain": [
              "'applemangostrawberry'"
            ],
            "application/vnd.google.colaboratory.intrinsic+json": {
              "type": "string"
            }
          },
          "metadata": {},
          "execution_count": 2
        }
      ]
    },
    {
      "cell_type": "code",
      "source": [
        "numbers = [1000, 2000, 34, 57, -234]\n",
        "reduce(operator.add, numbers)"
      ],
      "metadata": {
        "colab": {
          "base_uri": "https://localhost:8080/"
        },
        "id": "bYp0T15hfWEH",
        "outputId": "3558955d-1bc4-4777-e8b0-60552cbec8e1"
      },
      "execution_count": null,
      "outputs": [
        {
          "output_type": "execute_result",
          "data": {
            "text/plain": [
              "2857"
            ]
          },
          "metadata": {},
          "execution_count": 3
        }
      ]
    },
    {
      "cell_type": "code",
      "source": [
        "sum(numbers)"
      ],
      "metadata": {
        "colab": {
          "base_uri": "https://localhost:8080/"
        },
        "id": "JmEo9GuDf_Kr",
        "outputId": "cd66095a-769e-4c57-fd7c-a2ba66a71421"
      },
      "execution_count": null,
      "outputs": [
        {
          "output_type": "execute_result",
          "data": {
            "text/plain": [
              "2857"
            ]
          },
          "metadata": {},
          "execution_count": 4
        }
      ]
    },
    {
      "cell_type": "markdown",
      "source": [
        "# Comprehension"
      ],
      "metadata": {
        "id": "-vT0FCBbEW9K"
      }
    },
    {
      "cell_type": "markdown",
      "source": [
        "Comprehensions in Python provide us with a short and concise way to construct new sequences (such as lists, set, dictionary etc.) using sequences which have been already defined. Python supports the following 4 types of comprehensions:\n",
        "\n",
        "1. List Comprehensions\n",
        "2. Dictionary Comprehensions\n",
        "3. Set Comprehensions\n",
        "4. Generator Comprehensions"
      ],
      "metadata": {
        "id": "KQ6n726yEZ8x"
      }
    },
    {
      "cell_type": "code",
      "source": [
        "input_list = [1, 2, 3, 4, 4, 5, 6, 7, 7]\n",
        "\n",
        "new_list = [number for number in input_list]\n",
        "  \n",
        "new_list"
      ],
      "metadata": {
        "id": "-wWxICn1EZmz",
        "colab": {
          "base_uri": "https://localhost:8080/"
        },
        "outputId": "6b3f1116-7088-4815-a962-fb1c270487b2"
      },
      "execution_count": null,
      "outputs": [
        {
          "output_type": "execute_result",
          "data": {
            "text/plain": [
              "[1, 2, 3, 4, 4, 5, 6, 7, 7]"
            ]
          },
          "metadata": {},
          "execution_count": 5
        }
      ]
    },
    {
      "cell_type": "code",
      "source": [
        "new_set = {num for num in input_list}\n",
        "new_set"
      ],
      "metadata": {
        "id": "sDJLLxXiFCvU",
        "colab": {
          "base_uri": "https://localhost:8080/"
        },
        "outputId": "7d893d4e-e9ce-478f-b804-ed94a758f9e3"
      },
      "execution_count": null,
      "outputs": [
        {
          "output_type": "execute_result",
          "data": {
            "text/plain": [
              "{1, 2, 3, 4, 5, 6, 7}"
            ]
          },
          "metadata": {},
          "execution_count": 6
        }
      ]
    },
    {
      "cell_type": "code",
      "source": [
        "squares = []\n",
        "for number in input_list:\n",
        "  squares.append(number*number)\n",
        "\n",
        "squares"
      ],
      "metadata": {
        "colab": {
          "base_uri": "https://localhost:8080/"
        },
        "id": "hdWUucZ-gykI",
        "outputId": "58d1c821-3ad5-4513-c338-396736e0cc7d"
      },
      "execution_count": null,
      "outputs": [
        {
          "output_type": "execute_result",
          "data": {
            "text/plain": [
              "[1, 4, 9, 16, 16, 25, 36, 49, 49]"
            ]
          },
          "metadata": {},
          "execution_count": 8
        }
      ]
    },
    {
      "cell_type": "code",
      "source": [
        "square_numbers = [number*number for number in input_list]\n",
        "square_numbers"
      ],
      "metadata": {
        "id": "IH6NWu-WE_Xl",
        "colab": {
          "base_uri": "https://localhost:8080/"
        },
        "outputId": "1c89db24-30ab-473e-96bd-2f0831ded680"
      },
      "execution_count": null,
      "outputs": [
        {
          "output_type": "execute_result",
          "data": {
            "text/plain": [
              "[1, 4, 9, 16, 16, 25, 36, 49, 49]"
            ]
          },
          "metadata": {},
          "execution_count": 9
        }
      ]
    },
    {
      "cell_type": "code",
      "source": [
        "square_numbers1 = {number*number for number in input_list}\n",
        "square_numbers1"
      ],
      "metadata": {
        "colab": {
          "base_uri": "https://localhost:8080/"
        },
        "id": "MY6JyUPuhQxn",
        "outputId": "80213b25-3321-40aa-f4ca-e633018852a2"
      },
      "execution_count": null,
      "outputs": [
        {
          "output_type": "execute_result",
          "data": {
            "text/plain": [
              "{1, 4, 9, 16, 25, 36, 49}"
            ]
          },
          "metadata": {},
          "execution_count": 10
        }
      ]
    },
    {
      "cell_type": "code",
      "source": [
        "squares = []\n",
        "for number in input_list:\n",
        "  if number%2 ==0:\n",
        "    squares.append(number*number)\n",
        "\n",
        "squares"
      ],
      "metadata": {
        "colab": {
          "base_uri": "https://localhost:8080/"
        },
        "id": "EtzvejGfhr8O",
        "outputId": "8b9fecf5-0ba6-4aa6-c8dd-c423c5289379"
      },
      "execution_count": null,
      "outputs": [
        {
          "output_type": "execute_result",
          "data": {
            "text/plain": [
              "[4, 16, 16, 36]"
            ]
          },
          "metadata": {},
          "execution_count": 11
        }
      ]
    },
    {
      "cell_type": "code",
      "source": [
        "even_squares = [number*number for number in input_list if number%2==0]\n",
        "even_squares"
      ],
      "metadata": {
        "id": "8izk8bf7FZWC",
        "colab": {
          "base_uri": "https://localhost:8080/"
        },
        "outputId": "5ad5e2cf-afe5-42bd-a93d-07e0f7e9de6c"
      },
      "execution_count": null,
      "outputs": [
        {
          "output_type": "execute_result",
          "data": {
            "text/plain": [
              "[4, 16, 16, 36]"
            ]
          },
          "metadata": {},
          "execution_count": 12
        }
      ]
    },
    {
      "cell_type": "code",
      "source": [
        "even_squares = {number*number for number in input_list if number%2==0}\n",
        "even_squares"
      ],
      "metadata": {
        "colab": {
          "base_uri": "https://localhost:8080/"
        },
        "id": "KAvq9H7YiMPa",
        "outputId": "6db97d22-7c09-4a77-b561-302b2c98646e"
      },
      "execution_count": null,
      "outputs": [
        {
          "output_type": "execute_result",
          "data": {
            "text/plain": [
              "{4, 16, 36}"
            ]
          },
          "metadata": {},
          "execution_count": 13
        }
      ]
    },
    {
      "cell_type": "code",
      "source": [
        "d = {number: number*number for number in input_list}\n",
        "d"
      ],
      "metadata": {
        "colab": {
          "base_uri": "https://localhost:8080/"
        },
        "id": "V4qaOOcUiV1O",
        "outputId": "c5a8083a-870e-4590-97ab-3760ab1ba4ad"
      },
      "execution_count": null,
      "outputs": [
        {
          "output_type": "execute_result",
          "data": {
            "text/plain": [
              "{1: 1, 2: 4, 3: 9, 4: 16, 5: 25, 6: 36, 7: 49}"
            ]
          },
          "metadata": {},
          "execution_count": 15
        }
      ]
    },
    {
      "cell_type": "code",
      "source": [
        "type(d)"
      ],
      "metadata": {
        "colab": {
          "base_uri": "https://localhost:8080/"
        },
        "id": "rGQvr-eTiiSD",
        "outputId": "6bc491d8-f373-4183-ff1e-f5a86f31d744"
      },
      "execution_count": null,
      "outputs": [
        {
          "output_type": "execute_result",
          "data": {
            "text/plain": [
              "dict"
            ]
          },
          "metadata": {},
          "execution_count": 16
        }
      ]
    },
    {
      "cell_type": "code",
      "source": [
        "even_squares = {num: num*num for num in input_list if num%2==0}\n",
        "even_squares"
      ],
      "metadata": {
        "id": "JLvjGVhGFvQf",
        "colab": {
          "base_uri": "https://localhost:8080/"
        },
        "outputId": "fc270112-32a2-4b91-fd13-81ccc44c612b"
      },
      "execution_count": null,
      "outputs": [
        {
          "output_type": "execute_result",
          "data": {
            "text/plain": [
              "{2: 4, 4: 16, 6: 36}"
            ]
          },
          "metadata": {},
          "execution_count": 17
        }
      ]
    },
    {
      "cell_type": "markdown",
      "source": [
        "# Zip"
      ],
      "metadata": {
        "id": "FIaSkRerF7KD"
      }
    },
    {
      "cell_type": "markdown",
      "source": [
        "The zip() function returns a zip object, which is an iterator of tuples where the first item in each passed iterator is paired together, and then the second item in each passed iterator are paired together etc.\n",
        "\n",
        "If the passed iterators have different lengths, the iterator with the least items decides the length of the new iterator.\n",
        "\n",
        "<br>zip(iterator1, iterator2, iterator3 ...)"
      ],
      "metadata": {
        "id": "8gjBz1lVF9w2"
      }
    },
    {
      "cell_type": "code",
      "source": [
        "numbers = [1, 2, 3, 4, 5]\n",
        "number_names = ['one', 'two', 'three', 'four', 'five']"
      ],
      "metadata": {
        "id": "n3Dv---hGObd"
      },
      "execution_count": null,
      "outputs": []
    },
    {
      "cell_type": "code",
      "source": [
        "zip(numbers, number_names)"
      ],
      "metadata": {
        "id": "MeSBVcKXI3ts",
        "colab": {
          "base_uri": "https://localhost:8080/"
        },
        "outputId": "c7165829-394a-49d4-a11e-c50b9b13d0bd"
      },
      "execution_count": null,
      "outputs": [
        {
          "output_type": "execute_result",
          "data": {
            "text/plain": [
              "<zip at 0x7ff7fd6c3180>"
            ]
          },
          "metadata": {},
          "execution_count": 19
        }
      ]
    },
    {
      "cell_type": "code",
      "source": [
        "for item in zip(numbers, number_names):\n",
        "  print(item)"
      ],
      "metadata": {
        "id": "uDycFW4uI8O0",
        "colab": {
          "base_uri": "https://localhost:8080/"
        },
        "outputId": "b30c5fb8-c1bb-4c0b-8975-2aae1c24a46f"
      },
      "execution_count": null,
      "outputs": [
        {
          "output_type": "stream",
          "name": "stdout",
          "text": [
            "(1, 'one')\n",
            "(2, 'two')\n",
            "(3, 'three')\n",
            "(4, 'four')\n",
            "(5, 'five')\n"
          ]
        }
      ]
    },
    {
      "cell_type": "code",
      "source": [
        "numbers = [1, 2, 3, 4]\n",
        "number_names = ['one', 'two', 'three', 'four', 'five']\n",
        "roman_numbers = ('I', 'II', 'III')\n",
        "\n",
        "list(zip(numbers, number_names, roman_numbers))"
      ],
      "metadata": {
        "colab": {
          "base_uri": "https://localhost:8080/"
        },
        "id": "lecP7Y99jGe0",
        "outputId": "55c42457-e070-4bc2-e1f9-d3a2a5f591ea"
      },
      "execution_count": null,
      "outputs": [
        {
          "output_type": "execute_result",
          "data": {
            "text/plain": [
              "[(1, 'one', 'I'), (2, 'two', 'II'), (3, 'three', 'III')]"
            ]
          },
          "metadata": {},
          "execution_count": 22
        }
      ]
    }
  ]
}