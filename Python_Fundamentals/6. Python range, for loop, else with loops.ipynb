{
 "cells": [
  {
   "cell_type": "markdown",
   "id": "d8da2684",
   "metadata": {},
   "source": [
    "### range() function"
   ]
  },
  {
   "cell_type": "markdown",
   "id": "ea3e3f10",
   "metadata": {},
   "source": [
    "The Python range() function returns a sequence of numbers.\n",
    "<br>Syntax: range(start, stop, step)\n",
    "<br>start- optional, default: 0\n",
    "<br>stop- range() returns a sequence till stop-1\n",
    "<br>step- optional, default: 1"
   ]
  },
  {
   "cell_type": "code",
   "execution_count": 30,
   "id": "2ec9d947",
   "metadata": {},
   "outputs": [
    {
     "data": {
      "text/plain": [
       "range(0, 5)"
      ]
     },
     "execution_count": 30,
     "metadata": {},
     "output_type": "execute_result"
    }
   ],
   "source": [
    "range(5) # only one parameter, hence stop=5"
   ]
  },
  {
   "cell_type": "code",
   "execution_count": 33,
   "id": "651a12c3",
   "metadata": {},
   "outputs": [
    {
     "data": {
      "text/plain": [
       "range"
      ]
     },
     "execution_count": 33,
     "metadata": {},
     "output_type": "execute_result"
    }
   ],
   "source": [
    "type(range(5))"
   ]
  },
  {
   "cell_type": "code",
   "execution_count": 31,
   "id": "ae7fc876",
   "metadata": {},
   "outputs": [
    {
     "data": {
      "text/plain": [
       "[0, 1, 2, 3, 4]"
      ]
     },
     "execution_count": 31,
     "metadata": {},
     "output_type": "execute_result"
    }
   ],
   "source": [
    "list(range(5))"
   ]
  },
  {
   "cell_type": "code",
   "execution_count": 32,
   "id": "38b5943e",
   "metadata": {},
   "outputs": [
    {
     "data": {
      "text/plain": [
       "list"
      ]
     },
     "execution_count": 32,
     "metadata": {},
     "output_type": "execute_result"
    }
   ],
   "source": [
    "type([0, 1, 2, 3, 4])"
   ]
  },
  {
   "cell_type": "code",
   "execution_count": 34,
   "id": "d41d6459",
   "metadata": {},
   "outputs": [
    {
     "data": {
      "text/plain": [
       "range(10, 20)"
      ]
     },
     "execution_count": 34,
     "metadata": {},
     "output_type": "execute_result"
    }
   ],
   "source": [
    "range(10,20)  # two parameters, hence start= 10 and stop=20"
   ]
  },
  {
   "cell_type": "code",
   "execution_count": 35,
   "id": "552908a1",
   "metadata": {},
   "outputs": [
    {
     "data": {
      "text/plain": [
       "[10, 11, 12, 13, 14, 15, 16, 17, 18, 19]"
      ]
     },
     "execution_count": 35,
     "metadata": {},
     "output_type": "execute_result"
    }
   ],
   "source": [
    "list(range(10,20))"
   ]
  },
  {
   "cell_type": "code",
   "execution_count": 36,
   "id": "23152e6e",
   "metadata": {},
   "outputs": [
    {
     "data": {
      "text/plain": [
       "range(10, 20, 2)"
      ]
     },
     "execution_count": 36,
     "metadata": {},
     "output_type": "execute_result"
    }
   ],
   "source": [
    "range(10, 20, 2) # three parameters, which means start= 10, stop=20 and step= 2"
   ]
  },
  {
   "cell_type": "code",
   "execution_count": 37,
   "id": "ae40b3bc",
   "metadata": {},
   "outputs": [
    {
     "data": {
      "text/plain": [
       "[10, 12, 14, 16, 18]"
      ]
     },
     "execution_count": 37,
     "metadata": {},
     "output_type": "execute_result"
    }
   ],
   "source": [
    "list(range(10, 20, 2))"
   ]
  },
  {
   "cell_type": "code",
   "execution_count": 38,
   "id": "4e7c5190",
   "metadata": {},
   "outputs": [
    {
     "data": {
      "text/plain": [
       "[10, 9, 8, 7, 6, 5, 4, 3, 2]"
      ]
     },
     "execution_count": 38,
     "metadata": {},
     "output_type": "execute_result"
    }
   ],
   "source": [
    "list(range(10, 1, -1))"
   ]
  },
  {
   "cell_type": "code",
   "execution_count": 39,
   "id": "29c21986",
   "metadata": {},
   "outputs": [
    {
     "data": {
      "text/plain": [
       "[10, 8, 6, 4, 2]"
      ]
     },
     "execution_count": 39,
     "metadata": {},
     "output_type": "execute_result"
    }
   ],
   "source": [
    "list(range(10, 1, -2))"
   ]
  },
  {
   "cell_type": "code",
   "execution_count": 40,
   "id": "80bac5f0",
   "metadata": {},
   "outputs": [
    {
     "data": {
      "text/plain": [
       "[]"
      ]
     },
     "execution_count": 40,
     "metadata": {},
     "output_type": "execute_result"
    }
   ],
   "source": [
    "list(range(10, 1))"
   ]
  },
  {
   "cell_type": "code",
   "execution_count": 41,
   "id": "328c5994",
   "metadata": {},
   "outputs": [
    {
     "data": {
      "text/plain": [
       "[100, 160, 220, 280, 340, 400, 460, 520, 580, 640, 700, 760, 820, 880, 940]"
      ]
     },
     "execution_count": 41,
     "metadata": {},
     "output_type": "execute_result"
    }
   ],
   "source": [
    "list(range(100, 1000, 60))"
   ]
  },
  {
   "cell_type": "markdown",
   "id": "31cf4095",
   "metadata": {},
   "source": [
    "## for loop\n",
    "\n",
    "A for loop is used for iterating over a sequence."
   ]
  },
  {
   "cell_type": "code",
   "execution_count": 42,
   "id": "b09ce753",
   "metadata": {},
   "outputs": [
    {
     "name": "stdout",
     "output_type": "stream",
     "text": [
      "5\n",
      "8\n",
      "11\n",
      "14\n",
      "17\n"
     ]
    }
   ],
   "source": [
    "for num in range(5, 20, 3):\n",
    "    print(num)"
   ]
  },
  {
   "cell_type": "code",
   "execution_count": 44,
   "id": "b81b2ace",
   "metadata": {},
   "outputs": [
    {
     "name": "stdout",
     "output_type": "stream",
     "text": [
      "1\n",
      "2\n",
      "3\n",
      "4\n",
      "5\n",
      "6\n",
      "7\n",
      "8\n",
      "9\n",
      "10\n"
     ]
    }
   ],
   "source": [
    "for num in range(1, 11):\n",
    "    print(num)"
   ]
  },
  {
   "cell_type": "code",
   "execution_count": 45,
   "id": "9160f5f9",
   "metadata": {},
   "outputs": [
    {
     "name": "stdout",
     "output_type": "stream",
     "text": [
      "P\n",
      "y\n",
      "t\n",
      "h\n",
      "o\n",
      "n\n"
     ]
    }
   ],
   "source": [
    "s = \"Python\"\n",
    "for ch in s:\n",
    "    print(ch)"
   ]
  },
  {
   "cell_type": "markdown",
   "id": "595e9046",
   "metadata": {},
   "source": [
    "## in/ not in operator\n",
    "\n",
    "Known as menbership operators.\n",
    "Checks if an item is present/ not present in a sequence and returns True or False."
   ]
  },
  {
   "cell_type": "code",
   "execution_count": 46,
   "id": "fba77684",
   "metadata": {},
   "outputs": [
    {
     "data": {
      "text/plain": [
       "False"
      ]
     },
     "execution_count": 46,
     "metadata": {},
     "output_type": "execute_result"
    }
   ],
   "source": [
    "'a' in 'Python'"
   ]
  },
  {
   "cell_type": "code",
   "execution_count": 47,
   "id": "cb03a244",
   "metadata": {},
   "outputs": [
    {
     "data": {
      "text/plain": [
       "True"
      ]
     },
     "execution_count": 47,
     "metadata": {},
     "output_type": "execute_result"
    }
   ],
   "source": [
    "'a' not in 'Python'"
   ]
  },
  {
   "cell_type": "code",
   "execution_count": 48,
   "id": "1b3607cf",
   "metadata": {},
   "outputs": [
    {
     "data": {
      "text/plain": [
       "True"
      ]
     },
     "execution_count": 48,
     "metadata": {},
     "output_type": "execute_result"
    }
   ],
   "source": [
    "3 in range(0,10,3)"
   ]
  },
  {
   "cell_type": "code",
   "execution_count": 49,
   "id": "c2a38e0b",
   "metadata": {},
   "outputs": [
    {
     "data": {
      "text/plain": [
       "True"
      ]
     },
     "execution_count": 49,
     "metadata": {},
     "output_type": "execute_result"
    }
   ],
   "source": [
    "4 not in range(1,4)"
   ]
  },
  {
   "cell_type": "markdown",
   "id": "dec4d5dd",
   "metadata": {},
   "source": [
    "### break and continue with for loop"
   ]
  },
  {
   "cell_type": "code",
   "execution_count": 50,
   "id": "dcf2bb04",
   "metadata": {},
   "outputs": [
    {
     "name": "stdout",
     "output_type": "stream",
     "text": [
      "10\n",
      "11\n",
      "12\n",
      "13\n",
      "14\n"
     ]
    }
   ],
   "source": [
    "for i in range(10, 20):\n",
    "    if i == 15:\n",
    "        break\n",
    "    print(i)"
   ]
  },
  {
   "cell_type": "code",
   "execution_count": 51,
   "id": "5ff86c4c",
   "metadata": {},
   "outputs": [
    {
     "name": "stdout",
     "output_type": "stream",
     "text": [
      "10\n",
      "11\n",
      "12\n",
      "13\n",
      "14\n",
      "16\n",
      "17\n",
      "18\n",
      "19\n"
     ]
    }
   ],
   "source": [
    "for i in range(10, 20):\n",
    "    if i == 15:\n",
    "        continue\n",
    "    print(i)"
   ]
  },
  {
   "cell_type": "markdown",
   "id": "f4b47772",
   "metadata": {},
   "source": [
    "### else with for loop"
   ]
  },
  {
   "cell_type": "markdown",
   "id": "f163da69",
   "metadata": {},
   "source": [
    "else in a loop is executed only if the loop completes execution without any interruption in between"
   ]
  },
  {
   "cell_type": "code",
   "execution_count": 53,
   "id": "9d5074b1",
   "metadata": {},
   "outputs": [
    {
     "name": "stdout",
     "output_type": "stream",
     "text": [
      "h\n",
      "b\n",
      "m\n",
      ",\n",
      "b\n",
      ".\n",
      "n\n",
      "k\n",
      ".\n",
      "j\n",
      "n\n",
      "l\n",
      ".\n",
      "n\n",
      "l\n",
      "k\n",
      "j\n",
      "l\n",
      "f\n"
     ]
    }
   ],
   "source": [
    "for ch in \"hbm,b.nk.jnl.nlkjlfaaaaaaaaaaaaaaaaaaaaasredtyughh;lkjl;kjlkjlkhkhfdyuruyohl;kjjgfgkhjghjkljb\":\n",
    "    if ch=='a':\n",
    "        break\n",
    "    print(ch)\n",
    "else:\n",
    "    print(\"a is not there\")"
   ]
  },
  {
   "cell_type": "code",
   "execution_count": 55,
   "id": "693e76ad",
   "metadata": {},
   "outputs": [
    {
     "name": "stdout",
     "output_type": "stream",
     "text": [
      "1\n"
     ]
    }
   ],
   "source": [
    "for num in range(1, 10):\n",
    "    if num==2:\n",
    "        break\n",
    "    print(num)\n",
    "else:\n",
    "    print(\"2 not in the range\")"
   ]
  },
  {
   "cell_type": "code",
   "execution_count": null,
   "id": "cd480a13",
   "metadata": {},
   "outputs": [],
   "source": []
  }
 ],
 "metadata": {
  "kernelspec": {
   "display_name": "Python 3",
   "language": "python",
   "name": "python3"
  },
  "language_info": {
   "codemirror_mode": {
    "name": "ipython",
    "version": 3
   },
   "file_extension": ".py",
   "mimetype": "text/x-python",
   "name": "python",
   "nbconvert_exporter": "python",
   "pygments_lexer": "ipython3",
   "version": "3.8.8"
  }
 },
 "nbformat": 4,
 "nbformat_minor": 5
}
