{
 "cells": [
  {
   "cell_type": "code",
   "execution_count": null,
   "id": "d7b24ff0",
   "metadata": {},
   "outputs": [],
   "source": [
    "balance = 0\n",
    "\n",
    "while True:\n",
    "    print(\"1. Deposit\")\n",
    "    print(\"2. Withdraw\")\n",
    "    print(\"3. Check balance\")\n",
    "    print(\"4. Exit\")\n",
    "    choice = int(input(\"Enter your choice: \"))\n",
    "    \n",
    "    if choice == 1:\n",
    "        amount = int(input(\"Enter deposit amount:\"))\n",
    "        balance += amount\n",
    "    elif choice == 2:\n",
    "        amount = int(input(\"Enter withdrawal amount:\"))\n",
    "        if balance >= amount:\n",
    "            balance -= amount\n",
    "        else:\n",
    "            print(\"Not enough balance\")\n",
    "    elif choice == 3:\n",
    "        print(f\"Balance = {balance}\")\n",
    "    elif choice == 4:\n",
    "        print(\"Thankyou for banking with us.\")\n",
    "        break"
   ]
  },
  {
   "cell_type": "code",
   "execution_count": null,
   "id": "7bf9e0a8",
   "metadata": {},
   "outputs": [],
   "source": [
    "balance = 0\n",
    "while True:\n",
    "    choice = print_banking_options()\n",
    "    if choice == 1:\n",
    "        deposit()\n",
    "    elif choice == 2:\n",
    "        withdraw()\n",
    "    elif choice == 3:\n",
    "        print(f\"Balance = {balance}\")\n",
    "    elif choice == 4:\n",
    "        print(\"Thankyou for banking with us.\")\n",
    "        break"
   ]
  },
  {
   "cell_type": "markdown",
   "id": "1ade7d2d",
   "metadata": {},
   "source": [
    "# Functions"
   ]
  },
  {
   "cell_type": "markdown",
   "id": "596586f3",
   "metadata": {},
   "source": [
    "A function is a named group of related statements that perform a specific task.\n",
    "* Functions make a program modular and more readable.\n",
    "\n",
    "<pre>\n",
    "<u>Syntax</u>\n",
    "def < function_name>():\n",
    "    < statement 1>\n",
    "    < statement 2>\n",
    "    .\n",
    "    .\n",
    "    .\n",
    "    < statement n>"
   ]
  },
  {
   "cell_type": "code",
   "execution_count": 3,
   "id": "b7478fca",
   "metadata": {},
   "outputs": [],
   "source": [
    "def print_banking_options():  # function definition\n",
    "    print(\"1. Deposit\")\n",
    "    print(\"2. Withdraw\")\n",
    "    print(\"3. Check balance\")\n",
    "    print(\"4. Exit\")"
   ]
  },
  {
   "cell_type": "markdown",
   "id": "59728925",
   "metadata": {},
   "source": [
    "* Statements inside a function will be executed only if it is called.\n",
    "* Functions once defined can be reused any number of times.\n",
    "* A function cannot be called before its defined."
   ]
  },
  {
   "cell_type": "code",
   "execution_count": 4,
   "id": "ec7105c9",
   "metadata": {},
   "outputs": [
    {
     "name": "stdout",
     "output_type": "stream",
     "text": [
      "1. Deposit\n",
      "2. Withdraw\n",
      "3. Check balance\n",
      "4. Exit\n"
     ]
    }
   ],
   "source": [
    "print_banking_options() # function call"
   ]
  },
  {
   "cell_type": "code",
   "execution_count": 5,
   "id": "c570270e",
   "metadata": {},
   "outputs": [
    {
     "name": "stdout",
     "output_type": "stream",
     "text": [
      "1. Deposit\n",
      "2. Withdraw\n",
      "3. Check balance\n",
      "4. Exit\n",
      "1. Deposit\n",
      "2. Withdraw\n",
      "3. Check balance\n",
      "4. Exit\n",
      "1. Deposit\n",
      "2. Withdraw\n",
      "3. Check balance\n",
      "4. Exit\n"
     ]
    }
   ],
   "source": [
    "print_banking_options()\n",
    "print_banking_options()\n",
    "print_banking_options()"
   ]
  },
  {
   "cell_type": "markdown",
   "id": "f2e77c16",
   "metadata": {},
   "source": [
    "Types of functions\n",
    "* User defined functions - Functions defined by users.\n",
    "* Built-in functions - Functions included with Python core package, modules, libraries etc.\n",
    "Eg:- print(), input(), len()\n",
    "\n",
    "A function can take an input(optional), process it and give an output(optional).\n",
    "\n"
   ]
  },
  {
   "attachments": {
    "CPT_Hardware-InputOutput.svg.png": {
     "image/png": "[encoded data removed]"
    }
   },
   "cell_type": "markdown",
   "id": "96458a36",
   "metadata": {},
   "source": [
    "![CPT_Hardware-InputOutput.svg.png](attachment:CPT_Hardware-InputOutput.svg.png)"
   ]
  },
  {
   "cell_type": "markdown",
   "id": "42969613",
   "metadata": {},
   "source": [
    "### Function Inputs"
   ]
  },
  {
   "cell_type": "code",
   "execution_count": 6,
   "id": "444c7f58",
   "metadata": {},
   "outputs": [
    {
     "name": "stdout",
     "output_type": "stream",
     "text": [
      "\n"
     ]
    }
   ],
   "source": [
    "print()"
   ]
  },
  {
   "cell_type": "code",
   "execution_count": 8,
   "id": "61ee9ced",
   "metadata": {},
   "outputs": [
    {
     "name": "stdout",
     "output_type": "stream",
     "text": [
      "Enter a number:\n"
     ]
    }
   ],
   "source": [
    "print(\"Enter a number:\")"
   ]
  },
  {
   "cell_type": "code",
   "execution_count": 10,
   "id": "b2a773e9",
   "metadata": {},
   "outputs": [
    {
     "data": {
      "text/plain": [
       "4"
      ]
     },
     "execution_count": 10,
     "metadata": {},
     "output_type": "execute_result"
    }
   ],
   "source": [
    "len([1, 2, 3, 4])"
   ]
  },
  {
   "cell_type": "code",
   "execution_count": 11,
   "id": "8dada313",
   "metadata": {},
   "outputs": [],
   "source": [
    "def add():\n",
    "    print(5 + 6)"
   ]
  },
  {
   "cell_type": "code",
   "execution_count": 12,
   "id": "aa60709b",
   "metadata": {},
   "outputs": [
    {
     "name": "stdout",
     "output_type": "stream",
     "text": [
      "11\n"
     ]
    }
   ],
   "source": [
    "add()"
   ]
  },
  {
   "cell_type": "code",
   "execution_count": 13,
   "id": "e20e998c",
   "metadata": {},
   "outputs": [
    {
     "name": "stdout",
     "output_type": "stream",
     "text": [
      "11\n",
      "11\n",
      "11\n"
     ]
    }
   ],
   "source": [
    "add()\n",
    "add()\n",
    "add()"
   ]
  },
  {
   "cell_type": "code",
   "execution_count": 14,
   "id": "521f171b",
   "metadata": {},
   "outputs": [],
   "source": [
    "def add(input1, input2):\n",
    "    print(input1 + input2)"
   ]
  },
  {
   "cell_type": "code",
   "execution_count": 15,
   "id": "e7c42d8e",
   "metadata": {},
   "outputs": [
    {
     "name": "stdout",
     "output_type": "stream",
     "text": [
      "11\n"
     ]
    }
   ],
   "source": [
    "add(5, 6)"
   ]
  },
  {
   "cell_type": "code",
   "execution_count": 16,
   "id": "a2b26ec2",
   "metadata": {},
   "outputs": [
    {
     "name": "stdout",
     "output_type": "stream",
     "text": [
      "15\n"
     ]
    }
   ],
   "source": [
    "add(7, 8)"
   ]
  },
  {
   "attachments": {
    "image.png": {
     "image/png": "[encoded data removed]"
    }
   },
   "cell_type": "markdown",
   "id": "197a3046",
   "metadata": {},
   "source": [
    "* Helps us in customizing functions as per our needs.\n",
    "* No limit on the number of inputs that can be given to a function.\n",
    "* Input values are supplied while calling the function.\n",
    "\n",
    "![image.png](attachment:image.png)\n",
    "* A parameter is a variable defined by a method.\n",
    "* An argument is a value passed to method during its call.\n",
    "* By default, arguments will be assigned to parameters in the order they are supplied."
   ]
  },
  {
   "cell_type": "markdown",
   "id": "6e75a87e",
   "metadata": {},
   "source": [
    "### Function outputs"
   ]
  },
  {
   "cell_type": "code",
   "execution_count": 17,
   "id": "784eb9c6",
   "metadata": {},
   "outputs": [
    {
     "name": "stdout",
     "output_type": "stream",
     "text": [
      "\n"
     ]
    },
    {
     "data": {
      "text/plain": [
       "NoneType"
      ]
     },
     "execution_count": 17,
     "metadata": {},
     "output_type": "execute_result"
    }
   ],
   "source": [
    "type(print())"
   ]
  },
  {
   "cell_type": "code",
   "execution_count": 20,
   "id": "674d081e",
   "metadata": {},
   "outputs": [
    {
     "name": "stdout",
     "output_type": "stream",
     "text": [
      "Enter a number:65465\n"
     ]
    },
    {
     "data": {
      "text/plain": [
       "str"
      ]
     },
     "execution_count": 20,
     "metadata": {},
     "output_type": "execute_result"
    }
   ],
   "source": [
    "type(input(\"Enter a number:\"))"
   ]
  },
  {
   "cell_type": "code",
   "execution_count": 21,
   "id": "1fa89608",
   "metadata": {},
   "outputs": [
    {
     "data": {
      "text/plain": [
       "int"
      ]
     },
     "execution_count": 21,
     "metadata": {},
     "output_type": "execute_result"
    }
   ],
   "source": [
    "type(len([1, 2, 3, 4]))"
   ]
  },
  {
   "cell_type": "code",
   "execution_count": 22,
   "id": "1add51a5",
   "metadata": {},
   "outputs": [
    {
     "name": "stdout",
     "output_type": "stream",
     "text": [
      "7\n"
     ]
    },
    {
     "data": {
      "text/plain": [
       "NoneType"
      ]
     },
     "execution_count": 22,
     "metadata": {},
     "output_type": "execute_result"
    }
   ],
   "source": [
    "type(add(3, 4))"
   ]
  },
  {
   "cell_type": "code",
   "execution_count": 23,
   "id": "608b4e4c",
   "metadata": {},
   "outputs": [
    {
     "name": "stdout",
     "output_type": "stream",
     "text": [
      "7\n"
     ]
    }
   ],
   "source": [
    "x = add(3, 4)"
   ]
  },
  {
   "cell_type": "code",
   "execution_count": 24,
   "id": "045e8853",
   "metadata": {},
   "outputs": [],
   "source": [
    "x"
   ]
  },
  {
   "cell_type": "code",
   "execution_count": 25,
   "id": "d8e00181",
   "metadata": {},
   "outputs": [
    {
     "data": {
      "text/plain": [
       "NoneType"
      ]
     },
     "execution_count": 25,
     "metadata": {},
     "output_type": "execute_result"
    }
   ],
   "source": [
    "type(x)"
   ]
  },
  {
   "cell_type": "markdown",
   "id": "9152480b",
   "metadata": {},
   "source": [
    "* By default a function returns None\n",
    "* Variables defined inside function is not accessible outside\n",
    "* A value can be returned from a function using return keyword.\n"
   ]
  },
  {
   "cell_type": "code",
   "execution_count": 26,
   "id": "ef058072",
   "metadata": {},
   "outputs": [],
   "source": [
    "def add(input1, input2):\n",
    "    return input1 + input2"
   ]
  },
  {
   "cell_type": "code",
   "execution_count": 27,
   "id": "a0e2f426",
   "metadata": {},
   "outputs": [],
   "source": [
    "x = add(5, 6)"
   ]
  },
  {
   "cell_type": "code",
   "execution_count": 28,
   "id": "a8d1ffd2",
   "metadata": {},
   "outputs": [
    {
     "data": {
      "text/plain": [
       "11"
      ]
     },
     "execution_count": 28,
     "metadata": {},
     "output_type": "execute_result"
    }
   ],
   "source": [
    "x"
   ]
  },
  {
   "cell_type": "code",
   "execution_count": 29,
   "id": "e8d4e9f2",
   "metadata": {},
   "outputs": [
    {
     "data": {
      "text/plain": [
       "int"
      ]
     },
     "execution_count": 29,
     "metadata": {},
     "output_type": "execute_result"
    }
   ],
   "source": [
    "type(x)"
   ]
  },
  {
   "cell_type": "code",
   "execution_count": 30,
   "id": "baa4d75a",
   "metadata": {},
   "outputs": [
    {
     "name": "stdout",
     "output_type": "stream",
     "text": [
      "1. Deposit\n",
      "2. Withdraw\n",
      "3. Check balance\n",
      "4. Exit\n"
     ]
    },
    {
     "data": {
      "text/plain": [
       "NoneType"
      ]
     },
     "execution_count": 30,
     "metadata": {},
     "output_type": "execute_result"
    }
   ],
   "source": [
    "type(print_banking_options())"
   ]
  },
  {
   "cell_type": "code",
   "execution_count": 31,
   "id": "ac9a729a",
   "metadata": {},
   "outputs": [],
   "source": [
    "def print_banking_options():  # function definition\n",
    "    print(\"1. Deposit\")\n",
    "    print(\"2. Withdraw\")\n",
    "    print(\"3. Check balance\")\n",
    "    print(\"4. Exit\")\n",
    "    choice = int(input(\"Enter your choice: \"))\n",
    "    return choice"
   ]
  },
  {
   "cell_type": "code",
   "execution_count": 32,
   "id": "6c4c2a7a",
   "metadata": {},
   "outputs": [
    {
     "name": "stdout",
     "output_type": "stream",
     "text": [
      "1. Deposit\n",
      "2. Withdraw\n",
      "3. Check balance\n",
      "4. Exit\n",
      "Enter your choice: 3\n"
     ]
    },
    {
     "data": {
      "text/plain": [
       "3"
      ]
     },
     "execution_count": 32,
     "metadata": {},
     "output_type": "execute_result"
    }
   ],
   "source": [
    "print_banking_options()"
   ]
  },
  {
   "cell_type": "code",
   "execution_count": null,
   "id": "aad2ff07",
   "metadata": {},
   "outputs": [],
   "source": []
  },
  {
   "cell_type": "code",
   "execution_count": null,
   "id": "1c5705c7",
   "metadata": {},
   "outputs": [],
   "source": [
    "balance = 0\n",
    "\n",
    "def print_banking_options():  # function definition\n",
    "    print(\"1. Deposit\")\n",
    "    print(\"2. Withdraw\")\n",
    "    print(\"3. Check balance\")\n",
    "    print(\"4. Exit\")\n",
    "    choice = int(input(\"Enter your choice: \"))\n",
    "    return choice\n",
    "\n",
    "def deposit():\n",
    "    amount = int(input(\"Enter deposit amount:\"))\n",
    "    balance += amount\n",
    "    \n",
    "def withdraw():\n",
    "    amount = int(input(\"Enter withdrawal amount:\"))\n",
    "    if balance >= amount:\n",
    "        balance -= amount\n",
    "    else:\n",
    "        print(\"Not enough balance\")\n",
    "        \n",
    "while True:\n",
    "    choice = print_banking_options()\n",
    "    if choice == 1:\n",
    "        deposit()\n",
    "    elif choice == 2:\n",
    "        withdraw()\n",
    "    elif choice == 3:\n",
    "        print(f\"Balance = {balance}\")\n",
    "    elif choice == 4:\n",
    "        print(\"Thankyou for banking with us.\")\n",
    "        break"
   ]
  },
  {
   "cell_type": "code",
   "execution_count": null,
   "id": "9e0a7d91",
   "metadata": {},
   "outputs": [],
   "source": []
  }
 ],
 "metadata": {
  "kernelspec": {
   "display_name": "Python 3",
   "language": "python",
   "name": "python3"
  },
  "language_info": {
   "codemirror_mode": {
    "name": "ipython",
    "version": 3
   },
   "file_extension": ".py",
   "mimetype": "text/x-python",
   "name": "python",
   "nbconvert_exporter": "python",
   "pygments_lexer": "ipython3",
   "version": "3.8.8"
  }
 },
 "nbformat": 4,
 "nbformat_minor": 5
}
