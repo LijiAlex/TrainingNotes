{
 "cells": [
  {
   "cell_type": "markdown",
   "id": "049746b2",
   "metadata": {},
   "source": [
    "### Topics covered so far\n",
    "* Datatypes \n",
    "* variables, variable assignment \n",
    "* input/output\n",
    "* operators\n",
    "* if, elif, else\n",
    "* while loop, infinite loop\n",
    "* range()\n",
    "* for loop\n",
    "* break, continue\n",
    "* else with loops\n",
    "* strings, string indexing \n",
    "* string functions"
   ]
  },
  {
   "cell_type": "markdown",
   "id": "3faac9d5",
   "metadata": {},
   "source": [
    "### Steps to write a code\n",
    "1. Understand the problem statement\n",
    "2. Think of main steps to achieve it\n",
    "3. Break down each steps again\n",
    "4. Link everything \n",
    "5. Write the code\n"
   ]
  },
  {
   "cell_type": "markdown",
   "id": "041fa023",
   "metadata": {},
   "source": [
    "# Calculator"
   ]
  },
  {
   "cell_type": "markdown",
   "id": "26333961",
   "metadata": {},
   "source": [
    "<u>Understand the problem statement</u>\n",
    "\n",
    "* Text based\n",
    "* Main operations: +, -, *, /\n",
    "* Input: 2 integers\n",
    "* output: result of operation\n",
    "\n",
    "<u>Think of main steps to achieve it</u>\n",
    "1. Get the inputs\n",
    "2. Get the operation\n",
    "3. Perform the operation\n",
    "4. Print the result\n",
    "\n",
    "<u>Break down each steps again</u>\n",
    "\n",
    "Get the inputs\n",
    "* Get two inputs - input()\n",
    "* Convert to integers and assign to two variables - int(), variable assignment\n",
    "\n",
    "Get the operation\n",
    "* Ask user to select the operation\n",
    "* Operations can have number 1-Add, 2-Subtract, 3-Multiply, 4-Divide - print()\n",
    "* Get the user choice - input(), variable assignment\n",
    "\n",
    "Perform the operation\n",
    "* Depending on choice operation has to be performed - (if elif else)\n",
    "\n",
    "Print the result\n",
    "* print the result\n"
   ]
  },
  {
   "cell_type": "code",
   "execution_count": 1,
   "id": "5e89a27f",
   "metadata": {},
   "outputs": [
    {
     "name": "stdout",
     "output_type": "stream",
     "text": [
      "Enter first number: 5\n",
      "Enter second number: 6\n",
      "1. Add\n",
      "2. Subtract\n",
      "3. Multiply\n",
      "4. Divide\n",
      "Enter your choice: 3\n",
      "30\n"
     ]
    }
   ],
   "source": [
    "number_1 = int(input(\"Enter first number: \"))\n",
    "number_2 = int(input(\"Enter second number: \"))\n",
    "\n",
    "print(\"1. Add\")\n",
    "print(\"2. Subtract\")\n",
    "print(\"3. Multiply\")\n",
    "print(\"4. Divide\")\n",
    "choice = int(input(\"Enter your choice: \"))\n",
    "\n",
    "if choice==1:\n",
    "    result = number_1 + number_2\n",
    "elif choice ==2:\n",
    "    result = number_1 - number_2\n",
    "elif choice ==3:\n",
    "    result = number_1 * number_2\n",
    "elif choice ==4:\n",
    "    result = number_1 / number_2\n",
    "    \n",
    "print(f\"The final result is {result}\")"
   ]
  },
  {
   "cell_type": "markdown",
   "id": "5896df89",
   "metadata": {},
   "source": [
    "### Repeat it till user says no"
   ]
  },
  {
   "cell_type": "code",
   "execution_count": 3,
   "id": "2d81e25a",
   "metadata": {},
   "outputs": [
    {
     "name": "stdout",
     "output_type": "stream",
     "text": [
      "Enter first number: 4\n",
      "Enter second number: 2\n",
      "1. Add\n",
      "2. Subtract\n",
      "3. Multiply\n",
      "4. Divide\n",
      "Enter your choice: 3\n",
      "The final result is 8\n",
      "Do you want to repeat?yes\n",
      "Enter first number: 78\n",
      "Enter second number: 23\n",
      "1. Add\n",
      "2. Subtract\n",
      "3. Multiply\n",
      "4. Divide\n",
      "Enter your choice: 3\n",
      "The final result is 1794\n",
      "Do you want to repeat?no\n"
     ]
    }
   ],
   "source": [
    "while True:\n",
    "    number_1 = int(input(\"Enter first number: \"))\n",
    "    number_2 = int(input(\"Enter second number: \"))\n",
    "\n",
    "    print(\"1. Add\")\n",
    "    print(\"2. Subtract\")\n",
    "    print(\"3. Multiply\")\n",
    "    print(\"4. Divide\")\n",
    "    choice = int(input(\"Enter your choice: \"))\n",
    "\n",
    "    if choice==1:\n",
    "        result = number_1 + number_2\n",
    "    elif choice ==2:\n",
    "        result = number_1 - number_2\n",
    "    elif choice ==3:\n",
    "        result = number_1 * number_2\n",
    "    elif choice ==4:\n",
    "        result = number_1 / number_2\n",
    "\n",
    "    print(f\"The final result is {result}\")\n",
    "    \n",
    "    option = input(\"Do you want to repeat?\")\n",
    "    if option.lower()=='no':\n",
    "        break"
   ]
  },
  {
   "cell_type": "code",
   "execution_count": null,
   "id": "75511e71",
   "metadata": {},
   "outputs": [],
   "source": []
  },
  {
   "cell_type": "code",
   "execution_count": null,
   "id": "56e85e50",
   "metadata": {},
   "outputs": [],
   "source": []
  },
  {
   "cell_type": "code",
   "execution_count": null,
   "id": "5be6dae1",
   "metadata": {},
   "outputs": [],
   "source": []
  },
  {
   "cell_type": "code",
   "execution_count": null,
   "id": "4a4d0e29",
   "metadata": {},
   "outputs": [],
   "source": []
  },
  {
   "cell_type": "code",
   "execution_count": null,
   "id": "267bda9d",
   "metadata": {},
   "outputs": [],
   "source": []
  },
  {
   "cell_type": "code",
   "execution_count": null,
   "id": "4bd89f95",
   "metadata": {},
   "outputs": [],
   "source": []
  },
  {
   "cell_type": "code",
   "execution_count": null,
   "id": "244c773b",
   "metadata": {},
   "outputs": [],
   "source": []
  },
  {
   "cell_type": "code",
   "execution_count": null,
   "id": "437c567a",
   "metadata": {},
   "outputs": [],
   "source": []
  },
  {
   "cell_type": "code",
   "execution_count": null,
   "id": "3abec0fe",
   "metadata": {},
   "outputs": [],
   "source": []
  }
 ],
 "metadata": {
  "kernelspec": {
   "display_name": "Python 3",
   "language": "python",
   "name": "python3"
  },
  "language_info": {
   "codemirror_mode": {
    "name": "ipython",
    "version": 3
   },
   "file_extension": ".py",
   "mimetype": "text/x-python",
   "name": "python",
   "nbconvert_exporter": "python",
   "pygments_lexer": "ipython3",
   "version": "3.8.8"
  }
 },
 "nbformat": 4,
 "nbformat_minor": 5
}
