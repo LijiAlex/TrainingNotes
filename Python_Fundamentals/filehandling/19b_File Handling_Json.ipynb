{
 "cells": [
  {
   "cell_type": "markdown",
   "id": "2cdcd45b",
   "metadata": {},
   "source": [
    "# JSON File Handling"
   ]
  },
  {
   "cell_type": "markdown",
   "id": "14f45550",
   "metadata": {},
   "source": [
    "## Reading from JSON\n",
    "\n",
    "The <b>Deserialization</b> of JSON means the conversion of JSON objects into their respective Python objects. \n",
    "\n",
    "json.load(): json.load() accepts file object, parses the JSON data, populates a Python dictionary with the data and returns it back to you.\n",
    "\n",
    "json.load(file object)\n",
    "\n",
    "\n"
   ]
  },
  {
   "cell_type": "code",
   "execution_count": 2,
   "id": "fc131b76",
   "metadata": {},
   "outputs": [
    {
     "data": {
      "text/plain": [
       "{'employees': [{'firstName': 'John', 'lastName': 'Doe'},\n",
       "  {'firstName': 'Anna', 'lastName': 'Smith'},\n",
       "  {'firstName': 'Peter', 'lastName': 'Jones'}]}"
      ]
     },
     "execution_count": 2,
     "metadata": {},
     "output_type": "execute_result"
    }
   ],
   "source": [
    "import json\n",
    "\n",
    "with open('data.json') as f:\n",
    "    data = json.load(f)\n",
    "\n",
    "data"
   ]
  },
  {
   "cell_type": "code",
   "execution_count": 4,
   "id": "06662764",
   "metadata": {},
   "outputs": [
    {
     "name": "stdout",
     "output_type": "stream",
     "text": [
      "{'employees': [{'firstName': 'John', 'lastName': 'Doe'},\n",
      "               {'firstName': 'Anna', 'lastName': 'Smith'},\n",
      "               {'firstName': 'Peter', 'lastName': 'Jones'}]}\n"
     ]
    }
   ],
   "source": [
    "import pprint\n",
    "\n",
    "pprint.pprint(data)"
   ]
  },
  {
   "cell_type": "code",
   "execution_count": 3,
   "id": "6dfb8620",
   "metadata": {},
   "outputs": [
    {
     "data": {
      "text/plain": [
       "dict"
      ]
     },
     "execution_count": 3,
     "metadata": {},
     "output_type": "execute_result"
    }
   ],
   "source": [
    "type(data)"
   ]
  },
  {
   "cell_type": "code",
   "execution_count": 5,
   "id": "dd17dca8",
   "metadata": {},
   "outputs": [
    {
     "data": {
      "text/plain": [
       "[{'firstName': 'John', 'lastName': 'Doe'},\n",
       " {'firstName': 'Anna', 'lastName': 'Smith'},\n",
       " {'firstName': 'Peter', 'lastName': 'Jones'}]"
      ]
     },
     "execution_count": 5,
     "metadata": {},
     "output_type": "execute_result"
    }
   ],
   "source": [
    "data['employees']"
   ]
  },
  {
   "cell_type": "code",
   "execution_count": 6,
   "id": "caa3885a",
   "metadata": {},
   "outputs": [
    {
     "data": {
      "text/plain": [
       "{'firstName': 'John', 'lastName': 'Doe'}"
      ]
     },
     "execution_count": 6,
     "metadata": {},
     "output_type": "execute_result"
    }
   ],
   "source": [
    "data['employees'][0]"
   ]
  },
  {
   "cell_type": "code",
   "execution_count": 7,
   "id": "2a7b624b",
   "metadata": {},
   "outputs": [
    {
     "data": {
      "text/plain": [
       "'John'"
      ]
     },
     "execution_count": 7,
     "metadata": {},
     "output_type": "execute_result"
    }
   ],
   "source": [
    "data['employees'][0]['firstName']"
   ]
  },
  {
   "cell_type": "markdown",
   "id": "e8128997",
   "metadata": {},
   "source": [
    "<b>json.loads()</b>: If you have a JSON string, you can parse it by using the json.loads()"
   ]
  },
  {
   "cell_type": "code",
   "execution_count": 8,
   "id": "79cff735",
   "metadata": {},
   "outputs": [
    {
     "data": {
      "text/plain": [
       "{'name': 'Bob', 'languages': 'English'}"
      ]
     },
     "execution_count": 8,
     "metadata": {},
     "output_type": "execute_result"
    }
   ],
   "source": [
    "# JSON string\n",
    "a = '{\"name\": \"Bob\", \"languages\": \"English\"}'\n",
    "\n",
    "# deserializes into dict\n",
    "# and returns dict.\n",
    "file_content = json.loads(a)\n",
    "file_content"
   ]
  },
  {
   "cell_type": "code",
   "execution_count": 10,
   "id": "c2bc295d",
   "metadata": {},
   "outputs": [
    {
     "data": {
      "text/plain": [
       "str"
      ]
     },
     "execution_count": 10,
     "metadata": {},
     "output_type": "execute_result"
    }
   ],
   "source": [
    "type(a)"
   ]
  },
  {
   "cell_type": "code",
   "execution_count": 9,
   "id": "bee2abd9",
   "metadata": {},
   "outputs": [
    {
     "data": {
      "text/plain": [
       "dict"
      ]
     },
     "execution_count": 9,
     "metadata": {},
     "output_type": "execute_result"
    }
   ],
   "source": [
    "type(file_content)"
   ]
  },
  {
   "cell_type": "code",
   "execution_count": 11,
   "id": "334a41bd",
   "metadata": {},
   "outputs": [
    {
     "data": {
      "text/plain": [
       "{'employees': [{'firstName': 'John', 'lastName': 'Doe'},\n",
       "  {'firstName': 'Anna', 'lastName': 'Smith'},\n",
       "  {'firstName': 'Peter', 'lastName': 'Jones'}]}"
      ]
     },
     "execution_count": 11,
     "metadata": {},
     "output_type": "execute_result"
    }
   ],
   "source": [
    "# JSON file\n",
    "with open ('data.json', \"r\") as f:\n",
    "    # Reading from file\n",
    "    data = json.loads(f.read())\n",
    "data\n"
   ]
  },
  {
   "cell_type": "code",
   "execution_count": 12,
   "id": "2de93732",
   "metadata": {},
   "outputs": [
    {
     "data": {
      "text/plain": [
       "dict"
      ]
     },
     "execution_count": 12,
     "metadata": {},
     "output_type": "execute_result"
    }
   ],
   "source": [
    "type(data)"
   ]
  },
  {
   "cell_type": "code",
   "execution_count": 13,
   "id": "f419fbca",
   "metadata": {},
   "outputs": [
    {
     "data": {
      "text/plain": [
       "str"
      ]
     },
     "execution_count": 13,
     "metadata": {},
     "output_type": "execute_result"
    }
   ],
   "source": [
    "with open ('data.json', \"r\") as f:\n",
    "    # Reading from file\n",
    "    content = f.read()\n",
    "type(content)"
   ]
  },
  {
   "cell_type": "markdown",
   "id": "8705d758",
   "metadata": {},
   "source": [
    "## Writing JSON to a file in Python\n",
    "Serializing JSON refers to the transformation of data into a series of bytes to be stored or transmitted across a network. "
   ]
  },
  {
   "cell_type": "markdown",
   "id": "7091c5e8",
   "metadata": {},
   "source": [
    "The JSON package in Python has a function called json.dumps() that helps in converting a dictionary to a JSON object. It takes two parameters:\n",
    "\n",
    "dictionary – the name of a dictionary which should be converted to a JSON object.\n",
    "indent – defines the number of units for indentation\n",
    "\n",
    "After converting the dictionary to a JSON object, simply write it to a file using the “write” function."
   ]
  },
  {
   "cell_type": "code",
   "execution_count": 16,
   "id": "8280aa00",
   "metadata": {},
   "outputs": [
    {
     "data": {
      "text/plain": [
       "'{\\n          \"name\": \"sathiyajith\",\\n          \"rollno\": 56,\\n          \"cgpa\": 8.6,\\n          \"phonenumber\": \"9976770500\"\\n}'"
      ]
     },
     "execution_count": 16,
     "metadata": {},
     "output_type": "execute_result"
    }
   ],
   "source": [
    "import json\n",
    "\n",
    "# Data to be written\n",
    "dictionary = {\n",
    "\t\"name\": \"sathiyajith\",\n",
    "\t\"rollno\": 56,\n",
    "\t\"cgpa\": 8.6,\n",
    "\t\"phonenumber\": \"9976770500\"\n",
    "}\n",
    "\n",
    "# Serializing json\n",
    "json_object = json.dumps(dictionary, indent=10)\n",
    "\n",
    "\n",
    "json_object"
   ]
  },
  {
   "cell_type": "code",
   "execution_count": 17,
   "id": "810562f9",
   "metadata": {},
   "outputs": [],
   "source": [
    "# Writing to sample.json\n",
    "with open(\"sample.json\", \"w\") as outfile:\n",
    "\toutfile.write(json_object)"
   ]
  },
  {
   "cell_type": "markdown",
   "id": "0910a9a7",
   "metadata": {},
   "source": [
    "Another way of writing JSON to a file is by using json.dump() method The JSON package has the “dump” function which directly writes the dictionary to a file in the form of JSON, without needing to convert it into an actual JSON object. It takes 2 parameters:\n",
    "dictionary – the name of a dictionary which should be converted to a JSON object.\n",
    "file pointer – pointer of the file opened in write or append mode."
   ]
  },
  {
   "cell_type": "code",
   "execution_count": 18,
   "id": "aef43d13",
   "metadata": {},
   "outputs": [],
   "source": [
    "# Python program to write JSON\n",
    "# to a file\n",
    "# Data to be written\n",
    "dictionary = {\n",
    "\t\"name\": \"sathiyajith\",\n",
    "\t\"rollno\": 56,\n",
    "\t\"cgpa\": 8.6,\n",
    "\t\"phonenumber\": \"9976770500\"\n",
    "}\n",
    "\n",
    "with open(\"sample1.json\", \"w\") as outfile:\n",
    "\tjson.dump(dictionary, outfile)\n"
   ]
  },
  {
   "cell_type": "code",
   "execution_count": null,
   "id": "6506421b",
   "metadata": {},
   "outputs": [],
   "source": []
  }
 ],
 "metadata": {
  "kernelspec": {
   "display_name": "Python 3 (ipykernel)",
   "language": "python",
   "name": "python3"
  },
  "language_info": {
   "codemirror_mode": {
    "name": "ipython",
    "version": 3
   },
   "file_extension": ".py",
   "mimetype": "text/x-python",
   "name": "python",
   "nbconvert_exporter": "python",
   "pygments_lexer": "ipython3",
   "version": "3.9.13"
  }
 },
 "nbformat": 4,
 "nbformat_minor": 5
}
