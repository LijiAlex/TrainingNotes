{
 "cells": [
  {
   "cell_type": "markdown",
   "id": "626c8879",
   "metadata": {},
   "source": [
    "# CSV files\n",
    "\n",
    "CSV stands for “Comma Separated Values.” \n",
    "\n",
    "It is the simplest form of storing data in tabular form as plain text for better readability, easier understanding, and faster processing. \n",
    "\n",
    "* The first line of a CSV file is the <b>header</b>. It contains the names of the fields/features which are shown on top as the column names in the file.\n",
    "* After the header, each line of the file is an <b>observation/a record</b>. The values of a record are separated by “commas.”"
   ]
  },
  {
   "cell_type": "markdown",
   "id": "b17ff6d6",
   "metadata": {},
   "source": [
    "## Reading a csv file"
   ]
  },
  {
   "cell_type": "code",
   "execution_count": 1,
   "id": "064fa229",
   "metadata": {},
   "outputs": [
    {
     "name": "stdout",
     "output_type": "stream",
     "text": [
      "[['Username', ' Identifier', 'First name', 'Last name'], ['booker12', '9012', 'Rachel', 'Booker'], ['grey07', '2070', 'Laura', 'Grey'], ['johnson81', '4081', 'Craig', 'Johnson'], ['jenkins46', '9346', 'Mary', 'Jenkins'], ['smith79', '5079', 'Jamie', 'Smith']]\n"
     ]
    },
    {
     "data": {
      "text/plain": [
       "<_csv.reader at 0x199d58f2220>"
      ]
     },
     "execution_count": 1,
     "metadata": {},
     "output_type": "execute_result"
    }
   ],
   "source": [
    "import csv\n",
    "rows = []\n",
    "with open(\"username.csv\", 'r') as file: # open the file\n",
    "    csvreader = csv.reader(file)  # create reader object\n",
    "    print(list(csvreader))\n",
    "csvreader"
   ]
  },
  {
   "cell_type": "code",
   "execution_count": 2,
   "id": "db3964ee",
   "metadata": {},
   "outputs": [
    {
     "name": "stdout",
     "output_type": "stream",
     "text": [
      "['Username', ' Identifier', 'First name', 'Last name']\n",
      "[['booker12', '9012', 'Rachel', 'Booker'], ['grey07', '2070', 'Laura', 'Grey'], ['johnson81', '4081', 'Craig', 'Johnson'], ['jenkins46', '9346', 'Mary', 'Jenkins'], ['smith79', '5079', 'Jamie', 'Smith']]\n"
     ]
    }
   ],
   "source": [
    "import csv\n",
    "rows = []\n",
    "with open(\"username.csv\", 'r') as file:\n",
    "    csvreader = csv.reader(file)\n",
    "    header = next(csvreader)\n",
    "    for row in csvreader:\n",
    "        rows.append(row)\n",
    "print(header)\n",
    "print(rows)"
   ]
  },
  {
   "cell_type": "code",
   "execution_count": 3,
   "id": "6750f0c4",
   "metadata": {},
   "outputs": [
    {
     "name": "stdout",
     "output_type": "stream",
     "text": [
      "{'Username': 'booker12', ' Identifier': '9012', 'First name': 'Rachel', 'Last name': 'Booker'}\n",
      "{'Username': 'grey07', ' Identifier': '2070', 'First name': 'Laura', 'Last name': 'Grey'}\n",
      "{'Username': 'johnson81', ' Identifier': '4081', 'First name': 'Craig', 'Last name': 'Johnson'}\n",
      "{'Username': 'jenkins46', ' Identifier': '9346', 'First name': 'Mary', 'Last name': 'Jenkins'}\n",
      "{'Username': 'smith79', ' Identifier': '5079', 'First name': 'Jamie', 'Last name': 'Smith'}\n"
     ]
    }
   ],
   "source": [
    "with open('username.csv', 'r') as csvfile:\n",
    "    reader = csv.DictReader(csvfile)\n",
    "    for row in reader:\n",
    "       print(row)"
   ]
  },
  {
   "cell_type": "code",
   "execution_count": 4,
   "id": "257141d9",
   "metadata": {},
   "outputs": [
    {
     "data": {
      "text/plain": [
       "<csv.DictReader at 0x199d58b9910>"
      ]
     },
     "execution_count": 4,
     "metadata": {},
     "output_type": "execute_result"
    }
   ],
   "source": [
    "reader"
   ]
  },
  {
   "cell_type": "code",
   "execution_count": 6,
   "id": "75ea456d",
   "metadata": {},
   "outputs": [
    {
     "data": {
      "text/plain": [
       "['Username, Identifier,First name,Last name\\n',\n",
       " 'booker12,9012,Rachel,Booker\\n',\n",
       " 'grey07,2070,Laura,Grey\\n',\n",
       " 'johnson81,4081,Craig,Johnson\\n',\n",
       " 'jenkins46,9346,Mary,Jenkins\\n',\n",
       " 'smith79,5079,Jamie,Smith\\n']"
      ]
     },
     "execution_count": 6,
     "metadata": {},
     "output_type": "execute_result"
    }
   ],
   "source": [
    "with open('username.csv') as file:\n",
    "    content = file.readlines()\n",
    "content"
   ]
  },
  {
   "cell_type": "code",
   "execution_count": 7,
   "id": "f908d9aa",
   "metadata": {},
   "outputs": [
    {
     "name": "stdout",
     "output_type": "stream",
     "text": [
      "['Username, Identifier,First name,Last name\\n']\n",
      "['booker12,9012,Rachel,Booker\\n', 'grey07,2070,Laura,Grey\\n', 'johnson81,4081,Craig,Johnson\\n', 'jenkins46,9346,Mary,Jenkins\\n', 'smith79,5079,Jamie,Smith\\n']\n"
     ]
    }
   ],
   "source": [
    "header = content[:1]\n",
    "rows = content[1:]\n",
    "print(header)\n",
    "print(rows)"
   ]
  },
  {
   "cell_type": "code",
   "execution_count": 8,
   "id": "79d9700c",
   "metadata": {},
   "outputs": [
    {
     "data": {
      "text/html": [
       "<div>\n",
       "<style scoped>\n",
       "    .dataframe tbody tr th:only-of-type {\n",
       "        vertical-align: middle;\n",
       "    }\n",
       "\n",
       "    .dataframe tbody tr th {\n",
       "        vertical-align: top;\n",
       "    }\n",
       "\n",
       "    .dataframe thead th {\n",
       "        text-align: right;\n",
       "    }\n",
       "</style>\n",
       "<table border=\"1\" class=\"dataframe\">\n",
       "  <thead>\n",
       "    <tr style=\"text-align: right;\">\n",
       "      <th></th>\n",
       "      <th>Username</th>\n",
       "      <th>Identifier</th>\n",
       "      <th>First name</th>\n",
       "      <th>Last name</th>\n",
       "    </tr>\n",
       "  </thead>\n",
       "  <tbody>\n",
       "    <tr>\n",
       "      <th>0</th>\n",
       "      <td>booker12</td>\n",
       "      <td>9012</td>\n",
       "      <td>Rachel</td>\n",
       "      <td>Booker</td>\n",
       "    </tr>\n",
       "    <tr>\n",
       "      <th>1</th>\n",
       "      <td>grey07</td>\n",
       "      <td>2070</td>\n",
       "      <td>Laura</td>\n",
       "      <td>Grey</td>\n",
       "    </tr>\n",
       "    <tr>\n",
       "      <th>2</th>\n",
       "      <td>johnson81</td>\n",
       "      <td>4081</td>\n",
       "      <td>Craig</td>\n",
       "      <td>Johnson</td>\n",
       "    </tr>\n",
       "    <tr>\n",
       "      <th>3</th>\n",
       "      <td>jenkins46</td>\n",
       "      <td>9346</td>\n",
       "      <td>Mary</td>\n",
       "      <td>Jenkins</td>\n",
       "    </tr>\n",
       "    <tr>\n",
       "      <th>4</th>\n",
       "      <td>smith79</td>\n",
       "      <td>5079</td>\n",
       "      <td>Jamie</td>\n",
       "      <td>Smith</td>\n",
       "    </tr>\n",
       "  </tbody>\n",
       "</table>\n",
       "</div>"
      ],
      "text/plain": [
       "    Username   Identifier First name Last name\n",
       "0   booker12         9012     Rachel    Booker\n",
       "1     grey07         2070      Laura      Grey\n",
       "2  johnson81         4081      Craig   Johnson\n",
       "3  jenkins46         9346       Mary   Jenkins\n",
       "4    smith79         5079      Jamie     Smith"
      ]
     },
     "execution_count": 8,
     "metadata": {},
     "output_type": "execute_result"
    }
   ],
   "source": [
    "import pandas as pd\n",
    "\n",
    "data= pd.read_csv('username.csv')\n",
    "data"
   ]
  },
  {
   "cell_type": "markdown",
   "id": "34382cc5",
   "metadata": {},
   "source": [
    "## Writing to a CSV file"
   ]
  },
  {
   "cell_type": "code",
   "execution_count": 9,
   "id": "3e998868",
   "metadata": {},
   "outputs": [],
   "source": [
    "header = ['Name', 'M1 Score', 'M2 Score']\n",
    "data = [['Alex', 62, 80], ['Brad', 45, 56], ['Joey', 85, 98]]"
   ]
  },
  {
   "cell_type": "code",
   "execution_count": 10,
   "id": "f39973c1",
   "metadata": {},
   "outputs": [],
   "source": [
    "filename = 'Students_Data.csv'\n",
    "with open(filename, 'w', newline=\"\") as file:\n",
    "    csvwriter = csv.writer(file) # 2. create a csvwriter object\n",
    "    csvwriter.writerow(header) # 4. write the header\n",
    "    csvwriter.writerows(data) # 5. write the rest of the data"
   ]
  },
  {
   "cell_type": "code",
   "execution_count": 12,
   "id": "381810c3",
   "metadata": {},
   "outputs": [],
   "source": [
    "header = ['Name', 'M1 Score', 'M2 Score']\n",
    "data = [['Alex', 62, 80], ['Brad', 45, 56], ['Joey', 85, 98]]\n",
    "data = pd.DataFrame(data, columns=header)\n",
    "data.to_csv('Stu_data.csv', index=True)"
   ]
  },
  {
   "cell_type": "code",
   "execution_count": null,
   "id": "0f221484",
   "metadata": {},
   "outputs": [],
   "source": []
  }
 ],
 "metadata": {
  "kernelspec": {
   "display_name": "Python 3 (ipykernel)",
   "language": "python",
   "name": "python3"
  },
  "language_info": {
   "codemirror_mode": {
    "name": "ipython",
    "version": 3
   },
   "file_extension": ".py",
   "mimetype": "text/x-python",
   "name": "python",
   "nbconvert_exporter": "python",
   "pygments_lexer": "ipython3",
   "version": "3.9.13"
  }
 },
 "nbformat": 4,
 "nbformat_minor": 5
}
