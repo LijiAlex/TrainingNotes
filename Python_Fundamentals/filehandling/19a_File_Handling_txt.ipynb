{
 "cells": [
  {
   "cell_type": "markdown",
   "metadata": {
    "id": "_6_k1vdbdCrk"
   },
   "source": [
    "# Files\n",
    "\n",
    "* Store data permanently we use files.\n",
    "* A file is the collection of data stored on a disk in one unit identified by filename.\n",
    "\n",
    "### Types of File\n",
    "\n",
    "* Text File: Text file usually we use to store character data. For example, test.txt\n",
    "* Binary File: The binary files are used to store binary data such as images, video files, audio files, objects etc.\n",
    "\n",
    "### File Path\n",
    "A file path defines the location of a file or folder in the computer system. \n",
    "\n",
    "There are two ways to specify a file path.\n",
    "\n",
    "* Absolute path: which always begins with the root folder. The absolute path includes the complete directory list required to locate the file.\n",
    "\n",
    "* Relative path: which is relative to the program's current working directory"
   ]
  },
  {
   "cell_type": "markdown",
   "metadata": {
    "id": "sq8v-OxxgXAJ"
   },
   "source": [
    "## Read File\n",
    "To read or write a file, we need to open that file. \n",
    "\n",
    "For this purpose, Python provides a built-in function <b>open()</b>.\n",
    "\n",
    "open(file_path, access_mode) function. I\n",
    "\n",
    "It returns the file object. This object is used to read or write the file according to the access mode.\n",
    "\n",
    "Access mode represents the purpose of opening the file. For example, r is for reading, w is for writing, a for append"
   ]
  },
  {
   "cell_type": "code",
   "execution_count": 1,
   "metadata": {
    "id": "mh_j6nzucrmK"
   },
   "outputs": [
    {
     "name": "stdout",
     "output_type": "stream",
     "text": [
      "Mother Teresa is known to all the world for the kind of humane person she was. She is known for her selfless attitude towards needy and helpless people. On August 26 1910, she was born in Skopje, Macedonia, and came to India at the age of 18 after becoming a nun. She decided to live the rest of her life as a nun.\n"
     ]
    }
   ],
   "source": [
    "# Opening the file with absolute path\n",
    "fp = open(r\"D:\\Training\\Notes\\Python_Fundamentals\\essay.txt\", 'r')\n",
    "\n",
    "# read file\n",
    "print(fp.read())\n",
    "\n",
    "# Closing the file after reading\n",
    "fp.close()\n",
    "\n"
   ]
  },
  {
   "cell_type": "markdown",
   "metadata": {},
   "source": [
    "Note:\n",
    "\n",
    "When we open a file, the operating system gives a handle to read and write a file. Once we have done using the file, it is highly recommended to close it. Because a closed file reduces the risk of being unwarrantedly modified, it will also free up the resources tied with the file."
   ]
  },
  {
   "cell_type": "code",
   "execution_count": 2,
   "metadata": {},
   "outputs": [
    {
     "name": "stdout",
     "output_type": "stream",
     "text": [
      "Mother Teresa is known to all the world for the kind of humane person she was. She is known for her selfless attitude towards needy and helpless people. On August 26 1910, she was born in Skopje, Macedonia, and came to India at the age of 18 after becoming a nun. She decided to live the rest of her life as a nun.\n"
     ]
    }
   ],
   "source": [
    "with open(r'essay.txt', 'r') as fp:\n",
    "    print(fp.read())"
   ]
  },
  {
   "cell_type": "markdown",
   "metadata": {},
   "source": [
    "Note: Using the with statement a file is closed automatically it ensures that all the resources that are tied up with the file are released."
   ]
  },
  {
   "cell_type": "code",
   "execution_count": 3,
   "metadata": {},
   "outputs": [
    {
     "data": {
      "text/plain": [
       "['.ipynb_checkpoints',\n",
       " '1. Python_Basics.ipynb',\n",
       " '19a_File_Handling.ipynb',\n",
       " '19b_File Handling_Json.ipynb',\n",
       " '2. Datatypes, Input, Output, Variables, Variable Assignments.ipynb',\n",
       " '3. PythonOperators.ipynb',\n",
       " '4. Python_if, elif, else.ipynb',\n",
       " '5. Python while loop, infinite loop, break, continue.ipynb',\n",
       " '5_Python_while_loop,_infinite_loop,_break,_continue.ipynb',\n",
       " '6_Python_range,_for_loop,_else_with_loops.ipynb',\n",
       " '7_Python_strings_and_its_functions.ipynb',\n",
       " 'data.json',\n",
       " 'essay.txt',\n",
       " 'essay1.txt']"
      ]
     },
     "execution_count": 3,
     "metadata": {},
     "output_type": "execute_result"
    }
   ],
   "source": [
    "import os\n",
    "\n",
    "# list files from a working directory\n",
    "files = os.listdir()\n",
    "files"
   ]
  },
  {
   "cell_type": "code",
   "execution_count": 7,
   "metadata": {},
   "outputs": [
    {
     "data": {
      "text/plain": [
       "['essay.txt', 'essay1.txt']"
      ]
     },
     "execution_count": 7,
     "metadata": {},
     "output_type": "execute_result"
    }
   ],
   "source": [
    "text_files = [file for file in files if file.endswith('.txt')]\n",
    "text_files"
   ]
  },
  {
   "cell_type": "code",
   "execution_count": 8,
   "metadata": {},
   "outputs": [
    {
     "name": "stdout",
     "output_type": "stream",
     "text": [
      "Mother Teresa is known to all the world for the kind of humane person she was. She is known for her selfless attitude towards needy and helpless people. On August 26 1910, she was born in Skopje, Macedonia, and came to India at the age of 18 after becoming a nun. She decided to live the rest of her life as a nun.\n",
      "hjgadkjfhlkajlfjk\n",
      "kjshkjdhskjd\n",
      "sbdkjsdk\n",
      "shdg,jshakjdslkjsndlk\n",
      "hjsbdkjsdh\n"
     ]
    }
   ],
   "source": [
    "for file in text_files:\n",
    "    with open(file) as fp:\n",
    "        print(fp.read())"
   ]
  },
  {
   "cell_type": "code",
   "execution_count": 9,
   "metadata": {},
   "outputs": [
    {
     "name": "stdout",
     "output_type": "stream",
     "text": [
      "True\n"
     ]
    }
   ],
   "source": [
    "# verify file exist\n",
    "print(os.path.isfile('essay.txt'))"
   ]
  },
  {
   "cell_type": "code",
   "execution_count": 10,
   "metadata": {},
   "outputs": [
    {
     "name": "stdout",
     "output_type": "stream",
     "text": [
      "hjgadkjfhlkajlfjk\n",
      "\n"
     ]
    }
   ],
   "source": [
    "with open('essay1.txt', 'r') as fp:\n",
    "    # read first line\n",
    "    # assign it to string variable\n",
    "    line = fp.readline()\n",
    "    print(line)"
   ]
  },
  {
   "cell_type": "code",
   "execution_count": 13,
   "metadata": {},
   "outputs": [
    {
     "name": "stdout",
     "output_type": "stream",
     "text": [
      "hjgadkjfhlkajlfjk\n",
      "kjshkjdhskjd\n",
      "sbdkjsdk\n",
      "shdg,jshakjdslkjsndlk\n",
      "hjsbdkjsdh"
     ]
    }
   ],
   "source": [
    "with open('essay1.txt', 'r') as fp:\n",
    "    # Read the first line\n",
    "    line = fp.readline()\n",
    "    # Iterate the file till it reached the EOF\n",
    "    while line != '':\n",
    "        print(line, end=\"\")\n",
    "        line = fp.readline()"
   ]
  },
  {
   "cell_type": "code",
   "execution_count": 14,
   "metadata": {},
   "outputs": [
    {
     "name": "stdout",
     "output_type": "stream",
     "text": [
      "['hjgadkjfhlkajlfjk\\n', 'kjshkjdhskjd\\n', 'sbdkjsdk\\n', 'shdg,jshakjdslkjsndlk\\n', 'hjsbdkjsdh']\n"
     ]
    }
   ],
   "source": [
    "with open('essay1.txt', 'r') as fp:\n",
    "    # Read file into list\n",
    "    lines = fp.readlines()\n",
    "    print(lines)"
   ]
  },
  {
   "cell_type": "code",
   "execution_count": 15,
   "metadata": {},
   "outputs": [
    {
     "data": {
      "text/plain": [
       "list"
      ]
     },
     "execution_count": 15,
     "metadata": {},
     "output_type": "execute_result"
    }
   ],
   "source": [
    "type(lines)"
   ]
  },
  {
   "cell_type": "code",
   "execution_count": 19,
   "metadata": {},
   "outputs": [
    {
     "name": "stdout",
     "output_type": "stream",
     "text": [
      "hjgadkjfhlkajlfjk\n",
      "kjshkjdhskjd\n",
      "sbdkjsdk\n",
      "shdg,jshakjdslkjsndlk\n",
      "hjsbdkjsdh\n"
     ]
    }
   ],
   "source": [
    "with open('essay1.txt', 'r') as fp:\n",
    "    # Read file into list\n",
    "    lines = fp.read()\n",
    "    print(lines)"
   ]
  },
  {
   "cell_type": "code",
   "execution_count": 20,
   "metadata": {},
   "outputs": [
    {
     "data": {
      "text/plain": [
       "str"
      ]
     },
     "execution_count": 20,
     "metadata": {},
     "output_type": "execute_result"
    }
   ],
   "source": [
    "type(lines)"
   ]
  },
  {
   "cell_type": "markdown",
   "metadata": {},
   "source": [
    "### Writing to a File\n",
    "To write content into a file, use the access mode w to open a file in a write mode.\n",
    "\n",
    "Note:\n",
    "\n",
    "* If a file already exists, it truncates the existing content and places the filehandle at the beginning of the file. \n",
    "* A new file is created if the mentioned file doesn’t exist.\n",
    "* If you want to add content at the end of the file, use the access mode a to open a file in append mode"
   ]
  },
  {
   "cell_type": "code",
   "execution_count": 1,
   "metadata": {},
   "outputs": [
    {
     "name": "stdout",
     "output_type": "stream",
     "text": [
      "Done Writing\n"
     ]
    }
   ],
   "source": [
    "text = \"This is new content\"\n",
    "\n",
    "# writing new content to the file\n",
    "fp = open(\"write_demo.txt\", 'w')\n",
    "\n",
    "fp.write(text)\n",
    "print('Done Writing')\n",
    "\n",
    "fp.close()"
   ]
  },
  {
   "cell_type": "code",
   "execution_count": 2,
   "metadata": {},
   "outputs": [
    {
     "name": "stdout",
     "output_type": "stream",
     "text": [
      "Name: Emma\n",
      "Address: 221 Baker Street\n",
      "City: London\n"
     ]
    }
   ],
   "source": [
    "person_data = ['Name: Emma', '\\nAddress: 221 Baker Street', '\\nCity: London']\n",
    "# writing string and list of lines to a file\n",
    "fp = open(\"write_demo1.txt\", \"w\")\n",
    "fp.writelines(person_data)\n",
    "fp.close()\n",
    "\n",
    "# opening the file in read mode\n",
    "fp = open(\"write_demo1.txt\", \"r\")\n",
    "print(fp.read())\n",
    "fp.close()"
   ]
  },
  {
   "cell_type": "code",
   "execution_count": 3,
   "metadata": {},
   "outputs": [
    {
     "name": "stdout",
     "output_type": "stream",
     "text": [
      "Written using a context manager\n"
     ]
    }
   ],
   "source": [
    "name = \"Written using a context manager\"\n",
    "with open(\"Write_demo2.txt\", \"w\") as f:\n",
    "    f.write(name)\n",
    "\n",
    "# opening the file in read mode to access the file\n",
    "with open(\"Write_demo2.txt\", \"r\") as f:\n",
    "    print(f.read())"
   ]
  },
  {
   "cell_type": "code",
   "execution_count": 4,
   "metadata": {},
   "outputs": [
    {
     "name": "stdout",
     "output_type": "stream",
     "text": [
      "Written using a context manager\n",
      "Emma\n",
      "Address: 221 Baker Street\n",
      "City: London\n",
      "Country:United Kingdom\n"
     ]
    }
   ],
   "source": [
    "name = '\\nEmma'\n",
    "address = ['\\nAddress: 221 Baker Street', '\\nCity: London', '\\nCountry:United Kingdom']\n",
    "# append to file\n",
    "with open(\"Write_demo2.txt\", \"a\") as f:\n",
    "    f.write(name)\n",
    "    f.writelines(address)\n",
    "\n",
    "# opening the file in read mode to access the file\n",
    "with open(\"Write_demo2.txt\", \"r\") as f:\n",
    "    print(f.read())\n"
   ]
  },
  {
   "cell_type": "code",
   "execution_count": 5,
   "metadata": {},
   "outputs": [
    {
     "name": "stdout",
     "output_type": "stream",
     "text": [
      "['Written using a context manager\\n', 'Emma\\n', 'Address: 221 Baker Street\\n', 'City: London\\n', 'Country:United Kingdom']\n"
     ]
    }
   ],
   "source": [
    "with open(\"Write_demo2.txt\", \"r\") as f:\n",
    "    print(f.readlines())"
   ]
  },
  {
   "cell_type": "markdown",
   "metadata": {},
   "source": [
    "## Move File Pointer Position\n",
    "\n",
    "A file handle or pointer or cursor denotes the position from which the file contents will be read or written. \n",
    "\n",
    "* when we open a file in write mode, the file pointer is placed at the 0th position, i.e., at the start of the file. However, it changes (increments) its position as we start writing content into it.\n",
    "\n",
    "* when we read a file line by line, the file pointer moves one line at a time."
   ]
  },
  {
   "cell_type": "markdown",
   "metadata": {},
   "source": [
    "### seek()\n",
    "Sometimes we may have to read only a specific portion of the file, in such cases use the seek() method to move the file pointer to that position.\n",
    "\n",
    "f.seek(offset, whence)"
   ]
  },
  {
   "cell_type": "markdown",
   "metadata": {},
   "source": [
    "The allowed values for the whence argument are: –\n",
    "\n",
    "A whence value of 0 means from the beginning of the file.\n",
    "\n",
    "A whence value of 1 uses the current file position\n",
    "\n",
    "A whence value of 2 uses the end of the file as the reference point. \n",
    "\n",
    "The default value for the whence is the beginning of the file, which is 0"
   ]
  },
  {
   "cell_type": "code",
   "execution_count": 6,
   "metadata": {},
   "outputs": [
    {
     "name": "stdout",
     "output_type": "stream",
     "text": [
      "Mother Teresa is known to all the world for the kind of humane person she was. She is known for her selfless attitude towards needy and helpless people. On August 26 1910, she was born in Skopje, Macedonia, and came to India at the age of 18 after becoming a nun. She decided to live the rest of her life as a nun.\n"
     ]
    }
   ],
   "source": [
    "with open(r'essay.txt', \"r\") as fp:\n",
    "    # Moving the file handle to 6th character \n",
    "    # fp.seek(6)\n",
    "    # read file\n",
    "    print(fp.read())"
   ]
  },
  {
   "cell_type": "code",
   "execution_count": 7,
   "metadata": {},
   "outputs": [
    {
     "name": "stdout",
     "output_type": "stream",
     "text": [
      " Teresa is known to all the world for the kind of humane person she was. She is known for her selfless attitude towards needy and helpless people. On August 26 1910, she was born in Skopje, Macedonia, and came to India at the age of 18 after becoming a nun. She decided to live the rest of her life as a nun.\n"
     ]
    }
   ],
   "source": [
    "with open(r'essay.txt', \"r\") as fp:\n",
    "    # Moving the file handle to 6th character \n",
    "    fp.seek(6)\n",
    "    # read file\n",
    "    print(fp.read())"
   ]
  },
  {
   "cell_type": "code",
   "execution_count": 8,
   "metadata": {},
   "outputs": [
    {
     "name": "stdout",
     "output_type": "stream",
     "text": [
      "This is new content\n"
     ]
    }
   ],
   "source": [
    "with open(r'write_demo.txt', \"r\") as fp:\n",
    "    # read file\n",
    "    print(fp.read())"
   ]
  },
  {
   "cell_type": "code",
   "execution_count": 9,
   "metadata": {},
   "outputs": [
    {
     "name": "stdout",
     "output_type": "stream",
     "text": [
      "This is new content\n",
      "This content is added to the end of the file\n"
     ]
    }
   ],
   "source": [
    "# open file for reading and writing  a+\n",
    "with open('write_demo.txt', \"r+\") as fp:\n",
    "    # Moving the file handle to the end of the file\n",
    "    fp.seek(0, 2)\n",
    "\n",
    "    # Inserting new content to the end of the file\n",
    "    fp.write(\"\\nThis content is added to the end of the file\")\n",
    "\n",
    "    # moving to the beginning \n",
    "    # again read the whole file\n",
    "    fp.seek(0)\n",
    "    print(fp.read())"
   ]
  },
  {
   "cell_type": "code",
   "execution_count": 10,
   "metadata": {},
   "outputs": [
    {
     "name": "stdout",
     "output_type": "stream",
     "text": [
      "This is new content\n",
      "This content is added to the end of the file\n",
      "This content is added to the end of the file\n",
      "\n"
     ]
    }
   ],
   "source": [
    "# open file for reading and writing  a+\n",
    "with open('write_demo.txt', \"a+\") as fp:\n",
    "    # Inserting new content at the beginning\n",
    "    fp.write(\"\\nThis content is added to the end of the file\\n\")\n",
    "\n",
    "    # moving to the beginning \n",
    "    # again read the whole file\n",
    "    # fp.seek(10, 0)\n",
    "    fp.seek(0, 0)\n",
    "    print(fp.read())"
   ]
  },
  {
   "cell_type": "code",
   "execution_count": null,
   "metadata": {},
   "outputs": [],
   "source": []
  }
 ],
 "metadata": {
  "colab": {
   "provenance": []
  },
  "kernelspec": {
   "display_name": "Python 3 (ipykernel)",
   "language": "python",
   "name": "python3"
  },
  "language_info": {
   "codemirror_mode": {
    "name": "ipython",
    "version": 3
   },
   "file_extension": ".py",
   "mimetype": "text/x-python",
   "name": "python",
   "nbconvert_exporter": "python",
   "pygments_lexer": "ipython3",
   "version": "3.9.13"
  }
 },
 "nbformat": 4,
 "nbformat_minor": 1
}
