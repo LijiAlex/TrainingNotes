{
 "cells": [
  {
   "cell_type": "markdown",
   "id": "05341a7d",
   "metadata": {},
   "source": [
    "# YAML\n",
    "YAML is a human-friendly data serialization language for all programming languages. YAML is most often used for configuration files, but it’s also used for data exchange.\n",
    "\n",
    "* YAML is easy to write and read.\n",
    "* It’s also easy to parse YAML, especially with Python and the PyYAML\n"
   ]
  },
  {
   "cell_type": "markdown",
   "id": "43876c82",
   "metadata": {},
   "source": [
    "### Reading yaml file"
   ]
  },
  {
   "cell_type": "code",
   "execution_count": 1,
   "id": "16f6fbe5",
   "metadata": {},
   "outputs": [
    {
     "data": {
      "text/plain": [
       "[{'hosts': 'webservers',\n",
       "  'vars': {'http_port': 80, 'max_clients': 200},\n",
       "  'remote_user': 'root',\n",
       "  'tasks': [{'name': 'ensure apache is at the latest version',\n",
       "    'yum': {'name': 'httpd', 'state': 'latest'}},\n",
       "   {'name': 'write the apache config file',\n",
       "    'template': {'src': '/srv/httpd.j2', 'dest': '/etc/httpd.conf'},\n",
       "    'notify': ['restart apache']},\n",
       "   {'name': 'ensure apache is running',\n",
       "    'service': {'name': 'httpd', 'state': 'started'}}],\n",
       "  'handlers': [{'name': 'restart apache',\n",
       "    'service': {'name': 'httpd', 'state': 'restarted'}}]}]"
      ]
     },
     "execution_count": 1,
     "metadata": {},
     "output_type": "execute_result"
    }
   ],
   "source": [
    "import yaml\n",
    "\n",
    "with open('verify_apache.yaml', 'r') as file:\n",
    "    config = yaml.safe_load(file)\n",
    "config"
   ]
  },
  {
   "cell_type": "code",
   "execution_count": 2,
   "id": "33d1bfa0",
   "metadata": {},
   "outputs": [
    {
     "data": {
      "text/plain": [
       "list"
      ]
     },
     "execution_count": 2,
     "metadata": {},
     "output_type": "execute_result"
    }
   ],
   "source": [
    "type(config)"
   ]
  },
  {
   "cell_type": "code",
   "execution_count": 4,
   "id": "04fbaec3",
   "metadata": {},
   "outputs": [
    {
     "data": {
      "text/plain": [
       "dict"
      ]
     },
     "execution_count": 4,
     "metadata": {},
     "output_type": "execute_result"
    }
   ],
   "source": [
    "type(config[0])"
   ]
  },
  {
   "cell_type": "code",
   "execution_count": 8,
   "id": "af3ca496",
   "metadata": {},
   "outputs": [
    {
     "name": "stdout",
     "output_type": "stream",
     "text": [
      "{'handlers': [{'name': 'restart apache',\n",
      "               'service': {'name': 'httpd', 'state': 'restarted'}}],\n",
      " 'hosts': 'webservers',\n",
      " 'remote_user': 'root',\n",
      " 'tasks': [{'name': 'ensure apache is at the latest version',\n",
      "            'yum': {'name': 'httpd', 'state': 'latest'}},\n",
      "           {'name': 'write the apache config file',\n",
      "            'notify': ['restart apache'],\n",
      "            'template': {'dest': '/etc/httpd.conf', 'src': '/srv/httpd.j2'}},\n",
      "           {'name': 'ensure apache is running',\n",
      "            'service': {'name': 'httpd', 'state': 'started'}}],\n",
      " 'vars': {'http_port': 80, 'max_clients': 200}}\n"
     ]
    }
   ],
   "source": [
    "from pprint import pprint\n",
    "pprint(config[0])"
   ]
  },
  {
   "cell_type": "code",
   "execution_count": 9,
   "id": "cc1c096b",
   "metadata": {},
   "outputs": [
    {
     "data": {
      "text/plain": [
       "dict_keys(['hosts', 'vars', 'remote_user', 'tasks', 'handlers'])"
      ]
     },
     "execution_count": 9,
     "metadata": {},
     "output_type": "execute_result"
    }
   ],
   "source": [
    "config[0].keys()"
   ]
  },
  {
   "cell_type": "code",
   "execution_count": 10,
   "id": "b3517e12",
   "metadata": {},
   "outputs": [
    {
     "name": "stdout",
     "output_type": "stream",
     "text": [
      "hosts = webservers\n",
      "\n",
      "vars = {'http_port': 80, 'max_clients': 200}\n",
      "\n",
      "remote_user = root\n",
      "\n",
      "tasks = [{'name': 'ensure apache is at the latest version', 'yum': {'name': 'httpd', 'state': 'latest'}}, {'name': 'write the apache config file', 'template': {'src': '/srv/httpd.j2', 'dest': '/etc/httpd.conf'}, 'notify': ['restart apache']}, {'name': 'ensure apache is running', 'service': {'name': 'httpd', 'state': 'started'}}]\n",
      "\n",
      "handlers = [{'name': 'restart apache', 'service': {'name': 'httpd', 'state': 'restarted'}}]\n",
      "\n"
     ]
    }
   ],
   "source": [
    "for key, value in config[0].items():\n",
    "    print(f\"{key} = {value}\\n\")"
   ]
  },
  {
   "cell_type": "code",
   "execution_count": 11,
   "id": "a3363099",
   "metadata": {},
   "outputs": [
    {
     "data": {
      "text/plain": [
       "dict"
      ]
     },
     "execution_count": 11,
     "metadata": {},
     "output_type": "execute_result"
    }
   ],
   "source": [
    "type(config[0]['tasks'][0])"
   ]
  },
  {
   "cell_type": "code",
   "execution_count": 12,
   "id": "6f4db852",
   "metadata": {},
   "outputs": [
    {
     "name": "stdout",
     "output_type": "stream",
     "text": [
      "task 1\n",
      "name = ensure apache is at the latest version\n",
      "yum = {'name': 'httpd', 'state': 'latest'}\n",
      "task 2\n",
      "name = write the apache config file\n",
      "template = {'src': '/srv/httpd.j2', 'dest': '/etc/httpd.conf'}\n",
      "notify = ['restart apache']\n",
      "task 3\n",
      "name = ensure apache is running\n",
      "service = {'name': 'httpd', 'state': 'started'}\n"
     ]
    }
   ],
   "source": [
    "for index, task in enumerate(config[0]['tasks']):\n",
    "    print(f\"task {index+1}\")\n",
    "    for key, value in task.items():\n",
    "        print(f\"{key} = {value}\")"
   ]
  },
  {
   "cell_type": "code",
   "execution_count": 13,
   "id": "51a4b121",
   "metadata": {},
   "outputs": [
    {
     "name": "stdout",
     "output_type": "stream",
     "text": [
      "{'document': 1, 'name': 'erik'}\n",
      "{'document': 2, 'name': 'config'}\n"
     ]
    }
   ],
   "source": [
    "with open('multi_doc.yml', 'r') as file:\n",
    "    docs = yaml.safe_load_all(file)\n",
    "\n",
    "    for doc in docs:\n",
    "        print(doc)"
   ]
  },
  {
   "cell_type": "markdown",
   "id": "876ee2c5",
   "metadata": {},
   "source": [
    "### Writing to yaml file"
   ]
  },
  {
   "cell_type": "code",
   "execution_count": 14,
   "id": "59a2a995",
   "metadata": {},
   "outputs": [
    {
     "name": "stdout",
     "output_type": "stream",
     "text": [
      "- eric\n",
      "- justin\n",
      "- mary-kate\n",
      "\n"
     ]
    }
   ],
   "source": [
    "names_yaml = \"\"\"\n",
    "- 'eric'\n",
    "- 'justin'\n",
    "- 'mary-kate'\n",
    "\"\"\"\n",
    "names = yaml.safe_load(names_yaml)\n",
    "with open('names.yaml', 'w') as file:\n",
    "    yaml.dump(names, file)\n",
    "print(open('names.yaml').read())"
   ]
  },
  {
   "cell_type": "code",
   "execution_count": null,
   "id": "0edf13ce",
   "metadata": {},
   "outputs": [],
   "source": []
  }
 ],
 "metadata": {
  "kernelspec": {
   "display_name": "Python 3 (ipykernel)",
   "language": "python",
   "name": "python3"
  },
  "language_info": {
   "codemirror_mode": {
    "name": "ipython",
    "version": 3
   },
   "file_extension": ".py",
   "mimetype": "text/x-python",
   "name": "python",
   "nbconvert_exporter": "python",
   "pygments_lexer": "ipython3",
   "version": "3.9.13"
  }
 },
 "nbformat": 4,
 "nbformat_minor": 5
}
