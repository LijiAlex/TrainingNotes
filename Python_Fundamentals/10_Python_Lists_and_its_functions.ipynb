{
  "cells": [
    {
      "cell_type": "markdown",
      "id": "8a93e5b7",
      "metadata": {
        "id": "8a93e5b7"
      },
      "source": [
        "# Lists in Python\n",
        "\n",
        "* Lists are used to store multiple items in a single variable.\n",
        "* A list is created by placing elements inside square brackets [] , separated by commas. \n",
        "* A list can have any number of items and they may be of different types (integer, float, string, etc.).\n",
        "* A list can even have another list, tuple or dictionary as an item"
      ]
    },
    {
      "cell_type": "code",
      "execution_count": null,
      "id": "7134b14a",
      "metadata": {
        "colab": {
          "base_uri": "https://localhost:8080/"
        },
        "id": "7134b14a",
        "outputId": "43d9a96c-b2b3-47ec-f8c3-58ad5d87677b"
      },
      "outputs": [
        {
          "output_type": "execute_result",
          "data": {
            "text/plain": [
              "['Sunday', 'Sunday', 'Monday', 'Tuesday', 'Wednesday']"
            ]
          },
          "metadata": {},
          "execution_count": 18
        }
      ],
      "source": [
        "days = [\"Sunday\", \"Sunday\", \"Monday\", \"Tuesday\", \"Wednesday\"]\n",
        "days"
      ]
    },
    {
      "cell_type": "code",
      "execution_count": null,
      "id": "7b59cae6",
      "metadata": {
        "id": "7b59cae6"
      },
      "outputs": [],
      "source": [
        "type(days)"
      ]
    },
    {
      "cell_type": "markdown",
      "id": "58d5e113",
      "metadata": {
        "id": "58d5e113"
      },
      "source": [
        "### Features of a list"
      ]
    },
    {
      "cell_type": "markdown",
      "id": "d49f7c2b",
      "metadata": {
        "id": "d49f7c2b"
      },
      "source": [
        "1. ordered/indexed\n",
        "* Items are arranged in an order as per creation.\n",
        "* Order will not change even on re-creation.\n",
        "* New items will be placed at the end of the list.\n",
        "* Items are indexed.\n",
        "2. mutable\n",
        "* Once a list is created we can change it.\n",
        "3. allow duplicates"
      ]
    },
    {
      "cell_type": "markdown",
      "id": "2bd79162",
      "metadata": {
        "id": "2bd79162"
      },
      "source": [
        "### Indexing in lists\n"
      ]
    },
    {
      "cell_type": "code",
      "execution_count": null,
      "id": "9f9b3b6f",
      "metadata": {
        "id": "9f9b3b6f"
      },
      "outputs": [],
      "source": [
        "days[0]"
      ]
    },
    {
      "cell_type": "code",
      "execution_count": null,
      "id": "3dc4a16c",
      "metadata": {
        "id": "3dc4a16c"
      },
      "outputs": [],
      "source": [
        "days[-3]"
      ]
    },
    {
      "cell_type": "code",
      "execution_count": null,
      "id": "06bdde52",
      "metadata": {
        "id": "06bdde52"
      },
      "outputs": [],
      "source": [
        "days[3]"
      ]
    },
    {
      "cell_type": "code",
      "execution_count": null,
      "id": "5a51e412",
      "metadata": {
        "colab": {
          "base_uri": "https://localhost:8080/"
        },
        "id": "5a51e412",
        "outputId": "ecdbd870-9de9-4834-d75c-97593a5c278a"
      },
      "outputs": [
        {
          "output_type": "execute_result",
          "data": {
            "text/plain": [
              "[1, 2, 3, ['a']]"
            ]
          },
          "metadata": {},
          "execution_count": 9
        }
      ],
      "source": [
        "days[-1]"
      ]
    },
    {
      "cell_type": "code",
      "source": [
        "days[-1][-1][0]"
      ],
      "metadata": {
        "colab": {
          "base_uri": "https://localhost:8080/",
          "height": 36
        },
        "id": "-d8UGbOXrsHw",
        "outputId": "e61b3392-b8d9-4584-e1d2-72c04296d5a8"
      },
      "id": "-d8UGbOXrsHw",
      "execution_count": null,
      "outputs": [
        {
          "output_type": "execute_result",
          "data": {
            "text/plain": [
              "'a'"
            ],
            "application/vnd.google.colaboratory.intrinsic+json": {
              "type": "string"
            }
          },
          "metadata": {},
          "execution_count": 11
        }
      ]
    },
    {
      "cell_type": "markdown",
      "id": "6d9f145e",
      "metadata": {
        "id": "6d9f145e"
      },
      "source": [
        "### List operators"
      ]
    },
    {
      "cell_type": "code",
      "source": [
        "l = [3,4,5]\n",
        "l[0]"
      ],
      "metadata": {
        "colab": {
          "base_uri": "https://localhost:8080/"
        },
        "id": "KRqY9Y0nr-6c",
        "outputId": "07d29cb4-9d8f-463c-ac29-0876ede46317"
      },
      "id": "KRqY9Y0nr-6c",
      "execution_count": null,
      "outputs": [
        {
          "output_type": "execute_result",
          "data": {
            "text/plain": [
              "3"
            ]
          },
          "metadata": {},
          "execution_count": 13
        }
      ]
    },
    {
      "cell_type": "code",
      "execution_count": null,
      "id": "7973a886",
      "metadata": {
        "colab": {
          "base_uri": "https://localhost:8080/"
        },
        "id": "7973a886",
        "outputId": "12491768-8ef6-4603-e19f-68c23e823326"
      },
      "outputs": [
        {
          "output_type": "execute_result",
          "data": {
            "text/plain": [
              "3"
            ]
          },
          "metadata": {},
          "execution_count": 12
        }
      ],
      "source": [
        "[3, 4, 5][0] # indexing operator []"
      ]
    },
    {
      "cell_type": "code",
      "execution_count": null,
      "id": "095cd166",
      "metadata": {
        "colab": {
          "base_uri": "https://localhost:8080/"
        },
        "id": "095cd166",
        "outputId": "9bf4bd68-2a56-4d26-909c-d71093d19b6e"
      },
      "outputs": [
        {
          "output_type": "execute_result",
          "data": {
            "text/plain": [
              "[1, 2, 3, 2, 3, 4]"
            ]
          },
          "metadata": {},
          "execution_count": 14
        }
      ],
      "source": [
        "[1, 2, 3] + [2, 3, 4]  # concatenation operator +"
      ]
    },
    {
      "cell_type": "code",
      "execution_count": null,
      "id": "e17f3335",
      "metadata": {
        "colab": {
          "base_uri": "https://localhost:8080/"
        },
        "id": "e17f3335",
        "outputId": "b1448d85-78fe-4075-c1a9-42df61d07bb6"
      },
      "outputs": [
        {
          "output_type": "execute_result",
          "data": {
            "text/plain": [
              "['a', 'b', 'c', 'a', 'b', 'c', 'a', 'b', 'c', 'a', 'b', 'c']"
            ]
          },
          "metadata": {},
          "execution_count": 15
        }
      ],
      "source": [
        "['a', 'b', 'c'] * 4 # repetition operator *"
      ]
    },
    {
      "cell_type": "markdown",
      "id": "f2788f67",
      "metadata": {
        "id": "f2788f67"
      },
      "source": [
        "### List functions"
      ]
    },
    {
      "cell_type": "markdown",
      "id": "9751eb92",
      "metadata": {
        "id": "9751eb92"
      },
      "source": [
        "https://python-reference.readthedocs.io/en/latest/docs/list/"
      ]
    },
    {
      "cell_type": "code",
      "source": [
        "day = \"monday\""
      ],
      "metadata": {
        "id": "9T4lOrtfsd8C"
      },
      "id": "9T4lOrtfsd8C",
      "execution_count": null,
      "outputs": []
    },
    {
      "cell_type": "code",
      "source": [
        "list(day)"
      ],
      "metadata": {
        "colab": {
          "base_uri": "https://localhost:8080/"
        },
        "id": "Nn0l86B3shdz",
        "outputId": "7ccadf27-332e-4110-fe40-4eec4391a091"
      },
      "id": "Nn0l86B3shdz",
      "execution_count": null,
      "outputs": [
        {
          "output_type": "execute_result",
          "data": {
            "text/plain": [
              "['m', 'o', 'n', 'd', 'a', 'y']"
            ]
          },
          "metadata": {},
          "execution_count": 17
        }
      ]
    },
    {
      "cell_type": "code",
      "execution_count": null,
      "id": "eb746575",
      "metadata": {
        "id": "eb746575"
      },
      "outputs": [],
      "source": [
        "len(days)"
      ]
    },
    {
      "cell_type": "code",
      "execution_count": null,
      "id": "c1d37105",
      "metadata": {
        "colab": {
          "base_uri": "https://localhost:8080/"
        },
        "id": "c1d37105",
        "outputId": "d1636e09-9974-4104-a595-d3f426aaad31"
      },
      "outputs": [
        {
          "output_type": "execute_result",
          "data": {
            "text/plain": [
              "['Sunday', 'Sunday', 'Monday', 'Tuesday', 'Wednesday', 'Thursday']"
            ]
          },
          "metadata": {},
          "execution_count": 19
        }
      ],
      "source": [
        "days.append(\"Thursday\")\n",
        "days"
      ]
    },
    {
      "cell_type": "code",
      "execution_count": null,
      "id": "242ba860",
      "metadata": {
        "colab": {
          "base_uri": "https://localhost:8080/"
        },
        "id": "242ba860",
        "outputId": "925e1529-6362-446b-c243-ed93bc0e57fb"
      },
      "outputs": [
        {
          "output_type": "execute_result",
          "data": {
            "text/plain": [
              "['Sunday', 'Sunday', 'Monday', 'Tuesday', 'Wednesday', 'Thursday', 'Friday', 4]"
            ]
          },
          "metadata": {},
          "execution_count": 20
        }
      ],
      "source": [
        "days.extend([\"Friday\", 4])\n",
        "days"
      ]
    },
    {
      "cell_type": "code",
      "execution_count": null,
      "id": "4f7c1262",
      "metadata": {
        "colab": {
          "base_uri": "https://localhost:8080/"
        },
        "id": "4f7c1262",
        "outputId": "eaf62668-fc4c-4a79-8d0f-e646e2812619"
      },
      "outputs": [
        {
          "output_type": "execute_result",
          "data": {
            "text/plain": [
              "['saturday',\n",
              " 'Sunday',\n",
              " 'Sunday',\n",
              " 'Monday',\n",
              " 'Tuesday',\n",
              " 'Wednesday',\n",
              " 'Thursday',\n",
              " 'Friday',\n",
              " 4]"
            ]
          },
          "metadata": {},
          "execution_count": 21
        }
      ],
      "source": [
        "days.insert(0, \"saturday\")\n",
        "days"
      ]
    },
    {
      "cell_type": "code",
      "execution_count": null,
      "id": "c017354b",
      "metadata": {
        "colab": {
          "base_uri": "https://localhost:8080/"
        },
        "id": "c017354b",
        "outputId": "c0c3871e-eb94-4340-ca43-4cdd5a517604"
      },
      "outputs": [
        {
          "output_type": "execute_result",
          "data": {
            "text/plain": [
              "1"
            ]
          },
          "metadata": {},
          "execution_count": 22
        }
      ],
      "source": [
        "days.index(\"Sunday\")"
      ]
    },
    {
      "cell_type": "code",
      "execution_count": null,
      "id": "ad4a6adc",
      "metadata": {
        "id": "ad4a6adc"
      },
      "outputs": [],
      "source": [
        "days"
      ]
    },
    {
      "cell_type": "code",
      "execution_count": null,
      "id": "5d6d6a9d",
      "metadata": {
        "colab": {
          "base_uri": "https://localhost:8080/"
        },
        "id": "5d6d6a9d",
        "outputId": "953afe1d-5477-4280-eb73-92d4ed88bf4e"
      },
      "outputs": [
        {
          "output_type": "execute_result",
          "data": {
            "text/plain": [
              "4"
            ]
          },
          "metadata": {},
          "execution_count": 23
        }
      ],
      "source": [
        "days.pop()"
      ]
    },
    {
      "cell_type": "code",
      "execution_count": null,
      "id": "b640e442",
      "metadata": {
        "id": "b640e442"
      },
      "outputs": [],
      "source": [
        "days"
      ]
    },
    {
      "cell_type": "code",
      "execution_count": null,
      "id": "ab7a7167",
      "metadata": {
        "id": "ab7a7167"
      },
      "outputs": [],
      "source": [
        "days.remove(\"Sunday\")"
      ]
    },
    {
      "cell_type": "code",
      "execution_count": null,
      "id": "e935eeee",
      "metadata": {
        "id": "e935eeee"
      },
      "outputs": [],
      "source": [
        "days.append(\"Friday\")"
      ]
    },
    {
      "cell_type": "code",
      "execution_count": null,
      "id": "f7893852",
      "metadata": {
        "colab": {
          "base_uri": "https://localhost:8080/"
        },
        "id": "f7893852",
        "outputId": "461d4418-0626-4b8e-a661-91a8e44b5fc6"
      },
      "outputs": [
        {
          "output_type": "execute_result",
          "data": {
            "text/plain": [
              "3"
            ]
          },
          "metadata": {},
          "execution_count": 31
        }
      ],
      "source": [
        "days.count(\"Friday\")"
      ]
    },
    {
      "cell_type": "code",
      "execution_count": null,
      "id": "666c7fde",
      "metadata": {
        "id": "666c7fde"
      },
      "outputs": [],
      "source": [
        "days.reverse()"
      ]
    },
    {
      "cell_type": "code",
      "execution_count": null,
      "id": "a0d597de",
      "metadata": {
        "colab": {
          "base_uri": "https://localhost:8080/"
        },
        "id": "a0d597de",
        "outputId": "998c88ac-efdb-4e10-bc0c-65f77cff97ad"
      },
      "outputs": [
        {
          "output_type": "execute_result",
          "data": {
            "text/plain": [
              "['Friday',\n",
              " 'Friday',\n",
              " 'Friday',\n",
              " 'Thursday',\n",
              " 'Wednesday',\n",
              " 'Tuesday',\n",
              " 'Monday',\n",
              " 'Sunday',\n",
              " 'saturday']"
            ]
          },
          "metadata": {},
          "execution_count": 33
        }
      ],
      "source": [
        "days"
      ]
    },
    {
      "cell_type": "code",
      "execution_count": null,
      "id": "b38a5526",
      "metadata": {
        "id": "b38a5526"
      },
      "outputs": [],
      "source": [
        "days.sort()"
      ]
    },
    {
      "cell_type": "code",
      "execution_count": null,
      "id": "e70f60ee",
      "metadata": {
        "colab": {
          "base_uri": "https://localhost:8080/"
        },
        "id": "e70f60ee",
        "outputId": "ee6336e1-bb9d-4796-ea1f-a9726af0a957"
      },
      "outputs": [
        {
          "output_type": "execute_result",
          "data": {
            "text/plain": [
              "['Friday',\n",
              " 'Friday',\n",
              " 'Friday',\n",
              " 'Monday',\n",
              " 'Sunday',\n",
              " 'Thursday',\n",
              " 'Tuesday',\n",
              " 'Wednesday',\n",
              " 'saturday']"
            ]
          },
          "metadata": {},
          "execution_count": 35
        }
      ],
      "source": [
        "days"
      ]
    },
    {
      "cell_type": "code",
      "execution_count": null,
      "id": "b8c51421",
      "metadata": {
        "id": "b8c51421"
      },
      "outputs": [],
      "source": [
        "days1 = days.copy()"
      ]
    },
    {
      "cell_type": "code",
      "execution_count": null,
      "id": "8ba3ecbb",
      "metadata": {
        "colab": {
          "base_uri": "https://localhost:8080/"
        },
        "id": "8ba3ecbb",
        "outputId": "4129ba56-1bc9-4aeb-a846-a96e4cf7c1a2"
      },
      "outputs": [
        {
          "output_type": "execute_result",
          "data": {
            "text/plain": [
              "['Friday',\n",
              " 'Friday',\n",
              " 'Friday',\n",
              " 'Monday',\n",
              " 'Sunday',\n",
              " 'Thursday',\n",
              " 'Tuesday',\n",
              " 'Wednesday',\n",
              " 'saturday']"
            ]
          },
          "metadata": {},
          "execution_count": 37
        }
      ],
      "source": [
        "days1"
      ]
    },
    {
      "cell_type": "code",
      "execution_count": null,
      "id": "50292e38",
      "metadata": {
        "id": "50292e38"
      },
      "outputs": [],
      "source": [
        "del days[0]"
      ]
    },
    {
      "cell_type": "code",
      "execution_count": null,
      "id": "059da55f",
      "metadata": {
        "colab": {
          "base_uri": "https://localhost:8080/"
        },
        "id": "059da55f",
        "outputId": "7dad1a9a-8e53-4e10-d662-a6b5a6bbf9de"
      },
      "outputs": [
        {
          "output_type": "execute_result",
          "data": {
            "text/plain": [
              "['Friday',\n",
              " 'Friday',\n",
              " 'Monday',\n",
              " 'Sunday',\n",
              " 'Thursday',\n",
              " 'Tuesday',\n",
              " 'Wednesday',\n",
              " 'saturday']"
            ]
          },
          "metadata": {},
          "execution_count": 39
        }
      ],
      "source": [
        "days"
      ]
    },
    {
      "cell_type": "code",
      "source": [
        "days1"
      ],
      "metadata": {
        "colab": {
          "base_uri": "https://localhost:8080/"
        },
        "id": "0H0y2eW-uSMW",
        "outputId": "ad278e00-745f-4c43-b1a0-d1b843ee88c9"
      },
      "id": "0H0y2eW-uSMW",
      "execution_count": null,
      "outputs": [
        {
          "output_type": "execute_result",
          "data": {
            "text/plain": [
              "['Friday',\n",
              " 'Friday',\n",
              " 'Friday',\n",
              " 'Monday',\n",
              " 'Sunday',\n",
              " 'Thursday',\n",
              " 'Tuesday',\n",
              " 'Wednesday',\n",
              " 'saturday']"
            ]
          },
          "metadata": {},
          "execution_count": 40
        }
      ]
    },
    {
      "cell_type": "code",
      "source": [
        "days2 = days1"
      ],
      "metadata": {
        "id": "-xh7fhB6u9cb"
      },
      "id": "-xh7fhB6u9cb",
      "execution_count": null,
      "outputs": []
    },
    {
      "cell_type": "code",
      "source": [
        "days2"
      ],
      "metadata": {
        "colab": {
          "base_uri": "https://localhost:8080/"
        },
        "id": "oPstsHnPvAdG",
        "outputId": "d9682c7f-830d-4caf-a451-adb4f5e5c31f"
      },
      "id": "oPstsHnPvAdG",
      "execution_count": null,
      "outputs": [
        {
          "output_type": "execute_result",
          "data": {
            "text/plain": [
              "['Friday',\n",
              " 'Friday',\n",
              " 'Friday',\n",
              " 'Monday',\n",
              " 'Sunday',\n",
              " 'Thursday',\n",
              " 'Tuesday',\n",
              " 'Wednesday',\n",
              " 'saturday']"
            ]
          },
          "metadata": {},
          "execution_count": 43
        }
      ]
    },
    {
      "cell_type": "code",
      "source": [
        "days1.remove(\"Friday\")"
      ],
      "metadata": {
        "id": "2hukW2bGvD0i"
      },
      "id": "2hukW2bGvD0i",
      "execution_count": null,
      "outputs": []
    },
    {
      "cell_type": "code",
      "source": [
        "days1"
      ],
      "metadata": {
        "colab": {
          "base_uri": "https://localhost:8080/"
        },
        "id": "FH2JW_ZovIxE",
        "outputId": "1b00e663-8e40-418b-a230-58dce68d889e"
      },
      "id": "FH2JW_ZovIxE",
      "execution_count": null,
      "outputs": [
        {
          "output_type": "execute_result",
          "data": {
            "text/plain": [
              "['Friday',\n",
              " 'Friday',\n",
              " 'Monday',\n",
              " 'Sunday',\n",
              " 'Thursday',\n",
              " 'Tuesday',\n",
              " 'Wednesday',\n",
              " 'saturday']"
            ]
          },
          "metadata": {},
          "execution_count": 45
        }
      ]
    },
    {
      "cell_type": "code",
      "source": [
        "days2"
      ],
      "metadata": {
        "colab": {
          "base_uri": "https://localhost:8080/"
        },
        "id": "B8NWfl8JvLcZ",
        "outputId": "74f7091f-81c9-4a81-f4b5-e27af4505bf7"
      },
      "id": "B8NWfl8JvLcZ",
      "execution_count": null,
      "outputs": [
        {
          "output_type": "execute_result",
          "data": {
            "text/plain": [
              "['Friday',\n",
              " 'Friday',\n",
              " 'Monday',\n",
              " 'Sunday',\n",
              " 'Thursday',\n",
              " 'Tuesday',\n",
              " 'Wednesday',\n",
              " 'saturday']"
            ]
          },
          "metadata": {},
          "execution_count": 46
        }
      ]
    },
    {
      "cell_type": "code",
      "execution_count": null,
      "id": "6655d7b0",
      "metadata": {
        "colab": {
          "base_uri": "https://localhost:8080/",
          "height": 36
        },
        "id": "6655d7b0",
        "outputId": "15b9fb06-bc44-4a9e-bbb4-ce7ad135f7e2"
      },
      "outputs": [
        {
          "output_type": "execute_result",
          "data": {
            "text/plain": [
              "'Friday,Friday,Monday,Sunday,Thursday,Tuesday,Wednesday,saturday'"
            ],
            "application/vnd.google.colaboratory.intrinsic+json": {
              "type": "string"
            }
          },
          "metadata": {},
          "execution_count": 47
        }
      ],
      "source": [
        "\",\".join(days)"
      ]
    },
    {
      "cell_type": "code",
      "execution_count": null,
      "id": "b1524b65",
      "metadata": {
        "id": "b1524b65"
      },
      "outputs": [],
      "source": [
        "days1.clear()"
      ]
    },
    {
      "cell_type": "code",
      "execution_count": null,
      "id": "a7bf8c5f",
      "metadata": {
        "colab": {
          "base_uri": "https://localhost:8080/"
        },
        "id": "a7bf8c5f",
        "outputId": "80fd08f0-558f-4986-9cb1-24a51f5b7115"
      },
      "outputs": [
        {
          "output_type": "execute_result",
          "data": {
            "text/plain": [
              "[]"
            ]
          },
          "metadata": {},
          "execution_count": 49
        }
      ],
      "source": [
        "days1"
      ]
    },
    {
      "cell_type": "code",
      "source": [
        "list()"
      ],
      "metadata": {
        "id": "ZWx64H5ovfra",
        "outputId": "1cde51e9-d271-45fb-84c3-2c1b155b5f20",
        "colab": {
          "base_uri": "https://localhost:8080/"
        }
      },
      "id": "ZWx64H5ovfra",
      "execution_count": null,
      "outputs": [
        {
          "output_type": "execute_result",
          "data": {
            "text/plain": [
              "[]"
            ]
          },
          "metadata": {},
          "execution_count": 50
        }
      ]
    },
    {
      "cell_type": "markdown",
      "id": "6b886741",
      "metadata": {
        "id": "6b886741"
      },
      "source": [
        "### List iteration"
      ]
    },
    {
      "cell_type": "code",
      "execution_count": null,
      "id": "5e948a53",
      "metadata": {
        "id": "5e948a53"
      },
      "outputs": [],
      "source": [
        "days = [\"Sunday\", \"Monday\", \"Tuesday\", \"Wednesday\"]\n",
        "for item in days:\n",
        "    print(item)"
      ]
    },
    {
      "cell_type": "code",
      "execution_count": null,
      "id": "13b455e1",
      "metadata": {
        "id": "13b455e1"
      },
      "outputs": [],
      "source": [
        "index = 0\n",
        "while index<len(days):\n",
        "    print(days[index])\n",
        "    index = index +1"
      ]
    },
    {
      "cell_type": "markdown",
      "id": "38b69b72",
      "metadata": {
        "id": "38b69b72"
      },
      "source": [
        "### Nested list"
      ]
    },
    {
      "cell_type": "code",
      "execution_count": null,
      "id": "2b11b8d1",
      "metadata": {
        "id": "2b11b8d1"
      },
      "outputs": [],
      "source": [
        "my_list = [1, 2, 3, 4, 5, [11, 12, 13], 6]"
      ]
    },
    {
      "cell_type": "code",
      "execution_count": null,
      "id": "3ebe9f48",
      "metadata": {
        "id": "3ebe9f48"
      },
      "outputs": [],
      "source": [
        "for item in my_list:\n",
        "    print(item)"
      ]
    },
    {
      "cell_type": "code",
      "execution_count": null,
      "id": "cb9db592",
      "metadata": {
        "id": "cb9db592"
      },
      "outputs": [],
      "source": [
        "my_list[5][0]"
      ]
    },
    {
      "cell_type": "code",
      "execution_count": null,
      "id": "cbf33eb0",
      "metadata": {
        "id": "cbf33eb0"
      },
      "outputs": [],
      "source": [
        "my_list[5][1]"
      ]
    },
    {
      "cell_type": "code",
      "execution_count": null,
      "id": "6a3fa74b",
      "metadata": {
        "id": "6a3fa74b"
      },
      "outputs": [],
      "source": []
    },
    {
      "cell_type": "code",
      "execution_count": null,
      "id": "afae2b60",
      "metadata": {
        "id": "afae2b60"
      },
      "outputs": [],
      "source": []
    },
    {
      "cell_type": "code",
      "execution_count": null,
      "id": "958c0bd0",
      "metadata": {
        "id": "958c0bd0"
      },
      "outputs": [],
      "source": []
    },
    {
      "cell_type": "code",
      "execution_count": null,
      "id": "5dac3f29",
      "metadata": {
        "id": "5dac3f29"
      },
      "outputs": [],
      "source": []
    },
    {
      "cell_type": "code",
      "execution_count": null,
      "id": "548300dd",
      "metadata": {
        "id": "548300dd"
      },
      "outputs": [],
      "source": []
    },
    {
      "cell_type": "code",
      "execution_count": null,
      "id": "1c1f36dc",
      "metadata": {
        "id": "1c1f36dc"
      },
      "outputs": [],
      "source": []
    },
    {
      "cell_type": "code",
      "execution_count": null,
      "id": "05a5865d",
      "metadata": {
        "id": "05a5865d"
      },
      "outputs": [],
      "source": []
    },
    {
      "cell_type": "code",
      "execution_count": null,
      "id": "384b6d7d",
      "metadata": {
        "id": "384b6d7d"
      },
      "outputs": [],
      "source": []
    },
    {
      "cell_type": "code",
      "execution_count": null,
      "id": "15023bd6",
      "metadata": {
        "id": "15023bd6"
      },
      "outputs": [],
      "source": []
    }
  ],
  "metadata": {
    "kernelspec": {
      "display_name": "Python 3",
      "language": "python",
      "name": "python3"
    },
    "language_info": {
      "codemirror_mode": {
        "name": "ipython",
        "version": 3
      },
      "file_extension": ".py",
      "mimetype": "text/x-python",
      "name": "python",
      "nbconvert_exporter": "python",
      "pygments_lexer": "ipython3",
      "version": "3.8.8"
    },
    "colab": {
      "provenance": []
    }
  },
  "nbformat": 4,
  "nbformat_minor": 5
}