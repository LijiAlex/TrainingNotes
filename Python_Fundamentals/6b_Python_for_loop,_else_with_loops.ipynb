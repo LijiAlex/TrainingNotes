{
  "cells": [
    {
      "cell_type": "code",
      "source": [
        "i = 0\n",
        "while i<40:\n",
        "  print(i, end=\",\")\n",
        "  i = i+5"
      ],
      "metadata": {
        "id": "YHOfjxczsw2X",
        "colab": {
          "base_uri": "https://localhost:8080/"
        },
        "outputId": "b6326d44-35d2-42d8-973d-c912b2128ac1"
      },
      "id": "YHOfjxczsw2X",
      "execution_count": null,
      "outputs": [
        {
          "output_type": "stream",
          "name": "stdout",
          "text": [
            "0,5,10,15,20,25,30,35,"
          ]
        }
      ]
    },
    {
      "cell_type": "code",
      "source": [
        "list(range(0, 40, 5))"
      ],
      "metadata": {
        "colab": {
          "base_uri": "https://localhost:8080/"
        },
        "id": "PtK4gpi-Z-gE",
        "outputId": "e7d067fb-8315-4fc7-d5ff-aaa49ca2b3ed"
      },
      "id": "PtK4gpi-Z-gE",
      "execution_count": null,
      "outputs": [
        {
          "output_type": "execute_result",
          "data": {
            "text/plain": [
              "[0, 5, 10, 15, 20, 25, 30, 35]"
            ]
          },
          "metadata": {},
          "execution_count": 2
        }
      ]
    },
    {
      "cell_type": "markdown",
      "id": "31cf4095",
      "metadata": {
        "id": "31cf4095"
      },
      "source": [
        "## for loop\n",
        "\n",
        "A for loop is used for iterating over a sequence."
      ]
    },
    {
      "cell_type": "code",
      "source": [
        "for i in range(0,40,5):\n",
        "  print(i, end=\",\")"
      ],
      "metadata": {
        "id": "pW-Ffx4kuChH",
        "colab": {
          "base_uri": "https://localhost:8080/"
        },
        "outputId": "c7f06f47-88a1-446a-a2bb-e80ddf07ad03"
      },
      "id": "pW-Ffx4kuChH",
      "execution_count": null,
      "outputs": [
        {
          "output_type": "stream",
          "name": "stdout",
          "text": [
            "0,5,10,15,20,25,30,35,"
          ]
        }
      ]
    },
    {
      "cell_type": "code",
      "source": [
        "for file in [\"file1.txt\", \"file2.txt\", \"123.txt\", \"1234.ipynb\"]:\n",
        "  print(file)\n",
        "  print(\"123\")\n",
        "  sum = 4 +5\n",
        "  print(sum)\n",
        "  print()"
      ],
      "metadata": {
        "id": "YtLVrJKkufAu",
        "colab": {
          "base_uri": "https://localhost:8080/"
        },
        "outputId": "4d9d5673-3b4e-4964-f88a-e71c6508092a"
      },
      "id": "YtLVrJKkufAu",
      "execution_count": null,
      "outputs": [
        {
          "output_type": "stream",
          "name": "stdout",
          "text": [
            "file1.txt\n",
            "123\n",
            "9\n",
            "\n",
            "file2.txt\n",
            "123\n",
            "9\n",
            "\n",
            "123.txt\n",
            "123\n",
            "9\n",
            "\n",
            "1234.ipynb\n",
            "123\n",
            "9\n",
            "\n"
          ]
        }
      ]
    },
    {
      "cell_type": "code",
      "execution_count": null,
      "id": "b09ce753",
      "metadata": {
        "id": "b09ce753",
        "colab": {
          "base_uri": "https://localhost:8080/"
        },
        "outputId": "9341f871-2dd1-4f26-92bf-66eca04ac6bf"
      },
      "outputs": [
        {
          "output_type": "stream",
          "name": "stdout",
          "text": [
            "5\n",
            "8\n",
            "11\n",
            "14\n",
            "17\n"
          ]
        }
      ],
      "source": [
        "for num in range(5, 20, 3):\n",
        "    print(num)"
      ]
    },
    {
      "cell_type": "code",
      "execution_count": null,
      "id": "b81b2ace",
      "metadata": {
        "id": "b81b2ace",
        "colab": {
          "base_uri": "https://localhost:8080/"
        },
        "outputId": "3c7941f8-1971-40a0-e181-76d5350632ff"
      },
      "outputs": [
        {
          "output_type": "stream",
          "name": "stdout",
          "text": [
            "1\n",
            "2\n",
            "3\n",
            "4\n",
            "5\n",
            "6\n",
            "7\n",
            "8\n",
            "9\n",
            "10\n"
          ]
        }
      ],
      "source": [
        "for num in range(1, 11):\n",
        "    print(num)"
      ]
    },
    {
      "cell_type": "code",
      "execution_count": null,
      "id": "9160f5f9",
      "metadata": {
        "id": "9160f5f9",
        "colab": {
          "base_uri": "https://localhost:8080/"
        },
        "outputId": "654e2671-c978-4054-e25a-c75dde18026b"
      },
      "outputs": [
        {
          "output_type": "stream",
          "name": "stdout",
          "text": [
            "P\n",
            "y\n",
            "t\n",
            "h\n",
            "o\n",
            "n\n"
          ]
        }
      ],
      "source": [
        "s = \"Python\"\n",
        "for ch in s:\n",
        "    print(ch)"
      ]
    },
    {
      "cell_type": "code",
      "source": [
        "for item in [123, \"orange\", 12.5]:\n",
        "  print(item)"
      ],
      "metadata": {
        "id": "ryqxI5HdV_C-",
        "colab": {
          "base_uri": "https://localhost:8080/"
        },
        "outputId": "ab179040-f1ce-4735-b5bd-06ade0651bc4"
      },
      "id": "ryqxI5HdV_C-",
      "execution_count": null,
      "outputs": [
        {
          "output_type": "stream",
          "name": "stdout",
          "text": [
            "123\n",
            "orange\n",
            "12.5\n"
          ]
        }
      ]
    },
    {
      "cell_type": "markdown",
      "id": "595e9046",
      "metadata": {
        "id": "595e9046"
      },
      "source": [
        "## in/ not in operator\n",
        "\n",
        "Known as menbership operators.\n",
        "Checks if an item is present/ not present in a sequence and returns True or False."
      ]
    },
    {
      "cell_type": "code",
      "source": [
        "1 in [1, 2, 3, 4]"
      ],
      "metadata": {
        "colab": {
          "base_uri": "https://localhost:8080/"
        },
        "id": "6OqDTK65boxa",
        "outputId": "8cbfcead-79c9-49c5-cf48-7357ef63f975"
      },
      "id": "6OqDTK65boxa",
      "execution_count": null,
      "outputs": [
        {
          "output_type": "execute_result",
          "data": {
            "text/plain": [
              "True"
            ]
          },
          "metadata": {},
          "execution_count": 10
        }
      ]
    },
    {
      "cell_type": "code",
      "source": [
        "5 not in  [1, 2, 3, 4]"
      ],
      "metadata": {
        "colab": {
          "base_uri": "https://localhost:8080/"
        },
        "id": "A4Aify8kbvqA",
        "outputId": "f89aa860-3a40-48e9-9248-4180f53dd72a"
      },
      "id": "A4Aify8kbvqA",
      "execution_count": null,
      "outputs": [
        {
          "output_type": "execute_result",
          "data": {
            "text/plain": [
              "True"
            ]
          },
          "metadata": {},
          "execution_count": 12
        }
      ]
    },
    {
      "cell_type": "code",
      "execution_count": null,
      "id": "fba77684",
      "metadata": {
        "id": "fba77684",
        "colab": {
          "base_uri": "https://localhost:8080/"
        },
        "outputId": "68feadf9-8557-462b-9d2c-89559a64bec9"
      },
      "outputs": [
        {
          "output_type": "execute_result",
          "data": {
            "text/plain": [
              "True"
            ]
          },
          "metadata": {},
          "execution_count": 13
        }
      ],
      "source": [
        "'@' not in \"liji.gmail.com\"   # True if not present"
      ]
    },
    {
      "cell_type": "code",
      "execution_count": null,
      "id": "cb03a244",
      "metadata": {
        "id": "cb03a244",
        "colab": {
          "base_uri": "https://localhost:8080/"
        },
        "outputId": "ba5d13f1-a517-4d45-f2b6-6663031d8989"
      },
      "outputs": [
        {
          "output_type": "execute_result",
          "data": {
            "text/plain": [
              "True"
            ]
          },
          "metadata": {},
          "execution_count": 14
        }
      ],
      "source": [
        "'a' not in 'Python'"
      ]
    },
    {
      "cell_type": "code",
      "execution_count": null,
      "id": "1b3607cf",
      "metadata": {
        "id": "1b3607cf",
        "colab": {
          "base_uri": "https://localhost:8080/"
        },
        "outputId": "73d72df1-7650-46a1-cfa0-2b114f7334bc"
      },
      "outputs": [
        {
          "output_type": "execute_result",
          "data": {
            "text/plain": [
              "True"
            ]
          },
          "metadata": {},
          "execution_count": 15
        }
      ],
      "source": [
        "3 in range(0,10,3)     # True if present"
      ]
    },
    {
      "cell_type": "code",
      "execution_count": null,
      "id": "c2a38e0b",
      "metadata": {
        "id": "c2a38e0b",
        "colab": {
          "base_uri": "https://localhost:8080/"
        },
        "outputId": "bdad0e80-051c-42a7-cb7c-e9fd3fcfddc4"
      },
      "outputs": [
        {
          "output_type": "execute_result",
          "data": {
            "text/plain": [
              "True"
            ]
          },
          "metadata": {},
          "execution_count": 16
        }
      ],
      "source": [
        "4 not in range(1,4)"
      ]
    },
    {
      "cell_type": "markdown",
      "id": "dec4d5dd",
      "metadata": {
        "id": "dec4d5dd"
      },
      "source": [
        "### break and continue with for loop"
      ]
    },
    {
      "cell_type": "code",
      "execution_count": null,
      "id": "dcf2bb04",
      "metadata": {
        "id": "dcf2bb04",
        "colab": {
          "base_uri": "https://localhost:8080/"
        },
        "outputId": "57c8281f-99a8-450f-e2a0-e2424c8fc5b4"
      },
      "outputs": [
        {
          "output_type": "stream",
          "name": "stdout",
          "text": [
            "10\n",
            "11\n",
            "12\n",
            "13\n",
            "14\n"
          ]
        }
      ],
      "source": [
        "for i in range(10, 20):\n",
        "    if i == 15:\n",
        "        break    # exit from loop\n",
        "    print(i)"
      ]
    },
    {
      "cell_type": "code",
      "execution_count": null,
      "id": "5ff86c4c",
      "metadata": {
        "id": "5ff86c4c",
        "colab": {
          "base_uri": "https://localhost:8080/"
        },
        "outputId": "5ec6201d-7c8b-46f7-bec0-fc236a61c7d6"
      },
      "outputs": [
        {
          "output_type": "stream",
          "name": "stdout",
          "text": [
            "10\n",
            "11\n",
            "12\n",
            "13\n",
            "14\n",
            "16\n",
            "17\n",
            "18\n",
            "19\n"
          ]
        }
      ],
      "source": [
        "for i in range(10, 20):\n",
        "    if i == 15:\n",
        "        continue   # continue to beginning of loop\n",
        "    print(i)"
      ]
    },
    {
      "cell_type": "markdown",
      "id": "f4b47772",
      "metadata": {
        "id": "f4b47772"
      },
      "source": [
        "### else with for loop"
      ]
    },
    {
      "cell_type": "markdown",
      "id": "f163da69",
      "metadata": {
        "id": "f163da69"
      },
      "source": [
        "else in a loop is executed only if the loop completes execution without any interruption in between"
      ]
    },
    {
      "cell_type": "code",
      "execution_count": null,
      "id": "9d5074b1",
      "metadata": {
        "id": "9d5074b1",
        "colab": {
          "base_uri": "https://localhost:8080/"
        },
        "outputId": "21b954a9-5b75-4e18-e333-92bb299a2eba"
      },
      "outputs": [
        {
          "output_type": "stream",
          "name": "stdout",
          "text": [
            "enter emailliji.alex@\n",
            "l i j i . a l e x I am out\n"
          ]
        }
      ],
      "source": [
        "email = input(\"enter email\")\n",
        "for ch in email:\n",
        "    if ch=='@':\n",
        "        break    # if this break is executed else for be executed\n",
        "    print(ch, end = \" \")\n",
        "else:\n",
        "    print(\"Its not a valid email\")\n",
        "\n",
        "print(\"I am out\")"
      ]
    },
    {
      "cell_type": "code",
      "execution_count": null,
      "id": "693e76ad",
      "metadata": {
        "id": "693e76ad",
        "colab": {
          "base_uri": "https://localhost:8080/"
        },
        "outputId": "b20ac137-cc02-4ac2-feeb-df5385e0a794"
      },
      "outputs": [
        {
          "output_type": "stream",
          "name": "stdout",
          "text": [
            "1\n"
          ]
        }
      ],
      "source": [
        "for num in range(1, 10, 1):\n",
        "    if num==2:\n",
        "        break\n",
        "    print(num)\n",
        "else:\n",
        "    print(\"2 not in the range\")"
      ]
    },
    {
      "cell_type": "markdown",
      "source": [
        "### Else with while"
      ],
      "metadata": {
        "id": "JzbChDus2mb_"
      },
      "id": "JzbChDus2mb_"
    },
    {
      "cell_type": "code",
      "source": [
        "blacklisted = [\"user1\", \"user2\", \"user3\"]\n",
        "count = 1\n",
        "while count<=3:\n",
        "  user_name = input(\"Enter user name\")\n",
        "  if user_name in blacklisted:\n",
        "    print(\"Blacklisted\")\n",
        "    break\n",
        "  password = input(\"Enter password\") \n",
        "  if user_name == \"admin\"  and password == \"admin\":\n",
        "    print(\"Logged in successfully\")\n",
        "    break\n",
        "  else:\n",
        "    print(\"Incorrect user name or password\")\n",
        "  count+=1\n",
        "else:\n",
        "  print(\"Login unsuccessful\")\n"
      ],
      "metadata": {
        "id": "TSRYV7fT3CPF",
        "colab": {
          "base_uri": "https://localhost:8080/"
        },
        "outputId": "d2cbf8de-bc8c-4c07-ef1f-3823ad47fc06"
      },
      "id": "TSRYV7fT3CPF",
      "execution_count": null,
      "outputs": [
        {
          "output_type": "stream",
          "name": "stdout",
          "text": [
            "Enter user nameadmin\n",
            "Enter passwordadmin1\n",
            "Incorrect user name or password\n",
            "Enter user namead\n",
            "Enter passwordas\n",
            "Incorrect user name or password\n",
            "Enter user namegh\n",
            "Enter passwordfg\n",
            "Incorrect user name or password\n",
            "Login unsuccessful\n"
          ]
        }
      ]
    }
  ],
  "metadata": {
    "kernelspec": {
      "display_name": "Python 3",
      "language": "python",
      "name": "python3"
    },
    "language_info": {
      "codemirror_mode": {
        "name": "ipython",
        "version": 3
      },
      "file_extension": ".py",
      "mimetype": "text/x-python",
      "name": "python",
      "nbconvert_exporter": "python",
      "pygments_lexer": "ipython3",
      "version": "3.8.8"
    },
    "colab": {
      "provenance": []
    }
  },
  "nbformat": 4,
  "nbformat_minor": 5
}