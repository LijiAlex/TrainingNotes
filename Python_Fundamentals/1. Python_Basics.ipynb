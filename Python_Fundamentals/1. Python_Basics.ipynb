{
 "cells": [
  {
   "cell_type": "markdown",
   "id": "26049293",
   "metadata": {},
   "source": [
    "# Python"
   ]
  },
  {
   "cell_type": "markdown",
   "id": "9d1184f7",
   "metadata": {},
   "source": [
    "Python is a high-level, general-purpose programming language. "
   ]
  },
  {
   "cell_type": "markdown",
   "id": "4b381d64",
   "metadata": {},
   "source": [
    "### High level?"
   ]
  },
  {
   "cell_type": "markdown",
   "id": "c25a5803",
   "metadata": {},
   "source": [
    "A high-level language (HLL) is a programming language that enables a programmer to write programs that are more or less independent of a particular type of computer. Such languages are considered high-level because they are closer to human languages and further from machine languages."
   ]
  },
  {
   "cell_type": "markdown",
   "id": "11f6e68e",
   "metadata": {},
   "source": [
    "### General purpose?"
   ]
  },
  {
   "cell_type": "markdown",
   "id": "a2d9992c",
   "metadata": {},
   "source": [
    "A general-purpose language is a programming language that is capable of creating all types of programs."
   ]
  },
  {
   "cell_type": "markdown",
   "id": "0c2cc2e2",
   "metadata": {},
   "source": [
    "### Why Python?"
   ]
  },
  {
   "cell_type": "markdown",
   "id": "43b6fe07",
   "metadata": {},
   "source": [
    "1. Simplified syntax\n",
    "2. Similar to english\n",
    "3. Proper documentation\n",
    "4. Beginners language\n",
    "5. Felxible - script, modular or OOP\n",
    "6. Mature and Supportive Python Community\n",
    "7. Wide variety of libraries\n",
    "8. Supports all sorts of domains"
   ]
  },
  {
   "cell_type": "markdown",
   "id": "a19e6ea5",
   "metadata": {},
   "source": [
    "### Installation"
   ]
  },
  {
   "cell_type": "markdown",
   "id": "84f9a78a",
   "metadata": {},
   "source": [
    "1. https://www.python.org/downloads/windows/\n",
    "2. https://docs.anaconda.com/anaconda/install/windows/\n",
    "\n",
    "Note: Make sure to add the path while installing"
   ]
  },
  {
   "cell_type": "markdown",
   "id": "7d8a3efc",
   "metadata": {},
   "source": [
    "### IDE\n",
    "1. Pycharm\n",
    "2. VScode\n",
    "3. IDLE"
   ]
  },
  {
   "cell_type": "markdown",
   "id": "43de3c9d",
   "metadata": {},
   "source": [
    "### Python on cloud"
   ]
  },
  {
   "cell_type": "markdown",
   "id": "58edd6c2",
   "metadata": {},
   "source": [
    "https://colab.research.google.com/#create=true"
   ]
  },
  {
   "cell_type": "markdown",
   "id": "9c3267a3",
   "metadata": {},
   "source": [
    "### Working with jupyter notebook"
   ]
  },
  {
   "cell_type": "markdown",
   "id": "c600083a",
   "metadata": {},
   "source": [
    "1. Open anaconda prompt\n",
    "2. Navigate to the location\n",
    "3. Run the command \"jupyter notebook\""
   ]
  },
  {
   "cell_type": "markdown",
   "id": "6ab79fed",
   "metadata": {},
   "source": [
    "### .py vs .ipynb"
   ]
  },
  {
   "cell_type": "markdown",
   "id": "56095bc2",
   "metadata": {},
   "source": [
    "* .py is a regular python file. It's plain text and contains just your code.\n",
    "* . ipynb is a python notebook and it contains the notebook code, the execution results and other documentations etc"
   ]
  }
 ],
 "metadata": {
  "kernelspec": {
   "display_name": "Python 3",
   "language": "python",
   "name": "python3"
  },
  "language_info": {
   "codemirror_mode": {
    "name": "ipython",
    "version": 3
   },
   "file_extension": ".py",
   "mimetype": "text/x-python",
   "name": "python",
   "nbconvert_exporter": "python",
   "pygments_lexer": "ipython3",
   "version": "3.8.8"
  }
 },
 "nbformat": 4,
 "nbformat_minor": 5
}
