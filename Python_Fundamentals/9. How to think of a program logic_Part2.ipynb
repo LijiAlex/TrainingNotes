{
 "cells": [
  {
   "cell_type": "markdown",
   "id": "a37f744c",
   "metadata": {},
   "source": [
    "# Steps to write a code\n",
    "1. Understand the problem statement\n",
    "2. Think of main steps to achieve it\n",
    "3. Break down each steps again\n",
    "4. Link everything\n",
    "5. Write the code"
   ]
  },
  {
   "cell_type": "markdown",
   "id": "27175ce9",
   "metadata": {},
   "source": [
    "### Check if a number is prime number\n",
    "\n",
    "<u>Understand the problem statement</u>\n",
    "* What is a prime number?\n",
    "<br>A number that is divisible only by 1 and the number itself.\n",
    "<br>So, we need to check if number is divisible by any other number other than 1 and the number itself. \n",
    "\n",
    "* Input: A number from user\n",
    "* Output: Message whether number is prime or not\n",
    "\n",
    "<u>Think of main steps to achieve it</u>\n",
    "1. Get the number from user\n",
    "2. Check if number is divisible by any number\n",
    "3. Print result\n",
    "\n",
    "<u>Break down each steps again</u>\n",
    "\n",
    "1. Get the number from user\n",
    "<br>input() and convert using int()\n",
    "\n",
    "2. Check if number is divisible by any number\n",
    "<br>Check for divisibility from 1 to the number itself.\n",
    "* Generate numbers using range(2,input_number)\n",
    "* Check divisibility - input_number % number == 0\n",
    "* Use for loop to iterate\n",
    "\n",
    "3. Print result\n",
    "* If in above step, if it is divisible by any number...print it is not a prime number and break from loop.\n",
    "* If entire loop executes without any issue..print it is prime number ..Use else of loop for this\n"
   ]
  },
  {
   "cell_type": "code",
   "execution_count": 2,
   "id": "7a4c0ffd",
   "metadata": {},
   "outputs": [
    {
     "name": "stdout",
     "output_type": "stream",
     "text": [
      "Enter number: 13\n",
      "Number is a prime number\n"
     ]
    }
   ],
   "source": [
    "user_input = int(input(\"Enter number: \"))\n",
    "\n",
    "for number in range(2, user_input):\n",
    "    if user_input % number ==0:\n",
    "        print(\"Number is not a prime number\")\n",
    "        break\n",
    "else:\n",
    "    print(\"Number is a prime number\")"
   ]
  },
  {
   "cell_type": "markdown",
   "id": "5dae645d",
   "metadata": {},
   "source": [
    "### When to use for loop/ while loop?\n",
    "<u>for loop</u>\n",
    "* The for loop in python can be used to iterate over a collection/sequence. \n",
    "* range() can be used to generate a sequence.\n",
    "* Use for loop when ever we have a sequence available or when we know the number of times loop has to be repeated.\n",
    "\n",
    "<u>while loop</u>\n",
    "* while loop executes a set of statements as long as a condition is true.\n",
    "* Use while loop when we need to check for a condition to loop is work\n",
    "* Use while loop when we don't know how many times loop has to execute."
   ]
  },
  {
   "attachments": {
    "3.png": {
     "image/png": "[encoded data removed]"
    }
   },
   "cell_type": "markdown",
   "id": "9394a5f4",
   "metadata": {},
   "source": [
    "### Check if a number is armstrong number\n",
    "\n",
    "A number whose sum of each digit powered with the total number of digits is the same as the given number.\n",
    "![3.png](attachment:3.png)\n",
    "\n",
    "<u>Steps</u>\n",
    "1. Get number\n",
    "2. Find length .i.e n\n",
    "3. Get each digit individually and take its power\n",
    "4. Find sum\n",
    "5. Check if sum is equal to number\n",
    "6. Print result"
   ]
  },
  {
   "cell_type": "code",
   "execution_count": 8,
   "id": "f71431c9",
   "metadata": {},
   "outputs": [
    {
     "name": "stdout",
     "output_type": "stream",
     "text": [
      "Enter number:456\n",
      "Number is not an armstrong number\n"
     ]
    }
   ],
   "source": [
    "user_input = input(\"Enter number:\")\n",
    "n = len(user_input)\n",
    "final_sum = 0\n",
    "for digit in user_input:\n",
    "    power = int(digit)**n\n",
    "    final_sum = final_sum + power\n",
    "if final_sum == int(user_input):\n",
    "    print(\"Number is an armstrong number\")\n",
    "else:\n",
    "    print(\"Number is not an armstrong number\") "
   ]
  },
  {
   "cell_type": "code",
   "execution_count": 9,
   "id": "ba59363a",
   "metadata": {},
   "outputs": [
    {
     "data": {
      "text/plain": [
       "405"
      ]
     },
     "execution_count": 9,
     "metadata": {},
     "output_type": "execute_result"
    }
   ],
   "source": [
    "final_sum"
   ]
  },
  {
   "cell_type": "code",
   "execution_count": 6,
   "id": "d13db139",
   "metadata": {},
   "outputs": [
    {
     "data": {
      "text/plain": [
       "'371'"
      ]
     },
     "execution_count": 6,
     "metadata": {},
     "output_type": "execute_result"
    }
   ],
   "source": [
    "user_input"
   ]
  },
  {
   "cell_type": "markdown",
   "id": "6d87ffd4",
   "metadata": {},
   "source": [
    "### Try out\n",
    "\n",
    "Find the factorial of a number."
   ]
  },
  {
   "cell_type": "code",
   "execution_count": 10,
   "id": "ae73c5da",
   "metadata": {},
   "outputs": [
    {
     "name": "stdout",
     "output_type": "stream",
     "text": [
      "Enter number: 5\n",
      "Factorial: 120\n"
     ]
    }
   ],
   "source": [
    "user_input = int(input(\"Enter number: \"))\n",
    "factorial = 1\n",
    "for number in range(1, user_input+1):\n",
    "    factorial = factorial*number\n",
    "print(f\"Factorial: {factorial}\")"
   ]
  },
  {
   "cell_type": "code",
   "execution_count": null,
   "id": "7b19a872",
   "metadata": {},
   "outputs": [],
   "source": []
  }
 ],
 "metadata": {
  "kernelspec": {
   "display_name": "Python 3",
   "language": "python",
   "name": "python3"
  },
  "language_info": {
   "codemirror_mode": {
    "name": "ipython",
    "version": 3
   },
   "file_extension": ".py",
   "mimetype": "text/x-python",
   "name": "python",
   "nbconvert_exporter": "python",
   "pygments_lexer": "ipython3",
   "version": "3.8.8"
  }
 },
 "nbformat": 4,
 "nbformat_minor": 5
}
