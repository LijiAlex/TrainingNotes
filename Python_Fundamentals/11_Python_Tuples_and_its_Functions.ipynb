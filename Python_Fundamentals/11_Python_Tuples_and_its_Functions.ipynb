{
  "cells": [
    {
      "cell_type": "markdown",
      "id": "372a9bd5",
      "metadata": {
        "id": "372a9bd5"
      },
      "source": [
        "### Mutable and immutable in Python\n",
        "* An object whose value can be changed is mutable. \n",
        "* Immutable doesn’t allow any change in the object once it has been created."
      ]
    },
    {
      "cell_type": "code",
      "execution_count": 2,
      "id": "a230b5fb",
      "metadata": {
        "id": "a230b5fb",
        "colab": {
          "base_uri": "https://localhost:8080/"
        },
        "outputId": "a1befadb-486d-4d1d-b0c8-2a2afb4831ea"
      },
      "outputs": [
        {
          "output_type": "execute_result",
          "data": {
            "text/plain": [
              "140599937398576"
            ]
          },
          "metadata": {},
          "execution_count": 2
        }
      ],
      "source": [
        "s1 = \"Python\"\n",
        "id(s1)    #returns address of element in python"
      ]
    },
    {
      "cell_type": "code",
      "execution_count": 3,
      "id": "9074185d",
      "metadata": {
        "id": "9074185d",
        "colab": {
          "base_uri": "https://localhost:8080/"
        },
        "outputId": "254a9d50-13dc-4cd3-85aa-00292e39d943"
      },
      "outputs": [
        {
          "output_type": "execute_result",
          "data": {
            "text/plain": [
              "140599604538224"
            ]
          },
          "metadata": {},
          "execution_count": 3
        }
      ],
      "source": [
        "s1 = \"Python is easy\"\n",
        "id(s1)"
      ]
    },
    {
      "cell_type": "markdown",
      "source": [
        "In the above example when s1 was reassigned a new value, it created a new string altogether without changing the existing one."
      ],
      "metadata": {
        "id": "KmWR6YNtGJ_Z"
      },
      "id": "KmWR6YNtGJ_Z"
    },
    {
      "cell_type": "code",
      "execution_count": 4,
      "id": "bcd744d8",
      "metadata": {
        "id": "bcd744d8",
        "colab": {
          "base_uri": "https://localhost:8080/"
        },
        "outputId": "c6a67ef1-24f0-451f-c321-a35be25e0636"
      },
      "outputs": [
        {
          "output_type": "execute_result",
          "data": {
            "text/plain": [
              "140599603857856"
            ]
          },
          "metadata": {},
          "execution_count": 4
        }
      ],
      "source": [
        "colours = [\"red\", \"blue\", \"green\"]\n",
        "id(colours)"
      ]
    },
    {
      "cell_type": "code",
      "execution_count": 5,
      "id": "6b9cbb9c",
      "metadata": {
        "id": "6b9cbb9c",
        "colab": {
          "base_uri": "https://localhost:8080/"
        },
        "outputId": "29e902e1-20ab-463c-e229-3957a113cceb"
      },
      "outputs": [
        {
          "output_type": "execute_result",
          "data": {
            "text/plain": [
              "140599906938800"
            ]
          },
          "metadata": {},
          "execution_count": 5
        }
      ],
      "source": [
        "id(colours[0])"
      ]
    },
    {
      "cell_type": "code",
      "execution_count": 6,
      "id": "939e41bc",
      "metadata": {
        "id": "939e41bc",
        "colab": {
          "base_uri": "https://localhost:8080/"
        },
        "outputId": "46168116-cd2c-4c80-88d9-d315df7494c0"
      },
      "outputs": [
        {
          "output_type": "execute_result",
          "data": {
            "text/plain": [
              "['red', 'blue', 'green', 'yellow']"
            ]
          },
          "metadata": {},
          "execution_count": 6
        }
      ],
      "source": [
        "colours.append(\"yellow\")\n",
        "colours"
      ]
    },
    {
      "cell_type": "code",
      "execution_count": 7,
      "id": "bf83ce8b",
      "metadata": {
        "id": "bf83ce8b",
        "colab": {
          "base_uri": "https://localhost:8080/"
        },
        "outputId": "29dee481-f9c7-46bf-e13c-14b28afc094b"
      },
      "outputs": [
        {
          "output_type": "execute_result",
          "data": {
            "text/plain": [
              "140599603857856"
            ]
          },
          "metadata": {},
          "execution_count": 7
        }
      ],
      "source": [
        "id(colours)   # addition of new element doesn't change the id of initial list which means it is mutable"
      ]
    },
    {
      "cell_type": "code",
      "execution_count": 8,
      "id": "ecb45a2a",
      "metadata": {
        "id": "ecb45a2a",
        "colab": {
          "base_uri": "https://localhost:8080/"
        },
        "outputId": "603feea1-ab7c-467a-d2e2-69c698924e79"
      },
      "outputs": [
        {
          "output_type": "execute_result",
          "data": {
            "text/plain": [
              "140599906938800"
            ]
          },
          "metadata": {},
          "execution_count": 8
        }
      ],
      "source": [
        "id(colours[0])"
      ]
    },
    {
      "cell_type": "code",
      "execution_count": 9,
      "id": "6734f614",
      "metadata": {
        "id": "6734f614"
      },
      "outputs": [],
      "source": [
        "colours[0] = \"abc\""
      ]
    },
    {
      "cell_type": "code",
      "execution_count": 10,
      "id": "43370874",
      "metadata": {
        "id": "43370874",
        "colab": {
          "base_uri": "https://localhost:8080/"
        },
        "outputId": "85e64fde-0c1f-4dd2-a51d-7aec70ca4ae0"
      },
      "outputs": [
        {
          "output_type": "execute_result",
          "data": {
            "text/plain": [
              "['abc', 'blue', 'green', 'yellow']"
            ]
          },
          "metadata": {},
          "execution_count": 10
        }
      ],
      "source": [
        "colours"
      ]
    },
    {
      "cell_type": "code",
      "execution_count": 11,
      "id": "d2f90b00",
      "metadata": {
        "id": "d2f90b00",
        "colab": {
          "base_uri": "https://localhost:8080/"
        },
        "outputId": "a71717f2-ed82-4d9f-fdaf-04051e0f6086"
      },
      "outputs": [
        {
          "output_type": "execute_result",
          "data": {
            "text/plain": [
              "140599603857856"
            ]
          },
          "metadata": {},
          "execution_count": 11
        }
      ],
      "source": [
        "id(colours)"
      ]
    },
    {
      "cell_type": "code",
      "execution_count": 12,
      "id": "090b9238",
      "metadata": {
        "id": "090b9238",
        "colab": {
          "base_uri": "https://localhost:8080/"
        },
        "outputId": "2725cadb-a1e8-48ad-ca5e-b7add64ceb0f"
      },
      "outputs": [
        {
          "output_type": "execute_result",
          "data": {
            "text/plain": [
              "140599938583856"
            ]
          },
          "metadata": {},
          "execution_count": 12
        }
      ],
      "source": [
        "id(colours[0])   # id of index 0 changed because strings are immutable and when string at index 0 is reassigned it created a new string instead of changing the existing ones."
      ]
    },
    {
      "cell_type": "markdown",
      "id": "3c32aaa8",
      "metadata": {
        "id": "3c32aaa8"
      },
      "source": [
        "# Tuples\n",
        "* Tuples are used to store multiple items in a single variable.\n",
        "* It is a collection of Python objects separated by commas and placed inside paranthesis(optional).\n",
        "* A tuple is a collection which is ordered and unchangeable."
      ]
    },
    {
      "cell_type": "code",
      "execution_count": 13,
      "id": "f4cd46f8",
      "metadata": {
        "id": "f4cd46f8",
        "colab": {
          "base_uri": "https://localhost:8080/"
        },
        "outputId": "368aea95-04e9-435c-f138-bc939f44ad33"
      },
      "outputs": [
        {
          "output_type": "execute_result",
          "data": {
            "text/plain": [
              "(1, 2, 3)"
            ]
          },
          "metadata": {},
          "execution_count": 13
        }
      ],
      "source": [
        "numbers = 1, 2, 3\n",
        "numbers"
      ]
    },
    {
      "cell_type": "code",
      "source": [
        "characters = ('a','c')\n",
        "characters"
      ],
      "metadata": {
        "id": "Gx-gReOx6pSj",
        "colab": {
          "base_uri": "https://localhost:8080/"
        },
        "outputId": "a2dfb9da-752e-43b1-a0a7-d78952a7dd84"
      },
      "id": "Gx-gReOx6pSj",
      "execution_count": 14,
      "outputs": [
        {
          "output_type": "execute_result",
          "data": {
            "text/plain": [
              "('a', 'c')"
            ]
          },
          "metadata": {},
          "execution_count": 14
        }
      ]
    },
    {
      "cell_type": "code",
      "source": [
        "type(numbers)"
      ],
      "metadata": {
        "id": "xdKGd6py60CM",
        "colab": {
          "base_uri": "https://localhost:8080/"
        },
        "outputId": "e41186c7-9cee-4935-b9f9-cb450cde1e87"
      },
      "id": "xdKGd6py60CM",
      "execution_count": 15,
      "outputs": [
        {
          "output_type": "execute_result",
          "data": {
            "text/plain": [
              "tuple"
            ]
          },
          "metadata": {},
          "execution_count": 15
        }
      ]
    },
    {
      "cell_type": "code",
      "source": [
        "type(characters)"
      ],
      "metadata": {
        "id": "TjSO7WIQ621s",
        "colab": {
          "base_uri": "https://localhost:8080/"
        },
        "outputId": "51757f16-9a44-4d5b-89c5-c01d725382f7"
      },
      "id": "TjSO7WIQ621s",
      "execution_count": 16,
      "outputs": [
        {
          "output_type": "execute_result",
          "data": {
            "text/plain": [
              "tuple"
            ]
          },
          "metadata": {},
          "execution_count": 16
        }
      ]
    },
    {
      "cell_type": "code",
      "execution_count": 17,
      "id": "22e3dc8b",
      "metadata": {
        "id": "22e3dc8b",
        "colab": {
          "base_uri": "https://localhost:8080/"
        },
        "outputId": "d91a5d85-3c4c-46c5-a794-8c047d66b016"
      },
      "outputs": [
        {
          "output_type": "execute_result",
          "data": {
            "text/plain": [
              "(2, 4, 6, 8, 10, 12, 14, 16, 18)"
            ]
          },
          "metadata": {},
          "execution_count": 17
        }
      ],
      "source": [
        "even_numbers = tuple(range(2, 20, 2))\n",
        "even_numbers"
      ]
    },
    {
      "cell_type": "markdown",
      "id": "ba2a53da",
      "metadata": {
        "id": "ba2a53da"
      },
      "source": [
        "### Indexing in tuples"
      ]
    },
    {
      "cell_type": "code",
      "source": [
        "even_numbers[-1*len(even_numbers)]"
      ],
      "metadata": {
        "id": "52U6z2zd7YoT",
        "colab": {
          "base_uri": "https://localhost:8080/"
        },
        "outputId": "6076179e-75df-4104-da28-3415f9b7f6ee"
      },
      "id": "52U6z2zd7YoT",
      "execution_count": 18,
      "outputs": [
        {
          "output_type": "execute_result",
          "data": {
            "text/plain": [
              "2"
            ]
          },
          "metadata": {},
          "execution_count": 18
        }
      ]
    },
    {
      "cell_type": "code",
      "execution_count": 19,
      "id": "13b75831",
      "metadata": {
        "id": "13b75831",
        "colab": {
          "base_uri": "https://localhost:8080/"
        },
        "outputId": "96c3f47d-d946-44e5-e659-c727b54612e1"
      },
      "outputs": [
        {
          "output_type": "execute_result",
          "data": {
            "text/plain": [
              "2"
            ]
          },
          "metadata": {},
          "execution_count": 19
        }
      ],
      "source": [
        "even_numbers[0]"
      ]
    },
    {
      "cell_type": "code",
      "execution_count": 20,
      "id": "db75140b",
      "metadata": {
        "id": "db75140b",
        "colab": {
          "base_uri": "https://localhost:8080/"
        },
        "outputId": "e616e4c3-eb3a-4d3e-b96f-eb89274f110d"
      },
      "outputs": [
        {
          "output_type": "execute_result",
          "data": {
            "text/plain": [
              "18"
            ]
          },
          "metadata": {},
          "execution_count": 20
        }
      ],
      "source": [
        "even_numbers[-1]"
      ]
    },
    {
      "cell_type": "markdown",
      "id": "3f2a092a",
      "metadata": {
        "id": "3f2a092a"
      },
      "source": [
        "### Item updation in list and tuples"
      ]
    },
    {
      "cell_type": "code",
      "execution_count": 21,
      "id": "f5e3ca92",
      "metadata": {
        "id": "f5e3ca92",
        "colab": {
          "base_uri": "https://localhost:8080/"
        },
        "outputId": "911e15c5-b2c2-4606-d5e3-710cad7ccaa3"
      },
      "outputs": [
        {
          "output_type": "execute_result",
          "data": {
            "text/plain": [
              "[2, 4, 6]"
            ]
          },
          "metadata": {},
          "execution_count": 21
        }
      ],
      "source": [
        "list_even = [2, 4, 6]\n",
        "list_even"
      ]
    },
    {
      "cell_type": "code",
      "execution_count": 22,
      "id": "ff89bfad",
      "metadata": {
        "id": "ff89bfad",
        "colab": {
          "base_uri": "https://localhost:8080/"
        },
        "outputId": "e02b617c-ff6d-4ad5-bf67-3a20a68274b5"
      },
      "outputs": [
        {
          "output_type": "execute_result",
          "data": {
            "text/plain": [
              "[8, 4, 6]"
            ]
          },
          "metadata": {},
          "execution_count": 22
        }
      ],
      "source": [
        "list_even[0] = 8\n",
        "list_even"
      ]
    },
    {
      "cell_type": "code",
      "execution_count": 23,
      "id": "65402f12",
      "metadata": {
        "id": "65402f12",
        "colab": {
          "base_uri": "https://localhost:8080/"
        },
        "outputId": "e84af7e8-2939-476f-9fab-5996241ea420"
      },
      "outputs": [
        {
          "output_type": "execute_result",
          "data": {
            "text/plain": [
              "(2, 4, 6, 8, 10, 12, 14, 16, 18)"
            ]
          },
          "metadata": {},
          "execution_count": 23
        }
      ],
      "source": [
        "even_numbers"
      ]
    },
    {
      "cell_type": "code",
      "execution_count": 24,
      "id": "add6010d",
      "metadata": {
        "id": "add6010d",
        "colab": {
          "base_uri": "https://localhost:8080/",
          "height": 165
        },
        "outputId": "159fd15a-8e48-40b3-a493-309511c93446"
      },
      "outputs": [
        {
          "output_type": "error",
          "ename": "TypeError",
          "evalue": "ignored",
          "traceback": [
            "\u001b[0;31m---------------------------------------------------------------------------\u001b[0m",
            "\u001b[0;31mTypeError\u001b[0m                                 Traceback (most recent call last)",
            "\u001b[0;32m<ipython-input-24-bed00e001012>\u001b[0m in \u001b[0;36m<module>\u001b[0;34m\u001b[0m\n\u001b[0;32m----> 1\u001b[0;31m \u001b[0meven_numbers\u001b[0m\u001b[0;34m[\u001b[0m\u001b[0;36m0\u001b[0m\u001b[0;34m]\u001b[0m\u001b[0;34m=\u001b[0m\u001b[0;36m8\u001b[0m\u001b[0;34m\u001b[0m\u001b[0;34m\u001b[0m\u001b[0m\n\u001b[0m",
            "\u001b[0;31mTypeError\u001b[0m: 'tuple' object does not support item assignment"
          ]
        }
      ],
      "source": [
        "even_numbers[0]=8   # you can't change a tuple once it is created"
      ]
    },
    {
      "cell_type": "code",
      "execution_count": 26,
      "id": "12c51eea",
      "metadata": {
        "id": "12c51eea"
      },
      "outputs": [],
      "source": [
        "random_tuple= (4, 6, 7, 8, 10, [1, 2,3], 11)"
      ]
    },
    {
      "cell_type": "code",
      "execution_count": 27,
      "id": "2c8d346d",
      "metadata": {
        "colab": {
          "base_uri": "https://localhost:8080/"
        },
        "id": "2c8d346d",
        "outputId": "5f42be02-1c2a-4bde-b177-b46c2a4fc09d"
      },
      "outputs": [
        {
          "output_type": "execute_result",
          "data": {
            "text/plain": [
              "4"
            ]
          },
          "metadata": {},
          "execution_count": 27
        }
      ],
      "source": [
        "random_tuple[0]"
      ]
    },
    {
      "cell_type": "code",
      "source": [
        "random_tuple[-2]"
      ],
      "metadata": {
        "colab": {
          "base_uri": "https://localhost:8080/"
        },
        "id": "KEdsSUDu8eQ2",
        "outputId": "dce56111-93cd-4216-ab83-c72c5e1a43f5"
      },
      "id": "KEdsSUDu8eQ2",
      "execution_count": 28,
      "outputs": [
        {
          "output_type": "execute_result",
          "data": {
            "text/plain": [
              "[1, 2, 3]"
            ]
          },
          "metadata": {},
          "execution_count": 28
        }
      ]
    },
    {
      "cell_type": "code",
      "source": [
        "id(random_tuple[-2])"
      ],
      "metadata": {
        "colab": {
          "base_uri": "https://localhost:8080/"
        },
        "id": "VGc8HuJd9GGI",
        "outputId": "19a7ce07-e2f3-4c18-fb99-93508d39ac33"
      },
      "id": "VGc8HuJd9GGI",
      "execution_count": 29,
      "outputs": [
        {
          "output_type": "execute_result",
          "data": {
            "text/plain": [
              "140599604133440"
            ]
          },
          "metadata": {},
          "execution_count": 29
        }
      ]
    },
    {
      "cell_type": "code",
      "execution_count": 30,
      "id": "4b7a365b",
      "metadata": {
        "colab": {
          "base_uri": "https://localhost:8080/",
          "height": 182
        },
        "id": "4b7a365b",
        "outputId": "f8967ccb-d155-4b96-d63b-dc4c2341383f"
      },
      "outputs": [
        {
          "output_type": "error",
          "ename": "TypeError",
          "evalue": "ignored",
          "traceback": [
            "\u001b[0;31m---------------------------------------------------------------------------\u001b[0m",
            "\u001b[0;31mTypeError\u001b[0m                                 Traceback (most recent call last)",
            "\u001b[0;32m<ipython-input-30-8a00e42b0469>\u001b[0m in \u001b[0;36m<module>\u001b[0;34m\u001b[0m\n\u001b[0;32m----> 1\u001b[0;31m \u001b[0mrandom_tuple\u001b[0m\u001b[0;34m[\u001b[0m\u001b[0;34m-\u001b[0m\u001b[0;36m2\u001b[0m\u001b[0;34m]\u001b[0m\u001b[0;34m=\u001b[0m \u001b[0;34m[\u001b[0m\u001b[0;36m2\u001b[0m\u001b[0;34m,\u001b[0m \u001b[0;36m2\u001b[0m\u001b[0;34m,\u001b[0m \u001b[0;36m2\u001b[0m\u001b[0;34m]\u001b[0m\u001b[0;34m\u001b[0m\u001b[0;34m\u001b[0m\u001b[0m\n\u001b[0m\u001b[1;32m      2\u001b[0m \u001b[0mrandom_tuple\u001b[0m\u001b[0;34m\u001b[0m\u001b[0;34m\u001b[0m\u001b[0m\n",
            "\u001b[0;31mTypeError\u001b[0m: 'tuple' object does not support item assignment"
          ]
        }
      ],
      "source": [
        "random_tuple[-2]= [2, 2, 2]  # list is a part of the tuple and it cannot be changed to a new one\n",
        "random_tuple"
      ]
    },
    {
      "cell_type": "code",
      "source": [
        "id(random_tuple[-2])"
      ],
      "metadata": {
        "colab": {
          "base_uri": "https://localhost:8080/"
        },
        "id": "8Ojm2RyN9BKF",
        "outputId": "9007ee83-98e7-44b7-b1da-1939ed7ad9a1"
      },
      "id": "8Ojm2RyN9BKF",
      "execution_count": 33,
      "outputs": [
        {
          "output_type": "execute_result",
          "data": {
            "text/plain": [
              "140599604133440"
            ]
          },
          "metadata": {},
          "execution_count": 33
        }
      ]
    },
    {
      "cell_type": "code",
      "execution_count": 34,
      "id": "b58db835",
      "metadata": {
        "colab": {
          "base_uri": "https://localhost:8080/"
        },
        "id": "b58db835",
        "outputId": "e9158703-867a-4f45-ac6f-a0cfebbfabea"
      },
      "outputs": [
        {
          "output_type": "execute_result",
          "data": {
            "text/plain": [
              "(4, 6, 7, 8, 10, [2, 2, 2], 11)"
            ]
          },
          "metadata": {},
          "execution_count": 34
        }
      ],
      "source": [
        "random_tuple[-2][0] = 2  #individual elements of list can be changed since lists are mutable\n",
        "random_tuple[-2][1] = 2\n",
        "random_tuple[-2][2] = 2\n",
        "random_tuple"
      ]
    },
    {
      "cell_type": "markdown",
      "id": "ce1228b4",
      "metadata": {
        "id": "ce1228b4"
      },
      "source": [
        "### Operators in tuple"
      ]
    },
    {
      "cell_type": "code",
      "execution_count": 35,
      "id": "0a0754ec",
      "metadata": {
        "colab": {
          "base_uri": "https://localhost:8080/"
        },
        "id": "0a0754ec",
        "outputId": "d20a315c-c344-4954-b477-cb78b5a84928"
      },
      "outputs": [
        {
          "output_type": "execute_result",
          "data": {
            "text/plain": [
              "(1, 2, 3, 2, 4, 6, 8, 10, 12, 14, 16, 18)"
            ]
          },
          "metadata": {},
          "execution_count": 35
        }
      ],
      "source": [
        "numbers + even_numbers # concatenation operator"
      ]
    },
    {
      "cell_type": "code",
      "execution_count": 36,
      "id": "dcd65755",
      "metadata": {
        "colab": {
          "base_uri": "https://localhost:8080/"
        },
        "id": "dcd65755",
        "outputId": "8ccc87b3-aa9d-49e8-eaea-39c4d2f57ff1"
      },
      "outputs": [
        {
          "output_type": "execute_result",
          "data": {
            "text/plain": [
              "(1, 2, 3, 1, 2, 3, 1, 2, 3, 1, 2, 3, 1, 2, 3)"
            ]
          },
          "metadata": {},
          "execution_count": 36
        }
      ],
      "source": [
        "numbers * 5 #repetition operator"
      ]
    },
    {
      "cell_type": "markdown",
      "id": "e534c006",
      "metadata": {
        "id": "e534c006"
      },
      "source": [
        "### Tuple functions"
      ]
    },
    {
      "cell_type": "code",
      "execution_count": 37,
      "id": "c4b15e5d",
      "metadata": {
        "id": "c4b15e5d",
        "colab": {
          "base_uri": "https://localhost:8080/"
        },
        "outputId": "91f7c4ea-709f-420d-e8e4-b60ff851a91e"
      },
      "outputs": [
        {
          "output_type": "execute_result",
          "data": {
            "text/plain": [
              "(1, 2, 3)"
            ]
          },
          "metadata": {},
          "execution_count": 37
        }
      ],
      "source": [
        "numbers"
      ]
    },
    {
      "cell_type": "code",
      "execution_count": 38,
      "id": "308a1691",
      "metadata": {
        "colab": {
          "base_uri": "https://localhost:8080/"
        },
        "id": "308a1691",
        "outputId": "117ec329-eb15-482a-a9ab-3fcab7d5e626"
      },
      "outputs": [
        {
          "output_type": "execute_result",
          "data": {
            "text/plain": [
              "1"
            ]
          },
          "metadata": {},
          "execution_count": 38
        }
      ],
      "source": [
        "numbers.count(1)"
      ]
    },
    {
      "cell_type": "code",
      "execution_count": 39,
      "id": "5ebb915b",
      "metadata": {
        "colab": {
          "base_uri": "https://localhost:8080/"
        },
        "id": "5ebb915b",
        "outputId": "d574d304-3fbf-40bb-bd1d-152e25644458"
      },
      "outputs": [
        {
          "output_type": "execute_result",
          "data": {
            "text/plain": [
              "0"
            ]
          },
          "metadata": {},
          "execution_count": 39
        }
      ],
      "source": [
        "numbers.index(1)"
      ]
    },
    {
      "cell_type": "markdown",
      "id": "f4f4cee0",
      "metadata": {
        "id": "f4f4cee0"
      },
      "source": [
        "### Tuple iterations"
      ]
    },
    {
      "cell_type": "code",
      "execution_count": 40,
      "id": "96195c03",
      "metadata": {
        "colab": {
          "base_uri": "https://localhost:8080/"
        },
        "id": "96195c03",
        "outputId": "3dfd16a3-b4b3-45db-dbf4-5f973f3482c6"
      },
      "outputs": [
        {
          "output_type": "stream",
          "name": "stdout",
          "text": [
            "1\n",
            "2\n",
            "3\n"
          ]
        }
      ],
      "source": [
        "for number in numbers:\n",
        "    print(number)"
      ]
    },
    {
      "cell_type": "code",
      "execution_count": 41,
      "id": "081d5b13",
      "metadata": {
        "colab": {
          "base_uri": "https://localhost:8080/"
        },
        "id": "081d5b13",
        "outputId": "bcfa408e-a440-4539-c86b-456c202c99c8"
      },
      "outputs": [
        {
          "output_type": "stream",
          "name": "stdout",
          "text": [
            "1\n",
            "2\n",
            "3\n"
          ]
        }
      ],
      "source": [
        "index = 0\n",
        "while index<len(numbers):\n",
        "    print(numbers[index])\n",
        "    index= index+1"
      ]
    },
    {
      "cell_type": "markdown",
      "id": "b41687ce",
      "metadata": {
        "id": "b41687ce"
      },
      "source": [
        "### Membership operators with list and tuple"
      ]
    },
    {
      "cell_type": "code",
      "execution_count": 42,
      "id": "5c386716",
      "metadata": {
        "colab": {
          "base_uri": "https://localhost:8080/"
        },
        "id": "5c386716",
        "outputId": "1761e43b-069a-49b2-c8a5-49938c8ba2fa"
      },
      "outputs": [
        {
          "output_type": "execute_result",
          "data": {
            "text/plain": [
              "[8, 4, 6]"
            ]
          },
          "metadata": {},
          "execution_count": 42
        }
      ],
      "source": [
        "list_even"
      ]
    },
    {
      "cell_type": "code",
      "execution_count": 43,
      "id": "32cd93df",
      "metadata": {
        "colab": {
          "base_uri": "https://localhost:8080/"
        },
        "id": "32cd93df",
        "outputId": "c82c935d-a0ab-4453-9d37-4d38b0e8f522"
      },
      "outputs": [
        {
          "output_type": "execute_result",
          "data": {
            "text/plain": [
              "True"
            ]
          },
          "metadata": {},
          "execution_count": 43
        }
      ],
      "source": [
        "8 in list_even"
      ]
    },
    {
      "cell_type": "code",
      "execution_count": 44,
      "id": "17d2fc3f",
      "metadata": {
        "colab": {
          "base_uri": "https://localhost:8080/"
        },
        "id": "17d2fc3f",
        "outputId": "9edbc553-5e8d-40ef-e792-75bf55b0fed0"
      },
      "outputs": [
        {
          "output_type": "execute_result",
          "data": {
            "text/plain": [
              "(4, 6, 7, 8, 10, [2, 2, 2], 11)"
            ]
          },
          "metadata": {},
          "execution_count": 44
        }
      ],
      "source": [
        "random_tuple"
      ]
    },
    {
      "cell_type": "code",
      "execution_count": 45,
      "id": "585485d6",
      "metadata": {
        "colab": {
          "base_uri": "https://localhost:8080/"
        },
        "id": "585485d6",
        "outputId": "931a4194-b01c-424d-edf3-f826ba146604"
      },
      "outputs": [
        {
          "output_type": "execute_result",
          "data": {
            "text/plain": [
              "True"
            ]
          },
          "metadata": {},
          "execution_count": 45
        }
      ],
      "source": [
        "6 in random_tuple"
      ]
    },
    {
      "cell_type": "code",
      "execution_count": 46,
      "id": "16b355e6",
      "metadata": {
        "colab": {
          "base_uri": "https://localhost:8080/"
        },
        "id": "16b355e6",
        "outputId": "aa4d566f-a85e-4e6a-fdb4-4005b43907eb"
      },
      "outputs": [
        {
          "output_type": "execute_result",
          "data": {
            "text/plain": [
              "True"
            ]
          },
          "metadata": {},
          "execution_count": 46
        }
      ],
      "source": [
        "[2, 2, 2] in random_tuple"
      ]
    },
    {
      "cell_type": "code",
      "source": [
        "random_tuple[-2]"
      ],
      "metadata": {
        "colab": {
          "base_uri": "https://localhost:8080/"
        },
        "id": "DoBk4lB3-4xf",
        "outputId": "95e29bb4-236c-4acc-90b7-5c2f0531ff22"
      },
      "id": "DoBk4lB3-4xf",
      "execution_count": 47,
      "outputs": [
        {
          "output_type": "execute_result",
          "data": {
            "text/plain": [
              "[2, 2, 2]"
            ]
          },
          "metadata": {},
          "execution_count": 47
        }
      ]
    },
    {
      "cell_type": "code",
      "execution_count": 48,
      "id": "754f6bbe",
      "metadata": {
        "colab": {
          "base_uri": "https://localhost:8080/"
        },
        "id": "754f6bbe",
        "outputId": "fe445e7b-141a-418c-a9e2-f28f31d636ef"
      },
      "outputs": [
        {
          "output_type": "execute_result",
          "data": {
            "text/plain": [
              "True"
            ]
          },
          "metadata": {},
          "execution_count": 48
        }
      ],
      "source": [
        "2 in random_tuple[-2]"
      ]
    },
    {
      "cell_type": "markdown",
      "id": "60002609",
      "metadata": {
        "id": "60002609"
      },
      "source": [
        "### Packing and unpacking\n",
        "\n"
      ]
    },
    {
      "cell_type": "code",
      "source": [
        "a, b, c = 1 , 2, 3  # multiple variable assignment"
      ],
      "metadata": {
        "id": "3M2wEGKu_5F9"
      },
      "id": "3M2wEGKu_5F9",
      "execution_count": 49,
      "outputs": []
    },
    {
      "cell_type": "code",
      "execution_count": 50,
      "id": "a4ccfd23",
      "metadata": {
        "colab": {
          "base_uri": "https://localhost:8080/"
        },
        "id": "a4ccfd23",
        "outputId": "9df36127-aa82-45d5-ba50-a8079b6ed11c"
      },
      "outputs": [
        {
          "output_type": "execute_result",
          "data": {
            "text/plain": [
              "('Shreya', '11/1 Indira Nagar', '9876543210')"
            ]
          },
          "metadata": {},
          "execution_count": 50
        }
      ],
      "source": [
        "details = \"Shreya\", \"11/1 Indira Nagar\", \"9876543210\" #packing  multiple values are packed together into a single variable\n",
        "details"
      ]
    },
    {
      "cell_type": "code",
      "source": [
        "name, address, phno = details # unpacking   values that are packed together are unpacked into multiple variables"
      ],
      "metadata": {
        "id": "8is0yf-BAblo"
      },
      "id": "8is0yf-BAblo",
      "execution_count": 51,
      "outputs": []
    },
    {
      "cell_type": "code",
      "source": [
        "name"
      ],
      "metadata": {
        "colab": {
          "base_uri": "https://localhost:8080/",
          "height": 36
        },
        "id": "qTcgBCjpAgHl",
        "outputId": "15450c00-0b9f-44ff-9802-630ff81ca5e7"
      },
      "id": "qTcgBCjpAgHl",
      "execution_count": 52,
      "outputs": [
        {
          "output_type": "execute_result",
          "data": {
            "text/plain": [
              "'Shreya'"
            ],
            "application/vnd.google.colaboratory.intrinsic+json": {
              "type": "string"
            }
          },
          "metadata": {},
          "execution_count": 52
        }
      ]
    },
    {
      "cell_type": "code",
      "source": [
        "address"
      ],
      "metadata": {
        "colab": {
          "base_uri": "https://localhost:8080/",
          "height": 36
        },
        "id": "lp6KrRoqAlh7",
        "outputId": "62ef00ca-a103-461e-c4aa-40404dba19f0"
      },
      "id": "lp6KrRoqAlh7",
      "execution_count": 53,
      "outputs": [
        {
          "output_type": "execute_result",
          "data": {
            "text/plain": [
              "'11/1 Indira Nagar'"
            ],
            "application/vnd.google.colaboratory.intrinsic+json": {
              "type": "string"
            }
          },
          "metadata": {},
          "execution_count": 53
        }
      ]
    },
    {
      "cell_type": "code",
      "source": [
        "phno"
      ],
      "metadata": {
        "colab": {
          "base_uri": "https://localhost:8080/",
          "height": 36
        },
        "id": "mG65POXvAnzm",
        "outputId": "40758a34-e5af-4195-e7be-4816dee3319b"
      },
      "id": "mG65POXvAnzm",
      "execution_count": 54,
      "outputs": [
        {
          "output_type": "execute_result",
          "data": {
            "text/plain": [
              "'9876543210'"
            ],
            "application/vnd.google.colaboratory.intrinsic+json": {
              "type": "string"
            }
          },
          "metadata": {},
          "execution_count": 54
        }
      ]
    },
    {
      "cell_type": "markdown",
      "id": "906a6143",
      "metadata": {
        "id": "906a6143"
      },
      "source": [
        "### When to use list/tuple?\n",
        "* Change sequence after creation - list \n",
        "* No change after creation - tuple"
      ]
    },
    {
      "cell_type": "code",
      "execution_count": 54,
      "id": "c5d002b3",
      "metadata": {
        "id": "c5d002b3"
      },
      "outputs": [],
      "source": []
    }
  ],
  "metadata": {
    "kernelspec": {
      "display_name": "Python 3",
      "language": "python",
      "name": "python3"
    },
    "language_info": {
      "codemirror_mode": {
        "name": "ipython",
        "version": 3
      },
      "file_extension": ".py",
      "mimetype": "text/x-python",
      "name": "python",
      "nbconvert_exporter": "python",
      "pygments_lexer": "ipython3",
      "version": "3.8.8"
    },
    "colab": {
      "provenance": []
    }
  },
  "nbformat": 4,
  "nbformat_minor": 5
}