{
  "cells": [
    {
      "cell_type": "markdown",
      "id": "10faf53d",
      "metadata": {
        "id": "10faf53d"
      },
      "source": [
        "# Slicing\n",
        "\n",
        "* Extracting a slice from a sequence.\n",
        "* Applicable to all sequence type in Python like list, tuple, string etc"
      ]
    },
    {
      "cell_type": "code",
      "execution_count": null,
      "id": "2b1a5419",
      "metadata": {
        "id": "2b1a5419",
        "outputId": "aab12f2f-24fb-4758-e6fe-3dea8329ddff",
        "colab": {
          "base_uri": "https://localhost:8080/"
        }
      },
      "outputs": [
        {
          "output_type": "execute_result",
          "data": {
            "text/plain": [
              "['a', 'b', 'c', 'd', 'e', 'f', 'g', 'h', 'i', 'j', 'k', 'l', 'm']"
            ]
          },
          "metadata": {},
          "execution_count": 1
        }
      ],
      "source": [
        "my_list = ['a', 'b', 'c', 'd', 'e', 'f', 'g', 'h', 'i', 'j', 'k', 'l', 'm']\n",
        "my_list"
      ]
    },
    {
      "cell_type": "code",
      "source": [
        "['f', 'g', 'h', 'i', 'j', 'k', 'l', 'm']"
      ],
      "metadata": {
        "id": "ChLCZ9BBBdaH"
      },
      "id": "ChLCZ9BBBdaH",
      "execution_count": null,
      "outputs": []
    },
    {
      "cell_type": "code",
      "source": [
        "['a', 'b', 'c', 'd', 'e']"
      ],
      "metadata": {
        "id": "dtMpKGXUBgun"
      },
      "id": "dtMpKGXUBgun",
      "execution_count": null,
      "outputs": []
    },
    {
      "cell_type": "code",
      "source": [
        "['a', 'c', 'e', 'g', 'i', 'k', 'm']"
      ],
      "metadata": {
        "id": "nUptqsY2BlAm"
      },
      "id": "nUptqsY2BlAm",
      "execution_count": null,
      "outputs": []
    },
    {
      "cell_type": "code",
      "source": [
        "my_list[::]"
      ],
      "metadata": {
        "colab": {
          "base_uri": "https://localhost:8080/"
        },
        "id": "vWg0o7mNV1wX",
        "outputId": "758c645b-86c4-48df-ff56-640ddd00dd0a"
      },
      "id": "vWg0o7mNV1wX",
      "execution_count": null,
      "outputs": [
        {
          "output_type": "execute_result",
          "data": {
            "text/plain": [
              "['a', 'b', 'c', 'd', 'e', 'f', 'g', 'h', 'i', 'j', 'k', 'l', 'm']"
            ]
          },
          "metadata": {},
          "execution_count": 2
        }
      ]
    },
    {
      "cell_type": "markdown",
      "id": "66d97635",
      "metadata": {
        "id": "66d97635"
      },
      "source": [
        "### Syntax\n",
        "\n",
        "< sequence >[start:stop:step]\n",
        "* start by default is 0\n",
        "* stop by default is last index, till index stop-1 will be extracted\n",
        "* step by default is 1, +ve step go towards right, -ve step go towards left\n",
        "* start, stop, step are optional"
      ]
    },
    {
      "cell_type": "markdown",
      "id": "94c1431e",
      "metadata": {
        "id": "94c1431e"
      },
      "source": [
        "Normal slice by specifying start,stop\n"
      ]
    },
    {
      "cell_type": "code",
      "execution_count": null,
      "id": "b0e81f02",
      "metadata": {
        "id": "b0e81f02",
        "outputId": "56e19593-6913-43c3-b87c-10b806a70076",
        "colab": {
          "base_uri": "https://localhost:8080/"
        }
      },
      "outputs": [
        {
          "output_type": "execute_result",
          "data": {
            "text/plain": [
              "['d', 'e', 'f', 'g', 'h', 'i', 'j']"
            ]
          },
          "metadata": {},
          "execution_count": 3
        }
      ],
      "source": [
        "my_list[3:10]"
      ]
    },
    {
      "cell_type": "code",
      "source": [
        "my_list[-4:-11]"
      ],
      "metadata": {
        "colab": {
          "base_uri": "https://localhost:8080/"
        },
        "id": "tBa3QTYoWboA",
        "outputId": "a1487f00-7d6b-4948-ded5-ccc7ea93c511"
      },
      "id": "tBa3QTYoWboA",
      "execution_count": null,
      "outputs": [
        {
          "output_type": "execute_result",
          "data": {
            "text/plain": [
              "[]"
            ]
          },
          "metadata": {},
          "execution_count": 4
        }
      ]
    },
    {
      "cell_type": "code",
      "execution_count": null,
      "id": "0ab9485c",
      "metadata": {
        "id": "0ab9485c",
        "outputId": "f21220a6-dca2-4a0e-aee9-5b70bce45cd9",
        "colab": {
          "base_uri": "https://localhost:8080/"
        }
      },
      "outputs": [
        {
          "output_type": "execute_result",
          "data": {
            "text/plain": [
              "['d', 'e', 'f', 'g', 'h', 'i', 'j']"
            ]
          },
          "metadata": {},
          "execution_count": 5
        }
      ],
      "source": [
        "my_list[-10:-3]"
      ]
    },
    {
      "cell_type": "code",
      "execution_count": null,
      "id": "b8f44e18",
      "metadata": {
        "id": "b8f44e18",
        "outputId": "6f82c6b3-5874-4b99-fee9-cc96bc2b0c11",
        "colab": {
          "base_uri": "https://localhost:8080/"
        }
      },
      "outputs": [
        {
          "output_type": "execute_result",
          "data": {
            "text/plain": [
              "['c', 'd', 'e', 'f', 'g', 'h', 'i']"
            ]
          },
          "metadata": {},
          "execution_count": 6
        }
      ],
      "source": [
        "my_list[2:9]"
      ]
    },
    {
      "cell_type": "code",
      "execution_count": null,
      "id": "cbafaedb",
      "metadata": {
        "id": "cbafaedb",
        "outputId": "21faf92f-dc34-4dd9-9270-60ea03e31ba5",
        "colab": {
          "base_uri": "https://localhost:8080/"
        }
      },
      "outputs": [
        {
          "output_type": "execute_result",
          "data": {
            "text/plain": [
              "['c', 'd', 'e', 'f', 'g', 'h', 'i']"
            ]
          },
          "metadata": {},
          "execution_count": 7
        }
      ],
      "source": [
        "my_list[-11:-4]"
      ]
    },
    {
      "cell_type": "markdown",
      "id": "7a3de304",
      "metadata": {
        "id": "7a3de304"
      },
      "source": [
        "Slice from beginning\n"
      ]
    },
    {
      "cell_type": "code",
      "execution_count": null,
      "id": "88a08954",
      "metadata": {
        "id": "88a08954",
        "outputId": "dd705c51-8a51-48ec-e20b-7511baa214b4",
        "colab": {
          "base_uri": "https://localhost:8080/"
        }
      },
      "outputs": [
        {
          "output_type": "execute_result",
          "data": {
            "text/plain": [
              "['a', 'b', 'c', 'd', 'e', 'f', 'g']"
            ]
          },
          "metadata": {},
          "execution_count": 8
        }
      ],
      "source": [
        "my_list[0:7]"
      ]
    },
    {
      "cell_type": "code",
      "execution_count": null,
      "id": "4e83491e",
      "metadata": {
        "id": "4e83491e",
        "outputId": "b7fa1db5-968f-41cb-ed46-000958a4b975",
        "colab": {
          "base_uri": "https://localhost:8080/"
        }
      },
      "outputs": [
        {
          "output_type": "execute_result",
          "data": {
            "text/plain": [
              "['a', 'b', 'c', 'd', 'e', 'f', 'g']"
            ]
          },
          "metadata": {},
          "execution_count": 9
        }
      ],
      "source": [
        "my_list[:7]"
      ]
    },
    {
      "cell_type": "code",
      "execution_count": null,
      "id": "83b916e6",
      "metadata": {
        "id": "83b916e6",
        "outputId": "b4aa0c2a-c0a6-4acc-ee91-50f176dc9415",
        "colab": {
          "base_uri": "https://localhost:8080/"
        }
      },
      "outputs": [
        {
          "output_type": "execute_result",
          "data": {
            "text/plain": [
              "['a', 'b', 'c', 'd', 'e', 'f', 'g']"
            ]
          },
          "metadata": {},
          "execution_count": 10
        }
      ],
      "source": [
        "my_list[-13:-6]"
      ]
    },
    {
      "cell_type": "markdown",
      "id": "2fbe6f86",
      "metadata": {
        "id": "2fbe6f86"
      },
      "source": [
        "Slice till end"
      ]
    },
    {
      "cell_type": "code",
      "source": [
        "my_list[13]"
      ],
      "metadata": {
        "colab": {
          "base_uri": "https://localhost:8080/",
          "height": 165
        },
        "id": "OTuEnWxKYZk-",
        "outputId": "130f6734-dadd-4acb-e73a-a37dd87cc8e2"
      },
      "id": "OTuEnWxKYZk-",
      "execution_count": null,
      "outputs": [
        {
          "output_type": "error",
          "ename": "IndexError",
          "evalue": "ignored",
          "traceback": [
            "\u001b[0;31m---------------------------------------------------------------------------\u001b[0m",
            "\u001b[0;31mIndexError\u001b[0m                                Traceback (most recent call last)",
            "\u001b[0;32m<ipython-input-14-169f09b8bedf>\u001b[0m in \u001b[0;36m<module>\u001b[0;34m\u001b[0m\n\u001b[0;32m----> 1\u001b[0;31m \u001b[0mmy_list\u001b[0m\u001b[0;34m[\u001b[0m\u001b[0;36m13\u001b[0m\u001b[0;34m]\u001b[0m\u001b[0;34m\u001b[0m\u001b[0;34m\u001b[0m\u001b[0m\n\u001b[0m",
            "\u001b[0;31mIndexError\u001b[0m: list index out of range"
          ]
        }
      ]
    },
    {
      "cell_type": "code",
      "execution_count": null,
      "id": "bbebe4bb",
      "metadata": {
        "id": "bbebe4bb",
        "outputId": "e6683e8c-bbbf-44f9-917b-b2d96e7a592f",
        "colab": {
          "base_uri": "https://localhost:8080/"
        }
      },
      "outputs": [
        {
          "output_type": "execute_result",
          "data": {
            "text/plain": [
              "['g', 'h', 'i', 'j', 'k', 'l', 'm']"
            ]
          },
          "metadata": {},
          "execution_count": 12
        }
      ],
      "source": [
        "my_list[6:13]"
      ]
    },
    {
      "cell_type": "code",
      "execution_count": null,
      "id": "9a6056d7",
      "metadata": {
        "id": "9a6056d7",
        "outputId": "d18c92d7-881e-4912-ed99-6b89eb007035",
        "colab": {
          "base_uri": "https://localhost:8080/"
        }
      },
      "outputs": [
        {
          "output_type": "execute_result",
          "data": {
            "text/plain": [
              "['g', 'h', 'i', 'j', 'k', 'l', 'm']"
            ]
          },
          "metadata": {},
          "execution_count": 13
        }
      ],
      "source": [
        "my_list[6:100]"
      ]
    },
    {
      "cell_type": "code",
      "execution_count": null,
      "id": "0c2f2f87",
      "metadata": {
        "id": "0c2f2f87",
        "outputId": "4685bace-3fc8-4871-8d74-6d4c475922bf",
        "colab": {
          "base_uri": "https://localhost:8080/"
        }
      },
      "outputs": [
        {
          "output_type": "execute_result",
          "data": {
            "text/plain": [
              "['g', 'h', 'i', 'j', 'k', 'l', 'm']"
            ]
          },
          "metadata": {},
          "execution_count": 15
        }
      ],
      "source": [
        "my_list[6:]"
      ]
    },
    {
      "cell_type": "code",
      "execution_count": null,
      "id": "99bd97fc",
      "metadata": {
        "id": "99bd97fc",
        "outputId": "84b1ea29-521b-47dc-a087-a3a52eba06ce",
        "colab": {
          "base_uri": "https://localhost:8080/"
        }
      },
      "outputs": [
        {
          "output_type": "execute_result",
          "data": {
            "text/plain": [
              "['g', 'h', 'i', 'j', 'k', 'l', 'm']"
            ]
          },
          "metadata": {},
          "execution_count": 16
        }
      ],
      "source": [
        "my_list[-7:]"
      ]
    },
    {
      "cell_type": "markdown",
      "id": "335ff94a",
      "metadata": {
        "id": "335ff94a"
      },
      "source": [
        "Slice using step"
      ]
    },
    {
      "cell_type": "code",
      "execution_count": null,
      "id": "858ac4d2",
      "metadata": {
        "id": "858ac4d2",
        "outputId": "77ecee6f-98e6-448f-e8c3-4cfd45f0c364",
        "colab": {
          "base_uri": "https://localhost:8080/"
        }
      },
      "outputs": [
        {
          "output_type": "execute_result",
          "data": {
            "text/plain": [
              "['a', 'd', 'g', 'j', 'm']"
            ]
          },
          "metadata": {},
          "execution_count": 18
        }
      ],
      "source": [
        "my_list[::3]"
      ]
    },
    {
      "cell_type": "code",
      "execution_count": null,
      "id": "b3151640",
      "metadata": {
        "id": "b3151640",
        "outputId": "a5563dc4-b6a7-487a-cb92-432feb9096d8",
        "colab": {
          "base_uri": "https://localhost:8080/"
        }
      },
      "outputs": [
        {
          "output_type": "execute_result",
          "data": {
            "text/plain": [
              "['c', 'f']"
            ]
          },
          "metadata": {},
          "execution_count": 19
        }
      ],
      "source": [
        "my_list[2:7:3]"
      ]
    },
    {
      "cell_type": "code",
      "execution_count": null,
      "id": "e8f2a27a",
      "metadata": {
        "id": "e8f2a27a",
        "outputId": "8f1e203b-cfc0-4c2e-e12b-7a4da0bf56a9",
        "colab": {
          "base_uri": "https://localhost:8080/"
        }
      },
      "outputs": [
        {
          "output_type": "execute_result",
          "data": {
            "text/plain": [
              "['c', 'e', 'g']"
            ]
          },
          "metadata": {},
          "execution_count": 20
        }
      ],
      "source": [
        "my_list[-11:-6:2]"
      ]
    },
    {
      "cell_type": "markdown",
      "id": "defaf4b5",
      "metadata": {
        "id": "defaf4b5"
      },
      "source": [
        "### Reverse list"
      ]
    },
    {
      "cell_type": "code",
      "execution_count": null,
      "id": "7f478dca",
      "metadata": {
        "id": "7f478dca",
        "outputId": "215f3a19-d41a-4e15-bea0-98d1a13e9dd5",
        "colab": {
          "base_uri": "https://localhost:8080/"
        }
      },
      "outputs": [
        {
          "output_type": "execute_result",
          "data": {
            "text/plain": [
              "['a', 'b', 'c', 'd', 'e', 'f', 'g', 'h', 'i', 'j', 'k', 'l', 'm']"
            ]
          },
          "metadata": {},
          "execution_count": 21
        }
      ],
      "source": [
        "my_list[::]"
      ]
    },
    {
      "cell_type": "code",
      "execution_count": null,
      "id": "c6a2c9d5",
      "metadata": {
        "id": "c6a2c9d5",
        "outputId": "6ed82bb8-c61d-4ff2-8839-4f9b7a540fc5",
        "colab": {
          "base_uri": "https://localhost:8080/"
        }
      },
      "outputs": [
        {
          "output_type": "execute_result",
          "data": {
            "text/plain": [
              "['m', 'l', 'k', 'j', 'i', 'h', 'g', 'f', 'e', 'd', 'c', 'b', 'a']"
            ]
          },
          "metadata": {},
          "execution_count": 22
        }
      ],
      "source": [
        "my_list[::-1]"
      ]
    },
    {
      "cell_type": "markdown",
      "source": [
        "Reverse Slice"
      ],
      "metadata": {
        "id": "adOXnNWbOn7R"
      },
      "id": "adOXnNWbOn7R"
    },
    {
      "cell_type": "code",
      "execution_count": null,
      "id": "7846d38b",
      "metadata": {
        "id": "7846d38b",
        "outputId": "073d12d5-dbb0-4493-d61f-7a9d3e82cebc",
        "colab": {
          "base_uri": "https://localhost:8080/"
        }
      },
      "outputs": [
        {
          "output_type": "execute_result",
          "data": {
            "text/plain": [
              "['j', 'i', 'h', 'g', 'f', 'e']"
            ]
          },
          "metadata": {},
          "execution_count": 23
        }
      ],
      "source": [
        "my_list[9:3:-1]"
      ]
    },
    {
      "cell_type": "code",
      "execution_count": null,
      "id": "8e230c2b",
      "metadata": {
        "id": "8e230c2b",
        "outputId": "2fbce5c8-c945-4bd8-b72b-43508fb240f7",
        "colab": {
          "base_uri": "https://localhost:8080/"
        }
      },
      "outputs": [
        {
          "output_type": "execute_result",
          "data": {
            "text/plain": [
              "['j', 'i', 'h', 'g', 'f', 'e']"
            ]
          },
          "metadata": {},
          "execution_count": 24
        }
      ],
      "source": [
        "my_list[-4:-10:-1]"
      ]
    },
    {
      "cell_type": "code",
      "execution_count": null,
      "id": "2554fb58",
      "metadata": {
        "id": "2554fb58",
        "outputId": "8b282b3c-9270-4c3c-f3c4-2abcadbc786f",
        "colab": {
          "base_uri": "https://localhost:8080/"
        }
      },
      "outputs": [
        {
          "output_type": "execute_result",
          "data": {
            "text/plain": [
              "['h', 'g', 'f', 'e', 'd', 'c', 'b', 'a']"
            ]
          },
          "metadata": {},
          "execution_count": 25
        }
      ],
      "source": [
        "my_list[-6::-1]"
      ]
    },
    {
      "cell_type": "code",
      "execution_count": null,
      "id": "c2ad9353",
      "metadata": {
        "id": "c2ad9353",
        "outputId": "287771c2-5d85-4c5c-f205-c4b8177d76c5",
        "colab": {
          "base_uri": "https://localhost:8080/"
        }
      },
      "outputs": [
        {
          "output_type": "execute_result",
          "data": {
            "text/plain": [
              "['m', 'l', 'k', 'j', 'i', 'h', 'g', 'f', 'e']"
            ]
          },
          "metadata": {},
          "execution_count": 26
        }
      ],
      "source": [
        "my_list[:-10:-1]"
      ]
    },
    {
      "cell_type": "code",
      "execution_count": null,
      "id": "1e4c05bb",
      "metadata": {
        "id": "1e4c05bb",
        "outputId": "e027d9ed-0614-45e6-abb5-cb76fd5f0b62",
        "colab": {
          "base_uri": "https://localhost:8080/"
        }
      },
      "outputs": [
        {
          "output_type": "execute_result",
          "data": {
            "text/plain": [
              "['m', 'k', 'i', 'g', 'e', 'c', 'a']"
            ]
          },
          "metadata": {},
          "execution_count": 27
        }
      ],
      "source": [
        "my_list[::-2]"
      ]
    },
    {
      "cell_type": "code",
      "execution_count": null,
      "id": "879cafad",
      "metadata": {
        "id": "879cafad",
        "outputId": "8c05b096-4316-46c1-c90c-bc842a2ff377",
        "colab": {
          "base_uri": "https://localhost:8080/"
        }
      },
      "outputs": [
        {
          "output_type": "execute_result",
          "data": {
            "text/plain": [
              "['g', 'e', 'c']"
            ]
          },
          "metadata": {},
          "execution_count": 28
        }
      ],
      "source": [
        "my_list[6:1:-2]"
      ]
    },
    {
      "cell_type": "code",
      "execution_count": null,
      "id": "58e8fc92",
      "metadata": {
        "id": "58e8fc92",
        "outputId": "b2c888e0-e642-49b1-aa5b-b7e1a0b6cc9a",
        "colab": {
          "base_uri": "https://localhost:8080/"
        }
      },
      "outputs": [
        {
          "output_type": "execute_result",
          "data": {
            "text/plain": [
              "['g', 'e', 'c']"
            ]
          },
          "metadata": {},
          "execution_count": 29
        }
      ],
      "source": [
        "my_list[-7:-12:-2]"
      ]
    },
    {
      "cell_type": "code",
      "source": [
        "my_list[1:-7:2]"
      ],
      "metadata": {
        "colab": {
          "base_uri": "https://localhost:8080/"
        },
        "id": "t8G5IZ2ubmq0",
        "outputId": "7a4ee2fc-5a93-46a6-8acf-d677ba2b6569"
      },
      "id": "t8G5IZ2ubmq0",
      "execution_count": null,
      "outputs": [
        {
          "output_type": "execute_result",
          "data": {
            "text/plain": [
              "['b', 'd', 'f']"
            ]
          },
          "metadata": {},
          "execution_count": 31
        }
      ]
    },
    {
      "cell_type": "code",
      "source": [
        "my_list[7:1]"
      ],
      "metadata": {
        "colab": {
          "base_uri": "https://localhost:8080/"
        },
        "id": "PWKeL0W_ckx-",
        "outputId": "3f831828-a983-4c9e-be75-371a9fbaee49"
      },
      "id": "PWKeL0W_ckx-",
      "execution_count": null,
      "outputs": [
        {
          "output_type": "execute_result",
          "data": {
            "text/plain": [
              "[]"
            ]
          },
          "metadata": {},
          "execution_count": 33
        }
      ]
    },
    {
      "cell_type": "code",
      "source": [
        "my_list[5:-12]"
      ],
      "metadata": {
        "colab": {
          "base_uri": "https://localhost:8080/"
        },
        "id": "1eTzh0AmcGTg",
        "outputId": "232defc5-f143-4460-9284-ed2c817ea4ff"
      },
      "id": "1eTzh0AmcGTg",
      "execution_count": null,
      "outputs": [
        {
          "output_type": "execute_result",
          "data": {
            "text/plain": [
              "[]"
            ]
          },
          "metadata": {},
          "execution_count": 32
        }
      ]
    },
    {
      "cell_type": "markdown",
      "id": "c29d5a32",
      "metadata": {
        "id": "c29d5a32"
      },
      "source": [
        "### Slice Assignment\n",
        "* Doesn't work for immutable sequence"
      ]
    },
    {
      "cell_type": "code",
      "source": [
        "my_list"
      ],
      "metadata": {
        "colab": {
          "base_uri": "https://localhost:8080/"
        },
        "id": "3gxiSlp0c_Gl",
        "outputId": "e67142c6-29b3-43bd-c0a7-c1b47e90a4d3"
      },
      "id": "3gxiSlp0c_Gl",
      "execution_count": null,
      "outputs": [
        {
          "output_type": "execute_result",
          "data": {
            "text/plain": [
              "['a', 'b', 'c', 'd', 'e', 'f', 'g', 'h', 'i', 'j', 'k', 'l', 'm']"
            ]
          },
          "metadata": {},
          "execution_count": 34
        }
      ]
    },
    {
      "cell_type": "code",
      "execution_count": null,
      "id": "b4c34c87",
      "metadata": {
        "id": "b4c34c87",
        "outputId": "51ab7311-614a-4d59-90f7-9156f97b931f",
        "colab": {
          "base_uri": "https://localhost:8080/"
        }
      },
      "outputs": [
        {
          "output_type": "execute_result",
          "data": {
            "text/plain": [
              "['a', 'b', 'cc', 'd', 'bb', 'f', 'aa', 'h', 'i', 'j', 'k', 'l', 'm']"
            ]
          },
          "metadata": {},
          "execution_count": 35
        }
      ],
      "source": [
        "my_list[-7:-12:-2]=['aa','bb','cc']\n",
        "my_list"
      ]
    },
    {
      "cell_type": "code",
      "source": [
        "my_tuple = tuple(my_list)\n",
        "my_tuple"
      ],
      "metadata": {
        "colab": {
          "base_uri": "https://localhost:8080/"
        },
        "id": "eBLuMFM5dRc-",
        "outputId": "6ab55488-bdaa-41b7-b76f-53e2257a5d2e"
      },
      "id": "eBLuMFM5dRc-",
      "execution_count": null,
      "outputs": [
        {
          "output_type": "execute_result",
          "data": {
            "text/plain": [
              "('a', 'b', 'cc', 'd', 'bb', 'f', 'aa', 'h', 'i', 'j', 'k', 'l', 'm')"
            ]
          },
          "metadata": {},
          "execution_count": 36
        }
      ]
    },
    {
      "cell_type": "code",
      "source": [
        "my_tuple[-7:-12:-2]=['1','2','3']\n",
        "my_tuple"
      ],
      "metadata": {
        "colab": {
          "base_uri": "https://localhost:8080/",
          "height": 183
        },
        "id": "feRic0h1ddPr",
        "outputId": "145d90ca-1e6f-4038-c01c-6d7c68a968cb"
      },
      "id": "feRic0h1ddPr",
      "execution_count": null,
      "outputs": [
        {
          "output_type": "error",
          "ename": "TypeError",
          "evalue": "ignored",
          "traceback": [
            "\u001b[0;31m---------------------------------------------------------------------------\u001b[0m",
            "\u001b[0;31mTypeError\u001b[0m                                 Traceback (most recent call last)",
            "\u001b[0;32m<ipython-input-37-e807469acaf2>\u001b[0m in \u001b[0;36m<module>\u001b[0;34m\u001b[0m\n\u001b[0;32m----> 1\u001b[0;31m \u001b[0mmy_tuple\u001b[0m\u001b[0;34m[\u001b[0m\u001b[0;34m-\u001b[0m\u001b[0;36m7\u001b[0m\u001b[0;34m:\u001b[0m\u001b[0;34m-\u001b[0m\u001b[0;36m12\u001b[0m\u001b[0;34m:\u001b[0m\u001b[0;34m-\u001b[0m\u001b[0;36m2\u001b[0m\u001b[0;34m]\u001b[0m\u001b[0;34m=\u001b[0m\u001b[0;34m[\u001b[0m\u001b[0;34m'1'\u001b[0m\u001b[0;34m,\u001b[0m\u001b[0;34m'2'\u001b[0m\u001b[0;34m,\u001b[0m\u001b[0;34m'3'\u001b[0m\u001b[0;34m]\u001b[0m\u001b[0;34m\u001b[0m\u001b[0;34m\u001b[0m\u001b[0m\n\u001b[0m\u001b[1;32m      2\u001b[0m \u001b[0mmy_tuple\u001b[0m\u001b[0;34m\u001b[0m\u001b[0;34m\u001b[0m\u001b[0m\n",
            "\u001b[0;31mTypeError\u001b[0m: 'tuple' object does not support item assignment"
          ]
        }
      ]
    },
    {
      "cell_type": "code",
      "source": [
        "my_str = \"arokeeadmin@arokee.com\"\n",
        "my_str"
      ],
      "metadata": {
        "colab": {
          "base_uri": "https://localhost:8080/",
          "height": 35
        },
        "id": "VmBOZxGrdluL",
        "outputId": "53e301f1-6837-460d-e12b-21c25f730e95"
      },
      "id": "VmBOZxGrdluL",
      "execution_count": null,
      "outputs": [
        {
          "output_type": "execute_result",
          "data": {
            "text/plain": [
              "'arokeeadmin@arokee.com'"
            ],
            "application/vnd.google.colaboratory.intrinsic+json": {
              "type": "string"
            }
          },
          "metadata": {},
          "execution_count": 42
        }
      ]
    },
    {
      "cell_type": "code",
      "source": [
        "my_str [:my_str.index('@')]"
      ],
      "metadata": {
        "colab": {
          "base_uri": "https://localhost:8080/",
          "height": 35
        },
        "id": "GQ0URd00drPV",
        "outputId": "cf87dbad-1839-4622-c2ee-a045e2fc4a31"
      },
      "id": "GQ0URd00drPV",
      "execution_count": null,
      "outputs": [
        {
          "output_type": "execute_result",
          "data": {
            "text/plain": [
              "'arokeeadmin'"
            ],
            "application/vnd.google.colaboratory.intrinsic+json": {
              "type": "string"
            }
          },
          "metadata": {},
          "execution_count": 43
        }
      ]
    },
    {
      "cell_type": "markdown",
      "id": "a0adcf8a",
      "metadata": {
        "id": "a0adcf8a"
      },
      "source": [
        "### Slice Function\n",
        "\n",
        "The slice() function returns a slice object.\n",
        "* end is mandatory here\n",
        "* start optional, default 0\n",
        "* step optional,default 1\n",
        "\n",
        "<br> syntax: slice(start,stop,step)"
      ]
    },
    {
      "cell_type": "code",
      "execution_count": null,
      "id": "92916249",
      "metadata": {
        "id": "92916249",
        "outputId": "941e37d5-cc07-4566-85c8-77f85e52a7d1",
        "colab": {
          "base_uri": "https://localhost:8080/"
        }
      },
      "outputs": [
        {
          "output_type": "execute_result",
          "data": {
            "text/plain": [
              "['bb', 'f', 'aa', 'h', 'i', 'j', 'k', 'l', 'm']"
            ]
          },
          "metadata": {},
          "execution_count": 44
        }
      ],
      "source": [
        "x = slice(4,13)\n",
        "my_list[x]"
      ]
    },
    {
      "cell_type": "code",
      "source": [
        "x"
      ],
      "metadata": {
        "colab": {
          "base_uri": "https://localhost:8080/"
        },
        "id": "MgNz75fEeeEi",
        "outputId": "34a3662b-7c56-423f-b70a-c18444b2d9a4"
      },
      "id": "MgNz75fEeeEi",
      "execution_count": null,
      "outputs": [
        {
          "output_type": "execute_result",
          "data": {
            "text/plain": [
              "slice(4, 13, None)"
            ]
          },
          "metadata": {},
          "execution_count": 46
        }
      ]
    },
    {
      "cell_type": "code",
      "source": [
        "my_list[4:13]"
      ],
      "metadata": {
        "colab": {
          "base_uri": "https://localhost:8080/"
        },
        "id": "van3omqReXwX",
        "outputId": "bd317f67-ccf2-48a2-8f93-1ecece929a6a"
      },
      "id": "van3omqReXwX",
      "execution_count": null,
      "outputs": [
        {
          "output_type": "execute_result",
          "data": {
            "text/plain": [
              "['bb', 'f', 'aa', 'h', 'i', 'j', 'k', 'l', 'm']"
            ]
          },
          "metadata": {},
          "execution_count": 45
        }
      ]
    },
    {
      "cell_type": "code",
      "source": [
        "my_list"
      ],
      "metadata": {
        "id": "3lZvLnYAeqpv",
        "outputId": "5832782d-2e2a-46c9-98d2-6a802db568e8",
        "colab": {
          "base_uri": "https://localhost:8080/"
        }
      },
      "id": "3lZvLnYAeqpv",
      "execution_count": null,
      "outputs": [
        {
          "output_type": "execute_result",
          "data": {
            "text/plain": [
              "['a', 'b', 'cc', 'd', 'bb', 'f', 'aa', 'h', 'i', 'j', 'k', 'l', 'm']"
            ]
          },
          "metadata": {},
          "execution_count": 47
        }
      ]
    },
    {
      "cell_type": "code",
      "execution_count": null,
      "id": "203a0f3f",
      "metadata": {
        "id": "203a0f3f",
        "outputId": "016c2fba-ade0-4bc8-86ae-0d523026430f",
        "colab": {
          "base_uri": "https://localhost:8080/"
        }
      },
      "outputs": [
        {
          "output_type": "execute_result",
          "data": {
            "text/plain": [
              "['a', 'b', 'cc', 'd']"
            ]
          },
          "metadata": {},
          "execution_count": 49
        }
      ],
      "source": [
        "x = slice(4)\n",
        "my_list[x]"
      ]
    },
    {
      "cell_type": "code",
      "source": [
        "my_list[:4]"
      ],
      "metadata": {
        "colab": {
          "base_uri": "https://localhost:8080/"
        },
        "id": "OnmJGEnWeli4",
        "outputId": "b11ae57b-a642-40b7-fdf8-c9fa2765dfdb"
      },
      "id": "OnmJGEnWeli4",
      "execution_count": null,
      "outputs": [
        {
          "output_type": "execute_result",
          "data": {
            "text/plain": [
              "['a', 'b', 'cc', 'd']"
            ]
          },
          "metadata": {},
          "execution_count": 48
        }
      ]
    },
    {
      "cell_type": "code",
      "execution_count": null,
      "id": "acc068e1",
      "metadata": {
        "id": "acc068e1"
      },
      "outputs": [],
      "source": []
    }
  ],
  "metadata": {
    "kernelspec": {
      "display_name": "Python 3",
      "language": "python",
      "name": "python3"
    },
    "language_info": {
      "codemirror_mode": {
        "name": "ipython",
        "version": 3
      },
      "file_extension": ".py",
      "mimetype": "text/x-python",
      "name": "python",
      "nbconvert_exporter": "python",
      "pygments_lexer": "ipython3",
      "version": "3.8.8"
    },
    "colab": {
      "provenance": []
    }
  },
  "nbformat": 4,
  "nbformat_minor": 5
}