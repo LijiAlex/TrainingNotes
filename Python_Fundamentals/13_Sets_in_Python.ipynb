{
  "cells": [
    {
      "cell_type": "markdown",
      "id": "4d201a13",
      "metadata": {
        "id": "4d201a13"
      },
      "source": [
        "# Sets\n",
        "* Sets are used to store multiple items in a single variable.\n",
        "* Items enclosed with curly braces {} and seperated  by comma(,).\n",
        "* A set is a collection which is unordered, unchangeable, and unindexed.\n",
        "* Items cannot be changed, but addition and deletion is allowed.\n",
        "* Duplicates are not allowed.\n",
        "* It can have any data types.\n"
      ]
    },
    {
      "cell_type": "code",
      "source": [
        "l = ['apple', 'banana', 'apple', 'orange', 'cherry', 'banana', 'mango']"
      ],
      "metadata": {
        "id": "TjSY0Ci9nJnD"
      },
      "id": "TjSY0Ci9nJnD",
      "execution_count": 65,
      "outputs": []
    },
    {
      "cell_type": "code",
      "source": [
        "l"
      ],
      "metadata": {
        "colab": {
          "base_uri": "https://localhost:8080/"
        },
        "id": "amcCa52CnNyK",
        "outputId": "52dc7ea3-c159-4764-bfe5-6c213de2bf2c"
      },
      "id": "amcCa52CnNyK",
      "execution_count": 66,
      "outputs": [
        {
          "output_type": "execute_result",
          "data": {
            "text/plain": [
              "['apple', 'banana', 'apple', 'orange', 'cherry', 'banana', 'mango']"
            ]
          },
          "metadata": {},
          "execution_count": 66
        }
      ]
    },
    {
      "cell_type": "code",
      "source": [
        "set(l)   # no duplicates in sets"
      ],
      "metadata": {
        "colab": {
          "base_uri": "https://localhost:8080/"
        },
        "id": "Bir7zDBNnPbz",
        "outputId": "851e6a7b-2a96-46b8-f07a-61ab40b3e05d"
      },
      "id": "Bir7zDBNnPbz",
      "execution_count": 67,
      "outputs": [
        {
          "output_type": "execute_result",
          "data": {
            "text/plain": [
              "{'apple', 'banana', 'cherry', 'mango', 'orange'}"
            ]
          },
          "metadata": {},
          "execution_count": 67
        }
      ]
    },
    {
      "cell_type": "code",
      "execution_count": 68,
      "id": "2570f97f",
      "metadata": {
        "id": "2570f97f"
      },
      "outputs": [],
      "source": [
        "fruits = {'apple', 'banana', 'apple', 'orange', 'cherry', 'banana', 'mango'}"
      ]
    },
    {
      "cell_type": "code",
      "execution_count": 69,
      "id": "83a3b633",
      "metadata": {
        "id": "83a3b633",
        "outputId": "955682d0-cbc5-494c-8584-5ceba76dbaff",
        "colab": {
          "base_uri": "https://localhost:8080/"
        }
      },
      "outputs": [
        {
          "output_type": "execute_result",
          "data": {
            "text/plain": [
              "{'apple', 'banana', 'cherry', 'mango', 'orange'}"
            ]
          },
          "metadata": {},
          "execution_count": 69
        }
      ],
      "source": [
        "fruits # no duplicates in sets"
      ]
    },
    {
      "cell_type": "code",
      "execution_count": 70,
      "id": "ee735153",
      "metadata": {
        "id": "ee735153",
        "outputId": "7baf955e-ae04-4629-d1a1-60871c0ab7ce",
        "colab": {
          "base_uri": "https://localhost:8080/",
          "height": 165
        }
      },
      "outputs": [
        {
          "output_type": "error",
          "ename": "TypeError",
          "evalue": "ignored",
          "traceback": [
            "\u001b[0;31m---------------------------------------------------------------------------\u001b[0m",
            "\u001b[0;31mTypeError\u001b[0m                                 Traceback (most recent call last)",
            "\u001b[0;32m<ipython-input-70-98ea8473cce4>\u001b[0m in \u001b[0;36m<module>\u001b[0;34m\u001b[0m\n\u001b[0;32m----> 1\u001b[0;31m \u001b[0mfruits\u001b[0m\u001b[0;34m[\u001b[0m\u001b[0;36m0\u001b[0m\u001b[0;34m]\u001b[0m\u001b[0;34m\u001b[0m\u001b[0;34m\u001b[0m\u001b[0m\n\u001b[0m",
            "\u001b[0;31mTypeError\u001b[0m: 'set' object is not subscriptable"
          ]
        }
      ],
      "source": [
        "fruits[0]"
      ]
    },
    {
      "cell_type": "markdown",
      "id": "98b8fb3c",
      "metadata": {
        "id": "98b8fb3c"
      },
      "source": [
        "### Iteration"
      ]
    },
    {
      "cell_type": "code",
      "execution_count": 71,
      "id": "92fa9315",
      "metadata": {
        "id": "92fa9315",
        "colab": {
          "base_uri": "https://localhost:8080/"
        },
        "outputId": "247db944-d968-41e2-9e24-54d3823110b2"
      },
      "outputs": [
        {
          "output_type": "stream",
          "name": "stdout",
          "text": [
            "banana\n",
            "apple\n",
            "mango\n",
            "cherry\n",
            "orange\n"
          ]
        }
      ],
      "source": [
        "for fruit in fruits:\n",
        "    print(fruit)"
      ]
    },
    {
      "cell_type": "markdown",
      "id": "a95dc9e4",
      "metadata": {
        "id": "a95dc9e4"
      },
      "source": [
        "### Set functions"
      ]
    },
    {
      "cell_type": "markdown",
      "id": "38a2cd1c",
      "metadata": {
        "id": "38a2cd1c"
      },
      "source": [
        "https://docs.python.org/2/library/sets.html"
      ]
    },
    {
      "cell_type": "code",
      "execution_count": 72,
      "id": "5a2092fc",
      "metadata": {
        "id": "5a2092fc",
        "outputId": "21a5f5fd-5bfd-4850-c5ce-b9132517aa09",
        "colab": {
          "base_uri": "https://localhost:8080/"
        }
      },
      "outputs": [
        {
          "output_type": "execute_result",
          "data": {
            "text/plain": [
              "{'apple', 'banana', 'cherry', 'mango', 'orange'}"
            ]
          },
          "metadata": {},
          "execution_count": 72
        }
      ],
      "source": [
        "fruits"
      ]
    },
    {
      "cell_type": "code",
      "source": [
        "citrus_fruits = {'orange'}"
      ],
      "metadata": {
        "id": "kHcRZTwB65JR"
      },
      "id": "kHcRZTwB65JR",
      "execution_count": 75,
      "outputs": []
    },
    {
      "cell_type": "code",
      "source": [
        "berries = {'grapes', \"blueberry\", \"straw berry\"}"
      ],
      "metadata": {
        "id": "t4WzOKHX69K7"
      },
      "id": "t4WzOKHX69K7",
      "execution_count": 78,
      "outputs": []
    },
    {
      "cell_type": "markdown",
      "source": [
        "Deep Copy"
      ],
      "metadata": {
        "id": "iGsdwV7k6n3b"
      },
      "id": "iGsdwV7k6n3b"
    },
    {
      "cell_type": "code",
      "execution_count": 76,
      "id": "4f5f2ac1",
      "metadata": {
        "id": "4f5f2ac1",
        "outputId": "06841728-7c86-4c57-dc94-87675c22e10d",
        "colab": {
          "base_uri": "https://localhost:8080/"
        }
      },
      "outputs": [
        {
          "output_type": "execute_result",
          "data": {
            "text/plain": [
              "{'apple', 'banana', 'cherry', 'mango', 'orange'}"
            ]
          },
          "metadata": {},
          "execution_count": 76
        }
      ],
      "source": [
        "fruits_copy = fruits.copy()\n",
        "fruits_copy"
      ]
    },
    {
      "cell_type": "markdown",
      "id": "a462d70b",
      "metadata": {
        "id": "a462d70b"
      },
      "source": [
        "Union"
      ]
    },
    {
      "cell_type": "code",
      "execution_count": 79,
      "id": "21754850",
      "metadata": {
        "id": "21754850",
        "outputId": "3a9f3cd6-a83f-40df-efbc-5d0b8befbd05",
        "colab": {
          "base_uri": "https://localhost:8080/"
        }
      },
      "outputs": [
        {
          "output_type": "execute_result",
          "data": {
            "text/plain": [
              "{'apple',\n",
              " 'banana',\n",
              " 'blueberry',\n",
              " 'cherry',\n",
              " 'grapes',\n",
              " 'mango',\n",
              " 'orange',\n",
              " 'straw berry'}"
            ]
          },
          "metadata": {},
          "execution_count": 79
        }
      ],
      "source": [
        "fruits_copy.union(berries)   # set with all the elements"
      ]
    },
    {
      "cell_type": "code",
      "execution_count": 80,
      "id": "b5c20cc7",
      "metadata": {
        "id": "b5c20cc7",
        "outputId": "e9a44438-45e6-436e-c268-f08b1f921136",
        "colab": {
          "base_uri": "https://localhost:8080/"
        }
      },
      "outputs": [
        {
          "output_type": "execute_result",
          "data": {
            "text/plain": [
              "{'apple', 'banana', 'cherry', 'mango', 'orange'}"
            ]
          },
          "metadata": {},
          "execution_count": 80
        }
      ],
      "source": [
        "fruits_copy #original set doesn't change"
      ]
    },
    {
      "cell_type": "markdown",
      "id": "be42a745",
      "metadata": {
        "id": "be42a745"
      },
      "source": [
        "Difference"
      ]
    },
    {
      "cell_type": "code",
      "execution_count": 82,
      "id": "5d579d2c",
      "metadata": {
        "id": "5d579d2c",
        "outputId": "d0af0848-57c9-4c32-c196-ba4dd251f7dc",
        "colab": {
          "base_uri": "https://localhost:8080/"
        }
      },
      "outputs": [
        {
          "output_type": "execute_result",
          "data": {
            "text/plain": [
              "{'apple', 'banana', 'cherry', 'mango'}"
            ]
          },
          "metadata": {},
          "execution_count": 82
        }
      ],
      "source": [
        "fruits.difference(citrus_fruits)    # all elements in fruits but not in citrus fruits"
      ]
    },
    {
      "cell_type": "code",
      "execution_count": 31,
      "id": "ddbbe2bc",
      "metadata": {
        "id": "ddbbe2bc",
        "outputId": "c8ba4b23-75b0-488b-e55c-d771dd72291a",
        "colab": {
          "base_uri": "https://localhost:8080/"
        }
      },
      "outputs": [
        {
          "output_type": "execute_result",
          "data": {
            "text/plain": [
              "{'apple', 'banana', 'cherry', 'mango', 'orange'}"
            ]
          },
          "metadata": {},
          "execution_count": 31
        }
      ],
      "source": [
        "fruits  # original set doesn't change"
      ]
    },
    {
      "cell_type": "code",
      "execution_count": 83,
      "id": "55c5c67c",
      "metadata": {
        "id": "55c5c67c"
      },
      "outputs": [],
      "source": [
        "fruits.difference_update(citrus_fruits) # updates original set"
      ]
    },
    {
      "cell_type": "code",
      "execution_count": 84,
      "id": "3ce42758",
      "metadata": {
        "id": "3ce42758",
        "outputId": "70875378-d7c5-4cf4-9684-d03bb0231758",
        "colab": {
          "base_uri": "https://localhost:8080/"
        }
      },
      "outputs": [
        {
          "output_type": "execute_result",
          "data": {
            "text/plain": [
              "{'apple', 'banana', 'cherry', 'mango'}"
            ]
          },
          "metadata": {},
          "execution_count": 84
        }
      ],
      "source": [
        "fruits"
      ]
    },
    {
      "cell_type": "markdown",
      "source": [
        "Empty Collections"
      ],
      "metadata": {
        "id": "WAIaDzJU7qf0"
      },
      "id": "WAIaDzJU7qf0"
    },
    {
      "cell_type": "code",
      "source": [
        "type([]) # empty list"
      ],
      "metadata": {
        "colab": {
          "base_uri": "https://localhost:8080/"
        },
        "id": "T3IHKrjoqXQU",
        "outputId": "21252203-5bf6-4f72-97ac-7f9cc424da38"
      },
      "id": "T3IHKrjoqXQU",
      "execution_count": 37,
      "outputs": [
        {
          "output_type": "execute_result",
          "data": {
            "text/plain": [
              "list"
            ]
          },
          "metadata": {},
          "execution_count": 37
        }
      ]
    },
    {
      "cell_type": "code",
      "source": [
        "type(()) # empty tuple"
      ],
      "metadata": {
        "colab": {
          "base_uri": "https://localhost:8080/"
        },
        "id": "FXJJVaL4qY-d",
        "outputId": "15e9267e-3c7b-44c9-c86b-844d8abb57c3"
      },
      "id": "FXJJVaL4qY-d",
      "execution_count": 38,
      "outputs": [
        {
          "output_type": "execute_result",
          "data": {
            "text/plain": [
              "tuple"
            ]
          },
          "metadata": {},
          "execution_count": 38
        }
      ]
    },
    {
      "cell_type": "code",
      "source": [
        "type({})  # {} is a dictionary not set"
      ],
      "metadata": {
        "colab": {
          "base_uri": "https://localhost:8080/"
        },
        "id": "RktdCZ4yqhWB",
        "outputId": "f584d6fb-69d0-40f5-e913-2303ff68e5b9"
      },
      "id": "RktdCZ4yqhWB",
      "execution_count": 85,
      "outputs": [
        {
          "output_type": "execute_result",
          "data": {
            "text/plain": [
              "dict"
            ]
          },
          "metadata": {},
          "execution_count": 85
        }
      ]
    },
    {
      "cell_type": "code",
      "source": [
        "set() # empty set"
      ],
      "metadata": {
        "colab": {
          "base_uri": "https://localhost:8080/"
        },
        "id": "9M-sEDtn7wYl",
        "outputId": "485490f5-2f3d-471b-ccca-ec8d5f3ca1a9"
      },
      "id": "9M-sEDtn7wYl",
      "execution_count": 86,
      "outputs": [
        {
          "output_type": "execute_result",
          "data": {
            "text/plain": [
              "set()"
            ]
          },
          "metadata": {},
          "execution_count": 86
        }
      ]
    },
    {
      "cell_type": "markdown",
      "id": "71fa767c",
      "metadata": {
        "id": "71fa767c"
      },
      "source": [
        "Intersection"
      ]
    },
    {
      "cell_type": "code",
      "execution_count": 88,
      "id": "68035b79",
      "metadata": {
        "id": "68035b79",
        "outputId": "83d7cefd-894f-4126-f34e-332a8be57526",
        "colab": {
          "base_uri": "https://localhost:8080/"
        }
      },
      "outputs": [
        {
          "output_type": "execute_result",
          "data": {
            "text/plain": [
              "set()"
            ]
          },
          "metadata": {},
          "execution_count": 88
        }
      ],
      "source": [
        "fruits.intersection(citrus_fruits)   # common elemets in fruits and citrus_fruits"
      ]
    },
    {
      "cell_type": "code",
      "execution_count": 89,
      "id": "7feca103",
      "metadata": {
        "id": "7feca103",
        "outputId": "be04aa55-5276-4ece-ee6a-173a6ffedc13",
        "colab": {
          "base_uri": "https://localhost:8080/"
        }
      },
      "outputs": [
        {
          "output_type": "execute_result",
          "data": {
            "text/plain": [
              "{'apple'}"
            ]
          },
          "metadata": {},
          "execution_count": 89
        }
      ],
      "source": [
        "fruits.intersection({'apple', 'kiwi'})  # fruits wont be updates"
      ]
    },
    {
      "cell_type": "code",
      "execution_count": 91,
      "id": "3bca9e0b",
      "metadata": {
        "id": "3bca9e0b"
      },
      "outputs": [],
      "source": [
        "fruits.intersection_update({'apple', 'kiwi'})  # fruits will be updated"
      ]
    },
    {
      "cell_type": "code",
      "execution_count": 92,
      "id": "628db1e8",
      "metadata": {
        "id": "628db1e8",
        "outputId": "9886b25b-e7db-460e-d8c7-d3460491d27f",
        "colab": {
          "base_uri": "https://localhost:8080/"
        }
      },
      "outputs": [
        {
          "output_type": "execute_result",
          "data": {
            "text/plain": [
              "{'apple'}"
            ]
          },
          "metadata": {},
          "execution_count": 92
        }
      ],
      "source": [
        "fruits"
      ]
    },
    {
      "cell_type": "code",
      "execution_count": 93,
      "id": "a740ebcb",
      "metadata": {
        "id": "a740ebcb",
        "outputId": "e08af7d2-6064-402b-ef83-6c75a1bd3ed6",
        "colab": {
          "base_uri": "https://localhost:8080/"
        }
      },
      "outputs": [
        {
          "output_type": "execute_result",
          "data": {
            "text/plain": [
              "{'apple', 'banana', 'cherry', 'mango', 'orange'}"
            ]
          },
          "metadata": {},
          "execution_count": 93
        }
      ],
      "source": [
        "fruits_copy"
      ]
    },
    {
      "cell_type": "code",
      "source": [],
      "metadata": {
        "id": "_y0GvbIK8TL7"
      },
      "id": "_y0GvbIK8TL7",
      "execution_count": null,
      "outputs": []
    },
    {
      "cell_type": "markdown",
      "id": "e7933bc6",
      "metadata": {
        "id": "e7933bc6"
      },
      "source": [
        "disjoint"
      ]
    },
    {
      "cell_type": "code",
      "execution_count": 94,
      "id": "cee4df94",
      "metadata": {
        "id": "cee4df94",
        "outputId": "8a60c4b4-8eb6-4e8f-a729-fdf5519c3414",
        "colab": {
          "base_uri": "https://localhost:8080/"
        }
      },
      "outputs": [
        {
          "output_type": "execute_result",
          "data": {
            "text/plain": [
              "False"
            ]
          },
          "metadata": {},
          "execution_count": 94
        }
      ],
      "source": [
        "fruits_copy.isdisjoint(fruits)   # checks if no common elements or not"
      ]
    },
    {
      "cell_type": "markdown",
      "id": "20bb3013",
      "metadata": {
        "id": "20bb3013"
      },
      "source": [
        "subset-superset"
      ]
    },
    {
      "cell_type": "code",
      "execution_count": 96,
      "id": "82c877a8",
      "metadata": {
        "id": "82c877a8",
        "outputId": "25c182a5-2e38-4f2c-97ed-4556ec5bd8f9",
        "colab": {
          "base_uri": "https://localhost:8080/"
        }
      },
      "outputs": [
        {
          "output_type": "execute_result",
          "data": {
            "text/plain": [
              "True"
            ]
          },
          "metadata": {},
          "execution_count": 96
        }
      ],
      "source": [
        "fruits.issubset(fruits_copy)   # all elements of fruits present in fruits_copy"
      ]
    },
    {
      "cell_type": "code",
      "execution_count": 97,
      "id": "2116c322",
      "metadata": {
        "id": "2116c322",
        "outputId": "8060e40e-cd03-4c33-a308-00583441a15c",
        "colab": {
          "base_uri": "https://localhost:8080/"
        }
      },
      "outputs": [
        {
          "output_type": "execute_result",
          "data": {
            "text/plain": [
              "True"
            ]
          },
          "metadata": {},
          "execution_count": 97
        }
      ],
      "source": [
        "fruits_copy.issuperset(fruits)  "
      ]
    },
    {
      "cell_type": "markdown",
      "source": [
        "Remove elements"
      ],
      "metadata": {
        "id": "b-LhCuyisLqT"
      },
      "id": "b-LhCuyisLqT"
    },
    {
      "cell_type": "code",
      "execution_count": 98,
      "id": "017bb10a",
      "metadata": {
        "id": "017bb10a",
        "outputId": "52f5c2ee-ae92-4428-a545-cd62462de700",
        "colab": {
          "base_uri": "https://localhost:8080/",
          "height": 36
        }
      },
      "outputs": [
        {
          "output_type": "execute_result",
          "data": {
            "text/plain": [
              "'mango'"
            ],
            "application/vnd.google.colaboratory.intrinsic+json": {
              "type": "string"
            }
          },
          "metadata": {},
          "execution_count": 98
        }
      ],
      "source": [
        "fruits_copy.pop() # removes random element"
      ]
    },
    {
      "cell_type": "code",
      "execution_count": 99,
      "id": "f681cafd",
      "metadata": {
        "id": "f681cafd",
        "outputId": "f632d7b9-86ae-4d29-d4b7-8a272118ec4a",
        "colab": {
          "base_uri": "https://localhost:8080/"
        }
      },
      "outputs": [
        {
          "output_type": "execute_result",
          "data": {
            "text/plain": [
              "{'apple', 'banana', 'cherry', 'orange'}"
            ]
          },
          "metadata": {},
          "execution_count": 99
        }
      ],
      "source": [
        "fruits_copy"
      ]
    },
    {
      "cell_type": "code",
      "execution_count": 50,
      "id": "3f2f7103",
      "metadata": {
        "id": "3f2f7103",
        "colab": {
          "base_uri": "https://localhost:8080/",
          "height": 165
        },
        "outputId": "a6d7af66-b91a-41bf-d2e5-5729862a53fa"
      },
      "outputs": [
        {
          "output_type": "error",
          "ename": "KeyError",
          "evalue": "ignored",
          "traceback": [
            "\u001b[0;31m---------------------------------------------------------------------------\u001b[0m",
            "\u001b[0;31mKeyError\u001b[0m                                  Traceback (most recent call last)",
            "\u001b[0;32m<ipython-input-50-b0c1430b855e>\u001b[0m in \u001b[0;36m<module>\u001b[0;34m\u001b[0m\n\u001b[0;32m----> 1\u001b[0;31m \u001b[0mfruits_copy\u001b[0m\u001b[0;34m.\u001b[0m\u001b[0mremove\u001b[0m\u001b[0;34m(\u001b[0m\u001b[0;34m'mango'\u001b[0m\u001b[0;34m)\u001b[0m \u001b[0;31m#removes an element and throws error if not present\u001b[0m\u001b[0;34m\u001b[0m\u001b[0;34m\u001b[0m\u001b[0m\n\u001b[0m",
            "\u001b[0;31mKeyError\u001b[0m: 'mango'"
          ]
        }
      ],
      "source": [
        "fruits_copy.remove('mango') #removes an element and throws error if not present"
      ]
    },
    {
      "cell_type": "code",
      "execution_count": 100,
      "id": "6bce5869",
      "metadata": {
        "id": "6bce5869"
      },
      "outputs": [],
      "source": [
        "fruits_copy.discard('cherry') # removes the item specified else do nothing"
      ]
    },
    {
      "cell_type": "code",
      "execution_count": 101,
      "id": "dd47ab0d",
      "metadata": {
        "id": "dd47ab0d",
        "outputId": "1e61bcee-ea77-4077-d6dd-3adea0ac7c03",
        "colab": {
          "base_uri": "https://localhost:8080/"
        }
      },
      "outputs": [
        {
          "output_type": "execute_result",
          "data": {
            "text/plain": [
              "{'apple', 'banana', 'orange'}"
            ]
          },
          "metadata": {},
          "execution_count": 101
        }
      ],
      "source": [
        "fruits_copy"
      ]
    },
    {
      "cell_type": "code",
      "source": [
        "fruits_copy.discard('mango')"
      ],
      "metadata": {
        "id": "kmOa97lqrg5N"
      },
      "id": "kmOa97lqrg5N",
      "execution_count": 102,
      "outputs": []
    },
    {
      "cell_type": "markdown",
      "id": "ac44120c",
      "metadata": {
        "id": "ac44120c"
      },
      "source": [
        "symmetric difference"
      ]
    },
    {
      "cell_type": "code",
      "source": [
        "fruits_copy"
      ],
      "metadata": {
        "colab": {
          "base_uri": "https://localhost:8080/"
        },
        "id": "T2amDrr6rtNl",
        "outputId": "cbaaff7c-82e9-4696-9151-773d81903b3b"
      },
      "id": "T2amDrr6rtNl",
      "execution_count": 103,
      "outputs": [
        {
          "output_type": "execute_result",
          "data": {
            "text/plain": [
              "{'apple', 'banana', 'orange'}"
            ]
          },
          "metadata": {},
          "execution_count": 103
        }
      ]
    },
    {
      "cell_type": "code",
      "source": [
        "citrus_fruits"
      ],
      "metadata": {
        "colab": {
          "base_uri": "https://localhost:8080/"
        },
        "id": "Iq87s_NDrv0x",
        "outputId": "c53b4af1-fd35-48a0-9188-ab309c0bebac"
      },
      "id": "Iq87s_NDrv0x",
      "execution_count": 104,
      "outputs": [
        {
          "output_type": "execute_result",
          "data": {
            "text/plain": [
              "{'orange'}"
            ]
          },
          "metadata": {},
          "execution_count": 104
        }
      ]
    },
    {
      "cell_type": "code",
      "execution_count": 105,
      "id": "6a5052e5",
      "metadata": {
        "id": "6a5052e5",
        "outputId": "7f5c008c-668d-4164-a623-71ba1b238691",
        "colab": {
          "base_uri": "https://localhost:8080/"
        }
      },
      "outputs": [
        {
          "output_type": "execute_result",
          "data": {
            "text/plain": [
              "{'apple', 'banana'}"
            ]
          },
          "metadata": {},
          "execution_count": 105
        }
      ],
      "source": [
        "fruits_copy.symmetric_difference(citrus_fruits) # all elemets of both sets which are not common"
      ]
    },
    {
      "cell_type": "code",
      "execution_count": 106,
      "id": "54e3369c",
      "metadata": {
        "id": "54e3369c"
      },
      "outputs": [],
      "source": [
        "fruits_copy.symmetric_difference_update(citrus_fruits)"
      ]
    },
    {
      "cell_type": "code",
      "execution_count": null,
      "id": "b833786b",
      "metadata": {
        "id": "b833786b"
      },
      "outputs": [],
      "source": [
        "fruits_copy"
      ]
    },
    {
      "cell_type": "markdown",
      "source": [
        "Add Elements"
      ],
      "metadata": {
        "id": "f0AB6zXQsEys"
      },
      "id": "f0AB6zXQsEys"
    },
    {
      "cell_type": "code",
      "execution_count": 107,
      "id": "534e7e5a",
      "metadata": {
        "id": "534e7e5a"
      },
      "outputs": [],
      "source": [
        "fruits.add(\"strawberry\") # adds a single item"
      ]
    },
    {
      "cell_type": "code",
      "execution_count": 108,
      "id": "4e21c37a",
      "metadata": {
        "id": "4e21c37a",
        "outputId": "27d5e812-afd5-40ea-dfcf-6bbbd99b3858",
        "colab": {
          "base_uri": "https://localhost:8080/"
        }
      },
      "outputs": [
        {
          "output_type": "execute_result",
          "data": {
            "text/plain": [
              "{'apple', 'strawberry'}"
            ]
          },
          "metadata": {},
          "execution_count": 108
        }
      ],
      "source": [
        "fruits"
      ]
    },
    {
      "cell_type": "code",
      "execution_count": 109,
      "id": "975ed460",
      "metadata": {
        "id": "975ed460"
      },
      "outputs": [],
      "source": [
        "fruits.update(citrus_fruits) #updates with items of another set"
      ]
    },
    {
      "cell_type": "code",
      "execution_count": 110,
      "id": "d4d9b006",
      "metadata": {
        "id": "d4d9b006",
        "outputId": "dc18c76a-b029-4aa4-c092-b53a07d3caad",
        "colab": {
          "base_uri": "https://localhost:8080/"
        }
      },
      "outputs": [
        {
          "output_type": "execute_result",
          "data": {
            "text/plain": [
              "{'apple', 'orange', 'strawberry'}"
            ]
          },
          "metadata": {},
          "execution_count": 110
        }
      ],
      "source": [
        "fruits"
      ]
    },
    {
      "cell_type": "code",
      "execution_count": null,
      "id": "f2b6bbdb",
      "metadata": {
        "id": "f2b6bbdb"
      },
      "outputs": [],
      "source": []
    }
  ],
  "metadata": {
    "kernelspec": {
      "display_name": "Python 3",
      "language": "python",
      "name": "python3"
    },
    "language_info": {
      "codemirror_mode": {
        "name": "ipython",
        "version": 3
      },
      "file_extension": ".py",
      "mimetype": "text/x-python",
      "name": "python",
      "nbconvert_exporter": "python",
      "pygments_lexer": "ipython3",
      "version": "3.8.8"
    },
    "colab": {
      "provenance": []
    }
  },
  "nbformat": 4,
  "nbformat_minor": 5
}