{
 "cells": [
  {
   "cell_type": "markdown",
   "id": "372a9bd5",
   "metadata": {},
   "source": [
    "### Mutable and immutable in Python\n",
    "* An object whose value can be changed is mutable. \n",
    "* Immutable doesn’t allow any change in the object once it has been created."
   ]
  },
  {
   "cell_type": "code",
   "execution_count": 18,
   "id": "0abe612a",
   "metadata": {},
   "outputs": [
    {
     "data": {
      "text/plain": [
       "140707721062320"
      ]
     },
     "execution_count": 18,
     "metadata": {},
     "output_type": "execute_result"
    }
   ],
   "source": [
    "a = 5\n",
    "id(a) #returns address of object in Python"
   ]
  },
  {
   "cell_type": "code",
   "execution_count": 19,
   "id": "4f697f1b",
   "metadata": {},
   "outputs": [
    {
     "data": {
      "text/plain": [
       "140707721062352"
      ]
     },
     "execution_count": 19,
     "metadata": {},
     "output_type": "execute_result"
    }
   ],
   "source": [
    "a = 6\n",
    "id(a)"
   ]
  },
  {
   "cell_type": "code",
   "execution_count": 20,
   "id": "a230b5fb",
   "metadata": {},
   "outputs": [
    {
     "data": {
      "text/plain": [
       "1295584881200"
      ]
     },
     "execution_count": 20,
     "metadata": {},
     "output_type": "execute_result"
    }
   ],
   "source": [
    "s1 = \"Python\"\n",
    "id(s1)"
   ]
  },
  {
   "cell_type": "code",
   "execution_count": 21,
   "id": "9074185d",
   "metadata": {},
   "outputs": [
    {
     "data": {
      "text/plain": [
       "1295652539888"
      ]
     },
     "execution_count": 21,
     "metadata": {},
     "output_type": "execute_result"
    }
   ],
   "source": [
    "s1 = \"Python is easy\"\n",
    "id(s1)"
   ]
  },
  {
   "cell_type": "code",
   "execution_count": 22,
   "id": "bcd744d8",
   "metadata": {},
   "outputs": [
    {
     "data": {
      "text/plain": [
       "1295652222080"
      ]
     },
     "execution_count": 22,
     "metadata": {},
     "output_type": "execute_result"
    }
   ],
   "source": [
    "colours = [\"red\", \"blue\", \"green\"]\n",
    "id(colours)"
   ]
  },
  {
   "cell_type": "code",
   "execution_count": 23,
   "id": "6b9cbb9c",
   "metadata": {},
   "outputs": [
    {
     "data": {
      "text/plain": [
       "1295594098992"
      ]
     },
     "execution_count": 23,
     "metadata": {},
     "output_type": "execute_result"
    }
   ],
   "source": [
    "id(colours[0])"
   ]
  },
  {
   "cell_type": "code",
   "execution_count": 24,
   "id": "939e41bc",
   "metadata": {},
   "outputs": [
    {
     "data": {
      "text/plain": [
       "['red', 'blue', 'green', 'yellow']"
      ]
     },
     "execution_count": 24,
     "metadata": {},
     "output_type": "execute_result"
    }
   ],
   "source": [
    "colours.append(\"yellow\")\n",
    "colours"
   ]
  },
  {
   "cell_type": "code",
   "execution_count": 25,
   "id": "bf83ce8b",
   "metadata": {},
   "outputs": [
    {
     "data": {
      "text/plain": [
       "1295652222080"
      ]
     },
     "execution_count": 25,
     "metadata": {},
     "output_type": "execute_result"
    }
   ],
   "source": [
    "id(colours)"
   ]
  },
  {
   "cell_type": "code",
   "execution_count": 26,
   "id": "ecb45a2a",
   "metadata": {},
   "outputs": [
    {
     "data": {
      "text/plain": [
       "1295594098992"
      ]
     },
     "execution_count": 26,
     "metadata": {},
     "output_type": "execute_result"
    }
   ],
   "source": [
    "id(colours[0])"
   ]
  },
  {
   "cell_type": "code",
   "execution_count": 27,
   "id": "6734f614",
   "metadata": {},
   "outputs": [],
   "source": [
    "colours[0] = \"abc\""
   ]
  },
  {
   "cell_type": "code",
   "execution_count": 28,
   "id": "43370874",
   "metadata": {},
   "outputs": [
    {
     "data": {
      "text/plain": [
       "['abc', 'blue', 'green', 'yellow']"
      ]
     },
     "execution_count": 28,
     "metadata": {},
     "output_type": "execute_result"
    }
   ],
   "source": [
    "colours"
   ]
  },
  {
   "cell_type": "code",
   "execution_count": 29,
   "id": "d2f90b00",
   "metadata": {},
   "outputs": [
    {
     "data": {
      "text/plain": [
       "1295652222080"
      ]
     },
     "execution_count": 29,
     "metadata": {},
     "output_type": "execute_result"
    }
   ],
   "source": [
    "id(colours)"
   ]
  },
  {
   "cell_type": "code",
   "execution_count": 30,
   "id": "090b9238",
   "metadata": {},
   "outputs": [
    {
     "data": {
      "text/plain": [
       "1295584838896"
      ]
     },
     "execution_count": 30,
     "metadata": {},
     "output_type": "execute_result"
    }
   ],
   "source": [
    "id(colours[0])"
   ]
  },
  {
   "cell_type": "markdown",
   "id": "3c32aaa8",
   "metadata": {},
   "source": [
    "# Tuples\n",
    "* Tuples are used to store multiple items in a single variable.\n",
    "* It is a collection of Python objects separated by commas and placed inside paranthesis(optional).\n",
    "* A tuple is a collection which is ordered and unchangeable."
   ]
  },
  {
   "cell_type": "code",
   "execution_count": 31,
   "id": "f4cd46f8",
   "metadata": {},
   "outputs": [
    {
     "data": {
      "text/plain": [
       "(1, 2, 3)"
      ]
     },
     "execution_count": 31,
     "metadata": {},
     "output_type": "execute_result"
    }
   ],
   "source": [
    "numbers = 1, 2, 3\n",
    "numbers"
   ]
  },
  {
   "cell_type": "code",
   "execution_count": 32,
   "id": "22e3dc8b",
   "metadata": {},
   "outputs": [
    {
     "data": {
      "text/plain": [
       "(2, 4, 6)"
      ]
     },
     "execution_count": 32,
     "metadata": {},
     "output_type": "execute_result"
    }
   ],
   "source": [
    "even_numbers = (2, 4, 6)\n",
    "even_numbers"
   ]
  },
  {
   "cell_type": "markdown",
   "id": "ba2a53da",
   "metadata": {},
   "source": [
    "### Indexing in tuples"
   ]
  },
  {
   "cell_type": "code",
   "execution_count": 33,
   "id": "13b75831",
   "metadata": {},
   "outputs": [
    {
     "data": {
      "text/plain": [
       "2"
      ]
     },
     "execution_count": 33,
     "metadata": {},
     "output_type": "execute_result"
    }
   ],
   "source": [
    "even_numbers[0]"
   ]
  },
  {
   "cell_type": "code",
   "execution_count": 34,
   "id": "db75140b",
   "metadata": {},
   "outputs": [
    {
     "data": {
      "text/plain": [
       "6"
      ]
     },
     "execution_count": 34,
     "metadata": {},
     "output_type": "execute_result"
    }
   ],
   "source": [
    "even_numbers[-1]"
   ]
  },
  {
   "cell_type": "markdown",
   "id": "3f2a092a",
   "metadata": {},
   "source": [
    "### Item updation in list and tuples"
   ]
  },
  {
   "cell_type": "code",
   "execution_count": 35,
   "id": "f5e3ca92",
   "metadata": {},
   "outputs": [
    {
     "data": {
      "text/plain": [
       "[2, 4, 6]"
      ]
     },
     "execution_count": 35,
     "metadata": {},
     "output_type": "execute_result"
    }
   ],
   "source": [
    "list_even = [2, 4, 6]\n",
    "list_even"
   ]
  },
  {
   "cell_type": "code",
   "execution_count": 36,
   "id": "ff89bfad",
   "metadata": {},
   "outputs": [
    {
     "data": {
      "text/plain": [
       "[8, 4, 6]"
      ]
     },
     "execution_count": 36,
     "metadata": {},
     "output_type": "execute_result"
    }
   ],
   "source": [
    "list_even[0] = 8\n",
    "list_even"
   ]
  },
  {
   "cell_type": "code",
   "execution_count": 37,
   "id": "65402f12",
   "metadata": {},
   "outputs": [
    {
     "data": {
      "text/plain": [
       "(2, 4, 6)"
      ]
     },
     "execution_count": 37,
     "metadata": {},
     "output_type": "execute_result"
    }
   ],
   "source": [
    "even_numbers"
   ]
  },
  {
   "cell_type": "code",
   "execution_count": 38,
   "id": "add6010d",
   "metadata": {},
   "outputs": [
    {
     "ename": "TypeError",
     "evalue": "'tuple' object does not support item assignment",
     "output_type": "error",
     "traceback": [
      "\u001b[1;31m---------------------------------------------------------------------------\u001b[0m",
      "\u001b[1;31mTypeError\u001b[0m                                 Traceback (most recent call last)",
      "\u001b[1;32m<ipython-input-38-bed00e001012>\u001b[0m in \u001b[0;36m<module>\u001b[1;34m\u001b[0m\n\u001b[1;32m----> 1\u001b[1;33m \u001b[0meven_numbers\u001b[0m\u001b[1;33m[\u001b[0m\u001b[1;36m0\u001b[0m\u001b[1;33m]\u001b[0m\u001b[1;33m=\u001b[0m\u001b[1;36m8\u001b[0m\u001b[1;33m\u001b[0m\u001b[1;33m\u001b[0m\u001b[0m\n\u001b[0m",
      "\u001b[1;31mTypeError\u001b[0m: 'tuple' object does not support item assignment"
     ]
    }
   ],
   "source": [
    "even_numbers[0]=8"
   ]
  },
  {
   "cell_type": "code",
   "execution_count": 39,
   "id": "12c51eea",
   "metadata": {},
   "outputs": [],
   "source": [
    "random_tuple= (4, 6, 7, 8, 10, [1, 2,3], 11)"
   ]
  },
  {
   "cell_type": "code",
   "execution_count": 40,
   "id": "2c8d346d",
   "metadata": {},
   "outputs": [
    {
     "data": {
      "text/plain": [
       "4"
      ]
     },
     "execution_count": 40,
     "metadata": {},
     "output_type": "execute_result"
    }
   ],
   "source": [
    "random_tuple[0]"
   ]
  },
  {
   "cell_type": "code",
   "execution_count": 41,
   "id": "4b7a365b",
   "metadata": {},
   "outputs": [
    {
     "ename": "TypeError",
     "evalue": "'tuple' object does not support item assignment",
     "output_type": "error",
     "traceback": [
      "\u001b[1;31m---------------------------------------------------------------------------\u001b[0m",
      "\u001b[1;31mTypeError\u001b[0m                                 Traceback (most recent call last)",
      "\u001b[1;32m<ipython-input-41-8a00e42b0469>\u001b[0m in \u001b[0;36m<module>\u001b[1;34m\u001b[0m\n\u001b[1;32m----> 1\u001b[1;33m \u001b[0mrandom_tuple\u001b[0m\u001b[1;33m[\u001b[0m\u001b[1;33m-\u001b[0m\u001b[1;36m2\u001b[0m\u001b[1;33m]\u001b[0m\u001b[1;33m=\u001b[0m \u001b[1;33m[\u001b[0m\u001b[1;36m2\u001b[0m\u001b[1;33m,\u001b[0m \u001b[1;36m2\u001b[0m\u001b[1;33m,\u001b[0m \u001b[1;36m2\u001b[0m\u001b[1;33m]\u001b[0m\u001b[1;33m\u001b[0m\u001b[1;33m\u001b[0m\u001b[0m\n\u001b[0m\u001b[0;32m      2\u001b[0m \u001b[0mrandom_tuple\u001b[0m\u001b[1;33m\u001b[0m\u001b[1;33m\u001b[0m\u001b[0m\n",
      "\u001b[1;31mTypeError\u001b[0m: 'tuple' object does not support item assignment"
     ]
    }
   ],
   "source": [
    "random_tuple[-2]= [2, 2, 2]\n",
    "random_tuple"
   ]
  },
  {
   "cell_type": "code",
   "execution_count": 43,
   "id": "b58db835",
   "metadata": {},
   "outputs": [
    {
     "data": {
      "text/plain": [
       "(4, 6, 7, 8, 10, [2, 2, 2], 11)"
      ]
     },
     "execution_count": 43,
     "metadata": {},
     "output_type": "execute_result"
    }
   ],
   "source": [
    "random_tuple[-2][0] = 2\n",
    "random_tuple[-2][1] = 2\n",
    "random_tuple[-2][2] = 2\n",
    "random_tuple"
   ]
  },
  {
   "cell_type": "markdown",
   "id": "ce1228b4",
   "metadata": {},
   "source": [
    "### Operators in tuple"
   ]
  },
  {
   "cell_type": "code",
   "execution_count": 44,
   "id": "0a0754ec",
   "metadata": {},
   "outputs": [
    {
     "data": {
      "text/plain": [
       "(1, 2, 3, 2, 4, 6)"
      ]
     },
     "execution_count": 44,
     "metadata": {},
     "output_type": "execute_result"
    }
   ],
   "source": [
    "numbers + even_numbers # concatenation operator"
   ]
  },
  {
   "cell_type": "code",
   "execution_count": 45,
   "id": "dcd65755",
   "metadata": {},
   "outputs": [
    {
     "data": {
      "text/plain": [
       "(1, 2, 3, 1, 2, 3, 1, 2, 3, 1, 2, 3, 1, 2, 3)"
      ]
     },
     "execution_count": 45,
     "metadata": {},
     "output_type": "execute_result"
    }
   ],
   "source": [
    "numbers * 5 #repetition operator"
   ]
  },
  {
   "cell_type": "markdown",
   "id": "e534c006",
   "metadata": {},
   "source": [
    "### Tuple functions"
   ]
  },
  {
   "cell_type": "code",
   "execution_count": 46,
   "id": "c4b15e5d",
   "metadata": {},
   "outputs": [
    {
     "data": {
      "text/plain": [
       "(1, 2, 3)"
      ]
     },
     "execution_count": 46,
     "metadata": {},
     "output_type": "execute_result"
    }
   ],
   "source": [
    "numbers."
   ]
  },
  {
   "cell_type": "code",
   "execution_count": 47,
   "id": "308a1691",
   "metadata": {},
   "outputs": [
    {
     "data": {
      "text/plain": [
       "1"
      ]
     },
     "execution_count": 47,
     "metadata": {},
     "output_type": "execute_result"
    }
   ],
   "source": [
    "numbers.count(1)"
   ]
  },
  {
   "cell_type": "code",
   "execution_count": 48,
   "id": "5ebb915b",
   "metadata": {},
   "outputs": [
    {
     "data": {
      "text/plain": [
       "0"
      ]
     },
     "execution_count": 48,
     "metadata": {},
     "output_type": "execute_result"
    }
   ],
   "source": [
    "numbers.index(1)"
   ]
  },
  {
   "cell_type": "markdown",
   "id": "f4f4cee0",
   "metadata": {},
   "source": [
    "### Tuple iterations"
   ]
  },
  {
   "cell_type": "code",
   "execution_count": 49,
   "id": "96195c03",
   "metadata": {},
   "outputs": [
    {
     "name": "stdout",
     "output_type": "stream",
     "text": [
      "1\n",
      "2\n",
      "3\n"
     ]
    }
   ],
   "source": [
    "for number in numbers:\n",
    "    print(number)"
   ]
  },
  {
   "cell_type": "code",
   "execution_count": 50,
   "id": "081d5b13",
   "metadata": {},
   "outputs": [
    {
     "name": "stdout",
     "output_type": "stream",
     "text": [
      "1\n",
      "2\n",
      "3\n"
     ]
    }
   ],
   "source": [
    "index = 0\n",
    "while index<len(numbers):\n",
    "    print(numbers[index])\n",
    "    index= index+1"
   ]
  },
  {
   "cell_type": "markdown",
   "id": "b41687ce",
   "metadata": {},
   "source": [
    "### Membership operators with list and tuple"
   ]
  },
  {
   "cell_type": "code",
   "execution_count": 51,
   "id": "5c386716",
   "metadata": {},
   "outputs": [
    {
     "data": {
      "text/plain": [
       "[8, 4, 6]"
      ]
     },
     "execution_count": 51,
     "metadata": {},
     "output_type": "execute_result"
    }
   ],
   "source": [
    "list_even"
   ]
  },
  {
   "cell_type": "code",
   "execution_count": 52,
   "id": "32cd93df",
   "metadata": {},
   "outputs": [
    {
     "data": {
      "text/plain": [
       "True"
      ]
     },
     "execution_count": 52,
     "metadata": {},
     "output_type": "execute_result"
    }
   ],
   "source": [
    "8 in list_even"
   ]
  },
  {
   "cell_type": "code",
   "execution_count": 53,
   "id": "17d2fc3f",
   "metadata": {},
   "outputs": [
    {
     "data": {
      "text/plain": [
       "(4, 6, 7, 8, 10, [2, 2, 2], 11)"
      ]
     },
     "execution_count": 53,
     "metadata": {},
     "output_type": "execute_result"
    }
   ],
   "source": [
    "random_tuple"
   ]
  },
  {
   "cell_type": "code",
   "execution_count": 54,
   "id": "585485d6",
   "metadata": {},
   "outputs": [
    {
     "data": {
      "text/plain": [
       "True"
      ]
     },
     "execution_count": 54,
     "metadata": {},
     "output_type": "execute_result"
    }
   ],
   "source": [
    "6 in random_tuple"
   ]
  },
  {
   "cell_type": "code",
   "execution_count": 55,
   "id": "16b355e6",
   "metadata": {},
   "outputs": [
    {
     "data": {
      "text/plain": [
       "False"
      ]
     },
     "execution_count": 55,
     "metadata": {},
     "output_type": "execute_result"
    }
   ],
   "source": [
    "2 in random_tuple"
   ]
  },
  {
   "cell_type": "code",
   "execution_count": 56,
   "id": "754f6bbe",
   "metadata": {},
   "outputs": [
    {
     "data": {
      "text/plain": [
       "True"
      ]
     },
     "execution_count": 56,
     "metadata": {},
     "output_type": "execute_result"
    }
   ],
   "source": [
    "2 in random_tuple[-2]"
   ]
  },
  {
   "cell_type": "markdown",
   "id": "60002609",
   "metadata": {},
   "source": [
    "### Packing and unpacking\n",
    "\n"
   ]
  },
  {
   "cell_type": "code",
   "execution_count": 60,
   "id": "a4ccfd23",
   "metadata": {},
   "outputs": [
    {
     "data": {
      "text/plain": [
       "(1, 2, 3)"
      ]
     },
     "execution_count": 60,
     "metadata": {},
     "output_type": "execute_result"
    }
   ],
   "source": [
    "tuple1 = 1, 2, 3 #packing\n",
    "tuple1"
   ]
  },
  {
   "cell_type": "code",
   "execution_count": 61,
   "id": "36ca617e",
   "metadata": {},
   "outputs": [],
   "source": [
    "a, b, c = tuple1 #unpacking"
   ]
  },
  {
   "cell_type": "code",
   "execution_count": 62,
   "id": "b194b52e",
   "metadata": {},
   "outputs": [
    {
     "data": {
      "text/plain": [
       "1"
      ]
     },
     "execution_count": 62,
     "metadata": {},
     "output_type": "execute_result"
    }
   ],
   "source": [
    "a"
   ]
  },
  {
   "cell_type": "code",
   "execution_count": 63,
   "id": "f7544f74",
   "metadata": {},
   "outputs": [
    {
     "data": {
      "text/plain": [
       "2"
      ]
     },
     "execution_count": 63,
     "metadata": {},
     "output_type": "execute_result"
    }
   ],
   "source": [
    "b"
   ]
  },
  {
   "cell_type": "code",
   "execution_count": 64,
   "id": "b3aa9702",
   "metadata": {},
   "outputs": [
    {
     "data": {
      "text/plain": [
       "3"
      ]
     },
     "execution_count": 64,
     "metadata": {},
     "output_type": "execute_result"
    }
   ],
   "source": [
    "c"
   ]
  },
  {
   "cell_type": "markdown",
   "id": "906a6143",
   "metadata": {},
   "source": [
    "### When to use list/tuple?\n",
    "* Change sequence after creation - list \n",
    "* No change after creation - tuple"
   ]
  },
  {
   "cell_type": "code",
   "execution_count": null,
   "id": "c5d002b3",
   "metadata": {},
   "outputs": [],
   "source": []
  }
 ],
 "metadata": {
  "kernelspec": {
   "display_name": "Python 3",
   "language": "python",
   "name": "python3"
  },
  "language_info": {
   "codemirror_mode": {
    "name": "ipython",
    "version": 3
   },
   "file_extension": ".py",
   "mimetype": "text/x-python",
   "name": "python",
   "nbconvert_exporter": "python",
   "pygments_lexer": "ipython3",
   "version": "3.8.8"
  }
 },
 "nbformat": 4,
 "nbformat_minor": 5
}
