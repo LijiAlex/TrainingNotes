{
  "nbformat": 4,
  "nbformat_minor": 0,
  "metadata": {
    "colab": {
      "provenance": []
    },
    "kernelspec": {
      "name": "python3",
      "display_name": "Python 3"
    },
    "language_info": {
      "name": "python"
    }
  },
  "cells": [
    {
      "cell_type": "markdown",
      "source": [
        "A RegEx, or Regular Expression, is a sequence of characters that forms a search pattern.\n",
        "\n",
        "RegEx can be used to check if a string contains the specified search pattern."
      ],
      "metadata": {
        "id": "Up6lThSX8p6w"
      }
    },
    {
      "cell_type": "code",
      "execution_count": null,
      "metadata": {
        "colab": {
          "base_uri": "https://localhost:8080/"
        },
        "id": "O4unPbfL8gD4",
        "outputId": "f61bd5b3-158b-4b7a-c8d3-5e93ee25388b"
      },
      "outputs": [
        {
          "output_type": "execute_result",
          "data": {
            "text/plain": [
              "<re.Match object; span=(23, 30), match='January'>"
            ]
          },
          "metadata": {},
          "execution_count": 1
        }
      ],
      "source": [
        "import re\n",
        "\n",
        "txt = \"The republic day is in January exact date is Jan 26th\"\n",
        "x = re.search(\"J\\w+\", txt)  # Returns a Match object if there is a match anywhere in the string, If there is more than one match, only the first occurrence of the match will be returned\n",
        "x"
      ]
    },
    {
      "cell_type": "code",
      "source": [
        "type(x)"
      ],
      "metadata": {
        "colab": {
          "base_uri": "https://localhost:8080/"
        },
        "id": "8PTrCLc5H2yh",
        "outputId": "e26b6e24-71a8-42b2-9ef9-152621c473f9"
      },
      "execution_count": null,
      "outputs": [
        {
          "output_type": "execute_result",
          "data": {
            "text/plain": [
              "re.Match"
            ]
          },
          "metadata": {},
          "execution_count": 2
        }
      ]
    },
    {
      "cell_type": "code",
      "source": [
        "x.span()  # returns a tuple containing the start-, and end positions of the match."
      ],
      "metadata": {
        "colab": {
          "base_uri": "https://localhost:8080/"
        },
        "id": "0k7yIa-5Ec4x",
        "outputId": "505210a2-c732-495f-8443-1b192e82f2bf"
      },
      "execution_count": null,
      "outputs": [
        {
          "output_type": "execute_result",
          "data": {
            "text/plain": [
              "(23, 30)"
            ]
          },
          "metadata": {},
          "execution_count": 3
        }
      ]
    },
    {
      "cell_type": "code",
      "source": [
        "x.string  # returns the string passed into the function"
      ],
      "metadata": {
        "colab": {
          "base_uri": "https://localhost:8080/",
          "height": 36
        },
        "id": "8jxuhbN2E-eH",
        "outputId": "481f99f6-b14d-4334-bbb5-95066a3022e7"
      },
      "execution_count": null,
      "outputs": [
        {
          "output_type": "execute_result",
          "data": {
            "text/plain": [
              "'The republic day is in January exact date is Jan 26th'"
            ],
            "application/vnd.google.colaboratory.intrinsic+json": {
              "type": "string"
            }
          },
          "metadata": {},
          "execution_count": 4
        }
      ]
    },
    {
      "cell_type": "code",
      "source": [
        "x.group()  # returns the part of the string where there was a match"
      ],
      "metadata": {
        "colab": {
          "base_uri": "https://localhost:8080/",
          "height": 36
        },
        "id": "GYg_iD-KFT6N",
        "outputId": "a42f4e63-cf61-432c-a52c-2703b3195ad4"
      },
      "execution_count": null,
      "outputs": [
        {
          "output_type": "execute_result",
          "data": {
            "text/plain": [
              "'January'"
            ],
            "application/vnd.google.colaboratory.intrinsic+json": {
              "type": "string"
            }
          },
          "metadata": {},
          "execution_count": 5
        }
      ]
    },
    {
      "cell_type": "code",
      "source": [
        "x = re.search(\"F\\w+\", txt)  \n",
        "print(x)"
      ],
      "metadata": {
        "colab": {
          "base_uri": "https://localhost:8080/"
        },
        "id": "3KRgQdv-Hyxl",
        "outputId": "ec74b6e9-a0a3-470e-83c7-c27dbeb2abde"
      },
      "execution_count": null,
      "outputs": [
        {
          "output_type": "stream",
          "name": "stdout",
          "text": [
            "None\n"
          ]
        }
      ]
    },
    {
      "cell_type": "code",
      "source": [
        "x == None"
      ],
      "metadata": {
        "colab": {
          "base_uri": "https://localhost:8080/"
        },
        "id": "WExOj1MKIC6G",
        "outputId": "14cec7b0-bdb6-4ad3-d62b-d0142ceab6e5"
      },
      "execution_count": null,
      "outputs": [
        {
          "output_type": "execute_result",
          "data": {
            "text/plain": [
              "True"
            ]
          },
          "metadata": {},
          "execution_count": 7
        }
      ]
    },
    {
      "cell_type": "code",
      "source": [
        "x = re.findall(\"J\\w+\", txt)  # Print a list of all matches\n",
        "x"
      ],
      "metadata": {
        "colab": {
          "base_uri": "https://localhost:8080/"
        },
        "id": "58TzvCh3HCUY",
        "outputId": "edda079b-331a-42cc-b57c-59c9095a2068"
      },
      "execution_count": null,
      "outputs": [
        {
          "output_type": "execute_result",
          "data": {
            "text/plain": [
              "['January', 'Jan']"
            ]
          },
          "metadata": {},
          "execution_count": 8
        }
      ]
    },
    {
      "cell_type": "code",
      "source": [
        "x = re.findall(\"F\\w+\", txt)  \n",
        "x"
      ],
      "metadata": {
        "colab": {
          "base_uri": "https://localhost:8080/"
        },
        "id": "jYN7HvMqHOgr",
        "outputId": "7058601a-81f8-4498-86af-e1bf5d6ff36a"
      },
      "execution_count": null,
      "outputs": [
        {
          "output_type": "execute_result",
          "data": {
            "text/plain": [
              "[]"
            ]
          },
          "metadata": {},
          "execution_count": 9
        }
      ]
    },
    {
      "cell_type": "code",
      "source": [
        "txt"
      ],
      "metadata": {
        "colab": {
          "base_uri": "https://localhost:8080/",
          "height": 36
        },
        "id": "UPLN0zjw_Vmp",
        "outputId": "134cd6a2-282d-4983-a9e8-64a72ec3ba16"
      },
      "execution_count": null,
      "outputs": [
        {
          "output_type": "execute_result",
          "data": {
            "text/plain": [
              "'The republic day is in January exact date is Jan 26th'"
            ],
            "application/vnd.google.colaboratory.intrinsic+json": {
              "type": "string"
            }
          },
          "metadata": {},
          "execution_count": 10
        }
      ]
    },
    {
      "cell_type": "code",
      "source": [
        "x = re.split(\"J\\w+\", txt)  # The split() function returns a list where the string has been split at each match\n",
        "print(x)"
      ],
      "metadata": {
        "colab": {
          "base_uri": "https://localhost:8080/"
        },
        "id": "oyyXZk0DHbdQ",
        "outputId": "688b155d-5e0d-418f-8efd-61b4cafeb22f"
      },
      "execution_count": null,
      "outputs": [
        {
          "output_type": "stream",
          "name": "stdout",
          "text": [
            "['The republic day is in ', ' exact date is ', ' 26th']\n"
          ]
        }
      ]
    },
    {
      "cell_type": "code",
      "source": [
        "x = re.split(\"J\\w+\", txt, 1) # split only once\n",
        "print(x)"
      ],
      "metadata": {
        "colab": {
          "base_uri": "https://localhost:8080/"
        },
        "id": "OmOgrKryIe9w",
        "outputId": "92cfc1f9-ffcb-488c-ac2c-0e1b7ead7b80"
      },
      "execution_count": null,
      "outputs": [
        {
          "output_type": "stream",
          "name": "stdout",
          "text": [
            "['The republic day is in ', ' exact date is Jan 26th']\n"
          ]
        }
      ]
    },
    {
      "cell_type": "code",
      "source": [
        "txt"
      ],
      "metadata": {
        "colab": {
          "base_uri": "https://localhost:8080/",
          "height": 36
        },
        "id": "RoomcIri_09N",
        "outputId": "fdd3291c-965e-4cb5-b061-b7e34a119b9b"
      },
      "execution_count": null,
      "outputs": [
        {
          "output_type": "execute_result",
          "data": {
            "text/plain": [
              "'The republic day is in January exact date is Jan 26th'"
            ],
            "application/vnd.google.colaboratory.intrinsic+json": {
              "type": "string"
            }
          },
          "metadata": {},
          "execution_count": 15
        }
      ]
    },
    {
      "cell_type": "code",
      "source": [
        "x = re.findall(\"\\s\", txt)\n",
        "x"
      ],
      "metadata": {
        "colab": {
          "base_uri": "https://localhost:8080/"
        },
        "id": "khx7WBx4_rX6",
        "outputId": "7a68ce2a-e022-4d89-9902-818faca5d6ac"
      },
      "execution_count": null,
      "outputs": [
        {
          "output_type": "execute_result",
          "data": {
            "text/plain": [
              "[' ', ' ', ' ', ' ', ' ', ' ', ' ', ' ', ' ', ' ']"
            ]
          },
          "metadata": {},
          "execution_count": 14
        }
      ]
    },
    {
      "cell_type": "code",
      "source": [
        "x = re.sub(\"\\s\", \"_\", txt)   # The sub() function replaces the matches with the text of your choice\n",
        "print(x)"
      ],
      "metadata": {
        "colab": {
          "base_uri": "https://localhost:8080/"
        },
        "id": "667-3HLSIn_q",
        "outputId": "227bf20d-4661-4c57-e22b-123e94ce244c"
      },
      "execution_count": null,
      "outputs": [
        {
          "output_type": "stream",
          "name": "stdout",
          "text": [
            "The_republic_day_is_in_January_exact_date_is_Jan_26th\n"
          ]
        }
      ]
    },
    {
      "cell_type": "code",
      "source": [
        "x = re.sub(\"\\s\", \"_\", txt, 2)\n",
        "print(x)"
      ],
      "metadata": {
        "colab": {
          "base_uri": "https://localhost:8080/"
        },
        "id": "ojIGnJTxI6_F",
        "outputId": "62357132-6e7d-48c4-ba05-6459ca414858"
      },
      "execution_count": null,
      "outputs": [
        {
          "output_type": "stream",
          "name": "stdout",
          "text": [
            "The_republic_day is in January exact date is Jan 26th\n"
          ]
        }
      ]
    },
    {
      "cell_type": "code",
      "source": [],
      "metadata": {
        "id": "pCO0NXfyJB9_"
      },
      "execution_count": null,
      "outputs": []
    }
  ]
}