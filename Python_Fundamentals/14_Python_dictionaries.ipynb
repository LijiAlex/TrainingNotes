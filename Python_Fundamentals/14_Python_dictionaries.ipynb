{
  "cells": [
    {
      "cell_type": "markdown",
      "id": "ba32edd2",
      "metadata": {
        "id": "ba32edd2"
      },
      "source": [
        "# Dictionary\n",
        "* Used to store data values in key:value pairs\n",
        "* Ordered, mutable and do not allow duplicates.  \n",
        "* Written with curly brakets {} and has items seperated by commas(,)\n",
        "* An item is a key value pair where key and value is seperated by colon(:)\n",
        "* An item in dictionary is referred using key .i.e key acts as index in dictionary"
      ]
    },
    {
      "cell_type": "code",
      "source": [
        "type({1,}) # sets"
      ],
      "metadata": {
        "colab": {
          "base_uri": "https://localhost:8080/"
        },
        "id": "bnDLAzXQtEYs",
        "outputId": "76b2d764-3c00-4b75-bb8c-709ad2fa1809"
      },
      "id": "bnDLAzXQtEYs",
      "execution_count": 48,
      "outputs": [
        {
          "output_type": "execute_result",
          "data": {
            "text/plain": [
              "set"
            ]
          },
          "metadata": {},
          "execution_count": 48
        }
      ]
    },
    {
      "cell_type": "code",
      "source": [
        "type({}) # dictionary"
      ],
      "metadata": {
        "colab": {
          "base_uri": "https://localhost:8080/"
        },
        "id": "eXIpMBJUtBlX",
        "outputId": "bef05c52-88f7-4ebb-e432-376aec453dcd"
      },
      "id": "eXIpMBJUtBlX",
      "execution_count": 49,
      "outputs": [
        {
          "output_type": "execute_result",
          "data": {
            "text/plain": [
              "dict"
            ]
          },
          "metadata": {},
          "execution_count": 49
        }
      ]
    },
    {
      "cell_type": "code",
      "execution_count": 97,
      "id": "eab21eff",
      "metadata": {
        "id": "eab21eff"
      },
      "outputs": [],
      "source": [
        "person = {\n",
        "    \"Name\": \"Shreya\",\n",
        "    \"Age\": 12,\n",
        "    \"Gender\": 'g',   \n",
        "    \"Hobbies\": [\"Coloring\", \"Reading\", \"Baking\"],\n",
        "    \"Marks\": {\"Maths\": 90, \"Science\":80},\n",
        "    \"Age\": 13\n",
        "}"
      ]
    },
    {
      "cell_type": "code",
      "execution_count": 61,
      "id": "967afae8",
      "metadata": {
        "colab": {
          "base_uri": "https://localhost:8080/"
        },
        "id": "967afae8",
        "outputId": "7d39ddfd-0a48-487a-af62-8a2f6d010606"
      },
      "outputs": [
        {
          "output_type": "execute_result",
          "data": {
            "text/plain": [
              "{'Name': 'Shreya',\n",
              " 'Age': 13,\n",
              " 'Gender': 'g',\n",
              " 'Hobbies': ['Coloring', 'Reading', 'Baking'],\n",
              " 'Marks': {'Maths': 90, 'Science': 80}}"
            ]
          },
          "metadata": {},
          "execution_count": 61
        }
      ],
      "source": [
        "person"
      ]
    },
    {
      "cell_type": "markdown",
      "id": "92516738",
      "metadata": {
        "id": "92516738"
      },
      "source": []
    },
    {
      "cell_type": "code",
      "execution_count": 51,
      "id": "4b48be0f",
      "metadata": {
        "colab": {
          "base_uri": "https://localhost:8080/"
        },
        "id": "4b48be0f",
        "outputId": "dea0455e-d169-446c-c231-753f1af4c01b"
      },
      "outputs": [
        {
          "output_type": "execute_result",
          "data": {
            "text/plain": [
              "dict"
            ]
          },
          "metadata": {},
          "execution_count": 51
        }
      ],
      "source": [
        "type(person)"
      ]
    },
    {
      "cell_type": "code",
      "execution_count": 52,
      "id": "9e81088c",
      "metadata": {
        "id": "9e81088c"
      },
      "outputs": [],
      "source": [
        "# empty collections\n",
        "my_list = [] # equivalent to list()\n",
        "my_tuple = () # equivalent to tuple()\n",
        "my_dict = {} # equivalent to dict()\n",
        "my_set = set()  # empty list"
      ]
    },
    {
      "cell_type": "code",
      "execution_count": 53,
      "id": "db741779",
      "metadata": {
        "colab": {
          "base_uri": "https://localhost:8080/"
        },
        "id": "db741779",
        "outputId": "7c2f0600-f552-4078-be87-74b63f91b403"
      },
      "outputs": [
        {
          "output_type": "execute_result",
          "data": {
            "text/plain": [
              "7"
            ]
          },
          "metadata": {},
          "execution_count": 53
        }
      ],
      "source": [
        "len(person)"
      ]
    },
    {
      "cell_type": "markdown",
      "id": "1b5bc6e0",
      "metadata": {
        "id": "1b5bc6e0"
      },
      "source": [
        "### Accessing and changing an item"
      ]
    },
    {
      "cell_type": "code",
      "execution_count": 7,
      "id": "a65cc90a",
      "metadata": {
        "colab": {
          "base_uri": "https://localhost:8080/"
        },
        "id": "a65cc90a",
        "outputId": "7bf06f30-cf85-4455-a053-4674cd0f418b"
      },
      "outputs": [
        {
          "output_type": "execute_result",
          "data": {
            "text/plain": [
              "{'Name': 'Shreya',\n",
              " 'Age': 13,\n",
              " 'Gender': 'g',\n",
              " 'Hobbies': ['Coloring', 'Reading', 'Baking'],\n",
              " 'Marks': {'Maths': 90, 'Science': 80}}"
            ]
          },
          "metadata": {},
          "execution_count": 7
        }
      ],
      "source": [
        "person"
      ]
    },
    {
      "cell_type": "code",
      "execution_count": 54,
      "id": "12fe1243",
      "metadata": {
        "colab": {
          "base_uri": "https://localhost:8080/",
          "height": 36
        },
        "id": "12fe1243",
        "outputId": "6babcb55-7169-42e8-95b7-df57b9125e0d"
      },
      "outputs": [
        {
          "output_type": "execute_result",
          "data": {
            "text/plain": [
              "'Shawn'"
            ],
            "application/vnd.google.colaboratory.intrinsic+json": {
              "type": "string"
            }
          },
          "metadata": {},
          "execution_count": 54
        }
      ],
      "source": [
        "person[\"Name\"]  # accessed using key"
      ]
    },
    {
      "cell_type": "code",
      "execution_count": 55,
      "id": "d2b7c831",
      "metadata": {
        "colab": {
          "base_uri": "https://localhost:8080/",
          "height": 36
        },
        "id": "d2b7c831",
        "outputId": "bb863bdb-fa12-4281-894c-885c9d286940"
      },
      "outputs": [
        {
          "output_type": "execute_result",
          "data": {
            "text/plain": [
              "'Shawn'"
            ],
            "application/vnd.google.colaboratory.intrinsic+json": {
              "type": "string"
            }
          },
          "metadata": {},
          "execution_count": 55
        }
      ],
      "source": [
        "person[\"Name\"] = \"Shawn\"  # changed using key\n",
        "person[\"Name\"]"
      ]
    },
    {
      "cell_type": "code",
      "execution_count": 56,
      "id": "b22eb262",
      "metadata": {
        "colab": {
          "base_uri": "https://localhost:8080/"
        },
        "id": "b22eb262",
        "outputId": "90910c45-2f0c-49b3-fd98-43c31c00b72f"
      },
      "outputs": [
        {
          "output_type": "execute_result",
          "data": {
            "text/plain": [
              "['Coloring', 'Reading', 'Baking']"
            ]
          },
          "metadata": {},
          "execution_count": 56
        }
      ],
      "source": [
        "person[\"Hobbies\"]"
      ]
    },
    {
      "cell_type": "code",
      "execution_count": 57,
      "id": "eb2a3419",
      "metadata": {
        "colab": {
          "base_uri": "https://localhost:8080/",
          "height": 36
        },
        "id": "eb2a3419",
        "outputId": "c1b96fb2-5b58-48a1-9442-0611b9fc5707"
      },
      "outputs": [
        {
          "output_type": "execute_result",
          "data": {
            "text/plain": [
              "'Coloring'"
            ],
            "application/vnd.google.colaboratory.intrinsic+json": {
              "type": "string"
            }
          },
          "metadata": {},
          "execution_count": 57
        }
      ],
      "source": [
        "person[\"Hobbies\"][0]"
      ]
    },
    {
      "cell_type": "code",
      "execution_count": 62,
      "id": "263d893b",
      "metadata": {
        "colab": {
          "base_uri": "https://localhost:8080/"
        },
        "id": "263d893b",
        "outputId": "6a0543f5-3c99-4e50-e83f-057567fa0f9c"
      },
      "outputs": [
        {
          "output_type": "execute_result",
          "data": {
            "text/plain": [
              "{'Maths': 90, 'Science': 80}"
            ]
          },
          "metadata": {},
          "execution_count": 62
        }
      ],
      "source": [
        "person[\"Marks\"]"
      ]
    },
    {
      "cell_type": "code",
      "execution_count": 63,
      "id": "8385d10c",
      "metadata": {
        "colab": {
          "base_uri": "https://localhost:8080/"
        },
        "id": "8385d10c",
        "outputId": "48ec1e05-0626-4dd4-e23a-9011d755895c"
      },
      "outputs": [
        {
          "output_type": "execute_result",
          "data": {
            "text/plain": [
              "90"
            ]
          },
          "metadata": {},
          "execution_count": 63
        }
      ],
      "source": [
        "person[\"Marks\"]['Maths']"
      ]
    },
    {
      "cell_type": "markdown",
      "id": "00114981",
      "metadata": {
        "id": "00114981"
      },
      "source": [
        "### Dictionary Iteration"
      ]
    },
    {
      "cell_type": "markdown",
      "id": "0b18d946",
      "metadata": {
        "id": "0b18d946"
      },
      "source": [
        "Iteration using keys"
      ]
    },
    {
      "cell_type": "code",
      "execution_count": 64,
      "id": "51cc4981",
      "metadata": {
        "colab": {
          "base_uri": "https://localhost:8080/"
        },
        "id": "51cc4981",
        "outputId": "bb88e64e-c68c-4424-d76d-36bfcdd062e0"
      },
      "outputs": [
        {
          "output_type": "stream",
          "name": "stdout",
          "text": [
            "Name\n",
            "Age\n",
            "Gender\n",
            "Hobbies\n",
            "Marks\n"
          ]
        }
      ],
      "source": [
        "for element in person:\n",
        "    print(element)"
      ]
    },
    {
      "cell_type": "code",
      "execution_count": 65,
      "id": "b4fe06d0",
      "metadata": {
        "colab": {
          "base_uri": "https://localhost:8080/"
        },
        "id": "b4fe06d0",
        "outputId": "8a915082-3c44-4305-8bbf-d278e6b9a9c5"
      },
      "outputs": [
        {
          "output_type": "stream",
          "name": "stdout",
          "text": [
            "Shreya\n",
            "13\n",
            "g\n",
            "['Coloring', 'Reading', 'Baking']\n",
            "{'Maths': 90, 'Science': 80}\n"
          ]
        }
      ],
      "source": [
        "for key in person:\n",
        "    print(person[key])"
      ]
    },
    {
      "cell_type": "code",
      "execution_count": 66,
      "id": "035ce4c7",
      "metadata": {
        "colab": {
          "base_uri": "https://localhost:8080/"
        },
        "id": "035ce4c7",
        "outputId": "f7d53ce6-b72c-4a6b-a0f2-b747e383e091"
      },
      "outputs": [
        {
          "output_type": "execute_result",
          "data": {
            "text/plain": [
              "dict_keys(['Name', 'Age', 'Gender', 'Hobbies', 'Marks'])"
            ]
          },
          "metadata": {},
          "execution_count": 66
        }
      ],
      "source": [
        "person.keys()"
      ]
    },
    {
      "cell_type": "code",
      "execution_count": 67,
      "id": "0bda7a16",
      "metadata": {
        "colab": {
          "base_uri": "https://localhost:8080/"
        },
        "id": "0bda7a16",
        "outputId": "d4582555-cf2e-4992-9be5-e6637cfbdd3b"
      },
      "outputs": [
        {
          "output_type": "stream",
          "name": "stdout",
          "text": [
            "for Name the value is Shreya\n",
            "for Age the value is 13\n",
            "for Gender the value is g\n",
            "for Hobbies the value is ['Coloring', 'Reading', 'Baking']\n",
            "for Marks the value is {'Maths': 90, 'Science': 80}\n"
          ]
        }
      ],
      "source": [
        "for key in person.keys():\n",
        "    print(f\"for {key} the value is {person[key]}\")"
      ]
    },
    {
      "cell_type": "markdown",
      "id": "08b92e06",
      "metadata": {
        "id": "08b92e06"
      },
      "source": [
        "Iteration using items"
      ]
    },
    {
      "cell_type": "code",
      "execution_count": 68,
      "id": "6e7b5fcb",
      "metadata": {
        "colab": {
          "base_uri": "https://localhost:8080/"
        },
        "id": "6e7b5fcb",
        "outputId": "6a9b8b32-a920-4383-ac47-df767881b782"
      },
      "outputs": [
        {
          "output_type": "execute_result",
          "data": {
            "text/plain": [
              "dict_items([('Name', 'Shreya'), ('Age', 13), ('Gender', 'g'), ('Hobbies', ['Coloring', 'Reading', 'Baking']), ('Marks', {'Maths': 90, 'Science': 80})])"
            ]
          },
          "metadata": {},
          "execution_count": 68
        }
      ],
      "source": [
        "person.items()"
      ]
    },
    {
      "cell_type": "code",
      "execution_count": 69,
      "id": "d90daa0e",
      "metadata": {
        "colab": {
          "base_uri": "https://localhost:8080/"
        },
        "id": "d90daa0e",
        "outputId": "e852fc85-ceda-4780-e4e0-4d07d903e943"
      },
      "outputs": [
        {
          "output_type": "stream",
          "name": "stdout",
          "text": [
            "('Name', 'Shreya')\n",
            "('Age', 13)\n",
            "('Gender', 'g')\n",
            "('Hobbies', ['Coloring', 'Reading', 'Baking'])\n",
            "('Marks', {'Maths': 90, 'Science': 80})\n"
          ]
        }
      ],
      "source": [
        "for item in person.items():\n",
        "    print(item)"
      ]
    },
    {
      "cell_type": "code",
      "execution_count": 70,
      "id": "6fb8ba0f",
      "metadata": {
        "colab": {
          "base_uri": "https://localhost:8080/"
        },
        "id": "6fb8ba0f",
        "outputId": "75995866-c151-4745-8356-7cee53c83b87"
      },
      "outputs": [
        {
          "output_type": "stream",
          "name": "stdout",
          "text": [
            "Key: Name, Value:Shreya\n",
            "Key: Age, Value:13\n",
            "Key: Gender, Value:g\n",
            "Key: Hobbies, Value:['Coloring', 'Reading', 'Baking']\n",
            "Key: Marks, Value:{'Maths': 90, 'Science': 80}\n"
          ]
        }
      ],
      "source": [
        "for item in person.items():\n",
        "    print(f\"Key: {item[0]}, Value:{item[1]}\")"
      ]
    },
    {
      "cell_type": "code",
      "execution_count": 71,
      "id": "6c279cb5",
      "metadata": {
        "colab": {
          "base_uri": "https://localhost:8080/"
        },
        "id": "6c279cb5",
        "outputId": "56d6553f-b645-4882-c366-3080c633d3e5"
      },
      "outputs": [
        {
          "output_type": "stream",
          "name": "stdout",
          "text": [
            "Key: Name, Value:Shreya\n",
            "Key: Age, Value:13\n",
            "Key: Gender, Value:g\n",
            "Key: Hobbies, Value:['Coloring', 'Reading', 'Baking']\n",
            "Key: Marks, Value:{'Maths': 90, 'Science': 80}\n"
          ]
        }
      ],
      "source": [
        "for key, value in person.items():\n",
        "    print(f\"Key: {key}, Value:{value}\")"
      ]
    },
    {
      "cell_type": "markdown",
      "id": "ecb0974c",
      "metadata": {
        "id": "ecb0974c"
      },
      "source": [
        "Iterating values"
      ]
    },
    {
      "cell_type": "code",
      "execution_count": 72,
      "id": "9fbbbb5b",
      "metadata": {
        "colab": {
          "base_uri": "https://localhost:8080/"
        },
        "id": "9fbbbb5b",
        "outputId": "1d6ce35b-5890-458b-b829-2bd251c597db"
      },
      "outputs": [
        {
          "output_type": "execute_result",
          "data": {
            "text/plain": [
              "dict_values(['Shreya', 13, 'g', ['Coloring', 'Reading', 'Baking'], {'Maths': 90, 'Science': 80}])"
            ]
          },
          "metadata": {},
          "execution_count": 72
        }
      ],
      "source": [
        "person.values()"
      ]
    },
    {
      "cell_type": "code",
      "execution_count": 73,
      "id": "29d5306c",
      "metadata": {
        "colab": {
          "base_uri": "https://localhost:8080/"
        },
        "id": "29d5306c",
        "outputId": "9eaa029c-29d8-4e48-8447-653056eb9e7d"
      },
      "outputs": [
        {
          "output_type": "stream",
          "name": "stdout",
          "text": [
            "Shreya\n",
            "13\n",
            "g\n",
            "['Coloring', 'Reading', 'Baking']\n",
            "{'Maths': 90, 'Science': 80}\n"
          ]
        }
      ],
      "source": [
        "for value in person.values():\n",
        "    print(value)"
      ]
    },
    {
      "cell_type": "markdown",
      "id": "93757a44",
      "metadata": {
        "id": "93757a44"
      },
      "source": [
        "### Dictionary functions"
      ]
    },
    {
      "cell_type": "code",
      "execution_count": 74,
      "id": "326c4107",
      "metadata": {
        "colab": {
          "base_uri": "https://localhost:8080/"
        },
        "id": "326c4107",
        "outputId": "d603d21f-02f1-4758-aadd-2af53c5d525b"
      },
      "outputs": [
        {
          "output_type": "execute_result",
          "data": {
            "text/plain": [
              "{1: None, 2: None, 3: None, 4: None}"
            ]
          },
          "metadata": {},
          "execution_count": 74
        }
      ],
      "source": [
        "another_dictionary = dict.fromkeys([1, 2, 3, 4])  # creates another dictionary using the keys specified\n",
        "another_dictionary"
      ]
    },
    {
      "cell_type": "code",
      "execution_count": 75,
      "id": "0a534a6d",
      "metadata": {
        "colab": {
          "base_uri": "https://localhost:8080/"
        },
        "id": "0a534a6d",
        "outputId": "0aa1ae35-dda8-43f6-abc8-1717f94ef968"
      },
      "outputs": [
        {
          "output_type": "execute_result",
          "data": {
            "text/plain": [
              "{1: ['one'], 2: ['one'], 3: ['one'], 4: ['one']}"
            ]
          },
          "metadata": {},
          "execution_count": 75
        }
      ],
      "source": [
        "dict.fromkeys([1, 2, 3, 4], [\"one\"]) # creates another dictionary using the keys and the value specified"
      ]
    },
    {
      "cell_type": "code",
      "execution_count": 76,
      "id": "96f1e06a",
      "metadata": {
        "colab": {
          "base_uri": "https://localhost:8080/"
        },
        "id": "96f1e06a",
        "outputId": "425650c3-bf5e-44cc-ff77-a7de4e9e0305"
      },
      "outputs": [
        {
          "output_type": "execute_result",
          "data": {
            "text/plain": [
              "{1: ['one', 'two'], 2: ['one', 'two'], 3: ['one', 'two'], 4: ['one', 'two']}"
            ]
          },
          "metadata": {},
          "execution_count": 76
        }
      ],
      "source": [
        "dict.fromkeys([1, 2, 3, 4], [\"one\", \"two\"])"
      ]
    },
    {
      "cell_type": "code",
      "execution_count": 91,
      "id": "84cffc7c",
      "metadata": {
        "colab": {
          "base_uri": "https://localhost:8080/"
        },
        "id": "84cffc7c",
        "outputId": "a07389d9-017e-472f-e591-7e0472e0335e"
      },
      "outputs": [
        {
          "output_type": "execute_result",
          "data": {
            "text/plain": [
              "{1: ['one', 'two', 'three', 'four'],\n",
              " 2: ['one', 'two', 'three', 'four'],\n",
              " 3: ['one', 'two', 'three', 'four'],\n",
              " 4: ['one', 'two', 'three', 'four']}"
            ]
          },
          "metadata": {},
          "execution_count": 91
        }
      ],
      "source": [
        "dict.fromkeys([1, 2, 3, 4], [\"one\", \"two\", \"three\", \"four\"])"
      ]
    },
    {
      "cell_type": "markdown",
      "source": [
        "Remove an element from dictionary"
      ],
      "metadata": {
        "id": "gh_a3P6D-Bg3"
      },
      "id": "gh_a3P6D-Bg3"
    },
    {
      "cell_type": "code",
      "source": [
        "person"
      ],
      "metadata": {
        "colab": {
          "base_uri": "https://localhost:8080/"
        },
        "id": "GownVOwXwVKi",
        "outputId": "74676f12-4fc3-4154-ba01-bef8a9c05818"
      },
      "id": "GownVOwXwVKi",
      "execution_count": 98,
      "outputs": [
        {
          "output_type": "execute_result",
          "data": {
            "text/plain": [
              "{'Name': 'Shreya',\n",
              " 'Age': 13,\n",
              " 'Gender': 'g',\n",
              " 'Hobbies': ['Coloring', 'Reading', 'Baking'],\n",
              " 'Marks': {'Maths': 90, 'Science': 80}}"
            ]
          },
          "metadata": {},
          "execution_count": 98
        }
      ]
    },
    {
      "cell_type": "code",
      "execution_count": 99,
      "id": "1a179331",
      "metadata": {
        "colab": {
          "base_uri": "https://localhost:8080/"
        },
        "id": "1a179331",
        "outputId": "f9533d39-6f4b-4669-97fa-a776295583d3"
      },
      "outputs": [
        {
          "output_type": "execute_result",
          "data": {
            "text/plain": [
              "13"
            ]
          },
          "metadata": {},
          "execution_count": 99
        }
      ],
      "source": [
        "person.pop('Age') # removes the key mentioned"
      ]
    },
    {
      "cell_type": "code",
      "execution_count": 100,
      "id": "98909393",
      "metadata": {
        "colab": {
          "base_uri": "https://localhost:8080/"
        },
        "id": "98909393",
        "outputId": "0cb1a5eb-a793-4128-eb87-be052aff4dca"
      },
      "outputs": [
        {
          "output_type": "execute_result",
          "data": {
            "text/plain": [
              "{'Name': 'Shreya',\n",
              " 'Gender': 'g',\n",
              " 'Hobbies': ['Coloring', 'Reading', 'Baking'],\n",
              " 'Marks': {'Maths': 90, 'Science': 80}}"
            ]
          },
          "metadata": {},
          "execution_count": 100
        }
      ],
      "source": [
        "person"
      ]
    },
    {
      "cell_type": "code",
      "execution_count": 101,
      "id": "934b3dcc",
      "metadata": {
        "colab": {
          "base_uri": "https://localhost:8080/",
          "height": 36
        },
        "id": "934b3dcc",
        "outputId": "e001b1a3-586f-40ec-9edd-4adc9a164cc1"
      },
      "outputs": [
        {
          "output_type": "execute_result",
          "data": {
            "text/plain": [
              "'Shreya'"
            ],
            "application/vnd.google.colaboratory.intrinsic+json": {
              "type": "string"
            }
          },
          "metadata": {},
          "execution_count": 101
        }
      ],
      "source": [
        "person.get('Name')  # gets the value associated with keys"
      ]
    },
    {
      "cell_type": "code",
      "source": [
        "person.get('Age')  # doesnt throw error if not present"
      ],
      "metadata": {
        "id": "2QQZdSiEwhoX"
      },
      "id": "2QQZdSiEwhoX",
      "execution_count": 102,
      "outputs": []
    },
    {
      "cell_type": "code",
      "source": [
        "person['Age'] # throws error if not present"
      ],
      "metadata": {
        "colab": {
          "base_uri": "https://localhost:8080/",
          "height": 165
        },
        "id": "INCBJRuGwlmv",
        "outputId": "778c43d5-c9ec-41c8-b39d-83563a13524e"
      },
      "id": "INCBJRuGwlmv",
      "execution_count": 103,
      "outputs": [
        {
          "output_type": "error",
          "ename": "KeyError",
          "evalue": "ignored",
          "traceback": [
            "\u001b[0;31m---------------------------------------------------------------------------\u001b[0m",
            "\u001b[0;31mKeyError\u001b[0m                                  Traceback (most recent call last)",
            "\u001b[0;32m<ipython-input-103-195269e870ac>\u001b[0m in \u001b[0;36m<module>\u001b[0;34m\u001b[0m\n\u001b[0;32m----> 1\u001b[0;31m \u001b[0mperson\u001b[0m\u001b[0;34m[\u001b[0m\u001b[0;34m'Age'\u001b[0m\u001b[0;34m]\u001b[0m \u001b[0;31m# throws error if not present\u001b[0m\u001b[0;34m\u001b[0m\u001b[0;34m\u001b[0m\u001b[0m\n\u001b[0m",
            "\u001b[0;31mKeyError\u001b[0m: 'Age'"
          ]
        }
      ]
    },
    {
      "cell_type": "code",
      "execution_count": 104,
      "id": "0bc1096f",
      "metadata": {
        "colab": {
          "base_uri": "https://localhost:8080/"
        },
        "id": "0bc1096f",
        "outputId": "1764c660-74fc-49d4-dd0c-82d598cb2693"
      },
      "outputs": [
        {
          "output_type": "execute_result",
          "data": {
            "text/plain": [
              "('Marks', {'Maths': 90, 'Science': 80})"
            ]
          },
          "metadata": {},
          "execution_count": 104
        }
      ],
      "source": [
        "person.popitem()  # pops the last item"
      ]
    },
    {
      "cell_type": "code",
      "source": [
        "person"
      ],
      "metadata": {
        "colab": {
          "base_uri": "https://localhost:8080/"
        },
        "id": "OuemvUq1w1m5",
        "outputId": "a052cf6b-9adf-4bb4-f13d-f7ac890d3905"
      },
      "id": "OuemvUq1w1m5",
      "execution_count": 105,
      "outputs": [
        {
          "output_type": "execute_result",
          "data": {
            "text/plain": [
              "{'Name': 'Shreya', 'Gender': 'g', 'Hobbies': ['Coloring', 'Reading', 'Baking']}"
            ]
          },
          "metadata": {},
          "execution_count": 105
        }
      ]
    },
    {
      "cell_type": "code",
      "execution_count": 106,
      "id": "313c1613",
      "metadata": {
        "id": "313c1613"
      },
      "outputs": [],
      "source": [
        "del person['Gender'] # delets the item associated with the key "
      ]
    },
    {
      "cell_type": "code",
      "execution_count": 107,
      "id": "00755cad",
      "metadata": {
        "colab": {
          "base_uri": "https://localhost:8080/"
        },
        "id": "00755cad",
        "outputId": "bcda8259-0d0b-4f92-c28e-cd47548fea81"
      },
      "outputs": [
        {
          "output_type": "execute_result",
          "data": {
            "text/plain": [
              "{'Name': 'Shreya', 'Hobbies': ['Coloring', 'Reading', 'Baking']}"
            ]
          },
          "metadata": {},
          "execution_count": 107
        }
      ],
      "source": [
        "person"
      ]
    },
    {
      "cell_type": "code",
      "source": [
        "del person['Age'] # throws error if key not present"
      ],
      "metadata": {
        "colab": {
          "base_uri": "https://localhost:8080/",
          "height": 165
        },
        "id": "vsaA9FWBw9bt",
        "outputId": "f2e28d50-c3d8-43c7-9de8-d837f051f90f"
      },
      "id": "vsaA9FWBw9bt",
      "execution_count": 108,
      "outputs": [
        {
          "output_type": "error",
          "ename": "KeyError",
          "evalue": "ignored",
          "traceback": [
            "\u001b[0;31m---------------------------------------------------------------------------\u001b[0m",
            "\u001b[0;31mKeyError\u001b[0m                                  Traceback (most recent call last)",
            "\u001b[0;32m<ipython-input-108-25df2e969a7b>\u001b[0m in \u001b[0;36m<module>\u001b[0;34m\u001b[0m\n\u001b[0;32m----> 1\u001b[0;31m \u001b[0;32mdel\u001b[0m \u001b[0mperson\u001b[0m\u001b[0;34m[\u001b[0m\u001b[0;34m'Age'\u001b[0m\u001b[0;34m]\u001b[0m\u001b[0;34m\u001b[0m\u001b[0;34m\u001b[0m\u001b[0m\n\u001b[0m",
            "\u001b[0;31mKeyError\u001b[0m: 'Age'"
          ]
        }
      ]
    },
    {
      "cell_type": "code",
      "execution_count": 109,
      "id": "96d22d34",
      "metadata": {
        "id": "96d22d34"
      },
      "outputs": [],
      "source": [
        "person.update(another_dictionary) # updates with items in another dictionary"
      ]
    },
    {
      "cell_type": "code",
      "execution_count": 110,
      "id": "4445651f",
      "metadata": {
        "colab": {
          "base_uri": "https://localhost:8080/"
        },
        "id": "4445651f",
        "outputId": "8f32bcb8-9c37-4b0d-8dca-824933dc7cd0"
      },
      "outputs": [
        {
          "output_type": "execute_result",
          "data": {
            "text/plain": [
              "{'Name': 'Shreya',\n",
              " 'Hobbies': ['Coloring', 'Reading', 'Baking'],\n",
              " 1: None,\n",
              " 2: None,\n",
              " 3: None,\n",
              " 4: None}"
            ]
          },
          "metadata": {},
          "execution_count": 110
        }
      ],
      "source": [
        "person"
      ]
    },
    {
      "cell_type": "code",
      "execution_count": 112,
      "id": "bb32755d",
      "metadata": {
        "colab": {
          "base_uri": "https://localhost:8080/",
          "height": 36
        },
        "id": "bb32755d",
        "outputId": "2ec6252e-bbf1-4409-df2d-a3e257826481"
      },
      "outputs": [
        {
          "output_type": "execute_result",
          "data": {
            "text/plain": [
              "\"I don't know\""
            ],
            "application/vnd.google.colaboratory.intrinsic+json": {
              "type": "string"
            }
          },
          "metadata": {},
          "execution_count": 112
        }
      ],
      "source": [
        "person.setdefault(\"Address\", \"I don't know\")  # adds the key with the value specified if its not present"
      ]
    },
    {
      "cell_type": "code",
      "execution_count": 113,
      "id": "99ff5355",
      "metadata": {
        "colab": {
          "base_uri": "https://localhost:8080/"
        },
        "id": "99ff5355",
        "outputId": "76d5d386-a122-4531-970f-bdf542378889"
      },
      "outputs": [
        {
          "output_type": "execute_result",
          "data": {
            "text/plain": [
              "{'Name': 'Shreya',\n",
              " 'Hobbies': ['Coloring', 'Reading', 'Baking'],\n",
              " 1: None,\n",
              " 2: None,\n",
              " 3: None,\n",
              " 4: None,\n",
              " 'Address': \"I don't know\"}"
            ]
          },
          "metadata": {},
          "execution_count": 113
        }
      ],
      "source": [
        "person"
      ]
    },
    {
      "cell_type": "code",
      "execution_count": 115,
      "id": "f430fd60",
      "metadata": {
        "colab": {
          "base_uri": "https://localhost:8080/",
          "height": 36
        },
        "id": "f430fd60",
        "outputId": "aee10b15-3946-419c-e473-99170bf4bf43"
      },
      "outputs": [
        {
          "output_type": "execute_result",
          "data": {
            "text/plain": [
              "'Shreya'"
            ],
            "application/vnd.google.colaboratory.intrinsic+json": {
              "type": "string"
            }
          },
          "metadata": {},
          "execution_count": 115
        }
      ],
      "source": [
        "person.setdefault(\"Name\", \"I don't know\") # if key already present doesnt do anything, just returns existing value"
      ]
    },
    {
      "cell_type": "code",
      "execution_count": 116,
      "id": "7fc78312",
      "metadata": {
        "colab": {
          "base_uri": "https://localhost:8080/"
        },
        "id": "7fc78312",
        "outputId": "77de7421-f069-4f06-d101-f02fe0cf4887"
      },
      "outputs": [
        {
          "output_type": "execute_result",
          "data": {
            "text/plain": [
              "{'Name': 'Shreya',\n",
              " 'Hobbies': ['Coloring', 'Reading', 'Baking'],\n",
              " 1: None,\n",
              " 2: None,\n",
              " 3: None,\n",
              " 4: None,\n",
              " 'Address': \"I don't know\"}"
            ]
          },
          "metadata": {},
          "execution_count": 116
        }
      ],
      "source": [
        "person"
      ]
    },
    {
      "cell_type": "code",
      "execution_count": null,
      "id": "f71d1c0f",
      "metadata": {
        "id": "f71d1c0f"
      },
      "outputs": [],
      "source": []
    }
  ],
  "metadata": {
    "kernelspec": {
      "display_name": "Python 3",
      "language": "python",
      "name": "python3"
    },
    "language_info": {
      "codemirror_mode": {
        "name": "ipython",
        "version": 3
      },
      "file_extension": ".py",
      "mimetype": "text/x-python",
      "name": "python",
      "nbconvert_exporter": "python",
      "pygments_lexer": "ipython3",
      "version": "3.8.8"
    },
    "colab": {
      "provenance": []
    }
  },
  "nbformat": 4,
  "nbformat_minor": 5
}