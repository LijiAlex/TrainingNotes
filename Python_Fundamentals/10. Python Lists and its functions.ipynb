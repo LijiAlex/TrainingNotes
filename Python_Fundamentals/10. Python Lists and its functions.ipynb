{
 "cells": [
  {
   "cell_type": "markdown",
   "id": "8a93e5b7",
   "metadata": {},
   "source": [
    "# Lists in Python\n",
    "\n",
    "* Lists are used to store multiple items in a single variable.\n",
    "* A list is created by placing elements inside square brackets [] , separated by commas. \n",
    "* A list can have any number of items and they may be of different types (integer, float, string, etc.).\n",
    "* A list can even have another list, tuple or dictionary as an item"
   ]
  },
  {
   "cell_type": "code",
   "execution_count": 9,
   "id": "7134b14a",
   "metadata": {},
   "outputs": [
    {
     "data": {
      "text/plain": [
       "['Sunday', 'Monday', 'Tuesday', 'Wednesday']"
      ]
     },
     "execution_count": 9,
     "metadata": {},
     "output_type": "execute_result"
    }
   ],
   "source": [
    "days = [\"Sunday\", \"Monday\", \"Tuesday\", \"Wednesday\"]\n",
    "days"
   ]
  },
  {
   "cell_type": "code",
   "execution_count": 10,
   "id": "7b59cae6",
   "metadata": {},
   "outputs": [
    {
     "data": {
      "text/plain": [
       "list"
      ]
     },
     "execution_count": 10,
     "metadata": {},
     "output_type": "execute_result"
    }
   ],
   "source": [
    "type(days)"
   ]
  },
  {
   "cell_type": "markdown",
   "id": "58d5e113",
   "metadata": {},
   "source": [
    "### Features of a list"
   ]
  },
  {
   "cell_type": "markdown",
   "id": "d49f7c2b",
   "metadata": {},
   "source": [
    "1. ordered/indexed\n",
    "* Items are arranged in an order as per creation.\n",
    "* Order will not change even on re-creation.\n",
    "* New items will be placed at the end of the list.\n",
    "* Items are indexed.\n",
    "2. mutable\n",
    "* Once a list is created we can change it.\n",
    "3. allow duplicates"
   ]
  },
  {
   "attachments": {
    "Figures%20%282%29.jpg": {
     "image/jpeg": "[encoded data removed]"
    }
   },
   "cell_type": "markdown",
   "id": "2bd79162",
   "metadata": {},
   "source": [
    "### Indexing in lists\n",
    "\n",
    "![Figures%20%282%29.jpg](attachment:Figures%20%282%29.jpg)"
   ]
  },
  {
   "cell_type": "code",
   "execution_count": 11,
   "id": "9f9b3b6f",
   "metadata": {},
   "outputs": [
    {
     "data": {
      "text/plain": [
       "'Sunday'"
      ]
     },
     "execution_count": 11,
     "metadata": {},
     "output_type": "execute_result"
    }
   ],
   "source": [
    "days[0]"
   ]
  },
  {
   "cell_type": "code",
   "execution_count": 12,
   "id": "3dc4a16c",
   "metadata": {},
   "outputs": [
    {
     "data": {
      "text/plain": [
       "'Monday'"
      ]
     },
     "execution_count": 12,
     "metadata": {},
     "output_type": "execute_result"
    }
   ],
   "source": [
    "days[-3]"
   ]
  },
  {
   "cell_type": "code",
   "execution_count": 13,
   "id": "06bdde52",
   "metadata": {},
   "outputs": [
    {
     "data": {
      "text/plain": [
       "'Wednesday'"
      ]
     },
     "execution_count": 13,
     "metadata": {},
     "output_type": "execute_result"
    }
   ],
   "source": [
    "days[3]"
   ]
  },
  {
   "cell_type": "code",
   "execution_count": 14,
   "id": "5a51e412",
   "metadata": {},
   "outputs": [
    {
     "data": {
      "text/plain": [
       "'Wednesday'"
      ]
     },
     "execution_count": 14,
     "metadata": {},
     "output_type": "execute_result"
    }
   ],
   "source": [
    "days[-1]"
   ]
  },
  {
   "cell_type": "markdown",
   "id": "6d9f145e",
   "metadata": {},
   "source": [
    "### List operators"
   ]
  },
  {
   "cell_type": "code",
   "execution_count": 15,
   "id": "7973a886",
   "metadata": {},
   "outputs": [
    {
     "data": {
      "text/plain": [
       "3"
      ]
     },
     "execution_count": 15,
     "metadata": {},
     "output_type": "execute_result"
    }
   ],
   "source": [
    "[3, 4, 5][0] # indexing operator []"
   ]
  },
  {
   "cell_type": "code",
   "execution_count": 16,
   "id": "095cd166",
   "metadata": {},
   "outputs": [
    {
     "data": {
      "text/plain": [
       "[1, 2, 3, 2, 3, 4]"
      ]
     },
     "execution_count": 16,
     "metadata": {},
     "output_type": "execute_result"
    }
   ],
   "source": [
    "[1, 2, 3] + [2, 3, 4]  # concatenation operator +"
   ]
  },
  {
   "cell_type": "code",
   "execution_count": 17,
   "id": "e17f3335",
   "metadata": {},
   "outputs": [
    {
     "data": {
      "text/plain": [
       "['a', 'b', 'c', 'a', 'b', 'c', 'a', 'b', 'c', 'a', 'b', 'c']"
      ]
     },
     "execution_count": 17,
     "metadata": {},
     "output_type": "execute_result"
    }
   ],
   "source": [
    "['a', 'b', 'c'] * 4 # repetition operator *"
   ]
  },
  {
   "cell_type": "markdown",
   "id": "f2788f67",
   "metadata": {},
   "source": [
    "### List functions"
   ]
  },
  {
   "cell_type": "markdown",
   "id": "9751eb92",
   "metadata": {},
   "source": [
    "https://python-reference.readthedocs.io/en/latest/docs/list/"
   ]
  },
  {
   "cell_type": "code",
   "execution_count": 18,
   "id": "eb746575",
   "metadata": {},
   "outputs": [
    {
     "data": {
      "text/plain": [
       "4"
      ]
     },
     "execution_count": 18,
     "metadata": {},
     "output_type": "execute_result"
    }
   ],
   "source": [
    "len(days)"
   ]
  },
  {
   "cell_type": "code",
   "execution_count": 21,
   "id": "c1d37105",
   "metadata": {},
   "outputs": [
    {
     "data": {
      "text/plain": [
       "['Sunday',\n",
       " 'Monday',\n",
       " 'Tuesday',\n",
       " 'Wednesday',\n",
       " 'Thursday',\n",
       " 'Thursday',\n",
       " 'Thursday']"
      ]
     },
     "execution_count": 21,
     "metadata": {},
     "output_type": "execute_result"
    }
   ],
   "source": [
    "days.append(\"Thursday\")\n",
    "days"
   ]
  },
  {
   "cell_type": "code",
   "execution_count": 24,
   "id": "242ba860",
   "metadata": {},
   "outputs": [
    {
     "data": {
      "text/plain": [
       "['Sunday',\n",
       " 'Monday',\n",
       " 'Tuesday',\n",
       " 'Wednesday',\n",
       " 'Thursday',\n",
       " 'Thursday',\n",
       " 'Thursday',\n",
       " 'Friday',\n",
       " 'F',\n",
       " 'r',\n",
       " 'i',\n",
       " 'd',\n",
       " 'a',\n",
       " 'y',\n",
       " 'Friday',\n",
       " 4]"
      ]
     },
     "execution_count": 24,
     "metadata": {},
     "output_type": "execute_result"
    }
   ],
   "source": [
    "days.extend([\"Friday\", 4])\n",
    "days"
   ]
  },
  {
   "cell_type": "code",
   "execution_count": 26,
   "id": "4f7c1262",
   "metadata": {},
   "outputs": [
    {
     "data": {
      "text/plain": [
       "['saturday',\n",
       " 'saturday',\n",
       " 'Sunday',\n",
       " 'Monday',\n",
       " 'Tuesday',\n",
       " 'Wednesday',\n",
       " 'Thursday',\n",
       " 'Thursday',\n",
       " 'Thursday',\n",
       " 'Friday',\n",
       " 'F',\n",
       " 'r',\n",
       " 'i',\n",
       " 'd',\n",
       " 'a',\n",
       " 'y',\n",
       " 'Friday',\n",
       " 4]"
      ]
     },
     "execution_count": 26,
     "metadata": {},
     "output_type": "execute_result"
    }
   ],
   "source": [
    "days.insert(0, \"saturday\")\n",
    "days"
   ]
  },
  {
   "cell_type": "code",
   "execution_count": 27,
   "id": "c017354b",
   "metadata": {},
   "outputs": [
    {
     "data": {
      "text/plain": [
       "2"
      ]
     },
     "execution_count": 27,
     "metadata": {},
     "output_type": "execute_result"
    }
   ],
   "source": [
    "days.index(\"Sunday\")"
   ]
  },
  {
   "cell_type": "code",
   "execution_count": 28,
   "id": "ad4a6adc",
   "metadata": {},
   "outputs": [
    {
     "data": {
      "text/plain": [
       "['saturday',\n",
       " 'saturday',\n",
       " 'Sunday',\n",
       " 'Monday',\n",
       " 'Tuesday',\n",
       " 'Wednesday',\n",
       " 'Thursday',\n",
       " 'Thursday',\n",
       " 'Thursday',\n",
       " 'Friday',\n",
       " 'F',\n",
       " 'r',\n",
       " 'i',\n",
       " 'd',\n",
       " 'a',\n",
       " 'y',\n",
       " 'Friday',\n",
       " 4]"
      ]
     },
     "execution_count": 28,
     "metadata": {},
     "output_type": "execute_result"
    }
   ],
   "source": [
    "days"
   ]
  },
  {
   "cell_type": "code",
   "execution_count": 29,
   "id": "5d6d6a9d",
   "metadata": {},
   "outputs": [
    {
     "data": {
      "text/plain": [
       "4"
      ]
     },
     "execution_count": 29,
     "metadata": {},
     "output_type": "execute_result"
    }
   ],
   "source": [
    "days.pop()"
   ]
  },
  {
   "cell_type": "code",
   "execution_count": 30,
   "id": "b640e442",
   "metadata": {},
   "outputs": [
    {
     "data": {
      "text/plain": [
       "['saturday',\n",
       " 'saturday',\n",
       " 'Sunday',\n",
       " 'Monday',\n",
       " 'Tuesday',\n",
       " 'Wednesday',\n",
       " 'Thursday',\n",
       " 'Thursday',\n",
       " 'Thursday',\n",
       " 'Friday',\n",
       " 'F',\n",
       " 'r',\n",
       " 'i',\n",
       " 'd',\n",
       " 'a',\n",
       " 'y',\n",
       " 'Friday']"
      ]
     },
     "execution_count": 30,
     "metadata": {},
     "output_type": "execute_result"
    }
   ],
   "source": [
    "days"
   ]
  },
  {
   "cell_type": "code",
   "execution_count": 32,
   "id": "ab7a7167",
   "metadata": {},
   "outputs": [],
   "source": [
    "days.remove(\"Sunday\")"
   ]
  },
  {
   "cell_type": "code",
   "execution_count": 33,
   "id": "e935eeee",
   "metadata": {},
   "outputs": [
    {
     "data": {
      "text/plain": [
       "['saturday',\n",
       " 'saturday',\n",
       " 'Monday',\n",
       " 'Tuesday',\n",
       " 'Wednesday',\n",
       " 'Thursday',\n",
       " 'Thursday',\n",
       " 'Thursday',\n",
       " 'Friday',\n",
       " 'F',\n",
       " 'r',\n",
       " 'i',\n",
       " 'd',\n",
       " 'a',\n",
       " 'y',\n",
       " 'Friday']"
      ]
     },
     "execution_count": 33,
     "metadata": {},
     "output_type": "execute_result"
    }
   ],
   "source": [
    "days"
   ]
  },
  {
   "cell_type": "code",
   "execution_count": 34,
   "id": "f7893852",
   "metadata": {},
   "outputs": [
    {
     "data": {
      "text/plain": [
       "0"
      ]
     },
     "execution_count": 34,
     "metadata": {},
     "output_type": "execute_result"
    }
   ],
   "source": [
    "days.count(\"Sunday\")"
   ]
  },
  {
   "cell_type": "code",
   "execution_count": 35,
   "id": "666c7fde",
   "metadata": {},
   "outputs": [],
   "source": [
    "days.reverse()"
   ]
  },
  {
   "cell_type": "code",
   "execution_count": 36,
   "id": "a0d597de",
   "metadata": {},
   "outputs": [
    {
     "data": {
      "text/plain": [
       "['Friday',\n",
       " 'y',\n",
       " 'a',\n",
       " 'd',\n",
       " 'i',\n",
       " 'r',\n",
       " 'F',\n",
       " 'Friday',\n",
       " 'Thursday',\n",
       " 'Thursday',\n",
       " 'Thursday',\n",
       " 'Wednesday',\n",
       " 'Tuesday',\n",
       " 'Monday',\n",
       " 'saturday',\n",
       " 'saturday']"
      ]
     },
     "execution_count": 36,
     "metadata": {},
     "output_type": "execute_result"
    }
   ],
   "source": [
    "days"
   ]
  },
  {
   "cell_type": "code",
   "execution_count": 37,
   "id": "b38a5526",
   "metadata": {},
   "outputs": [],
   "source": [
    "days.sort()"
   ]
  },
  {
   "cell_type": "code",
   "execution_count": 38,
   "id": "e70f60ee",
   "metadata": {},
   "outputs": [
    {
     "data": {
      "text/plain": [
       "['F',\n",
       " 'Friday',\n",
       " 'Friday',\n",
       " 'Monday',\n",
       " 'Thursday',\n",
       " 'Thursday',\n",
       " 'Thursday',\n",
       " 'Tuesday',\n",
       " 'Wednesday',\n",
       " 'a',\n",
       " 'd',\n",
       " 'i',\n",
       " 'r',\n",
       " 'saturday',\n",
       " 'saturday',\n",
       " 'y']"
      ]
     },
     "execution_count": 38,
     "metadata": {},
     "output_type": "execute_result"
    }
   ],
   "source": [
    "days"
   ]
  },
  {
   "cell_type": "code",
   "execution_count": 40,
   "id": "b8c51421",
   "metadata": {},
   "outputs": [],
   "source": [
    "days1 = days.copy()"
   ]
  },
  {
   "cell_type": "code",
   "execution_count": 41,
   "id": "8ba3ecbb",
   "metadata": {},
   "outputs": [
    {
     "data": {
      "text/plain": [
       "['F',\n",
       " 'Friday',\n",
       " 'Friday',\n",
       " 'Monday',\n",
       " 'Thursday',\n",
       " 'Thursday',\n",
       " 'Thursday',\n",
       " 'Tuesday',\n",
       " 'Wednesday',\n",
       " 'a',\n",
       " 'd',\n",
       " 'i',\n",
       " 'r',\n",
       " 'saturday',\n",
       " 'saturday',\n",
       " 'y']"
      ]
     },
     "execution_count": 41,
     "metadata": {},
     "output_type": "execute_result"
    }
   ],
   "source": [
    "days1"
   ]
  },
  {
   "cell_type": "code",
   "execution_count": 43,
   "id": "50292e38",
   "metadata": {},
   "outputs": [],
   "source": [
    "del days[0]"
   ]
  },
  {
   "cell_type": "code",
   "execution_count": 44,
   "id": "059da55f",
   "metadata": {},
   "outputs": [
    {
     "data": {
      "text/plain": [
       "['Friday',\n",
       " 'Friday',\n",
       " 'Monday',\n",
       " 'Thursday',\n",
       " 'Thursday',\n",
       " 'Thursday',\n",
       " 'Tuesday',\n",
       " 'Wednesday',\n",
       " 'a',\n",
       " 'd',\n",
       " 'i',\n",
       " 'r',\n",
       " 'saturday',\n",
       " 'saturday',\n",
       " 'y']"
      ]
     },
     "execution_count": 44,
     "metadata": {},
     "output_type": "execute_result"
    }
   ],
   "source": [
    "days"
   ]
  },
  {
   "cell_type": "code",
   "execution_count": 45,
   "id": "6655d7b0",
   "metadata": {},
   "outputs": [
    {
     "data": {
      "text/plain": [
       "'Friday,Friday,Monday,Thursday,Thursday,Thursday,Tuesday,Wednesday,a,d,i,r,saturday,saturday,y'"
      ]
     },
     "execution_count": 45,
     "metadata": {},
     "output_type": "execute_result"
    }
   ],
   "source": [
    "\",\".join(days)"
   ]
  },
  {
   "cell_type": "code",
   "execution_count": 46,
   "id": "b1524b65",
   "metadata": {},
   "outputs": [],
   "source": [
    "days1.clear()"
   ]
  },
  {
   "cell_type": "code",
   "execution_count": 47,
   "id": "a7bf8c5f",
   "metadata": {},
   "outputs": [
    {
     "data": {
      "text/plain": [
       "[]"
      ]
     },
     "execution_count": 47,
     "metadata": {},
     "output_type": "execute_result"
    }
   ],
   "source": [
    "days1"
   ]
  },
  {
   "cell_type": "markdown",
   "id": "6b886741",
   "metadata": {},
   "source": [
    "### List iteration"
   ]
  },
  {
   "cell_type": "code",
   "execution_count": 48,
   "id": "5e948a53",
   "metadata": {},
   "outputs": [
    {
     "name": "stdout",
     "output_type": "stream",
     "text": [
      "Sunday\n",
      "Monday\n",
      "Tuesday\n",
      "Wednesday\n"
     ]
    }
   ],
   "source": [
    "days = [\"Sunday\", \"Monday\", \"Tuesday\", \"Wednesday\"]\n",
    "for item in days:\n",
    "    print(item)"
   ]
  },
  {
   "cell_type": "code",
   "execution_count": 50,
   "id": "13b455e1",
   "metadata": {},
   "outputs": [
    {
     "name": "stdout",
     "output_type": "stream",
     "text": [
      "Sunday\n",
      "Monday\n",
      "Tuesday\n",
      "Wednesday\n"
     ]
    }
   ],
   "source": [
    "index = 0\n",
    "while index<len(days):\n",
    "    print(days[index])\n",
    "    index = index +1"
   ]
  },
  {
   "cell_type": "markdown",
   "id": "38b69b72",
   "metadata": {},
   "source": [
    "### Nested list"
   ]
  },
  {
   "cell_type": "code",
   "execution_count": 54,
   "id": "2b11b8d1",
   "metadata": {},
   "outputs": [],
   "source": [
    "my_list = [1, 2, 3, 4, 5, [11, 12, 13], 6]"
   ]
  },
  {
   "cell_type": "code",
   "execution_count": 55,
   "id": "3ebe9f48",
   "metadata": {},
   "outputs": [
    {
     "name": "stdout",
     "output_type": "stream",
     "text": [
      "1\n",
      "2\n",
      "3\n",
      "4\n",
      "5\n",
      "[11, 12, 13]\n",
      "6\n"
     ]
    }
   ],
   "source": [
    "for item in my_list:\n",
    "    print(item)"
   ]
  },
  {
   "cell_type": "code",
   "execution_count": 57,
   "id": "cb9db592",
   "metadata": {},
   "outputs": [
    {
     "data": {
      "text/plain": [
       "11"
      ]
     },
     "execution_count": 57,
     "metadata": {},
     "output_type": "execute_result"
    }
   ],
   "source": [
    "my_list[5][0]"
   ]
  },
  {
   "cell_type": "code",
   "execution_count": 58,
   "id": "cbf33eb0",
   "metadata": {},
   "outputs": [
    {
     "data": {
      "text/plain": [
       "12"
      ]
     },
     "execution_count": 58,
     "metadata": {},
     "output_type": "execute_result"
    }
   ],
   "source": [
    "my_list[5][1]"
   ]
  },
  {
   "cell_type": "code",
   "execution_count": null,
   "id": "6a3fa74b",
   "metadata": {},
   "outputs": [],
   "source": []
  },
  {
   "cell_type": "code",
   "execution_count": null,
   "id": "afae2b60",
   "metadata": {},
   "outputs": [],
   "source": []
  },
  {
   "cell_type": "code",
   "execution_count": null,
   "id": "958c0bd0",
   "metadata": {},
   "outputs": [],
   "source": []
  },
  {
   "cell_type": "code",
   "execution_count": null,
   "id": "5dac3f29",
   "metadata": {},
   "outputs": [],
   "source": []
  },
  {
   "cell_type": "code",
   "execution_count": null,
   "id": "548300dd",
   "metadata": {},
   "outputs": [],
   "source": []
  },
  {
   "cell_type": "code",
   "execution_count": null,
   "id": "1c1f36dc",
   "metadata": {},
   "outputs": [],
   "source": []
  },
  {
   "cell_type": "code",
   "execution_count": null,
   "id": "05a5865d",
   "metadata": {},
   "outputs": [],
   "source": []
  },
  {
   "cell_type": "code",
   "execution_count": null,
   "id": "384b6d7d",
   "metadata": {},
   "outputs": [],
   "source": []
  },
  {
   "cell_type": "code",
   "execution_count": null,
   "id": "15023bd6",
   "metadata": {},
   "outputs": [],
   "source": []
  }
 ],
 "metadata": {
  "kernelspec": {
   "display_name": "Python 3",
   "language": "python",
   "name": "python3"
  },
  "language_info": {
   "codemirror_mode": {
    "name": "ipython",
    "version": 3
   },
   "file_extension": ".py",
   "mimetype": "text/x-python",
   "name": "python",
   "nbconvert_exporter": "python",
   "pygments_lexer": "ipython3",
   "version": "3.8.8"
  }
 },
 "nbformat": 4,
 "nbformat_minor": 5
}
