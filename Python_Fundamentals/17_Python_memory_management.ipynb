{
  "cells": [
    {
      "cell_type": "markdown",
      "id": "f3b11a44",
      "metadata": {
        "id": "f3b11a44"
      },
      "source": [
        "### Memory management\n",
        "\n",
        "Note: Discussed with reference to cpython"
      ]
    },
    {
      "cell_type": "markdown",
      "id": "172879e6",
      "metadata": {
        "id": "172879e6"
      },
      "source": [
        "* Everything in Python is an object."
      ]
    },
    {
      "cell_type": "code",
      "execution_count": null,
      "id": "85a805ef",
      "metadata": {
        "id": "85a805ef"
      },
      "outputs": [],
      "source": [
        "x = 200"
      ]
    },
    {
      "cell_type": "markdown",
      "id": "684029ae",
      "metadata": {
        "id": "684029ae"
      },
      "source": [
        "This assignment creates an integer object with the value 200 and assigns the variable x to point to that object."
      ]
    },
    {
      "cell_type": "code",
      "execution_count": null,
      "id": "50c43a18",
      "metadata": {
        "id": "50c43a18",
        "outputId": "9887b1d3-31b0-476e-fb1e-ce69b731aa25",
        "colab": {
          "base_uri": "https://localhost:8080/"
        }
      },
      "outputs": [
        {
          "output_type": "execute_result",
          "data": {
            "text/plain": [
              "9799456"
            ]
          },
          "metadata": {},
          "execution_count": 3
        }
      ],
      "source": [
        "id(x) "
      ]
    },
    {
      "cell_type": "code",
      "execution_count": null,
      "id": "1faf4c6a",
      "metadata": {
        "id": "1faf4c6a"
      },
      "outputs": [],
      "source": [
        "y = 250"
      ]
    },
    {
      "cell_type": "code",
      "execution_count": null,
      "id": "ef811355",
      "metadata": {
        "id": "ef811355",
        "outputId": "67784ea6-16f8-41a4-e33f-c89cb26b0fbf",
        "colab": {
          "base_uri": "https://localhost:8080/"
        }
      },
      "outputs": [
        {
          "output_type": "execute_result",
          "data": {
            "text/plain": [
              "9801056"
            ]
          },
          "metadata": {},
          "execution_count": 5
        }
      ],
      "source": [
        "id(y)"
      ]
    },
    {
      "cell_type": "code",
      "execution_count": null,
      "id": "3b6549d6",
      "metadata": {
        "id": "3b6549d6",
        "outputId": "5ef63bb7-9197-4651-e6b6-59ba4037cb14",
        "colab": {
          "base_uri": "https://localhost:8080/"
        }
      },
      "outputs": [
        {
          "output_type": "execute_result",
          "data": {
            "text/plain": [
              "9799456"
            ]
          },
          "metadata": {},
          "execution_count": 6
        }
      ],
      "source": [
        "id(x)"
      ]
    },
    {
      "cell_type": "code",
      "execution_count": null,
      "id": "256dea53",
      "metadata": {
        "id": "256dea53",
        "outputId": "fccc5c22-3755-4afe-ef91-380e294554be",
        "colab": {
          "base_uri": "https://localhost:8080/"
        }
      },
      "outputs": [
        {
          "output_type": "execute_result",
          "data": {
            "text/plain": [
              "9799456"
            ]
          },
          "metadata": {},
          "execution_count": 7
        }
      ],
      "source": [
        "z = x\n",
        "id(z)"
      ]
    },
    {
      "cell_type": "code",
      "execution_count": null,
      "id": "72920acf",
      "metadata": {
        "id": "72920acf",
        "outputId": "ab23f710-6d0b-4a79-9986-40e54a13bdd6",
        "colab": {
          "base_uri": "https://localhost:8080/"
        }
      },
      "outputs": [
        {
          "output_type": "execute_result",
          "data": {
            "text/plain": [
              "True"
            ]
          },
          "metadata": {},
          "execution_count": 8
        }
      ],
      "source": [
        "x is z"
      ]
    },
    {
      "cell_type": "code",
      "execution_count": null,
      "id": "9413c316",
      "metadata": {
        "id": "9413c316",
        "outputId": "8c5cee5f-a2ce-4b82-f9f8-a5499e2fe41c",
        "colab": {
          "base_uri": "https://localhost:8080/"
        }
      },
      "outputs": [
        {
          "output_type": "execute_result",
          "data": {
            "text/plain": [
              "False"
            ]
          },
          "metadata": {},
          "execution_count": 9
        }
      ],
      "source": [
        "x is y"
      ]
    },
    {
      "cell_type": "code",
      "execution_count": null,
      "id": "7f518e13",
      "metadata": {
        "id": "7f518e13",
        "outputId": "344c7d0b-c0d5-42ed-c644-3409f2f4b0c1",
        "colab": {
          "base_uri": "https://localhost:8080/"
        }
      },
      "outputs": [
        {
          "output_type": "execute_result",
          "data": {
            "text/plain": [
              "139926894305488"
            ]
          },
          "metadata": {},
          "execution_count": 10
        }
      ],
      "source": [
        "m = 300\n",
        "id(m)"
      ]
    },
    {
      "cell_type": "code",
      "execution_count": null,
      "id": "a2326190",
      "metadata": {
        "id": "a2326190",
        "outputId": "0a9d02af-8068-47b7-d624-222945d7fba8",
        "colab": {
          "base_uri": "https://localhost:8080/"
        }
      },
      "outputs": [
        {
          "output_type": "execute_result",
          "data": {
            "text/plain": [
              "139926894305552"
            ]
          },
          "metadata": {},
          "execution_count": 11
        }
      ],
      "source": [
        "n = 300\n",
        "id(n)"
      ]
    },
    {
      "cell_type": "code",
      "source": [
        "p = m\n",
        "id(p)"
      ],
      "metadata": {
        "colab": {
          "base_uri": "https://localhost:8080/"
        },
        "id": "Gm1srCcLyQYw",
        "outputId": "61c101c7-6019-4207-a304-04ab847dd2df"
      },
      "id": "Gm1srCcLyQYw",
      "execution_count": null,
      "outputs": [
        {
          "output_type": "execute_result",
          "data": {
            "text/plain": [
              "139926894305488"
            ]
          },
          "metadata": {},
          "execution_count": 12
        }
      ]
    },
    {
      "cell_type": "code",
      "execution_count": null,
      "id": "6f3a3145",
      "metadata": {
        "id": "6f3a3145",
        "outputId": "acde6f13-ccf2-4747-d41e-5e1d6b582e74",
        "colab": {
          "base_uri": "https://localhost:8080/"
        }
      },
      "outputs": [
        {
          "output_type": "execute_result",
          "data": {
            "text/plain": [
              "False"
            ]
          },
          "metadata": {},
          "execution_count": 13
        }
      ],
      "source": [
        "m is n"
      ]
    },
    {
      "cell_type": "code",
      "source": [
        "m is p"
      ],
      "metadata": {
        "colab": {
          "base_uri": "https://localhost:8080/"
        },
        "id": "2fQ8CW-eyc1n",
        "outputId": "9a0d2b57-4335-48c6-b189-b4411bed338b"
      },
      "id": "2fQ8CW-eyc1n",
      "execution_count": null,
      "outputs": [
        {
          "output_type": "execute_result",
          "data": {
            "text/plain": [
              "True"
            ]
          },
          "metadata": {},
          "execution_count": 14
        }
      ]
    },
    {
      "cell_type": "code",
      "execution_count": null,
      "id": "dc273f33",
      "metadata": {
        "id": "dc273f33",
        "outputId": "58326bba-80f4-4778-9ea6-850e3e9952fa",
        "colab": {
          "base_uri": "https://localhost:8080/"
        }
      },
      "outputs": [
        {
          "output_type": "execute_result",
          "data": {
            "text/plain": [
              "True"
            ]
          },
          "metadata": {},
          "execution_count": 15
        }
      ],
      "source": [
        "m == n"
      ]
    },
    {
      "cell_type": "markdown",
      "id": "23141732",
      "metadata": {
        "id": "23141732"
      },
      "source": [
        "### Memory optimization"
      ]
    },
    {
      "cell_type": "code",
      "execution_count": null,
      "id": "d072a30d",
      "metadata": {
        "id": "d072a30d",
        "outputId": "0129b179-a040-4683-b8c4-58b7e9668947",
        "colab": {
          "base_uri": "https://localhost:8080/"
        }
      },
      "outputs": [
        {
          "output_type": "execute_result",
          "data": {
            "text/plain": [
              "9793696"
            ]
          },
          "metadata": {},
          "execution_count": 16
        }
      ],
      "source": [
        "m = 20\n",
        "id(m)"
      ]
    },
    {
      "cell_type": "code",
      "execution_count": null,
      "id": "f75ba8e3",
      "metadata": {
        "id": "f75ba8e3",
        "outputId": "404be0f3-9c8f-4360-91f2-db41853118cc",
        "colab": {
          "base_uri": "https://localhost:8080/"
        }
      },
      "outputs": [
        {
          "output_type": "execute_result",
          "data": {
            "text/plain": [
              "9793696"
            ]
          },
          "metadata": {},
          "execution_count": 17
        }
      ],
      "source": [
        "n = 20\n",
        "id(n)"
      ]
    },
    {
      "cell_type": "markdown",
      "id": "83803b30",
      "metadata": {
        "id": "83803b30"
      },
      "source": [
        "* As part of optimization Python creates integers from -5 to 256 and uses it in code through user defined references"
      ]
    },
    {
      "cell_type": "code",
      "execution_count": null,
      "id": "8809fc92",
      "metadata": {
        "id": "8809fc92",
        "outputId": "ec6dd6b6-b152-4ee1-ee17-4be495d619e4",
        "colab": {
          "base_uri": "https://localhost:8080/"
        }
      },
      "outputs": [
        {
          "output_type": "execute_result",
          "data": {
            "text/plain": [
              "139927217515888"
            ]
          },
          "metadata": {},
          "execution_count": 18
        }
      ],
      "source": [
        "str1 = \"python\"\n",
        "id(str1)"
      ]
    },
    {
      "cell_type": "code",
      "execution_count": null,
      "id": "dde2cecc",
      "metadata": {
        "id": "dde2cecc",
        "outputId": "447aa479-d2fe-4dc4-8635-ba6b27b9f2da",
        "colab": {
          "base_uri": "https://localhost:8080/"
        }
      },
      "outputs": [
        {
          "output_type": "execute_result",
          "data": {
            "text/plain": [
              "139927217515888"
            ]
          },
          "metadata": {},
          "execution_count": 19
        }
      ],
      "source": [
        "str2 = \"python\"\n",
        "id(str2)"
      ]
    },
    {
      "cell_type": "code",
      "execution_count": null,
      "id": "ee71236f",
      "metadata": {
        "id": "ee71236f",
        "outputId": "35345900-569a-4ac3-bc46-b7594857e49e",
        "colab": {
          "base_uri": "https://localhost:8080/"
        }
      },
      "outputs": [
        {
          "output_type": "execute_result",
          "data": {
            "text/plain": [
              "139926941910320"
            ]
          },
          "metadata": {},
          "execution_count": 20
        }
      ],
      "source": [
        "str1 = \"I love python\"\n",
        "id(str1)"
      ]
    },
    {
      "cell_type": "code",
      "execution_count": null,
      "id": "bb555b74",
      "metadata": {
        "id": "bb555b74",
        "outputId": "8acb7188-fc58-4673-9c6a-3f4b1adf110c",
        "colab": {
          "base_uri": "https://localhost:8080/"
        }
      },
      "outputs": [
        {
          "output_type": "execute_result",
          "data": {
            "text/plain": [
              "139926864046640"
            ]
          },
          "metadata": {},
          "execution_count": 21
        }
      ],
      "source": [
        "str2 = \"I love python\"\n",
        "id(str2)"
      ]
    },
    {
      "cell_type": "markdown",
      "id": "6ddd3983",
      "metadata": {
        "id": "6ddd3983"
      },
      "source": [
        "* python tries to create small strings only once and uses the same string."
      ]
    },
    {
      "cell_type": "markdown",
      "id": "9f6f1af6",
      "metadata": {
        "id": "9f6f1af6"
      },
      "source": [
        "### **Garbage collection**"
      ]
    },
    {
      "cell_type": "code",
      "execution_count": null,
      "id": "9be7454f",
      "metadata": {
        "id": "9be7454f",
        "outputId": "004f1837-4272-446d-c722-ed2a58250156",
        "colab": {
          "base_uri": "https://localhost:8080/"
        }
      },
      "outputs": [
        {
          "output_type": "execute_result",
          "data": {
            "text/plain": [
              "9801056"
            ]
          },
          "metadata": {},
          "execution_count": 22
        }
      ],
      "source": [
        "id(y)"
      ]
    },
    {
      "cell_type": "code",
      "execution_count": null,
      "id": "a254e6f2",
      "metadata": {
        "id": "a254e6f2",
        "outputId": "02db5b06-2ede-4a1c-f5a6-e7e8bcd019c8",
        "colab": {
          "base_uri": "https://localhost:8080/"
        }
      },
      "outputs": [
        {
          "output_type": "execute_result",
          "data": {
            "text/plain": [
              "139926942728048"
            ]
          },
          "metadata": {},
          "execution_count": 23
        }
      ],
      "source": [
        "y = \"hello\"\n",
        "id(y)"
      ]
    },
    {
      "cell_type": "markdown",
      "id": "53874827",
      "metadata": {
        "id": "53874827"
      },
      "source": [
        "* Keeps track of number of references and removes an object when reference count =0."
      ]
    }
  ],
  "metadata": {
    "kernelspec": {
      "display_name": "Python 3",
      "language": "python",
      "name": "python3"
    },
    "language_info": {
      "codemirror_mode": {
        "name": "ipython",
        "version": 3
      },
      "file_extension": ".py",
      "mimetype": "text/x-python",
      "name": "python",
      "nbconvert_exporter": "python",
      "pygments_lexer": "ipython3",
      "version": "3.8.8"
    },
    "colab": {
      "provenance": []
    }
  },
  "nbformat": 4,
  "nbformat_minor": 5
}