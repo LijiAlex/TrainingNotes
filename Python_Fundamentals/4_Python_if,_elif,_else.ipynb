{
  "cells": [
    {
      "cell_type": "markdown",
      "id": "e7d47eb2",
      "metadata": {
        "id": "e7d47eb2"
      },
      "source": [
        "### Decision making structure\n",
        "\n",
        "Programming structures that help us to make some decision and follow a particular sequence of execution based on some conditions."
      ]
    },
    {
      "cell_type": "markdown",
      "id": "b6da6073",
      "metadata": {
        "id": "b6da6073"
      },
      "source": [
        "<u>Scenario 1</u>\n",
        "<br>Check if a number is even number and print appropriate message\n",
        "<br><u>Algorithm</u>\n",
        "1. Check if the number is divisible by 2 .i.e. if remainder is 0 after dividing by 2\n",
        "2. print the message in that case"
      ]
    },
    {
      "cell_type": "code",
      "execution_count": null,
      "id": "042b3f06",
      "metadata": {
        "id": "042b3f06",
        "colab": {
          "base_uri": "https://localhost:8080/"
        },
        "outputId": "9cdf4edc-6b42-4fef-b49e-66b2fed1e9e0"
      },
      "outputs": [
        {
          "name": "stdout",
          "output_type": "stream",
          "text": [
            "Enter number: 25\n"
          ]
        }
      ],
      "source": [
        "num = int(input(\"Enter number: \"))     \n",
        "if num%2 == 0:      # check condition\n",
        "    print(\"Even number\")    # execute if true"
      ]
    },
    {
      "cell_type": "markdown",
      "id": "19b712af",
      "metadata": {
        "id": "19b712af"
      },
      "source": [
        "### Block and indentation"
      ]
    },
    {
      "cell_type": "code",
      "execution_count": null,
      "id": "535f3223",
      "metadata": {
        "colab": {
          "base_uri": "https://localhost:8080/"
        },
        "id": "535f3223",
        "outputId": "a58d6269-9ba0-480e-9d23-f2809bf97109"
      },
      "outputs": [
        {
          "output_type": "stream",
          "name": "stdout",
          "text": [
            "Enter number: 0\n",
            "I am zero\n",
            "I am nothing\n",
            "Without me, maths is not possible\n",
            "I am a number\n",
            "I am the base of everything\n"
          ]
        }
      ],
      "source": [
        "num = int(input(\"Enter number: \"))\n",
        "if num == 0: # check condition \n",
        "    print(\"I am zero\")  #block indented towards right, execute if true\n",
        "    print(\"I am nothing\")\n",
        "    print(\"Without me, maths is not possible\")\n",
        "    \n",
        "print(\"I am a number\")  # execute irrespective if the condition is true or false\n",
        "print(\"I am the base of everything\")"
      ]
    },
    {
      "cell_type": "markdown",
      "id": "8fb01cd1",
      "metadata": {
        "id": "8fb01cd1"
      },
      "source": [
        "<u>Scenario 2</u>\n",
        "<br>Check if a number is even number or not and print appropriate message\n",
        "<br><u>Algorithm</u>\n",
        "1. Check if the number is divisible by 2 .\n",
        "2. print the message in that case\n",
        "3. otherwise print number is odd"
      ]
    },
    {
      "cell_type": "code",
      "execution_count": null,
      "id": "8226db1b",
      "metadata": {
        "colab": {
          "base_uri": "https://localhost:8080/"
        },
        "id": "8226db1b",
        "outputId": "b40934ce-c040-4fc0-d4f5-106e079aaae4"
      },
      "outputs": [
        {
          "output_type": "stream",
          "name": "stdout",
          "text": [
            "Enter number: 9\n",
            "Odd number\n"
          ]
        }
      ],
      "source": [
        "num = int(input(\"Enter number: \"))   \n",
        "if num%2==0:          # check condition\n",
        "    print(\"Even number\")  # execute if true\n",
        "else:  # if condition is false\n",
        "    print(\"Odd number\")  # execute if false"
      ]
    },
    {
      "cell_type": "markdown",
      "id": "6b6cf37c",
      "metadata": {
        "id": "6b6cf37c"
      },
      "source": [
        "<u>Scenario 3</u>\n",
        "<br>Check if a number is zero, even or odd number and print appropriate message\n",
        "<br><u>Algorithm</u>\n",
        "1. Check if the number is 0, print message\n",
        "1. Other wise, check if the number is divisible by 2, print the message\n",
        "3. otherwise print number is odd"
      ]
    },
    {
      "cell_type": "code",
      "execution_count": null,
      "id": "6ebe9be1",
      "metadata": {
        "colab": {
          "base_uri": "https://localhost:8080/"
        },
        "id": "6ebe9be1",
        "outputId": "8c8a312f-aab8-4297-f5b0-4d3ea7d523ee"
      },
      "outputs": [
        {
          "output_type": "stream",
          "name": "stdout",
          "text": [
            "Enter number: 8\n",
            "Even number\n"
          ]
        }
      ],
      "source": [
        "num = int(input(\"Enter number: \"))       \n",
        "if num==0:  # check condition\n",
        "    print(\"Zero\")  # execute if true\n",
        "elif num%2 ==0:  # if above condition is false, check another condition\n",
        "    print(\"Even number\")\n",
        "else: # if all the conditions fail\n",
        "    print(\"Odd number\")"
      ]
    },
    {
      "cell_type": "markdown",
      "id": "6ba82a92",
      "metadata": {
        "id": "6ba82a92"
      },
      "source": [
        "<u>Scenario 4</u>\n",
        "<br>Check if a number is divisible by 2,3 and 5\n",
        "<br><u>Algorithm</u>\n",
        "1. Check if the number is divisible by 2, print message\n",
        "2. Check if the number is divisible by 2, print message\n",
        "3. Check if the number is divisible by 5, print message"
      ]
    },
    {
      "cell_type": "code",
      "source": [
        "num = int(input(\"Enter number: \"))\n",
        "if num%2==0:    # check condition\n",
        "    print(\"Divisible by 2\")\n",
        "if num%3==0:    # check condition\n",
        "    print(\"Divisible by 3\")\n",
        "if num%5==0:    # check condition\n",
        "    print(\"Divisible by 5\") \n",
        "\n",
        "# since all are ifs at the same level all the conditions will be checked"
      ],
      "metadata": {
        "id": "nHOCb9-WU9ft",
        "colab": {
          "base_uri": "https://localhost:8080/"
        },
        "outputId": "307fa21c-38ef-4b9a-a068-887cf76c83cd"
      },
      "id": "nHOCb9-WU9ft",
      "execution_count": null,
      "outputs": [
        {
          "output_type": "stream",
          "name": "stdout",
          "text": [
            "Enter number: 15\n",
            "Divisible by 3\n",
            "Divisible by 5\n"
          ]
        }
      ]
    },
    {
      "cell_type": "markdown",
      "source": [
        "<u>Scenario 5</u>\n",
        "Check if a number is divisible by either 2,3 or 5 and print appropriate message"
      ],
      "metadata": {
        "id": "yfwGAjqQVMAS"
      },
      "id": "yfwGAjqQVMAS"
    },
    {
      "cell_type": "code",
      "execution_count": null,
      "id": "f8f7fc34",
      "metadata": {
        "colab": {
          "base_uri": "https://localhost:8080/"
        },
        "id": "f8f7fc34",
        "outputId": "5a1222db-9b9b-45b0-b5ad-76bdad980668"
      },
      "outputs": [
        {
          "output_type": "stream",
          "name": "stdout",
          "text": [
            "Enter number: 15\n",
            "Divisible by 3\n"
          ]
        }
      ],
      "source": [
        "num = int(input(\"Enter number: \"))\n",
        "if num%2==0:    # check condition\n",
        "    print(\"Divisible by 2\")\n",
        "elif num%3==0:    # if above condition is false check this condition\n",
        "    print(\"Divisible by 3\")\n",
        "elif num%5==0:    # if both the above conditions are false then check this condition\n",
        "    print(\"Divisible by 5\")   "
      ]
    },
    {
      "cell_type": "code",
      "source": [
        "num = int(input(\"Enter number: \"))\n",
        "if num%2==0:    # check condition\n",
        "    print(\"Divisible by 2\")\n",
        "elif num%3==0:    # if above condition is false check this condition\n",
        "    print(\"Divisible by 3\")\n",
        "elif num%5==0:    # if both the above conditions are false then check this condition\n",
        "    print(\"Divisible by 5\")   \n",
        "else:\n",
        "    print(\"Am out\")  # if all the conditions fail, execute this"
      ],
      "metadata": {
        "colab": {
          "base_uri": "https://localhost:8080/"
        },
        "id": "XurG8ciHVtwC",
        "outputId": "97d10a64-558c-4404-8ca2-f4d24ebc15d8"
      },
      "id": "XurG8ciHVtwC",
      "execution_count": null,
      "outputs": [
        {
          "output_type": "stream",
          "name": "stdout",
          "text": [
            "Enter number: 17\n",
            "Am out\n"
          ]
        }
      ]
    },
    {
      "cell_type": "markdown",
      "source": [
        "### Nested if"
      ],
      "metadata": {
        "id": "AB0IV3cnV67I"
      },
      "id": "AB0IV3cnV67I"
    },
    {
      "cell_type": "code",
      "source": [
        "num = int(input(\"Enter number: \"))\n",
        "if num%2==0:    # check outer condition\n",
        "    print(\"Divisible by 2\")  # if above condition is true execute this entire block (all indented to right)\n",
        "    if num%3==0:    # check the inner condition\n",
        "        print(\"Divisible by 3\")  # if inner condition is true print\n",
        "    else: # if inner condition fails\n",
        "        print(\"Not Divisible by 3\")\n",
        "else: # if outer condition is false execute all the statements in this block\n",
        "  if num%5==0: # check inner condition of else block\n",
        "    print(\"Divisible by 5\") # print if inner condition is true\n",
        "  else: # if inner condition is false\n",
        "    print(\"Noooooo\")"
      ],
      "metadata": {
        "colab": {
          "base_uri": "https://localhost:8080/"
        },
        "id": "dS-CmeAVAQ9l",
        "outputId": "70bc8c96-bafe-4406-9438-fdbc5ecd4027"
      },
      "id": "dS-CmeAVAQ9l",
      "execution_count": null,
      "outputs": [
        {
          "output_type": "stream",
          "name": "stdout",
          "text": [
            "Enter number: 20\n",
            "Divisible by 2\n",
            "Not Divisible by 3\n"
          ]
        }
      ]
    },
    {
      "cell_type": "code",
      "source": [
        "num = int(input(\"Enter number: \"))\n",
        "if num%2==0 and num%3 ==0:    # check outer condition based on a logical operator\n",
        "    print(\"Divisible by 2\")  # if above condition is true execute this entire block (all indented to right)\n",
        "    if num%6==0:   # check the inner condition\n",
        "        print(\"Divisible by 6\")  # if inner condition is true print\n",
        "    else: # if inner condition fails\n",
        "        print(\"Not Divisible by 6\")\n",
        "else:  # if outer condition is false execute all the statements in this block\n",
        "  if num%5==0: # check inner condition of else block\n",
        "    print(\"Divisible by 5\") # print if inner condition is true\n",
        "  else: # if inner condition is false\n",
        "    print(\"Noooooo\")"
      ],
      "metadata": {
        "colab": {
          "base_uri": "https://localhost:8080/"
        },
        "id": "PGcHA4D1B-h5",
        "outputId": "51049bad-c93d-4517-c8cf-b7fbf8f5cdb5"
      },
      "id": "PGcHA4D1B-h5",
      "execution_count": null,
      "outputs": [
        {
          "output_type": "stream",
          "name": "stdout",
          "text": [
            "Enter number: 20\n",
            "Divisible by 5\n"
          ]
        }
      ]
    },
    {
      "cell_type": "markdown",
      "id": "18cc581a",
      "metadata": {
        "id": "18cc581a"
      },
      "source": [
        "### Usage scenarios\n",
        "\n",
        "* if - Only one condition or when second condition is not dependent on result of previous condition.\n",
        "* elif - check for a condition if previous condition is False\n",
        "* else - when none of the condition is True\n",
        "* nested if - check for condition if previous condition is true"
      ]
    },
    {
      "cell_type": "markdown",
      "source": [
        "# pass statement"
      ],
      "metadata": {
        "id": "HGSoHLfKBmBg"
      },
      "id": "HGSoHLfKBmBg"
    },
    {
      "cell_type": "markdown",
      "source": [
        "pass keyword is a placeholder for future statement(s). It will help us in creating a skeleton structure initially."
      ],
      "metadata": {
        "id": "EBtBHuzwBzcN"
      },
      "id": "EBtBHuzwBzcN"
    },
    {
      "cell_type": "code",
      "source": [
        "response_code = int(input(\"Enter response code\"))\n",
        "if response_code==400:\n",
        "    pass\n",
        "elif response_code==402:\n",
        "    pass\n",
        "elif response_code ==404:\n",
        "    pass\n",
        "else:\n",
        "    pass"
      ],
      "metadata": {
        "colab": {
          "base_uri": "https://localhost:8080/"
        },
        "id": "GgNf6b5fBse1",
        "outputId": "87c467c9-1ba2-4f92-95e2-55de78990cbb"
      },
      "id": "GgNf6b5fBse1",
      "execution_count": 2,
      "outputs": [
        {
          "name": "stdout",
          "output_type": "stream",
          "text": [
            "Enter response code500\n"
          ]
        }
      ]
    },
    {
      "cell_type": "markdown",
      "source": [
        "# Match case"
      ],
      "metadata": {
        "id": "2mbMhi5pFK2F"
      },
      "id": "2mbMhi5pFK2F"
    },
    {
      "cell_type": "markdown",
      "source": [
        "Depending on the value of variable in match statement, the case block will be executed. Match case is supported from python version 3.10 onwards."
      ],
      "metadata": {
        "id": "7jWeQLn3XIxR"
      },
      "id": "7jWeQLn3XIxR"
    },
    {
      "cell_type": "code",
      "source": [
        " !python --version"
      ],
      "metadata": {
        "colab": {
          "base_uri": "https://localhost:8080/"
        },
        "id": "jEUrDzatU9qL",
        "outputId": "5eb17da5-0fc9-4d87-9975-4bc71edb11e6"
      },
      "id": "jEUrDzatU9qL",
      "execution_count": 9,
      "outputs": [
        {
          "output_type": "stream",
          "name": "stdout",
          "text": [
            "Python 3.8.16\n"
          ]
        }
      ]
    },
    {
      "cell_type": "code",
      "source": [
        "status = int(input(\"Enter status\"))\n",
        "match status:\n",
        "  case 400:\n",
        "      print(\"Bad request\")  # printed if status is 400\n",
        "  case 401 | 402:\n",
        "      print(\"Unauthorized\")  # printed if status is 401 or 402\n",
        "  case 403:\n",
        "      print(\"Forbidden\")   # printed if status is 403\n",
        "  case 404:\n",
        "      print(\"Not found\")  # printed if status is 404\n",
        "  case _:\n",
        "      print(\"something is wrong\")  # printed if none of the above values matches the valueof variable status"
      ],
      "metadata": {
        "colab": {
          "base_uri": "https://localhost:8080/",
          "height": 130
        },
        "id": "twy4aoJ3FN5j",
        "outputId": "860d98f3-0861-4359-ba94-12a718d0be7f"
      },
      "id": "twy4aoJ3FN5j",
      "execution_count": 1,
      "outputs": [
        {
          "output_type": "error",
          "ename": "SyntaxError",
          "evalue": "ignored",
          "traceback": [
            "\u001b[0;36m  File \u001b[0;32m\"<ipython-input-1-844ebe232bca>\"\u001b[0;36m, line \u001b[0;32m2\u001b[0m\n\u001b[0;31m    match status:\u001b[0m\n\u001b[0m          ^\u001b[0m\n\u001b[0;31mSyntaxError\u001b[0m\u001b[0;31m:\u001b[0m invalid syntax\n"
          ]
        }
      ]
    },
    {
      "cell_type": "markdown",
      "id": "d4dd89c4",
      "metadata": {
        "id": "d4dd89c4"
      },
      "source": [
        "### Topics covered\n",
        "1. Sequencial and branching\n",
        "2. Blocks and indentation\n",
        "3. if\n",
        "4. if else\n",
        "5. if elif else\n",
        "6. if if if \n",
        "7. nested if\n",
        "8. Usage scenarios\n",
        "9. pass statement\n",
        "10. match case"
      ]
    }
  ],
  "metadata": {
    "kernelspec": {
      "display_name": "Python 3",
      "language": "python",
      "name": "python3"
    },
    "language_info": {
      "codemirror_mode": {
        "name": "ipython",
        "version": 3
      },
      "file_extension": ".py",
      "mimetype": "text/x-python",
      "name": "python",
      "nbconvert_exporter": "python",
      "pygments_lexer": "ipython3",
      "version": "3.8.8"
    },
    "colab": {
      "provenance": []
    }
  },
  "nbformat": 4,
  "nbformat_minor": 5
}