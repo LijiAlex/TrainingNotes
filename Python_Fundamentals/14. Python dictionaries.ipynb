{
 "cells": [
  {
   "cell_type": "markdown",
   "id": "ba32edd2",
   "metadata": {},
   "source": [
    "# Dictionary\n",
    "* Used to store data values in key:value pairs\n",
    "* Ordered, mutable and do not allow duplicates.  \n",
    "* Written with curly brakets {} and has items seperated by commas(,)\n",
    "* An item is a key value pair where key and value is seperated by colon(:)\n",
    "* An item in dictionary is referred using key .i.e key acts as index in dictionary"
   ]
  },
  {
   "cell_type": "code",
   "execution_count": 3,
   "id": "eab21eff",
   "metadata": {},
   "outputs": [],
   "source": [
    "person = {\n",
    "    \"Name\": \"Shreya\",\n",
    "    \"Age\": 12,\n",
    "    \"Gender\": 'g',   \n",
    "    \"Hobbies\": [\"Coloring\", \"Reading\", \"Baking\"],\n",
    "    \"Marks\": {\"Maths\": 90, \"Science\":80},\n",
    "    \"Age\": 13\n",
    "}"
   ]
  },
  {
   "cell_type": "code",
   "execution_count": 4,
   "id": "967afae8",
   "metadata": {},
   "outputs": [
    {
     "data": {
      "text/plain": [
       "{'Name': 'Shreya',\n",
       " 'Age': 13,\n",
       " 'Gender': 'g',\n",
       " 'Hobbies': ['Coloring', 'Reading', 'Baking'],\n",
       " 'Marks': {'Maths': 90, 'Science': 80}}"
      ]
     },
     "execution_count": 4,
     "metadata": {},
     "output_type": "execute_result"
    }
   ],
   "source": [
    "person"
   ]
  },
  {
   "attachments": {
    "image.png": {
     "image/png": "[encoded data removed]"
    }
   },
   "cell_type": "markdown",
   "id": "92516738",
   "metadata": {},
   "source": [
    "![image.png](attachment:image.png)"
   ]
  },
  {
   "cell_type": "code",
   "execution_count": 5,
   "id": "4b48be0f",
   "metadata": {},
   "outputs": [
    {
     "data": {
      "text/plain": [
       "dict"
      ]
     },
     "execution_count": 5,
     "metadata": {},
     "output_type": "execute_result"
    }
   ],
   "source": [
    "type(person)"
   ]
  },
  {
   "cell_type": "code",
   "execution_count": 6,
   "id": "1f513aa4",
   "metadata": {},
   "outputs": [
    {
     "data": {
      "text/plain": [
       "[]"
      ]
     },
     "execution_count": 6,
     "metadata": {},
     "output_type": "execute_result"
    }
   ],
   "source": [
    "[]"
   ]
  },
  {
   "cell_type": "code",
   "execution_count": 7,
   "id": "df0d1313",
   "metadata": {},
   "outputs": [
    {
     "data": {
      "text/plain": [
       "list"
      ]
     },
     "execution_count": 7,
     "metadata": {},
     "output_type": "execute_result"
    }
   ],
   "source": [
    "type([])"
   ]
  },
  {
   "cell_type": "code",
   "execution_count": 8,
   "id": "739f9638",
   "metadata": {},
   "outputs": [
    {
     "data": {
      "text/plain": [
       "[]"
      ]
     },
     "execution_count": 8,
     "metadata": {},
     "output_type": "execute_result"
    }
   ],
   "source": [
    "list()"
   ]
  },
  {
   "cell_type": "code",
   "execution_count": 9,
   "id": "bdb147dc",
   "metadata": {},
   "outputs": [
    {
     "data": {
      "text/plain": [
       "dict"
      ]
     },
     "execution_count": 9,
     "metadata": {},
     "output_type": "execute_result"
    }
   ],
   "source": [
    "type({})"
   ]
  },
  {
   "cell_type": "code",
   "execution_count": 10,
   "id": "9e81088c",
   "metadata": {},
   "outputs": [],
   "source": [
    "# empty collections\n",
    "my_list = [] # equivalent to list()\n",
    "my_tuple = () # equivalent to tuple()\n",
    "my_dict = {} # equivalent to dict()\n",
    "my_set = set()"
   ]
  },
  {
   "cell_type": "code",
   "execution_count": 11,
   "id": "db741779",
   "metadata": {},
   "outputs": [
    {
     "data": {
      "text/plain": [
       "5"
      ]
     },
     "execution_count": 11,
     "metadata": {},
     "output_type": "execute_result"
    }
   ],
   "source": [
    "len(person)"
   ]
  },
  {
   "cell_type": "markdown",
   "id": "1b5bc6e0",
   "metadata": {},
   "source": [
    "### Accessing and changing an item"
   ]
  },
  {
   "cell_type": "code",
   "execution_count": 12,
   "id": "a65cc90a",
   "metadata": {},
   "outputs": [
    {
     "data": {
      "text/plain": [
       "{'Name': 'Shreya',\n",
       " 'Age': 13,\n",
       " 'Gender': 'g',\n",
       " 'Hobbies': ['Coloring', 'Reading', 'Baking'],\n",
       " 'Marks': {'Maths': 90, 'Science': 80}}"
      ]
     },
     "execution_count": 12,
     "metadata": {},
     "output_type": "execute_result"
    }
   ],
   "source": [
    "person"
   ]
  },
  {
   "cell_type": "code",
   "execution_count": 13,
   "id": "12fe1243",
   "metadata": {},
   "outputs": [
    {
     "data": {
      "text/plain": [
       "'Shreya'"
      ]
     },
     "execution_count": 13,
     "metadata": {},
     "output_type": "execute_result"
    }
   ],
   "source": [
    "person[\"Name\"]"
   ]
  },
  {
   "cell_type": "code",
   "execution_count": 14,
   "id": "d2b7c831",
   "metadata": {},
   "outputs": [
    {
     "data": {
      "text/plain": [
       "'Shawn'"
      ]
     },
     "execution_count": 14,
     "metadata": {},
     "output_type": "execute_result"
    }
   ],
   "source": [
    "person[\"Name\"] = \"Shawn\"\n",
    "person[\"Name\"]"
   ]
  },
  {
   "cell_type": "code",
   "execution_count": 15,
   "id": "b22eb262",
   "metadata": {},
   "outputs": [
    {
     "data": {
      "text/plain": [
       "['Coloring', 'Reading', 'Baking']"
      ]
     },
     "execution_count": 15,
     "metadata": {},
     "output_type": "execute_result"
    }
   ],
   "source": [
    "person[\"Hobbies\"]"
   ]
  },
  {
   "cell_type": "code",
   "execution_count": 16,
   "id": "eb2a3419",
   "metadata": {},
   "outputs": [
    {
     "data": {
      "text/plain": [
       "'Coloring'"
      ]
     },
     "execution_count": 16,
     "metadata": {},
     "output_type": "execute_result"
    }
   ],
   "source": [
    "person[\"Hobbies\"][0]"
   ]
  },
  {
   "cell_type": "code",
   "execution_count": 17,
   "id": "263d893b",
   "metadata": {},
   "outputs": [
    {
     "data": {
      "text/plain": [
       "{'Maths': 90, 'Science': 80}"
      ]
     },
     "execution_count": 17,
     "metadata": {},
     "output_type": "execute_result"
    }
   ],
   "source": [
    "person[\"Marks\"]"
   ]
  },
  {
   "cell_type": "code",
   "execution_count": 18,
   "id": "8385d10c",
   "metadata": {},
   "outputs": [
    {
     "data": {
      "text/plain": [
       "90"
      ]
     },
     "execution_count": 18,
     "metadata": {},
     "output_type": "execute_result"
    }
   ],
   "source": [
    "person[\"Marks\"]['Maths']"
   ]
  },
  {
   "cell_type": "markdown",
   "id": "00114981",
   "metadata": {},
   "source": [
    "### Dictionary Iteration"
   ]
  },
  {
   "cell_type": "markdown",
   "id": "0b18d946",
   "metadata": {},
   "source": [
    "Iteration using keys"
   ]
  },
  {
   "cell_type": "code",
   "execution_count": 19,
   "id": "51cc4981",
   "metadata": {},
   "outputs": [
    {
     "name": "stdout",
     "output_type": "stream",
     "text": [
      "Name\n",
      "Age\n",
      "Gender\n",
      "Hobbies\n",
      "Marks\n"
     ]
    }
   ],
   "source": [
    "for key in person:\n",
    "    print(key)"
   ]
  },
  {
   "cell_type": "code",
   "execution_count": 20,
   "id": "b4fe06d0",
   "metadata": {},
   "outputs": [
    {
     "name": "stdout",
     "output_type": "stream",
     "text": [
      "Shawn\n",
      "13\n",
      "g\n",
      "['Coloring', 'Reading', 'Baking']\n",
      "{'Maths': 90, 'Science': 80}\n"
     ]
    }
   ],
   "source": [
    "for key in person:\n",
    "    print(person[key])"
   ]
  },
  {
   "cell_type": "code",
   "execution_count": 22,
   "id": "035ce4c7",
   "metadata": {},
   "outputs": [
    {
     "data": {
      "text/plain": [
       "dict_keys(['Name', 'Age', 'Gender', 'Hobbies', 'Marks'])"
      ]
     },
     "execution_count": 22,
     "metadata": {},
     "output_type": "execute_result"
    }
   ],
   "source": [
    "person.keys()"
   ]
  },
  {
   "cell_type": "code",
   "execution_count": 23,
   "id": "0bda7a16",
   "metadata": {},
   "outputs": [
    {
     "name": "stdout",
     "output_type": "stream",
     "text": [
      "Shawn\n",
      "13\n",
      "g\n",
      "['Coloring', 'Reading', 'Baking']\n",
      "{'Maths': 90, 'Science': 80}\n"
     ]
    }
   ],
   "source": [
    "for key in person.keys():\n",
    "    print(person[key])"
   ]
  },
  {
   "cell_type": "markdown",
   "id": "08b92e06",
   "metadata": {},
   "source": [
    "Iteration using items"
   ]
  },
  {
   "cell_type": "code",
   "execution_count": 24,
   "id": "6e7b5fcb",
   "metadata": {},
   "outputs": [
    {
     "data": {
      "text/plain": [
       "dict_items([('Name', 'Shawn'), ('Age', 13), ('Gender', 'g'), ('Hobbies', ['Coloring', 'Reading', 'Baking']), ('Marks', {'Maths': 90, 'Science': 80})])"
      ]
     },
     "execution_count": 24,
     "metadata": {},
     "output_type": "execute_result"
    }
   ],
   "source": [
    "person.items()"
   ]
  },
  {
   "cell_type": "code",
   "execution_count": 25,
   "id": "d90daa0e",
   "metadata": {},
   "outputs": [
    {
     "name": "stdout",
     "output_type": "stream",
     "text": [
      "('Name', 'Shawn')\n",
      "('Age', 13)\n",
      "('Gender', 'g')\n",
      "('Hobbies', ['Coloring', 'Reading', 'Baking'])\n",
      "('Marks', {'Maths': 90, 'Science': 80})\n"
     ]
    }
   ],
   "source": [
    "for item in person.items():\n",
    "    print(item)"
   ]
  },
  {
   "cell_type": "code",
   "execution_count": 26,
   "id": "6fb8ba0f",
   "metadata": {},
   "outputs": [
    {
     "name": "stdout",
     "output_type": "stream",
     "text": [
      "Key: Name, Value:Shawn\n",
      "Key: Age, Value:13\n",
      "Key: Gender, Value:g\n",
      "Key: Hobbies, Value:['Coloring', 'Reading', 'Baking']\n",
      "Key: Marks, Value:{'Maths': 90, 'Science': 80}\n"
     ]
    }
   ],
   "source": [
    "for item in person.items():\n",
    "    print(f\"Key: {item[0]}, Value:{item[1]}\")"
   ]
  },
  {
   "cell_type": "code",
   "execution_count": 27,
   "id": "6c279cb5",
   "metadata": {},
   "outputs": [
    {
     "name": "stdout",
     "output_type": "stream",
     "text": [
      "Key: Name, Value:Shawn\n",
      "Key: Age, Value:13\n",
      "Key: Gender, Value:g\n",
      "Key: Hobbies, Value:['Coloring', 'Reading', 'Baking']\n",
      "Key: Marks, Value:{'Maths': 90, 'Science': 80}\n"
     ]
    }
   ],
   "source": [
    "for key, value in person.items():\n",
    "    print(f\"Key: {key}, Value:{value}\")"
   ]
  },
  {
   "cell_type": "markdown",
   "id": "ecb0974c",
   "metadata": {},
   "source": [
    "Iterating values"
   ]
  },
  {
   "cell_type": "code",
   "execution_count": 28,
   "id": "9fbbbb5b",
   "metadata": {},
   "outputs": [
    {
     "data": {
      "text/plain": [
       "dict_values(['Shawn', 13, 'g', ['Coloring', 'Reading', 'Baking'], {'Maths': 90, 'Science': 80}])"
      ]
     },
     "execution_count": 28,
     "metadata": {},
     "output_type": "execute_result"
    }
   ],
   "source": [
    "person.values()"
   ]
  },
  {
   "cell_type": "code",
   "execution_count": 30,
   "id": "29d5306c",
   "metadata": {},
   "outputs": [
    {
     "name": "stdout",
     "output_type": "stream",
     "text": [
      "Shawn\n",
      "13\n",
      "g\n",
      "['Coloring', 'Reading', 'Baking']\n",
      "{'Maths': 90, 'Science': 80}\n"
     ]
    }
   ],
   "source": [
    "for value in person.values():\n",
    "    print(value)"
   ]
  },
  {
   "cell_type": "markdown",
   "id": "93757a44",
   "metadata": {},
   "source": [
    "### Dictionary functions"
   ]
  },
  {
   "cell_type": "code",
   "execution_count": 32,
   "id": "326c4107",
   "metadata": {},
   "outputs": [
    {
     "data": {
      "text/plain": [
       "{1: None, 2: None, 3: None, 4: None}"
      ]
     },
     "execution_count": 32,
     "metadata": {},
     "output_type": "execute_result"
    }
   ],
   "source": [
    "another_dictionary = person.fromkeys([1, 2, 3, 4])\n",
    "another_dictionary"
   ]
  },
  {
   "cell_type": "code",
   "execution_count": 33,
   "id": "0a534a6d",
   "metadata": {},
   "outputs": [
    {
     "data": {
      "text/plain": [
       "{1: ['one'], 2: ['one'], 3: ['one'], 4: ['one']}"
      ]
     },
     "execution_count": 33,
     "metadata": {},
     "output_type": "execute_result"
    }
   ],
   "source": [
    "person.fromkeys([1, 2, 3, 4], [\"one\"])"
   ]
  },
  {
   "cell_type": "code",
   "execution_count": 34,
   "id": "96f1e06a",
   "metadata": {},
   "outputs": [
    {
     "data": {
      "text/plain": [
       "{1: ['one', 'two'], 2: ['one', 'two'], 3: ['one', 'two'], 4: ['one', 'two']}"
      ]
     },
     "execution_count": 34,
     "metadata": {},
     "output_type": "execute_result"
    }
   ],
   "source": [
    "person.fromkeys([1, 2, 3, 4], [\"one\", \"two\"])"
   ]
  },
  {
   "cell_type": "code",
   "execution_count": 35,
   "id": "84cffc7c",
   "metadata": {},
   "outputs": [
    {
     "data": {
      "text/plain": [
       "{1: ['one', 'two', 'three', 'four'],\n",
       " 2: ['one', 'two', 'three', 'four'],\n",
       " 3: ['one', 'two', 'three', 'four'],\n",
       " 4: ['one', 'two', 'three', 'four']}"
      ]
     },
     "execution_count": 35,
     "metadata": {},
     "output_type": "execute_result"
    }
   ],
   "source": [
    "person.fromkeys([1, 2, 3, 4], [\"one\", \"two\", \"three\", \"four\"])"
   ]
  },
  {
   "cell_type": "code",
   "execution_count": 36,
   "id": "1a179331",
   "metadata": {},
   "outputs": [
    {
     "data": {
      "text/plain": [
       "13"
      ]
     },
     "execution_count": 36,
     "metadata": {},
     "output_type": "execute_result"
    }
   ],
   "source": [
    "person.pop('Age')"
   ]
  },
  {
   "cell_type": "code",
   "execution_count": 37,
   "id": "98909393",
   "metadata": {},
   "outputs": [
    {
     "data": {
      "text/plain": [
       "{'Name': 'Shawn',\n",
       " 'Gender': 'g',\n",
       " 'Hobbies': ['Coloring', 'Reading', 'Baking'],\n",
       " 'Marks': {'Maths': 90, 'Science': 80}}"
      ]
     },
     "execution_count": 37,
     "metadata": {},
     "output_type": "execute_result"
    }
   ],
   "source": [
    "person"
   ]
  },
  {
   "cell_type": "code",
   "execution_count": 38,
   "id": "934b3dcc",
   "metadata": {},
   "outputs": [
    {
     "data": {
      "text/plain": [
       "'Shawn'"
      ]
     },
     "execution_count": 38,
     "metadata": {},
     "output_type": "execute_result"
    }
   ],
   "source": [
    "person.get('Name')"
   ]
  },
  {
   "cell_type": "code",
   "execution_count": 39,
   "id": "0bc1096f",
   "metadata": {},
   "outputs": [
    {
     "data": {
      "text/plain": [
       "('Marks', {'Maths': 90, 'Science': 80})"
      ]
     },
     "execution_count": 39,
     "metadata": {},
     "output_type": "execute_result"
    }
   ],
   "source": [
    "person.popitem()"
   ]
  },
  {
   "cell_type": "code",
   "execution_count": 40,
   "id": "313c1613",
   "metadata": {},
   "outputs": [],
   "source": [
    "del person['Gender']"
   ]
  },
  {
   "cell_type": "code",
   "execution_count": 41,
   "id": "00755cad",
   "metadata": {},
   "outputs": [
    {
     "data": {
      "text/plain": [
       "{'Name': 'Shawn', 'Hobbies': ['Coloring', 'Reading', 'Baking']}"
      ]
     },
     "execution_count": 41,
     "metadata": {},
     "output_type": "execute_result"
    }
   ],
   "source": [
    "person"
   ]
  },
  {
   "cell_type": "code",
   "execution_count": 43,
   "id": "96d22d34",
   "metadata": {},
   "outputs": [],
   "source": [
    "person.update(another_dictionary)"
   ]
  },
  {
   "cell_type": "code",
   "execution_count": 44,
   "id": "4445651f",
   "metadata": {},
   "outputs": [
    {
     "data": {
      "text/plain": [
       "{'Name': 'Shawn',\n",
       " 'Hobbies': ['Coloring', 'Reading', 'Baking'],\n",
       " 1: None,\n",
       " 2: None,\n",
       " 3: None,\n",
       " 4: None}"
      ]
     },
     "execution_count": 44,
     "metadata": {},
     "output_type": "execute_result"
    }
   ],
   "source": [
    "person"
   ]
  },
  {
   "cell_type": "code",
   "execution_count": 45,
   "id": "bb32755d",
   "metadata": {},
   "outputs": [
    {
     "data": {
      "text/plain": [
       "\"I don't know\""
      ]
     },
     "execution_count": 45,
     "metadata": {},
     "output_type": "execute_result"
    }
   ],
   "source": [
    "person.setdefault(\"Address\", \"I don't know\")"
   ]
  },
  {
   "cell_type": "code",
   "execution_count": 46,
   "id": "99ff5355",
   "metadata": {},
   "outputs": [
    {
     "data": {
      "text/plain": [
       "{'Name': 'Shawn',\n",
       " 'Hobbies': ['Coloring', 'Reading', 'Baking'],\n",
       " 1: None,\n",
       " 2: None,\n",
       " 3: None,\n",
       " 4: None,\n",
       " 'Address': \"I don't know\"}"
      ]
     },
     "execution_count": 46,
     "metadata": {},
     "output_type": "execute_result"
    }
   ],
   "source": [
    "person"
   ]
  },
  {
   "cell_type": "code",
   "execution_count": 47,
   "id": "f430fd60",
   "metadata": {},
   "outputs": [
    {
     "data": {
      "text/plain": [
       "'Shawn'"
      ]
     },
     "execution_count": 47,
     "metadata": {},
     "output_type": "execute_result"
    }
   ],
   "source": [
    "person.setdefault(\"Name\", \"I don't know\")"
   ]
  },
  {
   "cell_type": "code",
   "execution_count": 48,
   "id": "7fc78312",
   "metadata": {},
   "outputs": [
    {
     "data": {
      "text/plain": [
       "{'Name': 'Shawn',\n",
       " 'Hobbies': ['Coloring', 'Reading', 'Baking'],\n",
       " 1: None,\n",
       " 2: None,\n",
       " 3: None,\n",
       " 4: None,\n",
       " 'Address': \"I don't know\"}"
      ]
     },
     "execution_count": 48,
     "metadata": {},
     "output_type": "execute_result"
    }
   ],
   "source": [
    "person"
   ]
  },
  {
   "cell_type": "code",
   "execution_count": null,
   "id": "f71d1c0f",
   "metadata": {},
   "outputs": [],
   "source": []
  }
 ],
 "metadata": {
  "kernelspec": {
   "display_name": "Python 3",
   "language": "python",
   "name": "python3"
  },
  "language_info": {
   "codemirror_mode": {
    "name": "ipython",
    "version": 3
   },
   "file_extension": ".py",
   "mimetype": "text/x-python",
   "name": "python",
   "nbconvert_exporter": "python",
   "pygments_lexer": "ipython3",
   "version": "3.8.8"
  }
 },
 "nbformat": 4,
 "nbformat_minor": 5
}
